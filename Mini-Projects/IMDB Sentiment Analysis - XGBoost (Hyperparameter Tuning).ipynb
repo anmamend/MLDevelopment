{
 "cells": [
  {
   "cell_type": "markdown",
   "metadata": {},
   "source": [
    "# Sentiment Analysis\n",
    "\n",
    "## Using XGBoost in SageMaker\n",
    "\n",
    "_Deep Learning Nanodegree Program | Deployment_\n",
    "\n",
    "---\n",
    "\n",
    "In this example of using Amazon's SageMaker service we will construct a random tree model to predict the sentiment of a movie review. You may have seen a version of this example in a pervious lesson although it would have been done using the sklearn package. Instead, we will be using the XGBoost package as it is provided to us by Amazon.\n",
    "\n",
    "## Instructions\n",
    "\n",
    "Some template code has already been provided for you, and you will need to implement additional functionality to successfully complete this notebook. You will not need to modify the included code beyond what is requested. Sections that begin with '**TODO**' in the header indicate that you need to complete or implement some portion within them. Instructions will be provided for each section and the specifics of the implementation are marked in the code block with a `# TODO: ...` comment. Please be sure to read the instructions carefully!\n",
    "\n",
    "In addition to implementing code, there will be questions for you to answer which relate to the task and your implementation. Each section where you will answer a question is preceded by a '**Question:**' header. Carefully read each question and provide your answer below the '**Answer:**' header by editing the Markdown cell.\n",
    "\n",
    "> **Note**: Code and Markdown cells can be executed using the **Shift+Enter** keyboard shortcut. In addition, a cell can be edited by typically clicking it (double-click for Markdown cells) or by pressing **Enter** while it is highlighted."
   ]
  },
  {
   "cell_type": "markdown",
   "metadata": {},
   "source": [
    "## Step 1: Downloading the data\n",
    "\n",
    "The dataset we are going to use is very popular among researchers in Natural Language Processing, usually referred to as the [IMDb dataset](http://ai.stanford.edu/~amaas/data/sentiment/). It consists of movie reviews from the website [imdb.com](http://www.imdb.com/), each labeled as either '**pos**itive', if the reviewer enjoyed the film, or '**neg**ative' otherwise.\n",
    "\n",
    "> Maas, Andrew L., et al. [Learning Word Vectors for Sentiment Analysis](http://ai.stanford.edu/~amaas/data/sentiment/). In _Proceedings of the 49th Annual Meeting of the Association for Computational Linguistics: Human Language Technologies_. Association for Computational Linguistics, 2011.\n",
    "\n",
    "We begin by using some Jupyter Notebook magic to download and extract the dataset."
   ]
  },
  {
   "cell_type": "code",
   "execution_count": null,
   "metadata": {},
   "outputs": [],
   "source": [
    "%mkdir ../data\n",
    "!wget -O ../data/aclImdb_v1.tar.gz http://ai.stanford.edu/~amaas/data/sentiment/aclImdb_v1.tar.gz\n",
    "!tar -zxf ../data/aclImdb_v1.tar.gz -C ../data"
   ]
  },
  {
   "cell_type": "markdown",
   "metadata": {},
   "source": [
    "## Step 2: Preparing the data\n",
    "\n",
    "The data we have downloaded is split into various files, each of which contains a single review. It will be much easier going forward if we combine these individual files into two large files, one for training and one for testing."
   ]
  },
  {
   "cell_type": "code",
   "execution_count": 1,
   "metadata": {},
   "outputs": [],
   "source": [
    "import os\n",
    "import glob\n",
    "\n",
    "def read_imdb_data(data_dir='../data/aclImdb'):\n",
    "    data = {}\n",
    "    labels = {}\n",
    "    \n",
    "    for data_type in ['train', 'test']:\n",
    "        data[data_type] = {}\n",
    "        labels[data_type] = {}\n",
    "        \n",
    "        for sentiment in ['pos', 'neg']:\n",
    "            data[data_type][sentiment] = []\n",
    "            labels[data_type][sentiment] = []\n",
    "            \n",
    "            path = os.path.join(data_dir, data_type, sentiment, '*.txt')\n",
    "            files = glob.glob(path)\n",
    "            \n",
    "            for f in files:\n",
    "                with open(f) as review:\n",
    "                    data[data_type][sentiment].append(review.read())\n",
    "                    # Here we represent a positive review by '1' and a negative review by '0'\n",
    "                    labels[data_type][sentiment].append(1 if sentiment == 'pos' else 0)\n",
    "                    \n",
    "            assert len(data[data_type][sentiment]) == len(labels[data_type][sentiment]), \\\n",
    "                    \"{}/{} data size does not match labels size\".format(data_type, sentiment)\n",
    "                \n",
    "    return data, labels"
   ]
  },
  {
   "cell_type": "code",
   "execution_count": 2,
   "metadata": {},
   "outputs": [
    {
     "name": "stdout",
     "output_type": "stream",
     "text": [
      "IMDB reviews: train = 12500 pos / 12500 neg, test = 12500 pos / 12500 neg\n"
     ]
    }
   ],
   "source": [
    "data, labels = read_imdb_data()\n",
    "print(\"IMDB reviews: train = {} pos / {} neg, test = {} pos / {} neg\".format(\n",
    "            len(data['train']['pos']), len(data['train']['neg']),\n",
    "            len(data['test']['pos']), len(data['test']['neg'])))"
   ]
  },
  {
   "cell_type": "code",
   "execution_count": 3,
   "metadata": {},
   "outputs": [],
   "source": [
    "from sklearn.utils import shuffle\n",
    "\n",
    "def prepare_imdb_data(data, labels):\n",
    "    \"\"\"Prepare training and test sets from IMDb movie reviews.\"\"\"\n",
    "    \n",
    "    #Combine positive and negative reviews and labels\n",
    "    data_train = data['train']['pos'] + data['train']['neg']\n",
    "    data_test = data['test']['pos'] + data['test']['neg']\n",
    "    labels_train = labels['train']['pos'] + labels['train']['neg']\n",
    "    labels_test = labels['test']['pos'] + labels['test']['neg']\n",
    "    \n",
    "    #Shuffle reviews and corresponding labels within training and test sets\n",
    "    data_train, labels_train = shuffle(data_train, labels_train)\n",
    "    data_test, labels_test = shuffle(data_test, labels_test)\n",
    "    \n",
    "    # Return a unified training data, test data, training labels, test labets\n",
    "    return data_train, data_test, labels_train, labels_test"
   ]
  },
  {
   "cell_type": "code",
   "execution_count": 4,
   "metadata": {},
   "outputs": [
    {
     "name": "stdout",
     "output_type": "stream",
     "text": [
      "IMDb reviews (combined): train = 25000, test = 25000\n"
     ]
    }
   ],
   "source": [
    "train_X, test_X, train_y, test_y = prepare_imdb_data(data, labels)\n",
    "print(\"IMDb reviews (combined): train = {}, test = {}\".format(len(train_X), len(test_X)))"
   ]
  },
  {
   "cell_type": "code",
   "execution_count": null,
   "metadata": {},
   "outputs": [],
   "source": [
    "train_X[100]"
   ]
  },
  {
   "cell_type": "markdown",
   "metadata": {},
   "source": [
    "## Step 3: Processing the data\n",
    "\n",
    "Now that we have our training and testing datasets merged and ready to use, we need to start processing the raw data into something that will be useable by our machine learning algorithm. To begin with, we remove any html formatting that may appear in the reviews and perform some standard natural language processing in order to homogenize the data."
   ]
  },
  {
   "cell_type": "code",
   "execution_count": 5,
   "metadata": {},
   "outputs": [
    {
     "name": "stderr",
     "output_type": "stream",
     "text": [
      "[nltk_data] Downloading package stopwords to\n",
      "[nltk_data]     /home/ec2-user/nltk_data...\n",
      "[nltk_data]   Package stopwords is already up-to-date!\n"
     ]
    }
   ],
   "source": [
    "import nltk\n",
    "nltk.download(\"stopwords\")\n",
    "from nltk.corpus import stopwords\n",
    "from nltk.stem.porter import *\n",
    "stemmer = PorterStemmer()"
   ]
  },
  {
   "cell_type": "code",
   "execution_count": 6,
   "metadata": {},
   "outputs": [],
   "source": [
    "import re\n",
    "from bs4 import BeautifulSoup\n",
    "\n",
    "def review_to_words(review):\n",
    "    text = BeautifulSoup(review, \"html.parser\").get_text() # Remove HTML tags\n",
    "    text = re.sub(r\"[^a-zA-Z0-9]\", \" \", text.lower()) # Convert to lower case\n",
    "    words = text.split() # Split string into words\n",
    "    words = [w for w in words if w not in stopwords.words(\"english\")] # Remove stopwords\n",
    "    words = [PorterStemmer().stem(w) for w in words] # stem\n",
    "    \n",
    "    return words"
   ]
  },
  {
   "cell_type": "code",
   "execution_count": 7,
   "metadata": {},
   "outputs": [],
   "source": [
    "import pickle\n",
    "\n",
    "cache_dir = os.path.join(\"../cache\", \"sentiment_analysis\")  # where to store cache files\n",
    "os.makedirs(cache_dir, exist_ok=True)  # ensure cache directory exists\n",
    "\n",
    "def preprocess_data(data_train, data_test, labels_train, labels_test,\n",
    "                    cache_dir=cache_dir, cache_file=\"preprocessed_data.pkl\"):\n",
    "    \"\"\"Convert each review to words; read from cache if available.\"\"\"\n",
    "\n",
    "    # If cache_file is not None, try to read from it first\n",
    "    cache_data = None\n",
    "    if cache_file is not None:\n",
    "        try:\n",
    "            with open(os.path.join(cache_dir, cache_file), \"rb\") as f:\n",
    "                cache_data = pickle.load(f)\n",
    "            print(\"Read preprocessed data from cache file:\", cache_file)\n",
    "        except:\n",
    "            pass  # unable to read from cache, but that's okay\n",
    "    \n",
    "    # If cache is missing, then do the heavy lifting\n",
    "    if cache_data is None:\n",
    "        # Preprocess training and test data to obtain words for each review\n",
    "        #words_train = list(map(review_to_words, data_train))\n",
    "        #words_test = list(map(review_to_words, data_test))\n",
    "        words_train = [review_to_words(review) for review in data_train]\n",
    "        words_test = [review_to_words(review) for review in data_test]\n",
    "        \n",
    "        # Write to cache file for future runs\n",
    "        if cache_file is not None:\n",
    "            cache_data = dict(words_train=words_train, words_test=words_test,\n",
    "                              labels_train=labels_train, labels_test=labels_test)\n",
    "            with open(os.path.join(cache_dir, cache_file), \"wb\") as f:\n",
    "                pickle.dump(cache_data, f)\n",
    "            print(\"Wrote preprocessed data to cache file:\", cache_file)\n",
    "    else:\n",
    "        # Unpack data loaded from cache file\n",
    "        words_train, words_test, labels_train, labels_test = (cache_data['words_train'],\n",
    "                cache_data['words_test'], cache_data['labels_train'], cache_data['labels_test'])\n",
    "    \n",
    "    return words_train, words_test, labels_train, labels_test"
   ]
  },
  {
   "cell_type": "code",
   "execution_count": 8,
   "metadata": {},
   "outputs": [
    {
     "name": "stdout",
     "output_type": "stream",
     "text": [
      "Read preprocessed data from cache file: preprocessed_data.pkl\n"
     ]
    }
   ],
   "source": [
    "# Preprocess data\n",
    "train_X, test_X, train_y, test_y = preprocess_data(train_X, test_X, train_y, test_y)"
   ]
  },
  {
   "cell_type": "markdown",
   "metadata": {},
   "source": [
    "### Extract Bag-of-Words features\n",
    "\n",
    "For the model we will be implementing, rather than using the reviews directly, we are going to transform each review into a Bag-of-Words feature representation. Keep in mind that 'in the wild' we will only have access to the training set so our transformer can only use the training set to construct a representation."
   ]
  },
  {
   "cell_type": "code",
   "execution_count": 9,
   "metadata": {},
   "outputs": [],
   "source": [
    "import numpy as np\n",
    "from sklearn.feature_extraction.text import CountVectorizer\n",
    "import joblib\n",
    "# joblib is an enhanced version of pickle that is more efficient for storing NumPy arrays\n",
    "\n",
    "def extract_BoW_features(words_train, words_test, vocabulary_size=5000,\n",
    "                         cache_dir=cache_dir, cache_file=\"bow_features.pkl\"):\n",
    "    \"\"\"Extract Bag-of-Words for a given set of documents, already preprocessed into words.\"\"\"\n",
    "    \n",
    "    # If cache_file is not None, try to read from it first\n",
    "    cache_data = None\n",
    "    if cache_file is not None:\n",
    "        try:\n",
    "            with open(os.path.join(cache_dir, cache_file), \"rb\") as f:\n",
    "                cache_data = joblib.load(f)\n",
    "            print(\"Read features from cache file:\", cache_file)\n",
    "        except:\n",
    "            pass  # unable to read from cache, but that's okay\n",
    "    \n",
    "    # If cache is missing, then do the heavy lifting\n",
    "    if cache_data is None:\n",
    "        # Fit a vectorizer to training documents and use it to transform them\n",
    "        # NOTE: Training documents have already been preprocessed and tokenized into words;\n",
    "        #       pass in dummy functions to skip those steps, e.g. preprocessor=lambda x: x\n",
    "        vectorizer = CountVectorizer(max_features=vocabulary_size,\n",
    "                preprocessor=lambda x: x, tokenizer=lambda x: x)  # already preprocessed\n",
    "        features_train = vectorizer.fit_transform(words_train).toarray()\n",
    "\n",
    "        # Apply the same vectorizer to transform the test documents (ignore unknown words)\n",
    "        features_test = vectorizer.transform(words_test).toarray()\n",
    "        \n",
    "        # NOTE: Remember to convert the features using .toarray() for a compact representation\n",
    "        \n",
    "        # Write to cache file for future runs (store vocabulary as well)\n",
    "        if cache_file is not None:\n",
    "            vocabulary = vectorizer.vocabulary_\n",
    "            cache_data = dict(features_train=features_train, features_test=features_test,\n",
    "                             vocabulary=vocabulary)\n",
    "            with open(os.path.join(cache_dir, cache_file), \"wb\") as f:\n",
    "                joblib.dump(cache_data, f)\n",
    "            print(\"Wrote features to cache file:\", cache_file)\n",
    "    else:\n",
    "        # Unpack data loaded from cache file\n",
    "        features_train, features_test, vocabulary = (cache_data['features_train'],\n",
    "                cache_data['features_test'], cache_data['vocabulary'])\n",
    "    \n",
    "    # Return both the extracted features as well as the vocabulary\n",
    "    return features_train, features_test, vocabulary"
   ]
  },
  {
   "cell_type": "code",
   "execution_count": 10,
   "metadata": {},
   "outputs": [
    {
     "name": "stdout",
     "output_type": "stream",
     "text": [
      "Wrote features to cache file: bow_features.pkl\n"
     ]
    }
   ],
   "source": [
    "# Extract Bag of Words features for both training and test datasets\n",
    "train_X, test_X, vocabulary = extract_BoW_features(train_X, test_X)"
   ]
  },
  {
   "cell_type": "markdown",
   "metadata": {},
   "source": [
    "## Step 4: Classification using XGBoost\n",
    "\n",
    "Now that we have created the feature representation of our training (and testing) data, it is time to start setting up and using the XGBoost classifier provided by SageMaker.\n",
    "\n",
    "### Writing the dataset\n",
    "\n",
    "The XGBoost classifier that we will be using requires the dataset to be written to a file and stored using Amazon S3. To do this, we will start by splitting the training dataset into two parts, the data we will train the model with and a validation set. Then, we will write those datasets to a file and upload the files to S3. In addition, we will write the test set input to a file and upload the file to S3. This is so that we can use SageMakers Batch Transform functionality to test our model once we've fit it."
   ]
  },
  {
   "cell_type": "code",
   "execution_count": 11,
   "metadata": {},
   "outputs": [],
   "source": [
    "import pandas as pd\n",
    "\n",
    "val_X = pd.DataFrame(train_X[:10000])\n",
    "train_X = pd.DataFrame(train_X[10000:])\n",
    "\n",
    "val_y = pd.DataFrame(train_y[:10000])\n",
    "train_y = pd.DataFrame(train_y[10000:])\n",
    "\n",
    "test_y = pd.DataFrame(test_y)\n",
    "test_X = pd.DataFrame(test_X)"
   ]
  },
  {
   "cell_type": "markdown",
   "metadata": {},
   "source": [
    "The documentation for the XGBoost algorithm in SageMaker requires that the saved datasets should contain no headers or index and that for the training and validation data, the label should occur first for each sample.\n",
    "\n",
    "For more information about this and other algorithms, the SageMaker developer documentation can be found on __[Amazon's website.](https://docs.aws.amazon.com/sagemaker/latest/dg/)__"
   ]
  },
  {
   "cell_type": "code",
   "execution_count": 12,
   "metadata": {},
   "outputs": [],
   "source": [
    "# First we make sure that the local directory in which we'd like to store the training and validation csv files exists.\n",
    "data_dir = '../data/xgboost'\n",
    "if not os.path.exists(data_dir):\n",
    "    os.makedirs(data_dir)"
   ]
  },
  {
   "cell_type": "code",
   "execution_count": 28,
   "metadata": {},
   "outputs": [],
   "source": [
    "test_X.to_csv(os.path.join(data_dir, 'test.csv'), header=False, index=False)\n"
   ]
  },
  {
   "cell_type": "code",
   "execution_count": 27,
   "metadata": {
    "scrolled": false
   },
   "outputs": [
    {
     "ename": "KeyboardInterrupt",
     "evalue": "",
     "output_type": "error",
     "traceback": [
      "\u001b[0;31m---------------------------------------------------------------------------\u001b[0m",
      "\u001b[0;31mKeyboardInterrupt\u001b[0m                         Traceback (most recent call last)",
      "\u001b[0;32m<ipython-input-27-5cb884ceb120>\u001b[0m in \u001b[0;36m<module>\u001b[0;34m\u001b[0m\n\u001b[1;32m      1\u001b[0m \u001b[0;31m# First, save the test data to test.csv in the data_dir directory. Note that we do not save the associated ground truth\u001b[0m\u001b[0;34m\u001b[0m\u001b[0;34m\u001b[0m\u001b[0;34m\u001b[0m\u001b[0m\n\u001b[1;32m      2\u001b[0m \u001b[0;31m# labels, instead we will use them later to compare with our model output.\u001b[0m\u001b[0;34m\u001b[0m\u001b[0;34m\u001b[0m\u001b[0;34m\u001b[0m\u001b[0m\n\u001b[0;32m----> 3\u001b[0;31m \u001b[0mtest_X\u001b[0m\u001b[0;34m.\u001b[0m\u001b[0mto_csv\u001b[0m\u001b[0;34m(\u001b[0m\u001b[0mos\u001b[0m\u001b[0;34m.\u001b[0m\u001b[0mpath\u001b[0m\u001b[0;34m.\u001b[0m\u001b[0mjoin\u001b[0m\u001b[0;34m(\u001b[0m\u001b[0mdata_dir\u001b[0m\u001b[0;34m,\u001b[0m \u001b[0;34m'test.csv'\u001b[0m\u001b[0;34m)\u001b[0m\u001b[0;34m,\u001b[0m \u001b[0mheader\u001b[0m\u001b[0;34m=\u001b[0m\u001b[0;32mFalse\u001b[0m\u001b[0;34m,\u001b[0m \u001b[0mindex\u001b[0m\u001b[0;34m=\u001b[0m\u001b[0;32mFalse\u001b[0m\u001b[0;34m)\u001b[0m\u001b[0;34m\u001b[0m\u001b[0;34m\u001b[0m\u001b[0m\n\u001b[0m\u001b[1;32m      4\u001b[0m \u001b[0;31m#pd.concat([test_y, test_X], axis=1).to_csv(os.path.join(data_dir, 'test.csv'), header=False, index=False)\u001b[0m\u001b[0;34m\u001b[0m\u001b[0;34m\u001b[0m\u001b[0;34m\u001b[0m\u001b[0m\n\u001b[1;32m      5\u001b[0m \u001b[0mpd\u001b[0m\u001b[0;34m.\u001b[0m\u001b[0mconcat\u001b[0m\u001b[0;34m(\u001b[0m\u001b[0;34m[\u001b[0m\u001b[0mval_y\u001b[0m\u001b[0;34m,\u001b[0m \u001b[0mval_X\u001b[0m\u001b[0;34m]\u001b[0m\u001b[0;34m,\u001b[0m \u001b[0maxis\u001b[0m\u001b[0;34m=\u001b[0m\u001b[0;36m1\u001b[0m\u001b[0;34m)\u001b[0m\u001b[0;34m.\u001b[0m\u001b[0mto_csv\u001b[0m\u001b[0;34m(\u001b[0m\u001b[0mos\u001b[0m\u001b[0;34m.\u001b[0m\u001b[0mpath\u001b[0m\u001b[0;34m.\u001b[0m\u001b[0mjoin\u001b[0m\u001b[0;34m(\u001b[0m\u001b[0mdata_dir\u001b[0m\u001b[0;34m,\u001b[0m \u001b[0;34m'validation.csv'\u001b[0m\u001b[0;34m)\u001b[0m\u001b[0;34m,\u001b[0m \u001b[0mheader\u001b[0m\u001b[0;34m=\u001b[0m\u001b[0;32mFalse\u001b[0m\u001b[0;34m,\u001b[0m \u001b[0mindex\u001b[0m\u001b[0;34m=\u001b[0m\u001b[0;32mFalse\u001b[0m\u001b[0;34m)\u001b[0m\u001b[0;34m\u001b[0m\u001b[0;34m\u001b[0m\u001b[0m\n",
      "\u001b[0;32m~/anaconda3/envs/python3/lib/python3.6/site-packages/pandas/core/generic.py\u001b[0m in \u001b[0;36mto_csv\u001b[0;34m(self, path_or_buf, sep, na_rep, float_format, columns, header, index, index_label, mode, encoding, compression, quoting, quotechar, line_terminator, chunksize, date_format, doublequote, escapechar, decimal)\u001b[0m\n\u001b[1;32m   3202\u001b[0m             \u001b[0mdecimal\u001b[0m\u001b[0;34m=\u001b[0m\u001b[0mdecimal\u001b[0m\u001b[0;34m,\u001b[0m\u001b[0;34m\u001b[0m\u001b[0;34m\u001b[0m\u001b[0m\n\u001b[1;32m   3203\u001b[0m         )\n\u001b[0;32m-> 3204\u001b[0;31m         \u001b[0mformatter\u001b[0m\u001b[0;34m.\u001b[0m\u001b[0msave\u001b[0m\u001b[0;34m(\u001b[0m\u001b[0;34m)\u001b[0m\u001b[0;34m\u001b[0m\u001b[0;34m\u001b[0m\u001b[0m\n\u001b[0m\u001b[1;32m   3205\u001b[0m \u001b[0;34m\u001b[0m\u001b[0m\n\u001b[1;32m   3206\u001b[0m         \u001b[0;32mif\u001b[0m \u001b[0mpath_or_buf\u001b[0m \u001b[0;32mis\u001b[0m \u001b[0;32mNone\u001b[0m\u001b[0;34m:\u001b[0m\u001b[0;34m\u001b[0m\u001b[0;34m\u001b[0m\u001b[0m\n",
      "\u001b[0;32m~/anaconda3/envs/python3/lib/python3.6/site-packages/pandas/io/formats/csvs.py\u001b[0m in \u001b[0;36msave\u001b[0;34m(self)\u001b[0m\n\u001b[1;32m    202\u001b[0m             )\n\u001b[1;32m    203\u001b[0m \u001b[0;34m\u001b[0m\u001b[0m\n\u001b[0;32m--> 204\u001b[0;31m             \u001b[0mself\u001b[0m\u001b[0;34m.\u001b[0m\u001b[0m_save\u001b[0m\u001b[0;34m(\u001b[0m\u001b[0;34m)\u001b[0m\u001b[0;34m\u001b[0m\u001b[0;34m\u001b[0m\u001b[0m\n\u001b[0m\u001b[1;32m    205\u001b[0m \u001b[0;34m\u001b[0m\u001b[0m\n\u001b[1;32m    206\u001b[0m         \u001b[0;32mfinally\u001b[0m\u001b[0;34m:\u001b[0m\u001b[0;34m\u001b[0m\u001b[0;34m\u001b[0m\u001b[0m\n",
      "\u001b[0;32m~/anaconda3/envs/python3/lib/python3.6/site-packages/pandas/io/formats/csvs.py\u001b[0m in \u001b[0;36m_save\u001b[0;34m(self)\u001b[0m\n\u001b[1;32m    323\u001b[0m                 \u001b[0;32mbreak\u001b[0m\u001b[0;34m\u001b[0m\u001b[0;34m\u001b[0m\u001b[0m\n\u001b[1;32m    324\u001b[0m \u001b[0;34m\u001b[0m\u001b[0m\n\u001b[0;32m--> 325\u001b[0;31m             \u001b[0mself\u001b[0m\u001b[0;34m.\u001b[0m\u001b[0m_save_chunk\u001b[0m\u001b[0;34m(\u001b[0m\u001b[0mstart_i\u001b[0m\u001b[0;34m,\u001b[0m \u001b[0mend_i\u001b[0m\u001b[0;34m)\u001b[0m\u001b[0;34m\u001b[0m\u001b[0;34m\u001b[0m\u001b[0m\n\u001b[0m\u001b[1;32m    326\u001b[0m \u001b[0;34m\u001b[0m\u001b[0m\n\u001b[1;32m    327\u001b[0m     \u001b[0;32mdef\u001b[0m \u001b[0m_save_chunk\u001b[0m\u001b[0;34m(\u001b[0m\u001b[0mself\u001b[0m\u001b[0;34m,\u001b[0m \u001b[0mstart_i\u001b[0m\u001b[0;34m:\u001b[0m \u001b[0mint\u001b[0m\u001b[0;34m,\u001b[0m \u001b[0mend_i\u001b[0m\u001b[0;34m:\u001b[0m \u001b[0mint\u001b[0m\u001b[0;34m)\u001b[0m \u001b[0;34m->\u001b[0m \u001b[0;32mNone\u001b[0m\u001b[0;34m:\u001b[0m\u001b[0;34m\u001b[0m\u001b[0;34m\u001b[0m\u001b[0m\n",
      "\u001b[0;32m~/anaconda3/envs/python3/lib/python3.6/site-packages/pandas/io/formats/csvs.py\u001b[0m in \u001b[0;36m_save_chunk\u001b[0;34m(self, start_i, end_i)\u001b[0m\n\u001b[1;32m    343\u001b[0m             \u001b[0;32mfor\u001b[0m \u001b[0mcol_loc\u001b[0m\u001b[0;34m,\u001b[0m \u001b[0mcol\u001b[0m \u001b[0;32min\u001b[0m \u001b[0mzip\u001b[0m\u001b[0;34m(\u001b[0m\u001b[0mb\u001b[0m\u001b[0;34m.\u001b[0m\u001b[0mmgr_locs\u001b[0m\u001b[0;34m,\u001b[0m \u001b[0md\u001b[0m\u001b[0;34m)\u001b[0m\u001b[0;34m:\u001b[0m\u001b[0;34m\u001b[0m\u001b[0;34m\u001b[0m\u001b[0m\n\u001b[1;32m    344\u001b[0m                 \u001b[0;31m# self.data is a preallocated list\u001b[0m\u001b[0;34m\u001b[0m\u001b[0;34m\u001b[0m\u001b[0;34m\u001b[0m\u001b[0m\n\u001b[0;32m--> 345\u001b[0;31m                 \u001b[0mself\u001b[0m\u001b[0;34m.\u001b[0m\u001b[0mdata\u001b[0m\u001b[0;34m[\u001b[0m\u001b[0mcol_loc\u001b[0m\u001b[0;34m]\u001b[0m \u001b[0;34m=\u001b[0m \u001b[0mcol\u001b[0m\u001b[0;34m\u001b[0m\u001b[0;34m\u001b[0m\u001b[0m\n\u001b[0m\u001b[1;32m    346\u001b[0m \u001b[0;34m\u001b[0m\u001b[0m\n\u001b[1;32m    347\u001b[0m         ix = data_index.to_native_types(\n",
      "\u001b[0;31mKeyboardInterrupt\u001b[0m: "
     ]
    }
   ],
   "source": [
    "# First, save the test data to test.csv in the data_dir directory. Note that we do not save the associated ground truth\n",
    "# labels, instead we will use them later to compare with our model output.\n",
    "test_X.to_csv(os.path.join(data_dir, 'test.csv'), header=False, index=False)\n",
    "#pd.concat([test_y, test_X], axis=1).to_csv(os.path.join(data_dir, 'test.csv'), header=False, index=False)\n",
    "pd.concat([val_y, val_X], axis=1).to_csv(os.path.join(data_dir, 'validation.csv'), header=False, index=False)\n",
    "pd.concat([train_y, train_X], axis=1).to_csv(os.path.join(data_dir, 'train.csv'), header=False, index=False)"
   ]
  },
  {
   "cell_type": "code",
   "execution_count": 14,
   "metadata": {},
   "outputs": [],
   "source": [
    "# To save a bit of memory we can set text_X, train_X, val_X, train_y and val_y to None.\n",
    "\n",
    "train_X = val_X = train_y = val_y = None"
   ]
  },
  {
   "cell_type": "markdown",
   "metadata": {},
   "source": [
    "### Uploading Training / Validation files to S3\n",
    "\n",
    "Amazon's S3 service allows us to store files that can be access by both the built-in training models such as the XGBoost model we will be using as well as custom models such as the one we will see a little later.\n",
    "\n",
    "For this, and most other tasks we will be doing using SageMaker, there are two methods we could use. The first is to use the low level functionality of SageMaker which requires knowing each of the objects involved in the SageMaker environment. The second is to use the high level functionality in which certain choices have been made on the user's behalf. The low level approach benefits from allowing the user a great deal of flexibility while the high level approach makes development much quicker. For our purposes we will opt to use the high level approach although using the low-level approach is certainly an option.\n",
    "\n",
    "Recall the method `upload_data()` which is a member of object representing our current SageMaker session. What this method does is upload the data to the default bucket (which is created if it does not exist) into the path described by the key_prefix variable. To see this for yourself, once you have uploaded the data files, go to the S3 console and look to see where the files have been uploaded.\n",
    "\n",
    "For additional resources, see the __[SageMaker API documentation](http://sagemaker.readthedocs.io/en/latest/)__ and in addition the __[SageMaker Developer Guide.](https://docs.aws.amazon.com/sagemaker/latest/dg/)__"
   ]
  },
  {
   "cell_type": "code",
   "execution_count": 15,
   "metadata": {},
   "outputs": [],
   "source": [
    "import sagemaker\n",
    "\n",
    "session = sagemaker.Session() # Store the current SageMaker session\n",
    "\n",
    "# S3 prefix (which folder will we use)\n",
    "prefix = 'sentiment-xgboost'\n",
    "\n",
    "test_location = session.upload_data(os.path.join(data_dir, 'test.csv'), key_prefix=prefix)\n",
    "val_location = session.upload_data(os.path.join(data_dir, 'validation.csv'), key_prefix=prefix)\n",
    "train_location = session.upload_data(os.path.join(data_dir, 'train.csv'), key_prefix=prefix)"
   ]
  },
  {
   "cell_type": "code",
   "execution_count": 29,
   "metadata": {},
   "outputs": [],
   "source": [
    "test_location = session.upload_data(os.path.join(data_dir, 'test.csv'), key_prefix=prefix)"
   ]
  },
  {
   "cell_type": "markdown",
   "metadata": {},
   "source": [
    "### (TODO) Creating a hypertuned XGBoost model\n",
    "\n",
    "Now that the data has been uploaded it is time to create the XGBoost model. As in the Boston Housing notebook, the first step is to create an estimator object which will be used as the *base* of your hyperparameter tuning job."
   ]
  },
  {
   "cell_type": "code",
   "execution_count": 16,
   "metadata": {},
   "outputs": [],
   "source": [
    "from sagemaker import get_execution_role\n",
    "\n",
    "# Our current execution role is require when creating the model as the training\n",
    "# and inference code will need to access the model artifacts.\n",
    "role = get_execution_role()"
   ]
  },
  {
   "cell_type": "code",
   "execution_count": 17,
   "metadata": {},
   "outputs": [
    {
     "name": "stderr",
     "output_type": "stream",
     "text": [
      "'get_image_uri' method will be deprecated in favor of 'ImageURIProvider' class in SageMaker Python SDK v2.\n",
      "There is a more up to date SageMaker XGBoost image. To use the newer image, please set 'repo_version'='1.0-1'. For example:\n",
      "\tget_image_uri(region, 'xgboost', '1.0-1').\n"
     ]
    }
   ],
   "source": [
    "# We need to retrieve the location of the container which is provided by Amazon for using XGBoost.\n",
    "# As a matter of convenience, the training and inference code both use the same container.\n",
    "from sagemaker.amazon.amazon_estimator import get_image_uri\n",
    "\n",
    "container = get_image_uri(session.boto_region_name, 'xgboost')"
   ]
  },
  {
   "cell_type": "code",
   "execution_count": 18,
   "metadata": {},
   "outputs": [
    {
     "name": "stderr",
     "output_type": "stream",
     "text": [
      "Parameter image_name will be renamed to image_uri in SageMaker Python SDK v2.\n"
     ]
    }
   ],
   "source": [
    "# TODO: Create a SageMaker estimator using the container location determined in the previous cell.\n",
    "#       It is recommended that you use a single training instance of type ml.m4.xlarge. It is also\n",
    "#       recommended that you use 's3://{}/{}/output'.format(session.default_bucket(), prefix) as the\n",
    "#       output path.\n",
    "\n",
    "xgb = sagemaker.estimator.Estimator(container, # The name of the training container\n",
    "                                    role,      # The IAM role to use (our current role in this case)\n",
    "                                    train_instance_count=1, # The number of instances to use for training\n",
    "                                    train_instance_type='ml.m4.xlarge', # The type of instance ot use for training\n",
    "                                    output_path='s3://{}/{}/output'.format(session.default_bucket(), prefix),\n",
    "                                                                        # Where to save the output (the model artifacts)\n",
    "                                    sagemaker_session=session) # The current SageMaker session\n",
    "\n",
    "# TODO: Set the XGBoost hyperparameters in the xgb object. Don't forget that in this case we have a binary\n",
    "#       label so we should be using the 'binary:logistic' objective.\n",
    "\n",
    "xgb.set_hyperparameters(max_depth=5,\n",
    "                        eta=0.2,\n",
    "                        gamma=4,\n",
    "                        min_child_weight=6,\n",
    "                        subsample=0.8,\n",
    "                        objective='binary:logistic',\n",
    "                        early_stopping_rounds=10,\n",
    "                        num_round=200)"
   ]
  },
  {
   "cell_type": "markdown",
   "metadata": {},
   "source": [
    "### (TODO) Create the hyperparameter tuner\n",
    "\n",
    "Now that the base estimator has been set up we need to construct a hyperparameter tuner object which we will use to request SageMaker construct a hyperparameter tuning job.\n",
    "\n",
    "**Note:** Training a single sentiment analysis XGBoost model takes longer than training a Boston Housing XGBoost model so if you don't want the hyperparameter tuning job to take too long, make sure to not set the total number of models (jobs) too high."
   ]
  },
  {
   "cell_type": "code",
   "execution_count": 19,
   "metadata": {},
   "outputs": [],
   "source": [
    "# First, make sure to import the relevant objects used to construct the tuner\n",
    "from sagemaker.tuner import IntegerParameter, ContinuousParameter, HyperparameterTuner\n",
    "\n",
    "# TODO: Create the hyperparameter tuner object\n",
    "\n",
    "xgb_hyperparameter_tuner = HyperparameterTuner(estimator = xgb, # The estimator object to use as the basis for the training jobs.\n",
    "                                               objective_metric_name = 'validation:rmse', # The metric used to compare trained models.\n",
    "                                               objective_type = 'Minimize', # Whether we wish to minimize or maximize the metric.\n",
    "                                               max_jobs = 20, # The total number of models to train\n",
    "                                               max_parallel_jobs = 4, # The number of models to train in parallel\n",
    "                                               hyperparameter_ranges = {\n",
    "                                                    'max_depth': IntegerParameter(3, 12),\n",
    "                                                    'eta'      : ContinuousParameter(0.05, 0.5),\n",
    "                                                    'min_child_weight': IntegerParameter(2, 8),\n",
    "                                                    'subsample': ContinuousParameter(0.5, 0.9),\n",
    "                                                    'gamma': ContinuousParameter(0, 10),\n",
    "                                               })\n",
    "\n"
   ]
  },
  {
   "cell_type": "markdown",
   "metadata": {},
   "source": [
    "### Fit the hyperparameter tuner\n",
    "\n",
    "Now that the hyperparameter tuner object has been constructed, it is time to fit the various models and find the best performing model."
   ]
  },
  {
   "cell_type": "code",
   "execution_count": 20,
   "metadata": {},
   "outputs": [
    {
     "name": "stderr",
     "output_type": "stream",
     "text": [
      "'s3_input' class will be renamed to 'TrainingInput' in SageMaker Python SDK v2.\n",
      "'s3_input' class will be renamed to 'TrainingInput' in SageMaker Python SDK v2.\n"
     ]
    }
   ],
   "source": [
    "s3_input_train = sagemaker.s3_input(s3_data=train_location, content_type='csv')\n",
    "s3_input_validation = sagemaker.s3_input(s3_data=val_location, content_type='csv')"
   ]
  },
  {
   "cell_type": "code",
   "execution_count": 21,
   "metadata": {},
   "outputs": [],
   "source": [
    "xgb_hyperparameter_tuner.fit({'train': s3_input_train, 'validation': s3_input_validation})"
   ]
  },
  {
   "cell_type": "markdown",
   "metadata": {},
   "source": [
    "Remember that the tuning job is constructed and run in the background so if we want to see the progress of our training job we need to call the `wait()` method."
   ]
  },
  {
   "cell_type": "code",
   "execution_count": null,
   "metadata": {},
   "outputs": [
    {
     "name": "stdout",
     "output_type": "stream",
     "text": [
      "..........................................................................................................................................................................................................................................................................................................................................................................................................................................................................................................................................................................................................................................!\n"
     ]
    }
   ],
   "source": [
    "xgb_hyperparameter_tuner.wait()"
   ]
  },
  {
   "cell_type": "markdown",
   "metadata": {},
   "source": [
    "### (TODO) Testing the model\n",
    "\n",
    "Now that we've run our hyperparameter tuning job, it's time to see how well the best performing model actually performs. To do this we will use SageMaker's Batch Transform functionality. Batch Transform is a convenient way to perform inference on a large dataset in a way that is not realtime. That is, we don't necessarily need to use our model's results immediately and instead we can peform inference on a large number of samples. An example of this in industry might be peforming an end of month report. This method of inference can also be useful to us as it means to can perform inference on our entire test set. \n",
    "\n",
    "Remember that in order to create a transformer object to perform the batch transform job, we need a trained estimator object. We can do that using the `attach()` method, creating an estimator object which is attached to the best trained job."
   ]
  },
  {
   "cell_type": "code",
   "execution_count": 23,
   "metadata": {},
   "outputs": [
    {
     "name": "stderr",
     "output_type": "stream",
     "text": [
      "Parameter image_name will be renamed to image_uri in SageMaker Python SDK v2.\n"
     ]
    },
    {
     "name": "stdout",
     "output_type": "stream",
     "text": [
      "2020-09-29 23:01:31 Starting - Preparing the instances for training\n",
      "2020-09-29 23:01:31 Downloading - Downloading input data\n",
      "2020-09-29 23:01:31 Training - Training image download completed. Training in progress.\n",
      "2020-09-29 23:01:31 Uploading - Uploading generated training model\n",
      "2020-09-29 23:01:31 Completed - Training job completed\u001b[34mArguments: train\u001b[0m\n",
      "\u001b[34m[2020-09-29:22:52:29:INFO] Running standalone xgboost training.\u001b[0m\n",
      "\u001b[34m[2020-09-29:22:52:29:INFO] Setting up HPO optimized metric to be : rmse\u001b[0m\n",
      "\u001b[34m[2020-09-29:22:52:29:INFO] File size need to be processed in the node: 238.47mb. Available memory size in the node: 8485.02mb\u001b[0m\n",
      "\u001b[34m[2020-09-29:22:52:29:INFO] Determined delimiter of CSV input is ','\u001b[0m\n",
      "\u001b[34m[22:52:29] S3DistributionType set as FullyReplicated\u001b[0m\n",
      "\u001b[34m[22:52:30] 15000x5000 matrix with 75000000 entries loaded from /opt/ml/input/data/train?format=csv&label_column=0&delimiter=,\u001b[0m\n",
      "\u001b[34m[2020-09-29:22:52:30:INFO] Determined delimiter of CSV input is ','\u001b[0m\n",
      "\u001b[34m[22:52:30] S3DistributionType set as FullyReplicated\u001b[0m\n",
      "\u001b[34m[22:52:32] 10000x5000 matrix with 50000000 entries loaded from /opt/ml/input/data/validation?format=csv&label_column=0&delimiter=,\u001b[0m\n",
      "\u001b[34m[22:52:37] src/tree/updater_prune.cc:74: tree pruning end, 1 roots, 110 extra nodes, 10 pruned nodes, max_depth=9\u001b[0m\n",
      "\u001b[34m[0]#011train-rmse:0.475976#011validation-rmse:0.478063\u001b[0m\n",
      "\u001b[34mMultiple eval metrics have been passed: 'validation-rmse' will be used for early stopping.\n",
      "\u001b[0m\n",
      "\u001b[34mWill train until validation-rmse hasn't improved in 10 rounds.\u001b[0m\n",
      "\u001b[34m[22:52:40] src/tree/updater_prune.cc:74: tree pruning end, 1 roots, 132 extra nodes, 14 pruned nodes, max_depth=9\u001b[0m\n",
      "\u001b[34m[1]#011train-rmse:0.457877#011validation-rmse:0.462409\u001b[0m\n",
      "\u001b[34m[22:52:42] src/tree/updater_prune.cc:74: tree pruning end, 1 roots, 100 extra nodes, 20 pruned nodes, max_depth=9\u001b[0m\n",
      "\u001b[34m[2]#011train-rmse:0.443562#011validation-rmse:0.449579\u001b[0m\n",
      "\u001b[34m[22:52:45] src/tree/updater_prune.cc:74: tree pruning end, 1 roots, 84 extra nodes, 6 pruned nodes, max_depth=9\u001b[0m\n",
      "\u001b[34m[3]#011train-rmse:0.432094#011validation-rmse:0.440048\u001b[0m\n",
      "\u001b[34m[22:52:48] src/tree/updater_prune.cc:74: tree pruning end, 1 roots, 124 extra nodes, 16 pruned nodes, max_depth=9\u001b[0m\n",
      "\u001b[34m[4]#011train-rmse:0.422353#011validation-rmse:0.432228\u001b[0m\n",
      "\u001b[34m[22:52:50] src/tree/updater_prune.cc:74: tree pruning end, 1 roots, 66 extra nodes, 22 pruned nodes, max_depth=9\u001b[0m\n",
      "\u001b[34m[5]#011train-rmse:0.414241#011validation-rmse:0.425959\u001b[0m\n",
      "\u001b[34m[22:52:53] src/tree/updater_prune.cc:74: tree pruning end, 1 roots, 86 extra nodes, 18 pruned nodes, max_depth=9\u001b[0m\n",
      "\u001b[34m[6]#011train-rmse:0.406926#011validation-rmse:0.420077\u001b[0m\n",
      "\u001b[34m[22:52:56] src/tree/updater_prune.cc:74: tree pruning end, 1 roots, 96 extra nodes, 14 pruned nodes, max_depth=9\u001b[0m\n",
      "\u001b[34m[7]#011train-rmse:0.400059#011validation-rmse:0.415054\u001b[0m\n",
      "\u001b[34m[22:52:58] src/tree/updater_prune.cc:74: tree pruning end, 1 roots, 84 extra nodes, 16 pruned nodes, max_depth=9\u001b[0m\n",
      "\u001b[34m[8]#011train-rmse:0.394123#011validation-rmse:0.410498\u001b[0m\n",
      "\u001b[34m[22:53:01] src/tree/updater_prune.cc:74: tree pruning end, 1 roots, 96 extra nodes, 16 pruned nodes, max_depth=9\u001b[0m\n",
      "\u001b[34m[9]#011train-rmse:0.388412#011validation-rmse:0.406322\u001b[0m\n",
      "\u001b[34m[22:53:04] src/tree/updater_prune.cc:74: tree pruning end, 1 roots, 74 extra nodes, 16 pruned nodes, max_depth=9\u001b[0m\n",
      "\u001b[34m[10]#011train-rmse:0.383637#011validation-rmse:0.403023\u001b[0m\n",
      "\u001b[34m[22:53:06] src/tree/updater_prune.cc:74: tree pruning end, 1 roots, 88 extra nodes, 14 pruned nodes, max_depth=9\u001b[0m\n",
      "\u001b[34m[11]#011train-rmse:0.378778#011validation-rmse:0.399752\u001b[0m\n",
      "\u001b[34m[22:53:09] src/tree/updater_prune.cc:74: tree pruning end, 1 roots, 76 extra nodes, 10 pruned nodes, max_depth=9\u001b[0m\n",
      "\u001b[34m[12]#011train-rmse:0.374409#011validation-rmse:0.396707\u001b[0m\n",
      "\u001b[34m[22:53:12] src/tree/updater_prune.cc:74: tree pruning end, 1 roots, 78 extra nodes, 24 pruned nodes, max_depth=9\u001b[0m\n",
      "\u001b[34m[13]#011train-rmse:0.370622#011validation-rmse:0.394226\u001b[0m\n",
      "\u001b[34m[22:53:14] src/tree/updater_prune.cc:74: tree pruning end, 1 roots, 68 extra nodes, 10 pruned nodes, max_depth=9\u001b[0m\n",
      "\u001b[34m[14]#011train-rmse:0.366853#011validation-rmse:0.391122\u001b[0m\n",
      "\u001b[34m[22:53:17] src/tree/updater_prune.cc:74: tree pruning end, 1 roots, 54 extra nodes, 22 pruned nodes, max_depth=9\u001b[0m\n",
      "\u001b[34m[15]#011train-rmse:0.363625#011validation-rmse:0.388319\u001b[0m\n",
      "\u001b[34m[22:53:20] src/tree/updater_prune.cc:74: tree pruning end, 1 roots, 78 extra nodes, 12 pruned nodes, max_depth=9\u001b[0m\n",
      "\u001b[34m[16]#011train-rmse:0.359431#011validation-rmse:0.385513\u001b[0m\n",
      "\u001b[34m[22:53:22] src/tree/updater_prune.cc:74: tree pruning end, 1 roots, 64 extra nodes, 12 pruned nodes, max_depth=9\u001b[0m\n",
      "\u001b[34m[17]#011train-rmse:0.35604#011validation-rmse:0.382827\u001b[0m\n",
      "\u001b[34m[22:53:25] src/tree/updater_prune.cc:74: tree pruning end, 1 roots, 80 extra nodes, 10 pruned nodes, max_depth=9\u001b[0m\n",
      "\u001b[34m[18]#011train-rmse:0.35262#011validation-rmse:0.380268\u001b[0m\n",
      "\u001b[34m[22:53:28] src/tree/updater_prune.cc:74: tree pruning end, 1 roots, 60 extra nodes, 22 pruned nodes, max_depth=9\u001b[0m\n",
      "\u001b[34m[19]#011train-rmse:0.349892#011validation-rmse:0.378482\u001b[0m\n",
      "\u001b[34m[22:53:30] src/tree/updater_prune.cc:74: tree pruning end, 1 roots, 52 extra nodes, 14 pruned nodes, max_depth=9\u001b[0m\n",
      "\u001b[34m[20]#011train-rmse:0.347436#011validation-rmse:0.376778\u001b[0m\n",
      "\u001b[34m[22:53:33] src/tree/updater_prune.cc:74: tree pruning end, 1 roots, 62 extra nodes, 24 pruned nodes, max_depth=9\u001b[0m\n",
      "\u001b[34m[21]#011train-rmse:0.344959#011validation-rmse:0.37487\u001b[0m\n",
      "\u001b[34m[22:53:36] src/tree/updater_prune.cc:74: tree pruning end, 1 roots, 68 extra nodes, 14 pruned nodes, max_depth=9\u001b[0m\n",
      "\u001b[34m[22]#011train-rmse:0.342128#011validation-rmse:0.372932\u001b[0m\n",
      "\u001b[34m[22:53:38] src/tree/updater_prune.cc:74: tree pruning end, 1 roots, 82 extra nodes, 18 pruned nodes, max_depth=9\u001b[0m\n",
      "\u001b[34m[23]#011train-rmse:0.339285#011validation-rmse:0.371127\u001b[0m\n",
      "\u001b[34m[22:53:41] src/tree/updater_prune.cc:74: tree pruning end, 1 roots, 72 extra nodes, 8 pruned nodes, max_depth=9\u001b[0m\n",
      "\u001b[34m[24]#011train-rmse:0.336802#011validation-rmse:0.369422\u001b[0m\n",
      "\u001b[34m[22:53:43] src/tree/updater_prune.cc:74: tree pruning end, 1 roots, 56 extra nodes, 6 pruned nodes, max_depth=9\u001b[0m\n",
      "\u001b[34m[25]#011train-rmse:0.334577#011validation-rmse:0.367856\u001b[0m\n",
      "\u001b[34m[22:53:46] src/tree/updater_prune.cc:74: tree pruning end, 1 roots, 80 extra nodes, 18 pruned nodes, max_depth=9\u001b[0m\n",
      "\u001b[34m[26]#011train-rmse:0.33196#011validation-rmse:0.366089\u001b[0m\n",
      "\u001b[34m[22:53:49] src/tree/updater_prune.cc:74: tree pruning end, 1 roots, 66 extra nodes, 10 pruned nodes, max_depth=9\u001b[0m\n",
      "\u001b[34m[27]#011train-rmse:0.329681#011validation-rmse:0.364664\u001b[0m\n",
      "\u001b[34m[22:53:51] src/tree/updater_prune.cc:74: tree pruning end, 1 roots, 62 extra nodes, 20 pruned nodes, max_depth=9\u001b[0m\n",
      "\u001b[34m[28]#011train-rmse:0.327506#011validation-rmse:0.363187\u001b[0m\n",
      "\u001b[34m[22:53:54] src/tree/updater_prune.cc:74: tree pruning end, 1 roots, 62 extra nodes, 12 pruned nodes, max_depth=9\u001b[0m\n",
      "\u001b[34m[29]#011train-rmse:0.325424#011validation-rmse:0.361748\u001b[0m\n",
      "\u001b[34m[22:53:57] src/tree/updater_prune.cc:74: tree pruning end, 1 roots, 70 extra nodes, 12 pruned nodes, max_depth=9\u001b[0m\n",
      "\u001b[34m[30]#011train-rmse:0.323366#011validation-rmse:0.360942\u001b[0m\n",
      "\u001b[34m[22:53:59] src/tree/updater_prune.cc:74: tree pruning end, 1 roots, 34 extra nodes, 12 pruned nodes, max_depth=9\u001b[0m\n",
      "\u001b[34m[31]#011train-rmse:0.32192#011validation-rmse:0.360018\u001b[0m\n",
      "\u001b[34m[22:54:02] src/tree/updater_prune.cc:74: tree pruning end, 1 roots, 66 extra nodes, 18 pruned nodes, max_depth=9\u001b[0m\n",
      "\u001b[34m[32]#011train-rmse:0.320102#011validation-rmse:0.358796\u001b[0m\n",
      "\u001b[34m[22:54:05] src/tree/updater_prune.cc:74: tree pruning end, 1 roots, 70 extra nodes, 14 pruned nodes, max_depth=9\u001b[0m\n",
      "\u001b[34m[33]#011train-rmse:0.31817#011validation-rmse:0.357892\u001b[0m\n",
      "\u001b[34m[22:54:07] src/tree/updater_prune.cc:74: tree pruning end, 1 roots, 70 extra nodes, 14 pruned nodes, max_depth=9\u001b[0m\n",
      "\u001b[34m[34]#011train-rmse:0.316281#011validation-rmse:0.357086\u001b[0m\n",
      "\u001b[34m[22:54:10] src/tree/updater_prune.cc:74: tree pruning end, 1 roots, 52 extra nodes, 14 pruned nodes, max_depth=9\u001b[0m\n",
      "\u001b[34m[35]#011train-rmse:0.31475#011validation-rmse:0.355985\u001b[0m\n",
      "\u001b[34m[22:54:13] src/tree/updater_prune.cc:74: tree pruning end, 1 roots, 36 extra nodes, 10 pruned nodes, max_depth=9\u001b[0m\n",
      "\u001b[34m[36]#011train-rmse:0.313409#011validation-rmse:0.354935\u001b[0m\n",
      "\u001b[34m[22:54:15] src/tree/updater_prune.cc:74: tree pruning end, 1 roots, 34 extra nodes, 8 pruned nodes, max_depth=9\u001b[0m\n",
      "\u001b[34m[37]#011train-rmse:0.311917#011validation-rmse:0.353857\u001b[0m\n",
      "\u001b[34m[22:54:18] src/tree/updater_prune.cc:74: tree pruning end, 1 roots, 62 extra nodes, 10 pruned nodes, max_depth=9\u001b[0m\n",
      "\u001b[34m[38]#011train-rmse:0.310293#011validation-rmse:0.353293\u001b[0m\n",
      "\u001b[34m[22:54:21] src/tree/updater_prune.cc:74: tree pruning end, 1 roots, 66 extra nodes, 10 pruned nodes, max_depth=9\u001b[0m\n",
      "\u001b[34m[39]#011train-rmse:0.308621#011validation-rmse:0.352461\u001b[0m\n",
      "\u001b[34m[22:54:23] src/tree/updater_prune.cc:74: tree pruning end, 1 roots, 58 extra nodes, 12 pruned nodes, max_depth=9\u001b[0m\n",
      "\u001b[34m[40]#011train-rmse:0.306982#011validation-rmse:0.351324\u001b[0m\n",
      "\u001b[34m[22:54:26] src/tree/updater_prune.cc:74: tree pruning end, 1 roots, 40 extra nodes, 16 pruned nodes, max_depth=9\u001b[0m\n",
      "\u001b[34m[41]#011train-rmse:0.305744#011validation-rmse:0.350468\u001b[0m\n",
      "\u001b[34m[22:54:28] src/tree/updater_prune.cc:74: tree pruning end, 1 roots, 42 extra nodes, 12 pruned nodes, max_depth=9\u001b[0m\n",
      "\u001b[34m[42]#011train-rmse:0.304477#011validation-rmse:0.349806\u001b[0m\n",
      "\u001b[34m[22:54:31] src/tree/updater_prune.cc:74: tree pruning end, 1 roots, 44 extra nodes, 12 pruned nodes, max_depth=9\u001b[0m\n",
      "\u001b[34m[43]#011train-rmse:0.303242#011validation-rmse:0.34902\u001b[0m\n",
      "\u001b[34m[22:54:34] src/tree/updater_prune.cc:74: tree pruning end, 1 roots, 62 extra nodes, 22 pruned nodes, max_depth=9\u001b[0m\n",
      "\u001b[34m[44]#011train-rmse:0.301699#011validation-rmse:0.348452\u001b[0m\n",
      "\u001b[34m[22:54:36] src/tree/updater_prune.cc:74: tree pruning end, 1 roots, 32 extra nodes, 8 pruned nodes, max_depth=9\u001b[0m\n",
      "\u001b[34m[45]#011train-rmse:0.30059#011validation-rmse:0.347778\u001b[0m\n",
      "\u001b[34m[22:54:39] src/tree/updater_prune.cc:74: tree pruning end, 1 roots, 48 extra nodes, 18 pruned nodes, max_depth=9\u001b[0m\n",
      "\u001b[34m[46]#011train-rmse:0.299425#011validation-rmse:0.347183\u001b[0m\n",
      "\u001b[34m[22:54:42] src/tree/updater_prune.cc:74: tree pruning end, 1 roots, 48 extra nodes, 10 pruned nodes, max_depth=9\u001b[0m\n",
      "\u001b[34m[47]#011train-rmse:0.298193#011validation-rmse:0.346585\u001b[0m\n",
      "\u001b[34m[22:54:44] src/tree/updater_prune.cc:74: tree pruning end, 1 roots, 34 extra nodes, 16 pruned nodes, max_depth=9\u001b[0m\n",
      "\u001b[34m[48]#011train-rmse:0.297118#011validation-rmse:0.345784\u001b[0m\n",
      "\u001b[34m[22:54:47] src/tree/updater_prune.cc:74: tree pruning end, 1 roots, 54 extra nodes, 14 pruned nodes, max_depth=9\u001b[0m\n",
      "\u001b[34m[49]#011train-rmse:0.295987#011validation-rmse:0.345357\u001b[0m\n",
      "\u001b[34m[22:54:50] src/tree/updater_prune.cc:74: tree pruning end, 1 roots, 68 extra nodes, 16 pruned nodes, max_depth=9\u001b[0m\n",
      "\u001b[34m[50]#011train-rmse:0.294372#011validation-rmse:0.344822\u001b[0m\n",
      "\u001b[34m[22:54:52] src/tree/updater_prune.cc:74: tree pruning end, 1 roots, 48 extra nodes, 26 pruned nodes, max_depth=9\u001b[0m\n",
      "\u001b[34m[51]#011train-rmse:0.293242#011validation-rmse:0.344251\u001b[0m\n",
      "\u001b[34m[22:54:55] src/tree/updater_prune.cc:74: tree pruning end, 1 roots, 54 extra nodes, 22 pruned nodes, max_depth=9\u001b[0m\n",
      "\u001b[34m[52]#011train-rmse:0.292149#011validation-rmse:0.343879\u001b[0m\n",
      "\u001b[34m[22:54:57] src/tree/updater_prune.cc:74: tree pruning end, 1 roots, 44 extra nodes, 12 pruned nodes, max_depth=9\u001b[0m\n",
      "\u001b[34m[53]#011train-rmse:0.290882#011validation-rmse:0.34318\u001b[0m\n",
      "\u001b[34m[22:55:00] src/tree/updater_prune.cc:74: tree pruning end, 1 roots, 46 extra nodes, 14 pruned nodes, max_depth=9\u001b[0m\n",
      "\u001b[34m[54]#011train-rmse:0.289617#011validation-rmse:0.34256\u001b[0m\n",
      "\u001b[34m[22:55:03] src/tree/updater_prune.cc:74: tree pruning end, 1 roots, 40 extra nodes, 16 pruned nodes, max_depth=9\u001b[0m\n",
      "\u001b[34m[55]#011train-rmse:0.288687#011validation-rmse:0.342176\u001b[0m\n",
      "\u001b[34m[22:55:05] src/tree/updater_prune.cc:74: tree pruning end, 1 roots, 40 extra nodes, 14 pruned nodes, max_depth=9\u001b[0m\n",
      "\u001b[34m[56]#011train-rmse:0.287719#011validation-rmse:0.341799\u001b[0m\n",
      "\u001b[34m[22:55:08] src/tree/updater_prune.cc:74: tree pruning end, 1 roots, 40 extra nodes, 8 pruned nodes, max_depth=9\u001b[0m\n",
      "\u001b[34m[57]#011train-rmse:0.286868#011validation-rmse:0.341235\u001b[0m\n",
      "\u001b[34m[22:55:11] src/tree/updater_prune.cc:74: tree pruning end, 1 roots, 28 extra nodes, 6 pruned nodes, max_depth=9\u001b[0m\n",
      "\u001b[34m[58]#011train-rmse:0.286051#011validation-rmse:0.340659\u001b[0m\n",
      "\u001b[34m[22:55:13] src/tree/updater_prune.cc:74: tree pruning end, 1 roots, 22 extra nodes, 12 pruned nodes, max_depth=9\u001b[0m\n",
      "\u001b[34m[59]#011train-rmse:0.28527#011validation-rmse:0.340069\u001b[0m\n",
      "\u001b[34m[22:55:16] src/tree/updater_prune.cc:74: tree pruning end, 1 roots, 60 extra nodes, 16 pruned nodes, max_depth=9\u001b[0m\n",
      "\u001b[34m[60]#011train-rmse:0.284321#011validation-rmse:0.339707\u001b[0m\n",
      "\u001b[34m[22:55:19] src/tree/updater_prune.cc:74: tree pruning end, 1 roots, 48 extra nodes, 10 pruned nodes, max_depth=9\u001b[0m\n",
      "\u001b[34m[61]#011train-rmse:0.28316#011validation-rmse:0.339314\u001b[0m\n",
      "\u001b[34m[22:55:21] src/tree/updater_prune.cc:74: tree pruning end, 1 roots, 46 extra nodes, 6 pruned nodes, max_depth=9\u001b[0m\n",
      "\u001b[34m[62]#011train-rmse:0.281942#011validation-rmse:0.338647\u001b[0m\n",
      "\u001b[34m[22:55:24] src/tree/updater_prune.cc:74: tree pruning end, 1 roots, 48 extra nodes, 4 pruned nodes, max_depth=9\u001b[0m\n",
      "\u001b[34m[63]#011train-rmse:0.280891#011validation-rmse:0.338247\u001b[0m\n",
      "\u001b[34m[22:55:27] src/tree/updater_prune.cc:74: tree pruning end, 1 roots, 38 extra nodes, 4 pruned nodes, max_depth=9\u001b[0m\n",
      "\u001b[34m[64]#011train-rmse:0.280043#011validation-rmse:0.337995\u001b[0m\n",
      "\u001b[34m[22:55:29] src/tree/updater_prune.cc:74: tree pruning end, 1 roots, 46 extra nodes, 6 pruned nodes, max_depth=9\u001b[0m\n",
      "\u001b[34m[65]#011train-rmse:0.279114#011validation-rmse:0.337514\u001b[0m\n",
      "\u001b[34m[22:55:32] src/tree/updater_prune.cc:74: tree pruning end, 1 roots, 56 extra nodes, 10 pruned nodes, max_depth=9\u001b[0m\n",
      "\u001b[34m[66]#011train-rmse:0.27801#011validation-rmse:0.337083\u001b[0m\n",
      "\u001b[34m[22:55:35] src/tree/updater_prune.cc:74: tree pruning end, 1 roots, 64 extra nodes, 8 pruned nodes, max_depth=9\u001b[0m\n",
      "\u001b[34m[67]#011train-rmse:0.276863#011validation-rmse:0.336714\u001b[0m\n",
      "\u001b[34m[22:55:37] src/tree/updater_prune.cc:74: tree pruning end, 1 roots, 28 extra nodes, 4 pruned nodes, max_depth=9\u001b[0m\n",
      "\u001b[34m[68]#011train-rmse:0.276214#011validation-rmse:0.336224\u001b[0m\n",
      "\u001b[34m[22:55:40] src/tree/updater_prune.cc:74: tree pruning end, 1 roots, 28 extra nodes, 10 pruned nodes, max_depth=9\u001b[0m\n",
      "\u001b[34m[69]#011train-rmse:0.27558#011validation-rmse:0.335891\u001b[0m\n",
      "\u001b[34m[22:55:43] src/tree/updater_prune.cc:74: tree pruning end, 1 roots, 28 extra nodes, 4 pruned nodes, max_depth=9\u001b[0m\n",
      "\u001b[34m[70]#011train-rmse:0.274897#011validation-rmse:0.335456\u001b[0m\n",
      "\u001b[34m[22:55:45] src/tree/updater_prune.cc:74: tree pruning end, 1 roots, 32 extra nodes, 10 pruned nodes, max_depth=9\u001b[0m\n",
      "\u001b[34m[71]#011train-rmse:0.274153#011validation-rmse:0.335208\u001b[0m\n",
      "\u001b[34m[22:55:48] src/tree/updater_prune.cc:74: tree pruning end, 1 roots, 80 extra nodes, 22 pruned nodes, max_depth=9\u001b[0m\n",
      "\u001b[34m[72]#011train-rmse:0.272767#011validation-rmse:0.335109\u001b[0m\n",
      "\u001b[34m[22:55:51] src/tree/updater_prune.cc:74: tree pruning end, 1 roots, 40 extra nodes, 4 pruned nodes, max_depth=9\u001b[0m\n",
      "\u001b[34m[73]#011train-rmse:0.271796#011validation-rmse:0.334769\u001b[0m\n",
      "\u001b[34m[22:55:53] src/tree/updater_prune.cc:74: tree pruning end, 1 roots, 66 extra nodes, 10 pruned nodes, max_depth=9\u001b[0m\n",
      "\u001b[34m[74]#011train-rmse:0.270683#011validation-rmse:0.334257\u001b[0m\n",
      "\u001b[34m[22:55:56] src/tree/updater_prune.cc:74: tree pruning end, 1 roots, 32 extra nodes, 8 pruned nodes, max_depth=9\u001b[0m\n",
      "\u001b[34m[75]#011train-rmse:0.269907#011validation-rmse:0.334008\u001b[0m\n",
      "\u001b[34m[22:55:58] src/tree/updater_prune.cc:74: tree pruning end, 1 roots, 74 extra nodes, 12 pruned nodes, max_depth=9\u001b[0m\n",
      "\u001b[34m[76]#011train-rmse:0.268572#011validation-rmse:0.333626\u001b[0m\n",
      "\u001b[34m[22:56:01] src/tree/updater_prune.cc:74: tree pruning end, 1 roots, 44 extra nodes, 12 pruned nodes, max_depth=9\u001b[0m\n",
      "\u001b[34m[77]#011train-rmse:0.267831#011validation-rmse:0.333151\u001b[0m\n",
      "\u001b[34m[22:56:04] src/tree/updater_prune.cc:74: tree pruning end, 1 roots, 68 extra nodes, 12 pruned nodes, max_depth=9\u001b[0m\n",
      "\u001b[34m[78]#011train-rmse:0.266512#011validation-rmse:0.332905\u001b[0m\n",
      "\u001b[34m[22:56:06] src/tree/updater_prune.cc:74: tree pruning end, 1 roots, 48 extra nodes, 14 pruned nodes, max_depth=9\u001b[0m\n",
      "\u001b[34m[79]#011train-rmse:0.2656#011validation-rmse:0.332488\u001b[0m\n",
      "\u001b[34m[22:56:09] src/tree/updater_prune.cc:74: tree pruning end, 1 roots, 46 extra nodes, 14 pruned nodes, max_depth=9\u001b[0m\n",
      "\u001b[34m[80]#011train-rmse:0.264789#011validation-rmse:0.332393\u001b[0m\n",
      "\u001b[34m[22:56:12] src/tree/updater_prune.cc:74: tree pruning end, 1 roots, 36 extra nodes, 14 pruned nodes, max_depth=9\u001b[0m\n",
      "\u001b[34m[81]#011train-rmse:0.264065#011validation-rmse:0.332259\u001b[0m\n",
      "\u001b[34m[22:56:14] src/tree/updater_prune.cc:74: tree pruning end, 1 roots, 36 extra nodes, 8 pruned nodes, max_depth=9\u001b[0m\n",
      "\u001b[34m[82]#011train-rmse:0.263409#011validation-rmse:0.331938\u001b[0m\n",
      "\u001b[34m[22:56:17] src/tree/updater_prune.cc:74: tree pruning end, 1 roots, 40 extra nodes, 16 pruned nodes, max_depth=9\u001b[0m\n",
      "\u001b[34m[83]#011train-rmse:0.262631#011validation-rmse:0.331657\u001b[0m\n",
      "\u001b[34m[22:56:20] src/tree/updater_prune.cc:74: tree pruning end, 1 roots, 34 extra nodes, 6 pruned nodes, max_depth=9\u001b[0m\n",
      "\u001b[34m[84]#011train-rmse:0.262037#011validation-rmse:0.331418\u001b[0m\n",
      "\u001b[34m[22:56:22] src/tree/updater_prune.cc:74: tree pruning end, 1 roots, 52 extra nodes, 8 pruned nodes, max_depth=9\u001b[0m\n",
      "\u001b[34m[85]#011train-rmse:0.261097#011validation-rmse:0.331121\u001b[0m\n",
      "\u001b[34m[22:56:25] src/tree/updater_prune.cc:74: tree pruning end, 1 roots, 64 extra nodes, 10 pruned nodes, max_depth=9\u001b[0m\n",
      "\u001b[34m[86]#011train-rmse:0.260111#011validation-rmse:0.330834\u001b[0m\n",
      "\u001b[34m[22:56:28] src/tree/updater_prune.cc:74: tree pruning end, 1 roots, 46 extra nodes, 8 pruned nodes, max_depth=9\u001b[0m\n",
      "\u001b[34m[87]#011train-rmse:0.259179#011validation-rmse:0.330594\u001b[0m\n",
      "\u001b[34m[22:56:30] src/tree/updater_prune.cc:74: tree pruning end, 1 roots, 40 extra nodes, 12 pruned nodes, max_depth=9\u001b[0m\n",
      "\u001b[34m[88]#011train-rmse:0.258508#011validation-rmse:0.330347\u001b[0m\n",
      "\u001b[34m[22:56:33] src/tree/updater_prune.cc:74: tree pruning end, 1 roots, 52 extra nodes, 16 pruned nodes, max_depth=9\u001b[0m\n",
      "\u001b[34m[89]#011train-rmse:0.257526#011validation-rmse:0.329838\u001b[0m\n",
      "\u001b[34m[22:56:35] src/tree/updater_prune.cc:74: tree pruning end, 1 roots, 30 extra nodes, 8 pruned nodes, max_depth=9\u001b[0m\n",
      "\u001b[34m[90]#011train-rmse:0.25696#011validation-rmse:0.329735\u001b[0m\n",
      "\u001b[34m[22:56:38] src/tree/updater_prune.cc:74: tree pruning end, 1 roots, 42 extra nodes, 16 pruned nodes, max_depth=9\u001b[0m\n",
      "\u001b[34m[91]#011train-rmse:0.256263#011validation-rmse:0.329446\u001b[0m\n",
      "\u001b[34m[22:56:41] src/tree/updater_prune.cc:74: tree pruning end, 1 roots, 30 extra nodes, 4 pruned nodes, max_depth=9\u001b[0m\n",
      "\u001b[34m[92]#011train-rmse:0.255664#011validation-rmse:0.329224\u001b[0m\n",
      "\u001b[34m[22:56:43] src/tree/updater_prune.cc:74: tree pruning end, 1 roots, 40 extra nodes, 4 pruned nodes, max_depth=9\u001b[0m\n",
      "\u001b[34m[93]#011train-rmse:0.254931#011validation-rmse:0.328849\u001b[0m\n",
      "\u001b[34m[22:56:46] src/tree/updater_prune.cc:74: tree pruning end, 1 roots, 20 extra nodes, 4 pruned nodes, max_depth=9\u001b[0m\n",
      "\u001b[34m[94]#011train-rmse:0.254548#011validation-rmse:0.328558\u001b[0m\n",
      "\u001b[34m[22:56:49] src/tree/updater_prune.cc:74: tree pruning end, 1 roots, 26 extra nodes, 10 pruned nodes, max_depth=9\u001b[0m\n",
      "\u001b[34m[95]#011train-rmse:0.25414#011validation-rmse:0.32839\u001b[0m\n",
      "\u001b[34m[22:56:51] src/tree/updater_prune.cc:74: tree pruning end, 1 roots, 24 extra nodes, 14 pruned nodes, max_depth=9\u001b[0m\n",
      "\u001b[34m[96]#011train-rmse:0.253614#011validation-rmse:0.32822\u001b[0m\n",
      "\u001b[34m[22:56:54] src/tree/updater_prune.cc:74: tree pruning end, 1 roots, 46 extra nodes, 16 pruned nodes, max_depth=9\u001b[0m\n",
      "\u001b[34m[97]#011train-rmse:0.252778#011validation-rmse:0.327974\u001b[0m\n",
      "\u001b[34m[22:56:56] src/tree/updater_prune.cc:74: tree pruning end, 1 roots, 24 extra nodes, 4 pruned nodes, max_depth=9\u001b[0m\n",
      "\u001b[34m[98]#011train-rmse:0.252419#011validation-rmse:0.327714\u001b[0m\n",
      "\u001b[34m[22:56:59] src/tree/updater_prune.cc:74: tree pruning end, 1 roots, 30 extra nodes, 6 pruned nodes, max_depth=9\u001b[0m\n",
      "\u001b[34m[99]#011train-rmse:0.252006#011validation-rmse:0.327503\u001b[0m\n",
      "\u001b[34m[22:57:02] src/tree/updater_prune.cc:74: tree pruning end, 1 roots, 32 extra nodes, 4 pruned nodes, max_depth=9\u001b[0m\n",
      "\u001b[34m[100]#011train-rmse:0.251501#011validation-rmse:0.32728\u001b[0m\n",
      "\u001b[34m[22:57:04] src/tree/updater_prune.cc:74: tree pruning end, 1 roots, 58 extra nodes, 14 pruned nodes, max_depth=9\u001b[0m\n",
      "\u001b[34m[101]#011train-rmse:0.250606#011validation-rmse:0.327214\u001b[0m\n",
      "\u001b[34m[22:57:07] src/tree/updater_prune.cc:74: tree pruning end, 1 roots, 52 extra nodes, 10 pruned nodes, max_depth=9\u001b[0m\n",
      "\u001b[34m[102]#011train-rmse:0.249809#011validation-rmse:0.326897\u001b[0m\n",
      "\u001b[34m[22:57:10] src/tree/updater_prune.cc:74: tree pruning end, 1 roots, 50 extra nodes, 8 pruned nodes, max_depth=9\u001b[0m\n",
      "\u001b[34m[103]#011train-rmse:0.248909#011validation-rmse:0.32665\u001b[0m\n",
      "\u001b[34m[22:57:12] src/tree/updater_prune.cc:74: tree pruning end, 1 roots, 32 extra nodes, 8 pruned nodes, max_depth=9\u001b[0m\n",
      "\u001b[34m[104]#011train-rmse:0.248282#011validation-rmse:0.326452\u001b[0m\n",
      "\u001b[34m[22:57:15] src/tree/updater_prune.cc:74: tree pruning end, 1 roots, 30 extra nodes, 12 pruned nodes, max_depth=9\u001b[0m\n",
      "\u001b[34m[105]#011train-rmse:0.247742#011validation-rmse:0.326166\u001b[0m\n",
      "\u001b[34m[22:57:17] src/tree/updater_prune.cc:74: tree pruning end, 1 roots, 40 extra nodes, 14 pruned nodes, max_depth=9\u001b[0m\n",
      "\u001b[34m[106]#011train-rmse:0.247146#011validation-rmse:0.325812\u001b[0m\n",
      "\u001b[34m[22:57:20] src/tree/updater_prune.cc:74: tree pruning end, 1 roots, 34 extra nodes, 12 pruned nodes, max_depth=9\u001b[0m\n",
      "\u001b[34m[107]#011train-rmse:0.246648#011validation-rmse:0.325764\u001b[0m\n",
      "\u001b[34m[22:57:23] src/tree/updater_prune.cc:74: tree pruning end, 1 roots, 40 extra nodes, 14 pruned nodes, max_depth=9\u001b[0m\n",
      "\u001b[34m[108]#011train-rmse:0.246108#011validation-rmse:0.325535\u001b[0m\n",
      "\u001b[34m[22:57:25] src/tree/updater_prune.cc:74: tree pruning end, 1 roots, 22 extra nodes, 10 pruned nodes, max_depth=9\u001b[0m\n",
      "\u001b[34m[109]#011train-rmse:0.245832#011validation-rmse:0.325554\u001b[0m\n",
      "\u001b[34m[22:57:28] src/tree/updater_prune.cc:74: tree pruning end, 1 roots, 54 extra nodes, 20 pruned nodes, max_depth=9\u001b[0m\n",
      "\u001b[34m[110]#011train-rmse:0.244893#011validation-rmse:0.325454\u001b[0m\n",
      "\u001b[34m[22:57:31] src/tree/updater_prune.cc:74: tree pruning end, 1 roots, 32 extra nodes, 6 pruned nodes, max_depth=9\u001b[0m\n",
      "\u001b[34m[111]#011train-rmse:0.244379#011validation-rmse:0.325078\u001b[0m\n",
      "\u001b[34m[22:57:33] src/tree/updater_prune.cc:74: tree pruning end, 1 roots, 24 extra nodes, 12 pruned nodes, max_depth=9\u001b[0m\n",
      "\u001b[34m[112]#011train-rmse:0.243997#011validation-rmse:0.324705\u001b[0m\n",
      "\u001b[34m[22:57:36] src/tree/updater_prune.cc:74: tree pruning end, 1 roots, 38 extra nodes, 8 pruned nodes, max_depth=9\u001b[0m\n",
      "\u001b[34m[113]#011train-rmse:0.2434#011validation-rmse:0.324536\u001b[0m\n",
      "\u001b[34m[22:57:38] src/tree/updater_prune.cc:74: tree pruning end, 1 roots, 28 extra nodes, 10 pruned nodes, max_depth=9\u001b[0m\n",
      "\u001b[34m[114]#011train-rmse:0.24297#011validation-rmse:0.324459\u001b[0m\n",
      "\u001b[34m[22:57:41] src/tree/updater_prune.cc:74: tree pruning end, 1 roots, 46 extra nodes, 8 pruned nodes, max_depth=9\u001b[0m\n",
      "\u001b[34m[115]#011train-rmse:0.242263#011validation-rmse:0.324045\u001b[0m\n",
      "\u001b[34m[22:57:44] src/tree/updater_prune.cc:74: tree pruning end, 1 roots, 44 extra nodes, 6 pruned nodes, max_depth=9\u001b[0m\n",
      "\u001b[34m[116]#011train-rmse:0.241519#011validation-rmse:0.323714\u001b[0m\n",
      "\u001b[34m[22:57:46] src/tree/updater_prune.cc:74: tree pruning end, 1 roots, 38 extra nodes, 10 pruned nodes, max_depth=9\u001b[0m\n",
      "\u001b[34m[117]#011train-rmse:0.241037#011validation-rmse:0.323389\u001b[0m\n",
      "\u001b[34m[22:57:49] src/tree/updater_prune.cc:74: tree pruning end, 1 roots, 54 extra nodes, 8 pruned nodes, max_depth=9\u001b[0m\n",
      "\u001b[34m[118]#011train-rmse:0.240142#011validation-rmse:0.322752\u001b[0m\n",
      "\u001b[34m[22:57:52] src/tree/updater_prune.cc:74: tree pruning end, 1 roots, 26 extra nodes, 8 pruned nodes, max_depth=9\u001b[0m\n",
      "\u001b[34m[119]#011train-rmse:0.23975#011validation-rmse:0.322458\u001b[0m\n",
      "\u001b[34m[22:57:54] src/tree/updater_prune.cc:74: tree pruning end, 1 roots, 48 extra nodes, 12 pruned nodes, max_depth=9\u001b[0m\n",
      "\u001b[34m[120]#011train-rmse:0.239098#011validation-rmse:0.322224\u001b[0m\n",
      "\u001b[34m[22:57:57] src/tree/updater_prune.cc:74: tree pruning end, 1 roots, 34 extra nodes, 6 pruned nodes, max_depth=9\u001b[0m\n",
      "\u001b[34m[121]#011train-rmse:0.238523#011validation-rmse:0.32214\u001b[0m\n",
      "\u001b[34m[22:58:00] src/tree/updater_prune.cc:74: tree pruning end, 1 roots, 34 extra nodes, 12 pruned nodes, max_depth=9\u001b[0m\n",
      "\u001b[34m[122]#011train-rmse:0.238044#011validation-rmse:0.322097\u001b[0m\n",
      "\u001b[34m[22:58:02] src/tree/updater_prune.cc:74: tree pruning end, 1 roots, 30 extra nodes, 2 pruned nodes, max_depth=9\u001b[0m\n",
      "\u001b[34m[123]#011train-rmse:0.237704#011validation-rmse:0.322062\u001b[0m\n",
      "\u001b[34m[22:58:05] src/tree/updater_prune.cc:74: tree pruning end, 1 roots, 28 extra nodes, 8 pruned nodes, max_depth=9\u001b[0m\n",
      "\u001b[34m[124]#011train-rmse:0.237297#011validation-rmse:0.321909\u001b[0m\n",
      "\u001b[34m[22:58:08] src/tree/updater_prune.cc:74: tree pruning end, 1 roots, 32 extra nodes, 6 pruned nodes, max_depth=9\u001b[0m\n",
      "\u001b[34m[125]#011train-rmse:0.236837#011validation-rmse:0.321772\u001b[0m\n",
      "\u001b[34m[22:58:10] src/tree/updater_prune.cc:74: tree pruning end, 1 roots, 26 extra nodes, 12 pruned nodes, max_depth=9\u001b[0m\n",
      "\u001b[34m[126]#011train-rmse:0.236402#011validation-rmse:0.32173\u001b[0m\n",
      "\u001b[34m[22:58:13] src/tree/updater_prune.cc:74: tree pruning end, 1 roots, 22 extra nodes, 0 pruned nodes, max_depth=9\u001b[0m\n",
      "\u001b[34m[127]#011train-rmse:0.236085#011validation-rmse:0.32157\u001b[0m\n",
      "\u001b[34m[22:58:15] src/tree/updater_prune.cc:74: tree pruning end, 1 roots, 38 extra nodes, 4 pruned nodes, max_depth=9\u001b[0m\n",
      "\u001b[34m[128]#011train-rmse:0.235519#011validation-rmse:0.321438\u001b[0m\n",
      "\u001b[34m[22:58:18] src/tree/updater_prune.cc:74: tree pruning end, 1 roots, 42 extra nodes, 12 pruned nodes, max_depth=9\u001b[0m\n",
      "\u001b[34m[129]#011train-rmse:0.234851#011validation-rmse:0.321293\u001b[0m\n",
      "\u001b[34m[22:58:21] src/tree/updater_prune.cc:74: tree pruning end, 1 roots, 22 extra nodes, 2 pruned nodes, max_depth=9\u001b[0m\n",
      "\u001b[34m[130]#011train-rmse:0.234513#011validation-rmse:0.32118\u001b[0m\n",
      "\u001b[34m[22:58:23] src/tree/updater_prune.cc:74: tree pruning end, 1 roots, 44 extra nodes, 14 pruned nodes, max_depth=9\u001b[0m\n",
      "\u001b[34m[131]#011train-rmse:0.233944#011validation-rmse:0.320892\u001b[0m\n",
      "\u001b[34m[22:58:26] src/tree/updater_prune.cc:74: tree pruning end, 1 roots, 34 extra nodes, 4 pruned nodes, max_depth=9\u001b[0m\n",
      "\u001b[34m[132]#011train-rmse:0.233545#011validation-rmse:0.32057\u001b[0m\n",
      "\u001b[34m[22:58:29] src/tree/updater_prune.cc:74: tree pruning end, 1 roots, 62 extra nodes, 8 pruned nodes, max_depth=9\u001b[0m\n",
      "\u001b[34m[133]#011train-rmse:0.232622#011validation-rmse:0.320483\u001b[0m\n",
      "\u001b[34m[22:58:31] src/tree/updater_prune.cc:74: tree pruning end, 1 roots, 26 extra nodes, 14 pruned nodes, max_depth=9\u001b[0m\n",
      "\u001b[34m[134]#011train-rmse:0.232248#011validation-rmse:0.320238\u001b[0m\n",
      "\u001b[34m[22:58:34] src/tree/updater_prune.cc:74: tree pruning end, 1 roots, 26 extra nodes, 4 pruned nodes, max_depth=9\u001b[0m\n",
      "\u001b[34m[135]#011train-rmse:0.231858#011validation-rmse:0.320182\u001b[0m\n",
      "\u001b[34m[22:58:37] src/tree/updater_prune.cc:74: tree pruning end, 1 roots, 48 extra nodes, 16 pruned nodes, max_depth=9\u001b[0m\n",
      "\u001b[34m[136]#011train-rmse:0.231091#011validation-rmse:0.319952\u001b[0m\n",
      "\u001b[34m[22:58:39] src/tree/updater_prune.cc:74: tree pruning end, 1 roots, 44 extra nodes, 4 pruned nodes, max_depth=9\u001b[0m\n",
      "\u001b[34m[137]#011train-rmse:0.230535#011validation-rmse:0.319911\u001b[0m\n",
      "\u001b[34m[22:58:42] src/tree/updater_prune.cc:74: tree pruning end, 1 roots, 34 extra nodes, 14 pruned nodes, max_depth=9\u001b[0m\n",
      "\u001b[34m[138]#011train-rmse:0.230009#011validation-rmse:0.31979\u001b[0m\n",
      "\u001b[34m[22:58:45] src/tree/updater_prune.cc:74: tree pruning end, 1 roots, 20 extra nodes, 10 pruned nodes, max_depth=9\u001b[0m\n",
      "\u001b[34m[139]#011train-rmse:0.229696#011validation-rmse:0.31961\u001b[0m\n",
      "\u001b[34m[22:58:47] src/tree/updater_prune.cc:74: tree pruning end, 1 roots, 40 extra nodes, 10 pruned nodes, max_depth=9\u001b[0m\n",
      "\u001b[34m[140]#011train-rmse:0.229153#011validation-rmse:0.319496\u001b[0m\n",
      "\u001b[34m[22:58:50] src/tree/updater_prune.cc:74: tree pruning end, 1 roots, 36 extra nodes, 12 pruned nodes, max_depth=9\u001b[0m\n",
      "\u001b[34m[141]#011train-rmse:0.228641#011validation-rmse:0.319336\u001b[0m\n",
      "\u001b[34m[22:58:52] src/tree/updater_prune.cc:74: tree pruning end, 1 roots, 32 extra nodes, 6 pruned nodes, max_depth=9\u001b[0m\n",
      "\u001b[34m[142]#011train-rmse:0.228058#011validation-rmse:0.31906\u001b[0m\n",
      "\u001b[34m[22:58:55] src/tree/updater_prune.cc:74: tree pruning end, 1 roots, 36 extra nodes, 8 pruned nodes, max_depth=9\u001b[0m\n",
      "\u001b[34m[143]#011train-rmse:0.227551#011validation-rmse:0.318921\u001b[0m\n",
      "\u001b[34m[22:58:58] src/tree/updater_prune.cc:74: tree pruning end, 1 roots, 40 extra nodes, 12 pruned nodes, max_depth=9\u001b[0m\n",
      "\u001b[34m[144]#011train-rmse:0.226974#011validation-rmse:0.318882\u001b[0m\n",
      "\u001b[34m[22:59:00] src/tree/updater_prune.cc:74: tree pruning end, 1 roots, 22 extra nodes, 4 pruned nodes, max_depth=9\u001b[0m\n",
      "\u001b[34m[145]#011train-rmse:0.22672#011validation-rmse:0.318873\u001b[0m\n",
      "\u001b[34m[22:59:03] src/tree/updater_prune.cc:74: tree pruning end, 1 roots, 36 extra nodes, 12 pruned nodes, max_depth=9\u001b[0m\n",
      "\u001b[34m[146]#011train-rmse:0.226243#011validation-rmse:0.318874\u001b[0m\n",
      "\u001b[34m[22:59:06] src/tree/updater_prune.cc:74: tree pruning end, 1 roots, 38 extra nodes, 14 pruned nodes, max_depth=9\u001b[0m\n",
      "\u001b[34m[147]#011train-rmse:0.225828#011validation-rmse:0.318923\u001b[0m\n",
      "\u001b[34m[22:59:08] src/tree/updater_prune.cc:74: tree pruning end, 1 roots, 52 extra nodes, 12 pruned nodes, max_depth=9\u001b[0m\n",
      "\u001b[34m[148]#011train-rmse:0.225157#011validation-rmse:0.318787\u001b[0m\n",
      "\u001b[34m[22:59:11] src/tree/updater_prune.cc:74: tree pruning end, 1 roots, 24 extra nodes, 6 pruned nodes, max_depth=9\u001b[0m\n",
      "\u001b[34m[149]#011train-rmse:0.224832#011validation-rmse:0.318766\u001b[0m\n",
      "\u001b[34m[22:59:14] src/tree/updater_prune.cc:74: tree pruning end, 1 roots, 30 extra nodes, 14 pruned nodes, max_depth=9\u001b[0m\n",
      "\u001b[34m[150]#011train-rmse:0.224468#011validation-rmse:0.318629\u001b[0m\n",
      "\u001b[34m[22:59:16] src/tree/updater_prune.cc:74: tree pruning end, 1 roots, 22 extra nodes, 10 pruned nodes, max_depth=9\u001b[0m\n",
      "\u001b[34m[151]#011train-rmse:0.22421#011validation-rmse:0.318511\u001b[0m\n",
      "\u001b[34m[22:59:19] src/tree/updater_prune.cc:74: tree pruning end, 1 roots, 36 extra nodes, 12 pruned nodes, max_depth=9\u001b[0m\n",
      "\u001b[34m[152]#011train-rmse:0.223751#011validation-rmse:0.318232\u001b[0m\n",
      "\u001b[34m[22:59:22] src/tree/updater_prune.cc:74: tree pruning end, 1 roots, 38 extra nodes, 4 pruned nodes, max_depth=9\u001b[0m\n",
      "\u001b[34m[153]#011train-rmse:0.223277#011validation-rmse:0.318179\u001b[0m\n",
      "\u001b[34m[22:59:24] src/tree/updater_prune.cc:74: tree pruning end, 1 roots, 20 extra nodes, 8 pruned nodes, max_depth=9\u001b[0m\n",
      "\u001b[34m[154]#011train-rmse:0.223043#011validation-rmse:0.318189\u001b[0m\n",
      "\u001b[34m[22:59:27] src/tree/updater_prune.cc:74: tree pruning end, 1 roots, 34 extra nodes, 16 pruned nodes, max_depth=9\u001b[0m\n",
      "\u001b[34m[155]#011train-rmse:0.222663#011validation-rmse:0.318127\u001b[0m\n",
      "\u001b[34m[22:59:30] src/tree/updater_prune.cc:74: tree pruning end, 1 roots, 32 extra nodes, 12 pruned nodes, max_depth=9\u001b[0m\n",
      "\u001b[34m[156]#011train-rmse:0.22232#011validation-rmse:0.317968\u001b[0m\n",
      "\u001b[34m[22:59:32] src/tree/updater_prune.cc:74: tree pruning end, 1 roots, 44 extra nodes, 14 pruned nodes, max_depth=9\u001b[0m\n",
      "\u001b[34m[157]#011train-rmse:0.221875#011validation-rmse:0.317722\u001b[0m\n",
      "\u001b[34m[22:59:35] src/tree/updater_prune.cc:74: tree pruning end, 1 roots, 38 extra nodes, 6 pruned nodes, max_depth=9\u001b[0m\n",
      "\u001b[34m[158]#011train-rmse:0.221333#011validation-rmse:0.31754\u001b[0m\n",
      "\u001b[34m[22:59:38] src/tree/updater_prune.cc:74: tree pruning end, 1 roots, 36 extra nodes, 10 pruned nodes, max_depth=9\u001b[0m\n",
      "\u001b[34m[159]#011train-rmse:0.220908#011validation-rmse:0.317313\u001b[0m\n",
      "\u001b[34m[22:59:40] src/tree/updater_prune.cc:74: tree pruning end, 1 roots, 32 extra nodes, 8 pruned nodes, max_depth=9\u001b[0m\n",
      "\u001b[34m[160]#011train-rmse:0.220568#011validation-rmse:0.317217\u001b[0m\n",
      "\u001b[34m[22:59:43] src/tree/updater_prune.cc:74: tree pruning end, 1 roots, 28 extra nodes, 18 pruned nodes, max_depth=9\u001b[0m\n",
      "\u001b[34m[161]#011train-rmse:0.220303#011validation-rmse:0.317147\u001b[0m\n",
      "\u001b[34m[22:59:46] src/tree/updater_prune.cc:74: tree pruning end, 1 roots, 28 extra nodes, 4 pruned nodes, max_depth=9\u001b[0m\n",
      "\u001b[34m[162]#011train-rmse:0.219946#011validation-rmse:0.317162\u001b[0m\n",
      "\u001b[34m[22:59:48] src/tree/updater_prune.cc:74: tree pruning end, 1 roots, 26 extra nodes, 4 pruned nodes, max_depth=9\u001b[0m\n",
      "\u001b[34m[163]#011train-rmse:0.219635#011validation-rmse:0.316982\u001b[0m\n",
      "\u001b[34m[22:59:51] src/tree/updater_prune.cc:74: tree pruning end, 1 roots, 26 extra nodes, 6 pruned nodes, max_depth=9\u001b[0m\n",
      "\u001b[34m[164]#011train-rmse:0.219343#011validation-rmse:0.316878\u001b[0m\n",
      "\u001b[34m[22:59:53] src/tree/updater_prune.cc:74: tree pruning end, 1 roots, 22 extra nodes, 4 pruned nodes, max_depth=9\u001b[0m\n",
      "\u001b[34m[165]#011train-rmse:0.219005#011validation-rmse:0.316821\u001b[0m\n",
      "\u001b[34m[22:59:56] src/tree/updater_prune.cc:74: tree pruning end, 1 roots, 30 extra nodes, 8 pruned nodes, max_depth=9\u001b[0m\n",
      "\u001b[34m[166]#011train-rmse:0.218654#011validation-rmse:0.316863\u001b[0m\n",
      "\u001b[34m[22:59:59] src/tree/updater_prune.cc:74: tree pruning end, 1 roots, 34 extra nodes, 14 pruned nodes, max_depth=9\u001b[0m\n",
      "\u001b[34m[167]#011train-rmse:0.218271#011validation-rmse:0.31681\u001b[0m\n",
      "\u001b[34m[23:00:01] src/tree/updater_prune.cc:74: tree pruning end, 1 roots, 32 extra nodes, 6 pruned nodes, max_depth=9\u001b[0m\n",
      "\u001b[34m[168]#011train-rmse:0.217942#011validation-rmse:0.316599\u001b[0m\n",
      "\u001b[34m[23:00:04] src/tree/updater_prune.cc:74: tree pruning end, 1 roots, 26 extra nodes, 2 pruned nodes, max_depth=9\u001b[0m\n",
      "\u001b[34m[169]#011train-rmse:0.217676#011validation-rmse:0.316467\u001b[0m\n",
      "\u001b[34m[23:00:07] src/tree/updater_prune.cc:74: tree pruning end, 1 roots, 42 extra nodes, 12 pruned nodes, max_depth=9\u001b[0m\n",
      "\u001b[34m[170]#011train-rmse:0.217051#011validation-rmse:0.316427\u001b[0m\n",
      "\u001b[34m[23:00:09] src/tree/updater_prune.cc:74: tree pruning end, 1 roots, 40 extra nodes, 12 pruned nodes, max_depth=9\u001b[0m\n",
      "\u001b[34m[171]#011train-rmse:0.216614#011validation-rmse:0.316405\u001b[0m\n",
      "\u001b[34m[23:00:12] src/tree/updater_prune.cc:74: tree pruning end, 1 roots, 28 extra nodes, 12 pruned nodes, max_depth=9\u001b[0m\n",
      "\u001b[34m[172]#011train-rmse:0.216153#011validation-rmse:0.316443\u001b[0m\n",
      "\u001b[34m[23:00:15] src/tree/updater_prune.cc:74: tree pruning end, 1 roots, 26 extra nodes, 6 pruned nodes, max_depth=9\u001b[0m\n",
      "\u001b[34m[173]#011train-rmse:0.215811#011validation-rmse:0.3163\u001b[0m\n",
      "\u001b[34m[23:00:17] src/tree/updater_prune.cc:74: tree pruning end, 1 roots, 22 extra nodes, 4 pruned nodes, max_depth=9\u001b[0m\n",
      "\u001b[34m[174]#011train-rmse:0.215506#011validation-rmse:0.316286\u001b[0m\n",
      "\u001b[34m[23:00:20] src/tree/updater_prune.cc:74: tree pruning end, 1 roots, 22 extra nodes, 6 pruned nodes, max_depth=9\u001b[0m\n",
      "\u001b[34m[175]#011train-rmse:0.215215#011validation-rmse:0.316254\u001b[0m\n",
      "\u001b[34m[23:00:22] src/tree/updater_prune.cc:74: tree pruning end, 1 roots, 30 extra nodes, 10 pruned nodes, max_depth=9\u001b[0m\n",
      "\u001b[34m[176]#011train-rmse:0.214907#011validation-rmse:0.316186\u001b[0m\n",
      "\u001b[34m[23:00:25] src/tree/updater_prune.cc:74: tree pruning end, 1 roots, 18 extra nodes, 12 pruned nodes, max_depth=9\u001b[0m\n",
      "\u001b[34m[177]#011train-rmse:0.21466#011validation-rmse:0.316206\u001b[0m\n",
      "\u001b[34m[23:00:28] src/tree/updater_prune.cc:74: tree pruning end, 1 roots, 26 extra nodes, 4 pruned nodes, max_depth=9\u001b[0m\n",
      "\u001b[34m[178]#011train-rmse:0.214369#011validation-rmse:0.316091\u001b[0m\n",
      "\u001b[34m[23:00:30] src/tree/updater_prune.cc:74: tree pruning end, 1 roots, 20 extra nodes, 8 pruned nodes, max_depth=9\u001b[0m\n",
      "\u001b[34m[179]#011train-rmse:0.214146#011validation-rmse:0.316005\u001b[0m\n",
      "\u001b[34m[23:00:33] src/tree/updater_prune.cc:74: tree pruning end, 1 roots, 32 extra nodes, 14 pruned nodes, max_depth=9\u001b[0m\n",
      "\u001b[34m[180]#011train-rmse:0.213844#011validation-rmse:0.316015\u001b[0m\n",
      "\u001b[34m[23:00:36] src/tree/updater_prune.cc:74: tree pruning end, 1 roots, 32 extra nodes, 16 pruned nodes, max_depth=9\u001b[0m\n",
      "\u001b[34m[181]#011train-rmse:0.213529#011validation-rmse:0.316059\u001b[0m\n",
      "\u001b[34m[23:00:38] src/tree/updater_prune.cc:74: tree pruning end, 1 roots, 32 extra nodes, 18 pruned nodes, max_depth=9\u001b[0m\n",
      "\u001b[34m[182]#011train-rmse:0.213143#011validation-rmse:0.315839\u001b[0m\n",
      "\u001b[34m[23:00:41] src/tree/updater_prune.cc:74: tree pruning end, 1 roots, 30 extra nodes, 4 pruned nodes, max_depth=9\u001b[0m\n",
      "\u001b[34m[183]#011train-rmse:0.212772#011validation-rmse:0.315861\u001b[0m\n",
      "\u001b[34m[23:00:44] src/tree/updater_prune.cc:74: tree pruning end, 1 roots, 32 extra nodes, 14 pruned nodes, max_depth=9\u001b[0m\n",
      "\u001b[34m[184]#011train-rmse:0.212354#011validation-rmse:0.31592\u001b[0m\n",
      "\u001b[34m[23:00:46] src/tree/updater_prune.cc:74: tree pruning end, 1 roots, 26 extra nodes, 4 pruned nodes, max_depth=9\u001b[0m\n",
      "\u001b[34m[185]#011train-rmse:0.212025#011validation-rmse:0.315811\u001b[0m\n",
      "\u001b[34m[23:00:49] src/tree/updater_prune.cc:74: tree pruning end, 1 roots, 20 extra nodes, 6 pruned nodes, max_depth=9\u001b[0m\n",
      "\u001b[34m[186]#011train-rmse:0.211846#011validation-rmse:0.31572\u001b[0m\n",
      "\u001b[34m[23:00:52] src/tree/updater_prune.cc:74: tree pruning end, 1 roots, 24 extra nodes, 6 pruned nodes, max_depth=9\u001b[0m\n",
      "\u001b[34m[187]#011train-rmse:0.211533#011validation-rmse:0.31571\u001b[0m\n",
      "\u001b[34m[23:00:54] src/tree/updater_prune.cc:74: tree pruning end, 1 roots, 28 extra nodes, 10 pruned nodes, max_depth=9\u001b[0m\n",
      "\u001b[34m[188]#011train-rmse:0.211259#011validation-rmse:0.315602\u001b[0m\n",
      "\u001b[34m[23:00:57] src/tree/updater_prune.cc:74: tree pruning end, 1 roots, 34 extra nodes, 16 pruned nodes, max_depth=9\u001b[0m\n",
      "\u001b[34m[189]#011train-rmse:0.210907#011validation-rmse:0.315599\u001b[0m\n",
      "\u001b[34m[23:01:00] src/tree/updater_prune.cc:74: tree pruning end, 1 roots, 38 extra nodes, 14 pruned nodes, max_depth=9\u001b[0m\n",
      "\u001b[34m[190]#011train-rmse:0.21045#011validation-rmse:0.315552\u001b[0m\n",
      "\u001b[34m[23:01:02] src/tree/updater_prune.cc:74: tree pruning end, 1 roots, 32 extra nodes, 6 pruned nodes, max_depth=9\u001b[0m\n",
      "\u001b[34m[191]#011train-rmse:0.21018#011validation-rmse:0.315517\u001b[0m\n",
      "\u001b[34m[23:01:05] src/tree/updater_prune.cc:74: tree pruning end, 1 roots, 26 extra nodes, 6 pruned nodes, max_depth=9\u001b[0m\n",
      "\u001b[34m[192]#011train-rmse:0.209941#011validation-rmse:0.31555\u001b[0m\n",
      "\u001b[34m[23:01:08] src/tree/updater_prune.cc:74: tree pruning end, 1 roots, 22 extra nodes, 10 pruned nodes, max_depth=9\u001b[0m\n",
      "\u001b[34m[193]#011train-rmse:0.20969#011validation-rmse:0.315411\u001b[0m\n",
      "\u001b[34m[23:01:10] src/tree/updater_prune.cc:74: tree pruning end, 1 roots, 26 extra nodes, 12 pruned nodes, max_depth=9\u001b[0m\n",
      "\u001b[34m[194]#011train-rmse:0.209446#011validation-rmse:0.315464\u001b[0m\n",
      "\u001b[34m[23:01:13] src/tree/updater_prune.cc:74: tree pruning end, 1 roots, 32 extra nodes, 14 pruned nodes, max_depth=9\u001b[0m\n",
      "\u001b[34m[195]#011train-rmse:0.209192#011validation-rmse:0.315567\u001b[0m\n",
      "\u001b[34m[23:01:16] src/tree/updater_prune.cc:74: tree pruning end, 1 roots, 34 extra nodes, 12 pruned nodes, max_depth=9\u001b[0m\n",
      "\u001b[34m[196]#011train-rmse:0.208829#011validation-rmse:0.315408\u001b[0m\n",
      "\u001b[34m[23:01:18] src/tree/updater_prune.cc:74: tree pruning end, 1 roots, 34 extra nodes, 16 pruned nodes, max_depth=9\u001b[0m\n",
      "\u001b[34m[197]#011train-rmse:0.208462#011validation-rmse:0.315429\u001b[0m\n",
      "\u001b[34m[23:01:21] src/tree/updater_prune.cc:74: tree pruning end, 1 roots, 30 extra nodes, 2 pruned nodes, max_depth=9\u001b[0m\n",
      "\u001b[34m[198]#011train-rmse:0.208031#011validation-rmse:0.315442\u001b[0m\n",
      "\u001b[34m[23:01:23] src/tree/updater_prune.cc:74: tree pruning end, 1 roots, 26 extra nodes, 10 pruned nodes, max_depth=9\u001b[0m\n",
      "\u001b[34m[199]#011train-rmse:0.207704#011validation-rmse:0.315499\u001b[0m\n",
      "Training seconds: 599\n",
      "Billable seconds: 599\n"
     ]
    }
   ],
   "source": [
    "# TODO: Create a new estimator object attached to the best training job found during hyperparameter tuning\n",
    "\n",
    "xgb_attached =sagemaker.estimator.Estimator.attach(xgb_hyperparameter_tuner.best_training_job())\n"
   ]
  },
  {
   "cell_type": "markdown",
   "metadata": {},
   "source": [
    "Now that we have an estimator object attached to the correct training job, we can proceed as we normally would and create a transformer object."
   ]
  },
  {
   "cell_type": "code",
   "execution_count": 24,
   "metadata": {},
   "outputs": [
    {
     "name": "stderr",
     "output_type": "stream",
     "text": [
      "Parameter image will be renamed to image_uri in SageMaker Python SDK v2.\n"
     ]
    }
   ],
   "source": [
    "# TODO: Create a transformer object from the attached estimator. Using an instance count of 1 and an instance type of ml.m4.xlarge\n",
    "#       should be more than enough.\n",
    "\n",
    "xgb_transformer = xgb_attached.transformer(instance_count = 1, instance_type = 'ml.m4.xlarge')\n"
   ]
  },
  {
   "cell_type": "markdown",
   "metadata": {},
   "source": [
    "Next we actually perform the transform job. When doing so we need to make sure to specify the type of data we are sending so that it is serialized correctly in the background. In our case we are providing our model with csv data so we specify `text/csv`. Also, if the test data that we have provided is too large to process all at once then we need to specify how the data file should be split up. Since each line is a single entry in our data set we tell SageMaker that it can split the input on each line."
   ]
  },
  {
   "cell_type": "code",
   "execution_count": 30,
   "metadata": {},
   "outputs": [],
   "source": [
    "# TODO: Start the transform job. Make sure to specify the content type and the split type of the test data.\n",
    "xgb_transformer.transform(test_location, content_type='text/csv', split_type='Line')"
   ]
  },
  {
   "cell_type": "markdown",
   "metadata": {},
   "source": [
    "Currently the transform job is running but it is doing so in the background. Since we wish to wait until the transform job is done and we would like a bit of feedback we can run the `wait()` method."
   ]
  },
  {
   "cell_type": "code",
   "execution_count": 31,
   "metadata": {},
   "outputs": [
    {
     "name": "stdout",
     "output_type": "stream",
     "text": [
      "..............................\u001b[32m2020-09-29T23:23:45.609:[sagemaker logs]: MaxConcurrentTransforms=4, MaxPayloadInMB=6, BatchStrategy=MULTI_RECORD\u001b[0m\n",
      "\u001b[34mArguments: serve\u001b[0m\n",
      "\u001b[34m[2020-09-29 23:23:45 +0000] [1] [INFO] Starting gunicorn 19.7.1\u001b[0m\n",
      "\u001b[34m[2020-09-29 23:23:45 +0000] [1] [INFO] Listening at: http://0.0.0.0:8080 (1)\u001b[0m\n",
      "\u001b[34m[2020-09-29 23:23:45 +0000] [1] [INFO] Using worker: gevent\u001b[0m\n",
      "\u001b[34m[2020-09-29 23:23:45 +0000] [36] [INFO] Booting worker with pid: 36\u001b[0m\n",
      "\u001b[34m[2020-09-29 23:23:45 +0000] [37] [INFO] Booting worker with pid: 37\u001b[0m\n",
      "\u001b[34m[2020-09-29 23:23:45 +0000] [38] [INFO] Booting worker with pid: 38\u001b[0m\n",
      "\u001b[34m[2020-09-29 23:23:45 +0000] [39] [INFO] Booting worker with pid: 39\u001b[0m\n",
      "\u001b[34m[2020-09-29:23:23:45:INFO] Model loaded successfully for worker : 37\u001b[0m\n",
      "\u001b[34m[2020-09-29:23:23:45:INFO] Model loaded successfully for worker : 36\u001b[0m\n",
      "\u001b[35mArguments: serve\u001b[0m\n",
      "\u001b[35m[2020-09-29 23:23:45 +0000] [1] [INFO] Starting gunicorn 19.7.1\u001b[0m\n",
      "\u001b[35m[2020-09-29 23:23:45 +0000] [1] [INFO] Listening at: http://0.0.0.0:8080 (1)\u001b[0m\n",
      "\u001b[35m[2020-09-29 23:23:45 +0000] [1] [INFO] Using worker: gevent\u001b[0m\n",
      "\u001b[35m[2020-09-29 23:23:45 +0000] [36] [INFO] Booting worker with pid: 36\u001b[0m\n",
      "\u001b[35m[2020-09-29 23:23:45 +0000] [37] [INFO] Booting worker with pid: 37\u001b[0m\n",
      "\u001b[35m[2020-09-29 23:23:45 +0000] [38] [INFO] Booting worker with pid: 38\u001b[0m\n",
      "\u001b[35m[2020-09-29 23:23:45 +0000] [39] [INFO] Booting worker with pid: 39\u001b[0m\n",
      "\u001b[35m[2020-09-29:23:23:45:INFO] Model loaded successfully for worker : 37\u001b[0m\n",
      "\u001b[35m[2020-09-29:23:23:45:INFO] Model loaded successfully for worker : 36\u001b[0m\n",
      "\u001b[34m[2020-09-29:23:23:45:INFO] Model loaded successfully for worker : 38\u001b[0m\n",
      "\u001b[34m[2020-09-29:23:23:45:INFO] Model loaded successfully for worker : 39\u001b[0m\n",
      "\u001b[34m[2020-09-29:23:23:45:INFO] Sniff delimiter as ','\u001b[0m\n",
      "\u001b[34m[2020-09-29:23:23:45:INFO] Determined delimiter of CSV input is ','\u001b[0m\n",
      "\u001b[34m[2020-09-29:23:23:45:INFO] Sniff delimiter as ','\u001b[0m\n",
      "\u001b[34m[2020-09-29:23:23:45:INFO] Determined delimiter of CSV input is ','\u001b[0m\n",
      "\u001b[34m[2020-09-29:23:23:46:INFO] Sniff delimiter as ','\u001b[0m\n",
      "\u001b[34m[2020-09-29:23:23:46:INFO] Determined delimiter of CSV input is ','\u001b[0m\n",
      "\u001b[34m[2020-09-29:23:23:46:INFO] Sniff delimiter as ','\u001b[0m\n",
      "\u001b[34m[2020-09-29:23:23:46:INFO] Determined delimiter of CSV input is ','\u001b[0m\n",
      "\u001b[35m[2020-09-29:23:23:45:INFO] Model loaded successfully for worker : 38\u001b[0m\n",
      "\u001b[35m[2020-09-29:23:23:45:INFO] Model loaded successfully for worker : 39\u001b[0m\n",
      "\u001b[35m[2020-09-29:23:23:45:INFO] Sniff delimiter as ','\u001b[0m\n",
      "\u001b[35m[2020-09-29:23:23:45:INFO] Determined delimiter of CSV input is ','\u001b[0m\n",
      "\u001b[35m[2020-09-29:23:23:45:INFO] Sniff delimiter as ','\u001b[0m\n",
      "\u001b[35m[2020-09-29:23:23:45:INFO] Determined delimiter of CSV input is ','\u001b[0m\n",
      "\u001b[35m[2020-09-29:23:23:46:INFO] Sniff delimiter as ','\u001b[0m\n",
      "\u001b[35m[2020-09-29:23:23:46:INFO] Determined delimiter of CSV input is ','\u001b[0m\n",
      "\u001b[35m[2020-09-29:23:23:46:INFO] Sniff delimiter as ','\u001b[0m\n",
      "\u001b[35m[2020-09-29:23:23:46:INFO] Determined delimiter of CSV input is ','\u001b[0m\n",
      "\u001b[34m[2020-09-29:23:23:48:INFO] Sniff delimiter as ','\u001b[0m\n",
      "\u001b[34m[2020-09-29:23:23:48:INFO] Determined delimiter of CSV input is ','\u001b[0m\n",
      "\u001b[34m[2020-09-29:23:23:48:INFO] Sniff delimiter as ','\u001b[0m\n",
      "\u001b[34m[2020-09-29:23:23:48:INFO] Determined delimiter of CSV input is ','\u001b[0m\n",
      "\u001b[34m[2020-09-29:23:23:48:INFO] Sniff delimiter as ','\u001b[0m\n",
      "\u001b[34m[2020-09-29:23:23:48:INFO] Determined delimiter of CSV input is ','\u001b[0m\n",
      "\u001b[34m[2020-09-29:23:23:48:INFO] Sniff delimiter as ','\u001b[0m\n",
      "\u001b[34m[2020-09-29:23:23:48:INFO] Determined delimiter of CSV input is ','\u001b[0m\n",
      "\u001b[35m[2020-09-29:23:23:48:INFO] Sniff delimiter as ','\u001b[0m\n",
      "\u001b[35m[2020-09-29:23:23:48:INFO] Determined delimiter of CSV input is ','\u001b[0m\n",
      "\u001b[35m[2020-09-29:23:23:48:INFO] Sniff delimiter as ','\u001b[0m\n",
      "\u001b[35m[2020-09-29:23:23:48:INFO] Determined delimiter of CSV input is ','\u001b[0m\n",
      "\u001b[35m[2020-09-29:23:23:48:INFO] Sniff delimiter as ','\u001b[0m\n",
      "\u001b[35m[2020-09-29:23:23:48:INFO] Determined delimiter of CSV input is ','\u001b[0m\n",
      "\u001b[35m[2020-09-29:23:23:48:INFO] Sniff delimiter as ','\u001b[0m\n",
      "\u001b[35m[2020-09-29:23:23:48:INFO] Determined delimiter of CSV input is ','\u001b[0m\n",
      "\u001b[34m[2020-09-29:23:23:50:INFO] Sniff delimiter as ','\u001b[0m\n",
      "\u001b[34m[2020-09-29:23:23:50:INFO] Determined delimiter of CSV input is ','\u001b[0m\n",
      "\u001b[34m[2020-09-29:23:23:50:INFO] Sniff delimiter as ','\u001b[0m\n",
      "\u001b[34m[2020-09-29:23:23:50:INFO] Determined delimiter of CSV input is ','\u001b[0m\n",
      "\u001b[34m[2020-09-29:23:23:51:INFO] Sniff delimiter as ','\u001b[0m\n",
      "\u001b[34m[2020-09-29:23:23:51:INFO] Determined delimiter of CSV input is ','\u001b[0m\n",
      "\u001b[35m[2020-09-29:23:23:50:INFO] Sniff delimiter as ','\u001b[0m\n",
      "\u001b[35m[2020-09-29:23:23:50:INFO] Determined delimiter of CSV input is ','\u001b[0m\n",
      "\u001b[35m[2020-09-29:23:23:50:INFO] Sniff delimiter as ','\u001b[0m\n",
      "\u001b[35m[2020-09-29:23:23:50:INFO] Determined delimiter of CSV input is ','\u001b[0m\n",
      "\u001b[35m[2020-09-29:23:23:51:INFO] Sniff delimiter as ','\u001b[0m\n",
      "\u001b[35m[2020-09-29:23:23:51:INFO] Determined delimiter of CSV input is ','\u001b[0m\n",
      "\u001b[34m[2020-09-29:23:23:51:INFO] Sniff delimiter as ','\u001b[0m\n",
      "\u001b[34m[2020-09-29:23:23:51:INFO] Determined delimiter of CSV input is ','\u001b[0m\n",
      "\u001b[35m[2020-09-29:23:23:51:INFO] Sniff delimiter as ','\u001b[0m\n",
      "\u001b[35m[2020-09-29:23:23:51:INFO] Determined delimiter of CSV input is ','\u001b[0m\n",
      "\u001b[34m[2020-09-29:23:23:53:INFO] Sniff delimiter as ','\u001b[0m\n",
      "\u001b[34m[2020-09-29:23:23:53:INFO] Determined delimiter of CSV input is ','\u001b[0m\n",
      "\u001b[34m[2020-09-29:23:23:53:INFO] Sniff delimiter as ','\u001b[0m\n",
      "\u001b[34m[2020-09-29:23:23:53:INFO] Determined delimiter of CSV input is ','\u001b[0m\n",
      "\u001b[34m[2020-09-29:23:23:53:INFO] Sniff delimiter as ','\u001b[0m\n",
      "\u001b[34m[2020-09-29:23:23:53:INFO] Determined delimiter of CSV input is ','\u001b[0m\n",
      "\u001b[35m[2020-09-29:23:23:53:INFO] Sniff delimiter as ','\u001b[0m\n",
      "\u001b[35m[2020-09-29:23:23:53:INFO] Determined delimiter of CSV input is ','\u001b[0m\n",
      "\u001b[35m[2020-09-29:23:23:53:INFO] Sniff delimiter as ','\u001b[0m\n",
      "\u001b[35m[2020-09-29:23:23:53:INFO] Determined delimiter of CSV input is ','\u001b[0m\n",
      "\u001b[35m[2020-09-29:23:23:53:INFO] Sniff delimiter as ','\u001b[0m\n",
      "\u001b[35m[2020-09-29:23:23:53:INFO] Determined delimiter of CSV input is ','\u001b[0m\n",
      "\u001b[34m[2020-09-29:23:23:55:INFO] Sniff delimiter as ','\u001b[0m\n",
      "\u001b[34m[2020-09-29:23:23:55:INFO] Determined delimiter of CSV input is ','\u001b[0m\n",
      "\u001b[34m[2020-09-29:23:23:56:INFO] Sniff delimiter as ','\u001b[0m\n",
      "\u001b[34m[2020-09-29:23:23:56:INFO] Determined delimiter of CSV input is ','\u001b[0m\n",
      "\u001b[34m[2020-09-29:23:23:56:INFO] Sniff delimiter as ','\u001b[0m\n",
      "\u001b[34m[2020-09-29:23:23:56:INFO] Determined delimiter of CSV input is ','\u001b[0m\n",
      "\u001b[35m[2020-09-29:23:23:55:INFO] Sniff delimiter as ','\u001b[0m\n",
      "\u001b[35m[2020-09-29:23:23:55:INFO] Determined delimiter of CSV input is ','\u001b[0m\n",
      "\u001b[35m[2020-09-29:23:23:56:INFO] Sniff delimiter as ','\u001b[0m\n",
      "\u001b[35m[2020-09-29:23:23:56:INFO] Determined delimiter of CSV input is ','\u001b[0m\n",
      "\u001b[35m[2020-09-29:23:23:56:INFO] Sniff delimiter as ','\u001b[0m\n",
      "\u001b[35m[2020-09-29:23:23:56:INFO] Determined delimiter of CSV input is ','\u001b[0m\n",
      "\u001b[34m[2020-09-29:23:23:56:INFO] Sniff delimiter as ','\u001b[0m\n",
      "\u001b[34m[2020-09-29:23:23:56:INFO] Determined delimiter of CSV input is ','\u001b[0m\n",
      "\u001b[35m[2020-09-29:23:23:56:INFO] Sniff delimiter as ','\u001b[0m\n",
      "\u001b[35m[2020-09-29:23:23:56:INFO] Determined delimiter of CSV input is ','\u001b[0m\n",
      "\u001b[34m[2020-09-29:23:23:58:INFO] Sniff delimiter as ','\u001b[0m\n",
      "\u001b[34m[2020-09-29:23:23:58:INFO] Determined delimiter of CSV input is ','\u001b[0m\n",
      "\u001b[34m[2020-09-29:23:23:58:INFO] Sniff delimiter as ','\u001b[0m\n",
      "\u001b[34m[2020-09-29:23:23:58:INFO] Determined delimiter of CSV input is ','\u001b[0m\n",
      "\u001b[34m[2020-09-29:23:23:58:INFO] Sniff delimiter as ','\u001b[0m\n",
      "\u001b[34m[2020-09-29:23:23:58:INFO] Determined delimiter of CSV input is ','\u001b[0m\n",
      "\u001b[34m[2020-09-29:23:23:58:INFO] Sniff delimiter as ','\u001b[0m\n",
      "\u001b[34m[2020-09-29:23:23:58:INFO] Determined delimiter of CSV input is ','\u001b[0m\n",
      "\u001b[35m[2020-09-29:23:23:58:INFO] Sniff delimiter as ','\u001b[0m\n",
      "\u001b[35m[2020-09-29:23:23:58:INFO] Determined delimiter of CSV input is ','\u001b[0m\n",
      "\u001b[35m[2020-09-29:23:23:58:INFO] Sniff delimiter as ','\u001b[0m\n",
      "\u001b[35m[2020-09-29:23:23:58:INFO] Determined delimiter of CSV input is ','\u001b[0m\n",
      "\u001b[35m[2020-09-29:23:23:58:INFO] Sniff delimiter as ','\u001b[0m\n",
      "\u001b[35m[2020-09-29:23:23:58:INFO] Determined delimiter of CSV input is ','\u001b[0m\n",
      "\u001b[35m[2020-09-29:23:23:58:INFO] Sniff delimiter as ','\u001b[0m\n",
      "\u001b[35m[2020-09-29:23:23:58:INFO] Determined delimiter of CSV input is ','\u001b[0m\n",
      "\u001b[34m[2020-09-29:23:24:00:INFO] Sniff delimiter as ','\u001b[0m\n",
      "\u001b[34m[2020-09-29:23:24:00:INFO] Determined delimiter of CSV input is ','\u001b[0m\n",
      "\u001b[34m[2020-09-29:23:24:00:INFO] Sniff delimiter as ','\u001b[0m\n",
      "\u001b[34m[2020-09-29:23:24:00:INFO] Determined delimiter of CSV input is ','\u001b[0m\n",
      "\u001b[34m[2020-09-29:23:24:00:INFO] Sniff delimiter as ','\u001b[0m\n",
      "\u001b[34m[2020-09-29:23:24:00:INFO] Determined delimiter of CSV input is ','\u001b[0m\n",
      "\u001b[34m[2020-09-29:23:24:01:INFO] Sniff delimiter as ','\u001b[0m\n",
      "\u001b[34m[2020-09-29:23:24:01:INFO] Determined delimiter of CSV input is ','\u001b[0m\n",
      "\u001b[35m[2020-09-29:23:24:00:INFO] Sniff delimiter as ','\u001b[0m\n",
      "\u001b[35m[2020-09-29:23:24:00:INFO] Determined delimiter of CSV input is ','\u001b[0m\n",
      "\u001b[35m[2020-09-29:23:24:00:INFO] Sniff delimiter as ','\u001b[0m\n",
      "\u001b[35m[2020-09-29:23:24:00:INFO] Determined delimiter of CSV input is ','\u001b[0m\n",
      "\u001b[35m[2020-09-29:23:24:00:INFO] Sniff delimiter as ','\u001b[0m\n",
      "\u001b[35m[2020-09-29:23:24:00:INFO] Determined delimiter of CSV input is ','\u001b[0m\n",
      "\u001b[35m[2020-09-29:23:24:01:INFO] Sniff delimiter as ','\u001b[0m\n",
      "\u001b[35m[2020-09-29:23:24:01:INFO] Determined delimiter of CSV input is ','\u001b[0m\n",
      "\u001b[34m[2020-09-29:23:24:03:INFO] Sniff delimiter as ','\u001b[0m\n",
      "\u001b[34m[2020-09-29:23:24:03:INFO] Determined delimiter of CSV input is ','\u001b[0m\n",
      "\u001b[34m[2020-09-29:23:24:03:INFO] Sniff delimiter as ','\u001b[0m\n",
      "\u001b[34m[2020-09-29:23:24:03:INFO] Determined delimiter of CSV input is ','\u001b[0m\n",
      "\u001b[35m[2020-09-29:23:24:03:INFO] Sniff delimiter as ','\u001b[0m\n",
      "\u001b[35m[2020-09-29:23:24:03:INFO] Determined delimiter of CSV input is ','\u001b[0m\n",
      "\u001b[35m[2020-09-29:23:24:03:INFO] Sniff delimiter as ','\u001b[0m\n",
      "\u001b[35m[2020-09-29:23:24:03:INFO] Determined delimiter of CSV input is ','\u001b[0m\n"
     ]
    },
    {
     "name": "stdout",
     "output_type": "stream",
     "text": [
      "\u001b[34m[2020-09-29:23:24:05:INFO] Sniff delimiter as ','\u001b[0m\n",
      "\u001b[34m[2020-09-29:23:24:05:INFO] Determined delimiter of CSV input is ','\u001b[0m\n",
      "\u001b[35m[2020-09-29:23:24:05:INFO] Sniff delimiter as ','\u001b[0m\n",
      "\u001b[35m[2020-09-29:23:24:05:INFO] Determined delimiter of CSV input is ','\u001b[0m\n",
      "\u001b[34m[2020-09-29:23:24:05:INFO] Sniff delimiter as ','\u001b[0m\n",
      "\u001b[34m[2020-09-29:23:24:05:INFO] Determined delimiter of CSV input is ','\u001b[0m\n",
      "\u001b[34m[2020-09-29:23:24:05:INFO] Sniff delimiter as ','\u001b[0m\n",
      "\u001b[34m[2020-09-29:23:24:05:INFO] Determined delimiter of CSV input is ','\u001b[0m\n",
      "\u001b[34m[2020-09-29:23:24:06:INFO] Sniff delimiter as ','\u001b[0m\n",
      "\u001b[34m[2020-09-29:23:24:06:INFO] Determined delimiter of CSV input is ','\u001b[0m\n",
      "\u001b[35m[2020-09-29:23:24:05:INFO] Sniff delimiter as ','\u001b[0m\n",
      "\u001b[35m[2020-09-29:23:24:05:INFO] Determined delimiter of CSV input is ','\u001b[0m\n",
      "\u001b[35m[2020-09-29:23:24:05:INFO] Sniff delimiter as ','\u001b[0m\n",
      "\u001b[35m[2020-09-29:23:24:05:INFO] Determined delimiter of CSV input is ','\u001b[0m\n",
      "\u001b[35m[2020-09-29:23:24:06:INFO] Sniff delimiter as ','\u001b[0m\n",
      "\u001b[35m[2020-09-29:23:24:06:INFO] Determined delimiter of CSV input is ','\u001b[0m\n",
      "\u001b[34m[2020-09-29:23:24:08:INFO] Sniff delimiter as ','\u001b[0m\n",
      "\u001b[35m[2020-09-29:23:24:08:INFO] Sniff delimiter as ','\u001b[0m\n",
      "\u001b[34m[2020-09-29:23:24:08:INFO] Determined delimiter of CSV input is ','\u001b[0m\n",
      "\u001b[34m[2020-09-29:23:24:08:INFO] Sniff delimiter as ','\u001b[0m\n",
      "\u001b[34m[2020-09-29:23:24:08:INFO] Determined delimiter of CSV input is ','\u001b[0m\n",
      "\u001b[35m[2020-09-29:23:24:08:INFO] Determined delimiter of CSV input is ','\u001b[0m\n",
      "\u001b[35m[2020-09-29:23:24:08:INFO] Sniff delimiter as ','\u001b[0m\n",
      "\u001b[35m[2020-09-29:23:24:08:INFO] Determined delimiter of CSV input is ','\u001b[0m\n",
      "\u001b[34m[2020-09-29:23:24:08:INFO] Sniff delimiter as ','\u001b[0m\n",
      "\u001b[34m[2020-09-29:23:24:08:INFO] Determined delimiter of CSV input is ','\u001b[0m\n",
      "\u001b[34m[2020-09-29:23:24:08:INFO] Sniff delimiter as ','\u001b[0m\n",
      "\u001b[34m[2020-09-29:23:24:08:INFO] Determined delimiter of CSV input is ','\u001b[0m\n",
      "\u001b[35m[2020-09-29:23:24:08:INFO] Sniff delimiter as ','\u001b[0m\n",
      "\u001b[35m[2020-09-29:23:24:08:INFO] Determined delimiter of CSV input is ','\u001b[0m\n",
      "\u001b[35m[2020-09-29:23:24:08:INFO] Sniff delimiter as ','\u001b[0m\n",
      "\u001b[35m[2020-09-29:23:24:08:INFO] Determined delimiter of CSV input is ','\u001b[0m\n",
      "\n"
     ]
    }
   ],
   "source": [
    "xgb_transformer.wait()"
   ]
  },
  {
   "cell_type": "markdown",
   "metadata": {},
   "source": [
    "Now the transform job has executed and the result, the estimated sentiment of each review, has been saved on S3. Since we would rather work on this file locally we can perform a bit of notebook magic to copy the file to the `data_dir`."
   ]
  },
  {
   "cell_type": "code",
   "execution_count": 32,
   "metadata": {},
   "outputs": [
    {
     "name": "stdout",
     "output_type": "stream",
     "text": [
      "Completed 256.0 KiB/373.0 KiB (2.5 MiB/s) with 1 file(s) remaining\r",
      "Completed 373.0 KiB/373.0 KiB (3.6 MiB/s) with 1 file(s) remaining\r",
      "download: s3://sagemaker-us-east-2-428747017283/xgboost-200929-2203-020-43d89db8-2020-09-29-23-18-54-743/test.csv.out to ../data/xgboost/test.csv.out\r\n"
     ]
    }
   ],
   "source": [
    "!aws s3 cp --recursive $xgb_transformer.output_path $data_dir"
   ]
  },
  {
   "cell_type": "markdown",
   "metadata": {},
   "source": [
    "The last step is now to read in the output from our model, convert the output to something a little more usable, in this case we want the sentiment to be either `1` (positive) or `0` (negative), and then compare to the ground truth labels."
   ]
  },
  {
   "cell_type": "code",
   "execution_count": 33,
   "metadata": {},
   "outputs": [],
   "source": [
    "predictions = pd.read_csv(os.path.join(data_dir, 'test.csv.out'), header=None)\n",
    "predictions = [round(num) for num in predictions.squeeze().values]"
   ]
  },
  {
   "cell_type": "code",
   "execution_count": 34,
   "metadata": {},
   "outputs": [
    {
     "data": {
      "text/plain": [
       "0.86884"
      ]
     },
     "execution_count": 34,
     "metadata": {},
     "output_type": "execute_result"
    }
   ],
   "source": [
    "from sklearn.metrics import accuracy_score\n",
    "accuracy_score(test_y, predictions)"
   ]
  },
  {
   "cell_type": "markdown",
   "metadata": {},
   "source": [
    "## Optional: Clean up\n",
    "\n",
    "The default notebook instance on SageMaker doesn't have a lot of excess disk space available. As you continue to complete and execute notebooks you will eventually fill up this disk space, leading to errors which can be difficult to diagnose. Once you are completely finished using a notebook it is a good idea to remove the files that you created along the way. Of course, you can do this from the terminal or from the notebook hub if you would like. The cell below contains some commands to clean up the created files from within the notebook."
   ]
  },
  {
   "cell_type": "code",
   "execution_count": 35,
   "metadata": {},
   "outputs": [],
   "source": [
    "# First we will remove all of the files contained in the data_dir directory\n",
    "!rm $data_dir/*\n",
    "\n",
    "# And then we delete the directory itself\n",
    "!rmdir $data_dir\n",
    "\n",
    "# Similarly we will remove the files in the cache_dir directory and the directory itself\n",
    "!rm $cache_dir/*\n",
    "!rmdir $cache_dir"
   ]
  },
  {
   "cell_type": "code",
   "execution_count": null,
   "metadata": {},
   "outputs": [],
   "source": []
  }
 ],
 "metadata": {
  "kernelspec": {
   "display_name": "conda_python3",
   "language": "python",
   "name": "conda_python3"
  },
  "language_info": {
   "codemirror_mode": {
    "name": "ipython",
    "version": 3
   },
   "file_extension": ".py",
   "mimetype": "text/x-python",
   "name": "python",
   "nbconvert_exporter": "python",
   "pygments_lexer": "ipython3",
   "version": "3.6.10"
  }
 },
 "nbformat": 4,
 "nbformat_minor": 2
}
