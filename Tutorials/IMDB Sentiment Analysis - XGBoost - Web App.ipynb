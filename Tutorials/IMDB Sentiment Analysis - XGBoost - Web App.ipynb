{
 "cells": [
  {
   "cell_type": "markdown",
   "metadata": {},
   "source": [
    "# Sentiment Analysis Web App\n",
    "\n",
    "_Deep Learning Nanodegree Program | Deployment_\n",
    "\n",
    "---\n",
    "\n",
    "In this notebook we will use Amazon's SageMaker service to construct a random tree model to predict the sentiment of a movie review. In addition, we will deploy this model to an endpoint and construct a very simple web app which will interact with our model's deployed endpoint.\n",
    "\n",
    "## General Outline\n",
    "\n",
    "Typically, when using a notebook instance with SageMaker, you will proceed through the following steps. Of course, not every step will need to be done with each project. Also, there is quite a lot of room for variation in many of the steps, as you will see throughout these lessons.\n",
    "\n",
    "1. Download or otherwise retrieve the data.\n",
    "2. Process / Prepare the data.\n",
    "3. Upload the processed data to S3.\n",
    "4. Train a chosen model.\n",
    "5. Test the trained model (typically using a batch transform job).\n",
    "6. Deploy the trained model.\n",
    "7. Use the deployed model.\n",
    "\n",
    "In this notebook we will progress through each of the steps above. We will also see that the final step, using the deployed model, can be quite challenging."
   ]
  },
  {
   "cell_type": "markdown",
   "metadata": {},
   "source": [
    "## Step 1: Downloading the data\n",
    "\n",
    "The dataset we are going to use is very popular among researchers in Natural Language Processing, usually referred to as the [IMDb dataset](http://ai.stanford.edu/~amaas/data/sentiment/). It consists of movie reviews from the website [imdb.com](http://www.imdb.com/), each labeled as either '**pos**itive', if the reviewer enjoyed the film, or '**neg**ative' otherwise.\n",
    "\n",
    "> Maas, Andrew L., et al. [Learning Word Vectors for Sentiment Analysis](http://ai.stanford.edu/~amaas/data/sentiment/). In _Proceedings of the 49th Annual Meeting of the Association for Computational Linguistics: Human Language Technologies_. Association for Computational Linguistics, 2011.\n",
    "\n",
    "We begin by using some Jupyter Notebook magic to download and extract the dataset."
   ]
  },
  {
   "cell_type": "code",
   "execution_count": 1,
   "metadata": {},
   "outputs": [
    {
     "name": "stdout",
     "output_type": "stream",
     "text": [
      "mkdir: cannot create directory ‘../data’: File exists\n",
      "--2020-09-29 14:09:48--  http://ai.stanford.edu/~amaas/data/sentiment/aclImdb_v1.tar.gz\n",
      "Resolving ai.stanford.edu (ai.stanford.edu)... 171.64.68.10\n",
      "Connecting to ai.stanford.edu (ai.stanford.edu)|171.64.68.10|:80... connected.\n",
      "HTTP request sent, awaiting response... 200 OK\n",
      "Length: 84125825 (80M) [application/x-gzip]\n",
      "Saving to: ‘../data/aclImdb_v1.tar.gz’\n",
      "\n",
      "../data/aclImdb_v1. 100%[===================>]  80.23M  25.7MB/s    in 3.8s    \n",
      "\n",
      "2020-09-29 14:09:52 (20.9 MB/s) - ‘../data/aclImdb_v1.tar.gz’ saved [84125825/84125825]\n",
      "\n"
     ]
    }
   ],
   "source": [
    "%mkdir ../data\n",
    "!wget -O ../data/aclImdb_v1.tar.gz http://ai.stanford.edu/~amaas/data/sentiment/aclImdb_v1.tar.gz\n",
    "!tar -zxf ../data/aclImdb_v1.tar.gz -C ../data"
   ]
  },
  {
   "cell_type": "markdown",
   "metadata": {},
   "source": [
    "## Step 2: Preparing and Processing the data\n",
    "\n",
    "The data we have downloaded is split into various files, each of which contains a single review. It will be much easier going forward if we combine these individual files into two large files, one for training and one for testing."
   ]
  },
  {
   "cell_type": "code",
   "execution_count": 2,
   "metadata": {},
   "outputs": [],
   "source": [
    "import os\n",
    "import glob\n",
    "\n",
    "def read_imdb_data(data_dir='../data/aclImdb'):\n",
    "    data = {}\n",
    "    labels = {}\n",
    "    \n",
    "    for data_type in ['train', 'test']:\n",
    "        data[data_type] = {}\n",
    "        labels[data_type] = {}\n",
    "        \n",
    "        for sentiment in ['pos', 'neg']:\n",
    "            data[data_type][sentiment] = []\n",
    "            labels[data_type][sentiment] = []\n",
    "            \n",
    "            path = os.path.join(data_dir, data_type, sentiment, '*.txt')\n",
    "            files = glob.glob(path)\n",
    "            \n",
    "            for f in files:\n",
    "                with open(f) as review:\n",
    "                    data[data_type][sentiment].append(review.read())\n",
    "                    # Here we represent a positive review by '1' and a negative review by '0'\n",
    "                    labels[data_type][sentiment].append(1 if sentiment == 'pos' else 0)\n",
    "                    \n",
    "            assert len(data[data_type][sentiment]) == len(labels[data_type][sentiment]), \\\n",
    "                    \"{}/{} data size does not match labels size\".format(data_type, sentiment)\n",
    "                \n",
    "    return data, labels"
   ]
  },
  {
   "cell_type": "code",
   "execution_count": 3,
   "metadata": {},
   "outputs": [
    {
     "name": "stdout",
     "output_type": "stream",
     "text": [
      "IMDB reviews: train = 12500 pos / 12500 neg, test = 12500 pos / 12500 neg\n"
     ]
    }
   ],
   "source": [
    "data, labels = read_imdb_data()\n",
    "print(\"IMDB reviews: train = {} pos / {} neg, test = {} pos / {} neg\".format(\n",
    "            len(data['train']['pos']), len(data['train']['neg']),\n",
    "            len(data['test']['pos']), len(data['test']['neg'])))"
   ]
  },
  {
   "cell_type": "code",
   "execution_count": 4,
   "metadata": {},
   "outputs": [],
   "source": [
    "from sklearn.utils import shuffle\n",
    "\n",
    "def prepare_imdb_data(data, labels):\n",
    "    \"\"\"Prepare training and test sets from IMDb movie reviews.\"\"\"\n",
    "    \n",
    "    #Combine positive and negative reviews and labels\n",
    "    data_train = data['train']['pos'] + data['train']['neg']\n",
    "    data_test = data['test']['pos'] + data['test']['neg']\n",
    "    labels_train = labels['train']['pos'] + labels['train']['neg']\n",
    "    labels_test = labels['test']['pos'] + labels['test']['neg']\n",
    "    \n",
    "    #Shuffle reviews and corresponding labels within training and test sets\n",
    "    data_train, labels_train = shuffle(data_train, labels_train)\n",
    "    data_test, labels_test = shuffle(data_test, labels_test)\n",
    "    \n",
    "    # Return a unified training data, test data, training labels, test labets\n",
    "    return data_train, data_test, labels_train, labels_test"
   ]
  },
  {
   "cell_type": "code",
   "execution_count": 5,
   "metadata": {},
   "outputs": [
    {
     "name": "stdout",
     "output_type": "stream",
     "text": [
      "IMDb reviews (combined): train = 25000, test = 25000\n"
     ]
    }
   ],
   "source": [
    "train_X, test_X, train_y, test_y = prepare_imdb_data(data, labels)\n",
    "print(\"IMDb reviews (combined): train = {}, test = {}\".format(len(train_X), len(test_X)))"
   ]
  },
  {
   "cell_type": "code",
   "execution_count": 6,
   "metadata": {},
   "outputs": [
    {
     "data": {
      "text/plain": [
       "\"This spectacular film is one of the most amazing movies I have ever seen. It shows a China I had never seen or imagined, and I believe it shows 1930's China in the most REAL light ever seen in a movie. It is absolutely heart-breaking in so many situations, seeing how hard life was for the characters, and yet the story and the ending are incredibly joyful. You truly see the depths and heigths of human existence in this film. The actors are all perfect, such that you feel like you have really entered a different world. <br /><br />I simply can not recommend this movie highly enough. It may just change you forever once you have seen it.\""
      ]
     },
     "execution_count": 6,
     "metadata": {},
     "output_type": "execute_result"
    }
   ],
   "source": [
    "train_X[100]"
   ]
  },
  {
   "cell_type": "markdown",
   "metadata": {},
   "source": [
    "## Processing the data\n",
    "\n",
    "Now that we have our training and testing datasets merged and ready to use, we need to start processing the raw data into something that will be useable by our machine learning algorithm. To begin with, we remove any html formatting and any non-alpha numeric characters that may appear in the reviews. We will do this in a very simplistic way using Python's regular expression module. We will discuss the reason for this rather simplistic pre-processing later on."
   ]
  },
  {
   "cell_type": "code",
   "execution_count": 7,
   "metadata": {},
   "outputs": [],
   "source": [
    "import re\n",
    "\n",
    "REPLACE_NO_SPACE = re.compile(\"(\\.)|(\\;)|(\\:)|(\\!)|(\\')|(\\?)|(\\,)|(\\\")|(\\()|(\\))|(\\[)|(\\])\")\n",
    "REPLACE_WITH_SPACE = re.compile(\"(<br\\s*/><br\\s*/>)|(\\-)|(\\/)\")\n",
    "\n",
    "def review_to_words(review):\n",
    "    words = REPLACE_NO_SPACE.sub(\"\", review.lower())\n",
    "    words = REPLACE_WITH_SPACE.sub(\" \", words)\n",
    "    return words"
   ]
  },
  {
   "cell_type": "code",
   "execution_count": 8,
   "metadata": {},
   "outputs": [
    {
     "data": {
      "text/plain": [
       "'this spectacular film is one of the most amazing movies i have ever seen it shows a china i had never seen or imagined and i believe it shows 1930s china in the most real light ever seen in a movie it is absolutely heart breaking in so many situations seeing how hard life was for the characters and yet the story and the ending are incredibly joyful you truly see the depths and heigths of human existence in this film the actors are all perfect such that you feel like you have really entered a different world  i simply can not recommend this movie highly enough it may just change you forever once you have seen it'"
      ]
     },
     "execution_count": 8,
     "metadata": {},
     "output_type": "execute_result"
    }
   ],
   "source": [
    "review_to_words(train_X[100])"
   ]
  },
  {
   "cell_type": "code",
   "execution_count": 9,
   "metadata": {},
   "outputs": [],
   "source": [
    "import pickle\n",
    "\n",
    "cache_dir = os.path.join(\"../cache\", \"sentiment_web_app\")  # where to store cache files\n",
    "os.makedirs(cache_dir, exist_ok=True)  # ensure cache directory exists\n",
    "\n",
    "def preprocess_data(data_train, data_test, labels_train, labels_test,\n",
    "                    cache_dir=cache_dir, cache_file=\"preprocessed_data.pkl\"):\n",
    "    \"\"\"Convert each review to words; read from cache if available.\"\"\"\n",
    "\n",
    "    # If cache_file is not None, try to read from it first\n",
    "    cache_data = None\n",
    "    if cache_file is not None:\n",
    "        try:\n",
    "            with open(os.path.join(cache_dir, cache_file), \"rb\") as f:\n",
    "                cache_data = pickle.load(f)\n",
    "            print(\"Read preprocessed data from cache file:\", cache_file)\n",
    "        except:\n",
    "            pass  # unable to read from cache, but that's okay\n",
    "    \n",
    "    # If cache is missing, then do the heavy lifting\n",
    "    if cache_data is None:\n",
    "        # Preprocess training and test data to obtain words for each review\n",
    "        #words_train = list(map(review_to_words, data_train))\n",
    "        #words_test = list(map(review_to_words, data_test))\n",
    "        words_train = [review_to_words(review) for review in data_train]\n",
    "        words_test = [review_to_words(review) for review in data_test]\n",
    "        \n",
    "        # Write to cache file for future runs\n",
    "        if cache_file is not None:\n",
    "            cache_data = dict(words_train=words_train, words_test=words_test,\n",
    "                              labels_train=labels_train, labels_test=labels_test)\n",
    "            with open(os.path.join(cache_dir, cache_file), \"wb\") as f:\n",
    "                pickle.dump(cache_data, f)\n",
    "            print(\"Wrote preprocessed data to cache file:\", cache_file)\n",
    "    else:\n",
    "        # Unpack data loaded from cache file\n",
    "        words_train, words_test, labels_train, labels_test = (cache_data['words_train'],\n",
    "                cache_data['words_test'], cache_data['labels_train'], cache_data['labels_test'])\n",
    "    \n",
    "    return words_train, words_test, labels_train, labels_test"
   ]
  },
  {
   "cell_type": "code",
   "execution_count": 10,
   "metadata": {},
   "outputs": [
    {
     "name": "stdout",
     "output_type": "stream",
     "text": [
      "Wrote preprocessed data to cache file: preprocessed_data.pkl\n"
     ]
    }
   ],
   "source": [
    "# Preprocess data\n",
    "train_X, test_X, train_y, test_y = preprocess_data(train_X, test_X, train_y, test_y)"
   ]
  },
  {
   "cell_type": "markdown",
   "metadata": {},
   "source": [
    "### Extract Bag-of-Words features\n",
    "\n",
    "For the model we will be implementing, rather than using the reviews directly, we are going to transform each review into a Bag-of-Words feature representation. Keep in mind that 'in the wild' we will only have access to the training set so our transformer can only use the training set to construct a representation."
   ]
  },
  {
   "cell_type": "code",
   "execution_count": 12,
   "metadata": {},
   "outputs": [],
   "source": [
    "import numpy as np\n",
    "from sklearn.feature_extraction.text import CountVectorizer\n",
    "import joblib\n",
    "# joblib is an enhanced version of pickle that is more efficient for storing NumPy arrays\n",
    "\n",
    "def extract_BoW_features(words_train, words_test, vocabulary_size=5000,\n",
    "                         cache_dir=cache_dir, cache_file=\"bow_features.pkl\"):\n",
    "    \"\"\"Extract Bag-of-Words for a given set of documents, already preprocessed into words.\"\"\"\n",
    "    \n",
    "    # If cache_file is not None, try to read from it first\n",
    "    cache_data = None\n",
    "    if cache_file is not None:\n",
    "        try:\n",
    "            with open(os.path.join(cache_dir, cache_file), \"rb\") as f:\n",
    "                cache_data = joblib.load(f)\n",
    "            print(\"Read features from cache file:\", cache_file)\n",
    "        except:\n",
    "            pass  # unable to read from cache, but that's okay\n",
    "    \n",
    "    # If cache is missing, then do the heavy lifting\n",
    "    if cache_data is None:\n",
    "        # Fit a vectorizer to training documents and use it to transform them\n",
    "        # NOTE: Training documents have already been preprocessed and tokenized into words;\n",
    "        #       pass in dummy functions to skip those steps, e.g. preprocessor=lambda x: x\n",
    "        vectorizer = CountVectorizer(max_features=vocabulary_size)\n",
    "        features_train = vectorizer.fit_transform(words_train).toarray()\n",
    "\n",
    "        # Apply the same vectorizer to transform the test documents (ignore unknown words)\n",
    "        features_test = vectorizer.transform(words_test).toarray()\n",
    "        \n",
    "        # NOTE: Remember to convert the features using .toarray() for a compact representation\n",
    "        \n",
    "        # Write to cache file for future runs (store vocabulary as well)\n",
    "        if cache_file is not None:\n",
    "            vocabulary = vectorizer.vocabulary_\n",
    "            cache_data = dict(features_train=features_train, features_test=features_test,\n",
    "                             vocabulary=vocabulary)\n",
    "            with open(os.path.join(cache_dir, cache_file), \"wb\") as f:\n",
    "                joblib.dump(cache_data, f)\n",
    "            print(\"Wrote features to cache file:\", cache_file)\n",
    "    else:\n",
    "        # Unpack data loaded from cache file\n",
    "        features_train, features_test, vocabulary = (cache_data['features_train'],\n",
    "                cache_data['features_test'], cache_data['vocabulary'])\n",
    "    \n",
    "    # Return both the extracted features as well as the vocabulary\n",
    "    return features_train, features_test, vocabulary"
   ]
  },
  {
   "cell_type": "code",
   "execution_count": 13,
   "metadata": {},
   "outputs": [
    {
     "name": "stdout",
     "output_type": "stream",
     "text": [
      "Wrote features to cache file: bow_features.pkl\n"
     ]
    }
   ],
   "source": [
    "# Extract Bag of Words features for both training and test datasets\n",
    "train_X, test_X, vocabulary = extract_BoW_features(train_X, test_X)"
   ]
  },
  {
   "cell_type": "code",
   "execution_count": 14,
   "metadata": {},
   "outputs": [
    {
     "data": {
      "text/plain": [
       "5000"
      ]
     },
     "execution_count": 14,
     "metadata": {},
     "output_type": "execute_result"
    }
   ],
   "source": [
    "len(train_X[100])"
   ]
  },
  {
   "cell_type": "markdown",
   "metadata": {},
   "source": [
    "## Step 3: Upload data to S3\n",
    "\n",
    "Now that we have created the feature representation of our training (and testing) data, it is time to start setting up and using the XGBoost classifier provided by SageMaker.\n",
    "\n",
    "### Writing the datasets\n",
    "\n",
    "The XGBoost classifier that we will be using requires the dataset to be written to a file and stored using Amazon S3. To do this, we will start by splitting the training dataset into two parts, the data we will train the model with and a validation set. Then, we will write those datasets to a file locally and then upload the files to S3. In addition, we will write the test set to a file and upload that file to S3. This is so that we can use SageMakers Batch Transform functionality to test our model once we've fit it."
   ]
  },
  {
   "cell_type": "code",
   "execution_count": 15,
   "metadata": {},
   "outputs": [],
   "source": [
    "import pandas as pd\n",
    "\n",
    "# Earlier we shuffled the training dataset so to make things simple we can just assign\n",
    "# the first 10 000 reviews to the validation set and use the remaining reviews for training.\n",
    "val_X = pd.DataFrame(train_X[:10000])\n",
    "train_X = pd.DataFrame(train_X[10000:])\n",
    "\n",
    "val_y = pd.DataFrame(train_y[:10000])\n",
    "train_y = pd.DataFrame(train_y[10000:])"
   ]
  },
  {
   "cell_type": "markdown",
   "metadata": {},
   "source": [
    "The documentation for the XGBoost algorithm in SageMaker requires that the training and validation datasets should contain no headers or index and that the label should occur first for each sample.\n",
    "\n",
    "For more information about this and other algorithms, the SageMaker developer documentation can be found on __[Amazon's website.](https://docs.aws.amazon.com/sagemaker/latest/dg/)__"
   ]
  },
  {
   "cell_type": "code",
   "execution_count": 16,
   "metadata": {},
   "outputs": [],
   "source": [
    "# First we make sure that the local directory in which we'd like to store the training and validation csv files exists.\n",
    "data_dir = '../data/sentiment_web_app'\n",
    "if not os.path.exists(data_dir):\n",
    "    os.makedirs(data_dir)"
   ]
  },
  {
   "cell_type": "code",
   "execution_count": 17,
   "metadata": {},
   "outputs": [],
   "source": [
    "pd.DataFrame(test_X).to_csv(os.path.join(data_dir, 'test.csv'), header=False, index=False)\n",
    "\n",
    "pd.concat([val_y, val_X], axis=1).to_csv(os.path.join(data_dir, 'validation.csv'), header=False, index=False)\n",
    "pd.concat([train_y, train_X], axis=1).to_csv(os.path.join(data_dir, 'train.csv'), header=False, index=False)"
   ]
  },
  {
   "cell_type": "code",
   "execution_count": 18,
   "metadata": {},
   "outputs": [],
   "source": [
    "# To save a bit of memory we can set text_X, train_X, val_X, train_y and val_y to None.\n",
    "\n",
    "test_X = train_X = val_X = train_y = val_y = None"
   ]
  },
  {
   "cell_type": "markdown",
   "metadata": {},
   "source": [
    "### Uploading Training / Validation files to S3\n",
    "\n",
    "Amazon's S3 service allows us to store files that can be accessed by both the built-in training models such as the XGBoost model we will be using as well as custom models such as the one we will see a little later.\n",
    "\n",
    "For this and most other tasks we will be doing using SageMaker, there are two methods we could use. The first is to use the low level functionality of SageMaker which requires knowing each of the objects involved in the SageMaker environment. The second is to use the high level functionality in which certain choices have been made on the user's behalf. The low level approach benefits from allowing the user a great deal of flexibility while the high level approach makes development much quicker. For our purposes we will opt to use the high level approach although using the low-level approach is certainly an option.\n",
    "\n",
    "Recall the method `upload_data()` which is a member of the object representing our current SageMaker session. What this method does is upload the data to the default bucket (which is created if it does not exist) into the path described by the key_prefix variable. To see this for yourself, once you have uploaded the data files, go to the S3 console and look to see where the files have been uploaded.\n",
    "\n",
    "For additional resources, see the __[SageMaker API documentation](http://sagemaker.readthedocs.io/en/latest/)__ and in addition the __[SageMaker Developer Guide.](https://docs.aws.amazon.com/sagemaker/latest/dg/)__"
   ]
  },
  {
   "cell_type": "code",
   "execution_count": 19,
   "metadata": {},
   "outputs": [],
   "source": [
    "import sagemaker\n",
    "\n",
    "session = sagemaker.Session() # Store the current SageMaker session\n",
    "\n",
    "# S3 prefix (which folder will we use)\n",
    "prefix = 'sentiment-web-app'\n",
    "\n",
    "test_location = session.upload_data(os.path.join(data_dir, 'test.csv'), key_prefix=prefix)\n",
    "val_location = session.upload_data(os.path.join(data_dir, 'validation.csv'), key_prefix=prefix)\n",
    "train_location = session.upload_data(os.path.join(data_dir, 'train.csv'), key_prefix=prefix)"
   ]
  },
  {
   "cell_type": "markdown",
   "metadata": {},
   "source": [
    "## Step 4: Creating the XGBoost model\n",
    "\n",
    "Now that the data has been uploaded it is time to create the XGBoost model. To begin with, we need to do some setup. At this point it is worth discussing what a model is in SageMaker. It is easiest to think of a model of comprising three different objects in the SageMaker ecosystem, which interact with one another.\n",
    "\n",
    "- Model Artifacts\n",
    "- Training Code (Container)\n",
    "- Inference Code (Container)\n",
    "\n",
    "The Model Artifacts are what you might think of as the actual model itself. For example, if you were building a neural network, the model artifacts would be the weights of the various layers. In our case, for an XGBoost model, the artifacts are the actual trees that are created during training.\n",
    "\n",
    "The other two objects, the training code and the inference code are then used to manipulate the training artifacts. More precisely, the training code uses the training data that is provided and creates the model artifacts, while the inference code uses the model artifacts to make predictions on new data.\n",
    "\n",
    "The way that SageMaker runs the training and inference code is by making use of Docker containers. For now, think of a container as being a way of packaging code up so that dependencies aren't an issue."
   ]
  },
  {
   "cell_type": "code",
   "execution_count": 20,
   "metadata": {},
   "outputs": [],
   "source": [
    "from sagemaker import get_execution_role\n",
    "\n",
    "# Our current execution role is required when creating the model as the training\n",
    "# and inference code will need to access the model artifacts.\n",
    "role = get_execution_role()"
   ]
  },
  {
   "cell_type": "code",
   "execution_count": 21,
   "metadata": {},
   "outputs": [
    {
     "name": "stderr",
     "output_type": "stream",
     "text": [
      "'get_image_uri' method will be deprecated in favor of 'ImageURIProvider' class in SageMaker Python SDK v2.\n",
      "There is a more up to date SageMaker XGBoost image. To use the newer image, please set 'repo_version'='1.0-1'. For example:\n",
      "\tget_image_uri(region, 'xgboost', '1.0-1').\n"
     ]
    }
   ],
   "source": [
    "# We need to retrieve the location of the container which is provided by Amazon for using XGBoost.\n",
    "# As a matter of convenience, the training and inference code both use the same container.\n",
    "from sagemaker.amazon.amazon_estimator import get_image_uri\n",
    "\n",
    "container = get_image_uri(session.boto_region_name, 'xgboost')"
   ]
  },
  {
   "cell_type": "code",
   "execution_count": 22,
   "metadata": {},
   "outputs": [
    {
     "name": "stderr",
     "output_type": "stream",
     "text": [
      "Parameter image_name will be renamed to image_uri in SageMaker Python SDK v2.\n"
     ]
    }
   ],
   "source": [
    "# First we create a SageMaker estimator object for our model.\n",
    "xgb = sagemaker.estimator.Estimator(container, # The location of the container we wish to use\n",
    "                                    role,                                    # What is our current IAM Role\n",
    "                                    train_instance_count=1,                  # How many compute instances\n",
    "                                    train_instance_type='ml.m4.xlarge',      # What kind of compute instances\n",
    "                                    output_path='s3://{}/{}/output'.format(session.default_bucket(), prefix),\n",
    "                                    sagemaker_session=session)\n",
    "\n",
    "# And then set the algorithm specific parameters.\n",
    "xgb.set_hyperparameters(max_depth=5,\n",
    "                        eta=0.2,\n",
    "                        gamma=4,\n",
    "                        min_child_weight=6,\n",
    "                        subsample=0.8,\n",
    "                        silent=0,\n",
    "                        objective='binary:logistic',\n",
    "                        early_stopping_rounds=10,\n",
    "                        num_round=500)"
   ]
  },
  {
   "cell_type": "markdown",
   "metadata": {},
   "source": [
    "### Fit the XGBoost model\n",
    "\n",
    "Now that our model has been set up we simply need to attach the training and validation datasets and then ask SageMaker to set up the computation."
   ]
  },
  {
   "cell_type": "code",
   "execution_count": 23,
   "metadata": {},
   "outputs": [
    {
     "name": "stderr",
     "output_type": "stream",
     "text": [
      "'s3_input' class will be renamed to 'TrainingInput' in SageMaker Python SDK v2.\n",
      "'s3_input' class will be renamed to 'TrainingInput' in SageMaker Python SDK v2.\n"
     ]
    }
   ],
   "source": [
    "s3_input_train = sagemaker.s3_input(s3_data=train_location, content_type='csv')\n",
    "s3_input_validation = sagemaker.s3_input(s3_data=val_location, content_type='csv')"
   ]
  },
  {
   "cell_type": "code",
   "execution_count": 24,
   "metadata": {},
   "outputs": [
    {
     "name": "stdout",
     "output_type": "stream",
     "text": [
      "2020-09-29 14:23:14 Starting - Starting the training job...\n",
      "2020-09-29 14:23:15 Starting - Launching requested ML instances......\n",
      "2020-09-29 14:24:20 Starting - Preparing the instances for training......\n",
      "2020-09-29 14:25:15 Downloading - Downloading input data...\n",
      "2020-09-29 14:26:11 Training - Training image download completed. Training in progress..\u001b[34mArguments: train\u001b[0m\n",
      "\u001b[34m[2020-09-29:14:26:12:INFO] Running standalone xgboost training.\u001b[0m\n",
      "\u001b[34m[2020-09-29:14:26:12:INFO] File size need to be processed in the node: 238.5mb. Available memory size in the node: 8465.87mb\u001b[0m\n",
      "\u001b[34m[2020-09-29:14:26:12:INFO] Determined delimiter of CSV input is ','\u001b[0m\n",
      "\u001b[34m[14:26:12] S3DistributionType set as FullyReplicated\u001b[0m\n",
      "\u001b[34m[14:26:14] 15000x5000 matrix with 75000000 entries loaded from /opt/ml/input/data/train?format=csv&label_column=0&delimiter=,\u001b[0m\n",
      "\u001b[34m[2020-09-29:14:26:14:INFO] Determined delimiter of CSV input is ','\u001b[0m\n",
      "\u001b[34m[14:26:14] S3DistributionType set as FullyReplicated\u001b[0m\n",
      "\u001b[34m[14:26:16] 10000x5000 matrix with 50000000 entries loaded from /opt/ml/input/data/validation?format=csv&label_column=0&delimiter=,\u001b[0m\n",
      "\u001b[34m[14:26:19] src/tree/updater_prune.cc:74: tree pruning end, 1 roots, 44 extra nodes, 2 pruned nodes, max_depth=5\u001b[0m\n",
      "\u001b[34m[0]#011train-error:0.309#011validation-error:0.3054\u001b[0m\n",
      "\u001b[34mMultiple eval metrics have been passed: 'validation-error' will be used for early stopping.\n",
      "\u001b[0m\n",
      "\u001b[34mWill train until validation-error hasn't improved in 10 rounds.\u001b[0m\n",
      "\u001b[34m[14:26:20] src/tree/updater_prune.cc:74: tree pruning end, 1 roots, 36 extra nodes, 6 pruned nodes, max_depth=5\u001b[0m\n",
      "\u001b[34m[1]#011train-error:0.303733#011validation-error:0.2998\u001b[0m\n",
      "\u001b[34m[14:26:22] src/tree/updater_prune.cc:74: tree pruning end, 1 roots, 40 extra nodes, 6 pruned nodes, max_depth=5\u001b[0m\n",
      "\u001b[34m[2]#011train-error:0.279667#011validation-error:0.2776\u001b[0m\n",
      "\u001b[34m[14:26:23] src/tree/updater_prune.cc:74: tree pruning end, 1 roots, 34 extra nodes, 2 pruned nodes, max_depth=5\u001b[0m\n",
      "\u001b[34m[3]#011train-error:0.272333#011validation-error:0.2728\u001b[0m\n",
      "\u001b[34m[14:26:25] src/tree/updater_prune.cc:74: tree pruning end, 1 roots, 36 extra nodes, 6 pruned nodes, max_depth=5\u001b[0m\n",
      "\u001b[34m[4]#011train-error:0.266467#011validation-error:0.2693\u001b[0m\n",
      "\u001b[34m[14:26:26] src/tree/updater_prune.cc:74: tree pruning end, 1 roots, 30 extra nodes, 10 pruned nodes, max_depth=5\u001b[0m\n",
      "\u001b[34m[5]#011train-error:0.259267#011validation-error:0.2646\u001b[0m\n",
      "\u001b[34m[14:26:27] src/tree/updater_prune.cc:74: tree pruning end, 1 roots, 28 extra nodes, 12 pruned nodes, max_depth=5\u001b[0m\n",
      "\u001b[34m[6]#011train-error:0.256867#011validation-error:0.26\u001b[0m\n",
      "\u001b[34m[14:26:29] src/tree/updater_prune.cc:74: tree pruning end, 1 roots, 38 extra nodes, 6 pruned nodes, max_depth=5\u001b[0m\n",
      "\u001b[34m[7]#011train-error:0.237667#011validation-error:0.2526\u001b[0m\n",
      "\u001b[34m[14:26:30] src/tree/updater_prune.cc:74: tree pruning end, 1 roots, 30 extra nodes, 4 pruned nodes, max_depth=5\u001b[0m\n",
      "\u001b[34m[8]#011train-error:0.235867#011validation-error:0.249\u001b[0m\n",
      "\u001b[34m[14:26:31] src/tree/updater_prune.cc:74: tree pruning end, 1 roots, 30 extra nodes, 2 pruned nodes, max_depth=5\u001b[0m\n",
      "\u001b[34m[9]#011train-error:0.2362#011validation-error:0.2472\u001b[0m\n",
      "\u001b[34m[14:26:32] src/tree/updater_prune.cc:74: tree pruning end, 1 roots, 38 extra nodes, 2 pruned nodes, max_depth=5\u001b[0m\n",
      "\u001b[34m[10]#011train-error:0.227733#011validation-error:0.2392\u001b[0m\n",
      "\u001b[34m[14:26:34] src/tree/updater_prune.cc:74: tree pruning end, 1 roots, 34 extra nodes, 2 pruned nodes, max_depth=5\u001b[0m\n",
      "\u001b[34m[11]#011train-error:0.219533#011validation-error:0.2354\u001b[0m\n",
      "\u001b[34m[14:26:35] src/tree/updater_prune.cc:74: tree pruning end, 1 roots, 30 extra nodes, 2 pruned nodes, max_depth=5\u001b[0m\n",
      "\u001b[34m[12]#011train-error:0.2126#011validation-error:0.2318\u001b[0m\n",
      "\u001b[34m[14:26:36] src/tree/updater_prune.cc:74: tree pruning end, 1 roots, 32 extra nodes, 0 pruned nodes, max_depth=5\u001b[0m\n",
      "\u001b[34m[13]#011train-error:0.208667#011validation-error:0.2319\u001b[0m\n",
      "\u001b[34m[14:26:38] src/tree/updater_prune.cc:74: tree pruning end, 1 roots, 34 extra nodes, 4 pruned nodes, max_depth=5\u001b[0m\n",
      "\u001b[34m[14]#011train-error:0.203333#011validation-error:0.2274\u001b[0m\n",
      "\u001b[34m[14:26:39] src/tree/updater_prune.cc:74: tree pruning end, 1 roots, 26 extra nodes, 8 pruned nodes, max_depth=5\u001b[0m\n",
      "\u001b[34m[15]#011train-error:0.199933#011validation-error:0.223\u001b[0m\n",
      "\u001b[34m[14:26:40] src/tree/updater_prune.cc:74: tree pruning end, 1 roots, 36 extra nodes, 10 pruned nodes, max_depth=5\u001b[0m\n",
      "\u001b[34m[16]#011train-error:0.196067#011validation-error:0.2179\u001b[0m\n",
      "\u001b[34m[14:26:41] src/tree/updater_prune.cc:74: tree pruning end, 1 roots, 30 extra nodes, 4 pruned nodes, max_depth=5\u001b[0m\n",
      "\u001b[34m[17]#011train-error:0.1936#011validation-error:0.2155\u001b[0m\n",
      "\u001b[34m[14:26:43] src/tree/updater_prune.cc:74: tree pruning end, 1 roots, 20 extra nodes, 10 pruned nodes, max_depth=5\u001b[0m\n",
      "\u001b[34m[18]#011train-error:0.189867#011validation-error:0.2138\u001b[0m\n",
      "\u001b[34m[14:26:44] src/tree/updater_prune.cc:74: tree pruning end, 1 roots, 28 extra nodes, 6 pruned nodes, max_depth=5\u001b[0m\n",
      "\u001b[34m[19]#011train-error:0.187667#011validation-error:0.2139\u001b[0m\n",
      "\u001b[34m[14:26:45] src/tree/updater_prune.cc:74: tree pruning end, 1 roots, 24 extra nodes, 10 pruned nodes, max_depth=5\u001b[0m\n",
      "\u001b[34m[20]#011train-error:0.185133#011validation-error:0.2104\u001b[0m\n",
      "\u001b[34m[14:26:46] src/tree/updater_prune.cc:74: tree pruning end, 1 roots, 40 extra nodes, 8 pruned nodes, max_depth=5\u001b[0m\n",
      "\u001b[34m[21]#011train-error:0.184267#011validation-error:0.2081\u001b[0m\n",
      "\u001b[34m[14:26:48] src/tree/updater_prune.cc:74: tree pruning end, 1 roots, 24 extra nodes, 14 pruned nodes, max_depth=5\u001b[0m\n",
      "\u001b[34m[22]#011train-error:0.1818#011validation-error:0.2064\u001b[0m\n",
      "\u001b[34m[14:26:49] src/tree/updater_prune.cc:74: tree pruning end, 1 roots, 24 extra nodes, 12 pruned nodes, max_depth=5\u001b[0m\n",
      "\u001b[34m[23]#011train-error:0.1792#011validation-error:0.2058\u001b[0m\n",
      "\u001b[34m[14:26:50] src/tree/updater_prune.cc:74: tree pruning end, 1 roots, 28 extra nodes, 10 pruned nodes, max_depth=5\u001b[0m\n",
      "\u001b[34m[24]#011train-error:0.177333#011validation-error:0.2029\u001b[0m\n",
      "\u001b[34m[14:26:52] src/tree/updater_prune.cc:74: tree pruning end, 1 roots, 26 extra nodes, 8 pruned nodes, max_depth=5\u001b[0m\n",
      "\u001b[34m[25]#011train-error:0.175667#011validation-error:0.2013\u001b[0m\n",
      "\u001b[34m[14:26:53] src/tree/updater_prune.cc:74: tree pruning end, 1 roots, 22 extra nodes, 8 pruned nodes, max_depth=5\u001b[0m\n",
      "\u001b[34m[26]#011train-error:0.1746#011validation-error:0.1994\u001b[0m\n",
      "\u001b[34m[14:26:54] src/tree/updater_prune.cc:74: tree pruning end, 1 roots, 26 extra nodes, 14 pruned nodes, max_depth=5\u001b[0m\n",
      "\u001b[34m[27]#011train-error:0.171733#011validation-error:0.1986\u001b[0m\n",
      "\u001b[34m[14:26:55] src/tree/updater_prune.cc:74: tree pruning end, 1 roots, 30 extra nodes, 4 pruned nodes, max_depth=5\u001b[0m\n",
      "\u001b[34m[28]#011train-error:0.170267#011validation-error:0.1994\u001b[0m\n",
      "\u001b[34m[14:26:57] src/tree/updater_prune.cc:74: tree pruning end, 1 roots, 20 extra nodes, 14 pruned nodes, max_depth=5\u001b[0m\n",
      "\u001b[34m[29]#011train-error:0.1694#011validation-error:0.1976\u001b[0m\n",
      "\u001b[34m[14:26:58] src/tree/updater_prune.cc:74: tree pruning end, 1 roots, 30 extra nodes, 14 pruned nodes, max_depth=5\u001b[0m\n",
      "\u001b[34m[30]#011train-error:0.167#011validation-error:0.1948\u001b[0m\n",
      "\u001b[34m[14:26:59] src/tree/updater_prune.cc:74: tree pruning end, 1 roots, 36 extra nodes, 4 pruned nodes, max_depth=5\u001b[0m\n",
      "\u001b[34m[31]#011train-error:0.165#011validation-error:0.1939\u001b[0m\n",
      "\u001b[34m[14:27:00] src/tree/updater_prune.cc:74: tree pruning end, 1 roots, 26 extra nodes, 4 pruned nodes, max_depth=5\u001b[0m\n",
      "\u001b[34m[32]#011train-error:0.1622#011validation-error:0.1906\u001b[0m\n",
      "\u001b[34m[14:27:02] src/tree/updater_prune.cc:74: tree pruning end, 1 roots, 28 extra nodes, 4 pruned nodes, max_depth=5\u001b[0m\n",
      "\u001b[34m[33]#011train-error:0.160533#011validation-error:0.1911\u001b[0m\n",
      "\u001b[34m[14:27:03] src/tree/updater_prune.cc:74: tree pruning end, 1 roots, 16 extra nodes, 6 pruned nodes, max_depth=5\u001b[0m\n",
      "\u001b[34m[34]#011train-error:0.159667#011validation-error:0.1894\u001b[0m\n",
      "\u001b[34m[14:27:04] src/tree/updater_prune.cc:74: tree pruning end, 1 roots, 20 extra nodes, 14 pruned nodes, max_depth=5\u001b[0m\n",
      "\u001b[34m[35]#011train-error:0.158067#011validation-error:0.1887\u001b[0m\n",
      "\u001b[34m[14:27:06] src/tree/updater_prune.cc:74: tree pruning end, 1 roots, 26 extra nodes, 8 pruned nodes, max_depth=5\u001b[0m\n",
      "\u001b[34m[36]#011train-error:0.157#011validation-error:0.1878\u001b[0m\n",
      "\u001b[34m[14:27:07] src/tree/updater_prune.cc:74: tree pruning end, 1 roots, 20 extra nodes, 8 pruned nodes, max_depth=5\u001b[0m\n",
      "\u001b[34m[37]#011train-error:0.156267#011validation-error:0.187\u001b[0m\n",
      "\u001b[34m[14:27:08] src/tree/updater_prune.cc:74: tree pruning end, 1 roots, 26 extra nodes, 12 pruned nodes, max_depth=5\u001b[0m\n",
      "\u001b[34m[38]#011train-error:0.1546#011validation-error:0.1861\u001b[0m\n",
      "\u001b[34m[14:27:09] src/tree/updater_prune.cc:74: tree pruning end, 1 roots, 22 extra nodes, 8 pruned nodes, max_depth=5\u001b[0m\n",
      "\u001b[34m[39]#011train-error:0.152533#011validation-error:0.1852\u001b[0m\n"
     ]
    },
    {
     "name": "stdout",
     "output_type": "stream",
     "text": [
      "\u001b[34m[14:27:11] src/tree/updater_prune.cc:74: tree pruning end, 1 roots, 20 extra nodes, 8 pruned nodes, max_depth=5\u001b[0m\n",
      "\u001b[34m[40]#011train-error:0.149933#011validation-error:0.1832\u001b[0m\n",
      "\u001b[34m[14:27:12] src/tree/updater_prune.cc:74: tree pruning end, 1 roots, 20 extra nodes, 8 pruned nodes, max_depth=5\u001b[0m\n",
      "\u001b[34m[41]#011train-error:0.148867#011validation-error:0.182\u001b[0m\n",
      "\u001b[34m[14:27:13] src/tree/updater_prune.cc:74: tree pruning end, 1 roots, 22 extra nodes, 12 pruned nodes, max_depth=5\u001b[0m\n",
      "\u001b[34m[42]#011train-error:0.147533#011validation-error:0.1808\u001b[0m\n",
      "\u001b[34m[14:27:15] src/tree/updater_prune.cc:74: tree pruning end, 1 roots, 30 extra nodes, 12 pruned nodes, max_depth=5\u001b[0m\n",
      "\u001b[34m[43]#011train-error:0.146533#011validation-error:0.1817\u001b[0m\n",
      "\u001b[34m[14:27:16] src/tree/updater_prune.cc:74: tree pruning end, 1 roots, 14 extra nodes, 10 pruned nodes, max_depth=5\u001b[0m\n",
      "\u001b[34m[44]#011train-error:0.146133#011validation-error:0.1804\u001b[0m\n",
      "\u001b[34m[14:27:17] src/tree/updater_prune.cc:74: tree pruning end, 1 roots, 24 extra nodes, 8 pruned nodes, max_depth=5\u001b[0m\n",
      "\u001b[34m[45]#011train-error:0.145867#011validation-error:0.18\u001b[0m\n",
      "\u001b[34m[14:27:18] src/tree/updater_prune.cc:74: tree pruning end, 1 roots, 24 extra nodes, 4 pruned nodes, max_depth=5\u001b[0m\n",
      "\u001b[34m[46]#011train-error:0.1448#011validation-error:0.1797\u001b[0m\n",
      "\u001b[34m[14:27:20] src/tree/updater_prune.cc:74: tree pruning end, 1 roots, 16 extra nodes, 12 pruned nodes, max_depth=5\u001b[0m\n",
      "\u001b[34m[47]#011train-error:0.144067#011validation-error:0.1787\u001b[0m\n",
      "\u001b[34m[14:27:21] src/tree/updater_prune.cc:74: tree pruning end, 1 roots, 24 extra nodes, 14 pruned nodes, max_depth=5\u001b[0m\n",
      "\u001b[34m[48]#011train-error:0.1432#011validation-error:0.1788\u001b[0m\n",
      "\u001b[34m[14:27:22] src/tree/updater_prune.cc:74: tree pruning end, 1 roots, 38 extra nodes, 6 pruned nodes, max_depth=5\u001b[0m\n",
      "\u001b[34m[49]#011train-error:0.142133#011validation-error:0.1769\u001b[0m\n",
      "\u001b[34m[14:27:23] src/tree/updater_prune.cc:74: tree pruning end, 1 roots, 24 extra nodes, 8 pruned nodes, max_depth=5\u001b[0m\n",
      "\u001b[34m[50]#011train-error:0.140867#011validation-error:0.1752\u001b[0m\n",
      "\u001b[34m[14:27:25] src/tree/updater_prune.cc:74: tree pruning end, 1 roots, 26 extra nodes, 8 pruned nodes, max_depth=5\u001b[0m\n",
      "\u001b[34m[51]#011train-error:0.1396#011validation-error:0.1748\u001b[0m\n",
      "\u001b[34m[14:27:26] src/tree/updater_prune.cc:74: tree pruning end, 1 roots, 20 extra nodes, 6 pruned nodes, max_depth=5\u001b[0m\n",
      "\u001b[34m[52]#011train-error:0.1388#011validation-error:0.1746\u001b[0m\n",
      "\u001b[34m[14:27:27] src/tree/updater_prune.cc:74: tree pruning end, 1 roots, 26 extra nodes, 10 pruned nodes, max_depth=5\u001b[0m\n",
      "\u001b[34m[53]#011train-error:0.137133#011validation-error:0.1737\u001b[0m\n",
      "\u001b[34m[14:27:28] src/tree/updater_prune.cc:74: tree pruning end, 1 roots, 22 extra nodes, 12 pruned nodes, max_depth=5\u001b[0m\n",
      "\u001b[34m[54]#011train-error:0.1376#011validation-error:0.1737\u001b[0m\n",
      "\u001b[34m[14:27:30] src/tree/updater_prune.cc:74: tree pruning end, 1 roots, 12 extra nodes, 6 pruned nodes, max_depth=5\u001b[0m\n",
      "\u001b[34m[55]#011train-error:0.136333#011validation-error:0.1738\u001b[0m\n",
      "\u001b[34m[14:27:31] src/tree/updater_prune.cc:74: tree pruning end, 1 roots, 18 extra nodes, 6 pruned nodes, max_depth=5\u001b[0m\n",
      "\u001b[34m[56]#011train-error:0.134733#011validation-error:0.1725\u001b[0m\n",
      "\u001b[34m[14:27:32] src/tree/updater_prune.cc:74: tree pruning end, 1 roots, 34 extra nodes, 4 pruned nodes, max_depth=5\u001b[0m\n",
      "\u001b[34m[57]#011train-error:0.1336#011validation-error:0.1715\u001b[0m\n",
      "\u001b[34m[14:27:34] src/tree/updater_prune.cc:74: tree pruning end, 1 roots, 18 extra nodes, 10 pruned nodes, max_depth=5\u001b[0m\n",
      "\u001b[34m[58]#011train-error:0.133#011validation-error:0.1716\u001b[0m\n",
      "\u001b[34m[14:27:35] src/tree/updater_prune.cc:74: tree pruning end, 1 roots, 22 extra nodes, 2 pruned nodes, max_depth=5\u001b[0m\n",
      "\u001b[34m[59]#011train-error:0.132267#011validation-error:0.1705\u001b[0m\n",
      "\u001b[34m[14:27:36] src/tree/updater_prune.cc:74: tree pruning end, 1 roots, 16 extra nodes, 12 pruned nodes, max_depth=5\u001b[0m\n",
      "\u001b[34m[60]#011train-error:0.131933#011validation-error:0.1704\u001b[0m\n",
      "\u001b[34m[14:27:37] src/tree/updater_prune.cc:74: tree pruning end, 1 roots, 32 extra nodes, 12 pruned nodes, max_depth=5\u001b[0m\n",
      "\u001b[34m[61]#011train-error:0.129733#011validation-error:0.169\u001b[0m\n",
      "\u001b[34m[14:27:39] src/tree/updater_prune.cc:74: tree pruning end, 1 roots, 14 extra nodes, 10 pruned nodes, max_depth=5\u001b[0m\n",
      "\u001b[34m[62]#011train-error:0.129733#011validation-error:0.1684\u001b[0m\n",
      "\u001b[34m[14:27:40] src/tree/updater_prune.cc:74: tree pruning end, 1 roots, 32 extra nodes, 10 pruned nodes, max_depth=5\u001b[0m\n",
      "\u001b[34m[63]#011train-error:0.127733#011validation-error:0.1674\u001b[0m\n",
      "\u001b[34m[14:27:41] src/tree/updater_prune.cc:74: tree pruning end, 1 roots, 14 extra nodes, 2 pruned nodes, max_depth=5\u001b[0m\n",
      "\u001b[34m[64]#011train-error:0.1274#011validation-error:0.167\u001b[0m\n",
      "\u001b[34m[14:27:42] src/tree/updater_prune.cc:74: tree pruning end, 1 roots, 24 extra nodes, 18 pruned nodes, max_depth=5\u001b[0m\n",
      "\u001b[34m[65]#011train-error:0.126133#011validation-error:0.1664\u001b[0m\n",
      "\u001b[34m[14:27:44] src/tree/updater_prune.cc:74: tree pruning end, 1 roots, 14 extra nodes, 10 pruned nodes, max_depth=5\u001b[0m\n",
      "\u001b[34m[66]#011train-error:0.1256#011validation-error:0.1662\u001b[0m\n",
      "\u001b[34m[14:27:45] src/tree/updater_prune.cc:74: tree pruning end, 1 roots, 22 extra nodes, 16 pruned nodes, max_depth=5\u001b[0m\n",
      "\u001b[34m[67]#011train-error:0.125867#011validation-error:0.1652\u001b[0m\n",
      "\u001b[34m[14:27:46] src/tree/updater_prune.cc:74: tree pruning end, 1 roots, 12 extra nodes, 12 pruned nodes, max_depth=5\u001b[0m\n",
      "\u001b[34m[68]#011train-error:0.125267#011validation-error:0.1644\u001b[0m\n",
      "\u001b[34m[14:27:48] src/tree/updater_prune.cc:74: tree pruning end, 1 roots, 18 extra nodes, 12 pruned nodes, max_depth=5\u001b[0m\n",
      "\u001b[34m[69]#011train-error:0.124733#011validation-error:0.1644\u001b[0m\n",
      "\u001b[34m[14:27:49] src/tree/updater_prune.cc:74: tree pruning end, 1 roots, 18 extra nodes, 8 pruned nodes, max_depth=5\u001b[0m\n",
      "\u001b[34m[70]#011train-error:0.123467#011validation-error:0.1635\u001b[0m\n",
      "\u001b[34m[14:27:50] src/tree/updater_prune.cc:74: tree pruning end, 1 roots, 18 extra nodes, 6 pruned nodes, max_depth=5\u001b[0m\n",
      "\u001b[34m[71]#011train-error:0.123733#011validation-error:0.1631\u001b[0m\n",
      "\u001b[34m[14:27:51] src/tree/updater_prune.cc:74: tree pruning end, 1 roots, 14 extra nodes, 8 pruned nodes, max_depth=5\u001b[0m\n",
      "\u001b[34m[72]#011train-error:0.122867#011validation-error:0.1628\u001b[0m\n",
      "\u001b[34m[14:27:53] src/tree/updater_prune.cc:74: tree pruning end, 1 roots, 30 extra nodes, 14 pruned nodes, max_depth=5\u001b[0m\n",
      "\u001b[34m[73]#011train-error:0.1212#011validation-error:0.1633\u001b[0m\n",
      "\u001b[34m[14:27:54] src/tree/updater_prune.cc:74: tree pruning end, 1 roots, 32 extra nodes, 12 pruned nodes, max_depth=5\u001b[0m\n",
      "\u001b[34m[74]#011train-error:0.1192#011validation-error:0.1638\u001b[0m\n",
      "\u001b[34m[14:27:55] src/tree/updater_prune.cc:74: tree pruning end, 1 roots, 26 extra nodes, 2 pruned nodes, max_depth=5\u001b[0m\n",
      "\u001b[34m[75]#011train-error:0.119067#011validation-error:0.1616\u001b[0m\n",
      "\u001b[34m[14:27:56] src/tree/updater_prune.cc:74: tree pruning end, 1 roots, 16 extra nodes, 20 pruned nodes, max_depth=5\u001b[0m\n",
      "\u001b[34m[76]#011train-error:0.118533#011validation-error:0.1611\u001b[0m\n",
      "\u001b[34m[14:27:58] src/tree/updater_prune.cc:74: tree pruning end, 1 roots, 24 extra nodes, 8 pruned nodes, max_depth=5\u001b[0m\n",
      "\u001b[34m[77]#011train-error:0.1178#011validation-error:0.161\u001b[0m\n",
      "\u001b[34m[14:27:59] src/tree/updater_prune.cc:74: tree pruning end, 1 roots, 20 extra nodes, 8 pruned nodes, max_depth=5\u001b[0m\n",
      "\u001b[34m[78]#011train-error:0.1172#011validation-error:0.1615\u001b[0m\n",
      "\u001b[34m[14:28:00] src/tree/updater_prune.cc:74: tree pruning end, 1 roots, 20 extra nodes, 2 pruned nodes, max_depth=5\u001b[0m\n",
      "\u001b[34m[79]#011train-error:0.116067#011validation-error:0.1614\u001b[0m\n",
      "\u001b[34m[14:28:02] src/tree/updater_prune.cc:74: tree pruning end, 1 roots, 20 extra nodes, 10 pruned nodes, max_depth=5\u001b[0m\n",
      "\u001b[34m[80]#011train-error:0.115467#011validation-error:0.1602\u001b[0m\n",
      "\u001b[34m[14:28:03] src/tree/updater_prune.cc:74: tree pruning end, 1 roots, 18 extra nodes, 4 pruned nodes, max_depth=5\u001b[0m\n",
      "\u001b[34m[81]#011train-error:0.114733#011validation-error:0.1592\u001b[0m\n",
      "\u001b[34m[14:28:04] src/tree/updater_prune.cc:74: tree pruning end, 1 roots, 18 extra nodes, 16 pruned nodes, max_depth=5\u001b[0m\n",
      "\u001b[34m[82]#011train-error:0.114467#011validation-error:0.1587\u001b[0m\n",
      "\u001b[34m[14:28:05] src/tree/updater_prune.cc:74: tree pruning end, 1 roots, 16 extra nodes, 10 pruned nodes, max_depth=5\u001b[0m\n",
      "\u001b[34m[83]#011train-error:0.114333#011validation-error:0.1581\u001b[0m\n",
      "\u001b[34m[14:28:07] src/tree/updater_prune.cc:74: tree pruning end, 1 roots, 26 extra nodes, 8 pruned nodes, max_depth=5\u001b[0m\n",
      "\u001b[34m[84]#011train-error:0.113333#011validation-error:0.1571\u001b[0m\n",
      "\u001b[34m[14:28:08] src/tree/updater_prune.cc:74: tree pruning end, 1 roots, 12 extra nodes, 8 pruned nodes, max_depth=5\u001b[0m\n",
      "\u001b[34m[85]#011train-error:0.113667#011validation-error:0.157\u001b[0m\n",
      "\u001b[34m[14:28:09] src/tree/updater_prune.cc:74: tree pruning end, 1 roots, 18 extra nodes, 20 pruned nodes, max_depth=5\u001b[0m\n",
      "\u001b[34m[86]#011train-error:0.1128#011validation-error:0.1569\u001b[0m\n",
      "\u001b[34m[14:28:11] src/tree/updater_prune.cc:74: tree pruning end, 1 roots, 26 extra nodes, 2 pruned nodes, max_depth=5\u001b[0m\n",
      "\u001b[34m[87]#011train-error:0.111733#011validation-error:0.1561\u001b[0m\n"
     ]
    },
    {
     "name": "stdout",
     "output_type": "stream",
     "text": [
      "\u001b[34m[14:28:12] src/tree/updater_prune.cc:74: tree pruning end, 1 roots, 20 extra nodes, 8 pruned nodes, max_depth=5\u001b[0m\n",
      "\u001b[34m[88]#011train-error:0.111#011validation-error:0.1558\u001b[0m\n",
      "\u001b[34m[14:28:13] src/tree/updater_prune.cc:74: tree pruning end, 1 roots, 14 extra nodes, 16 pruned nodes, max_depth=5\u001b[0m\n",
      "\u001b[34m[89]#011train-error:0.1106#011validation-error:0.1572\u001b[0m\n",
      "\u001b[34m[14:28:14] src/tree/updater_prune.cc:74: tree pruning end, 1 roots, 20 extra nodes, 2 pruned nodes, max_depth=5\u001b[0m\n",
      "\u001b[34m[90]#011train-error:0.110067#011validation-error:0.1563\u001b[0m\n",
      "\u001b[34m[14:28:16] src/tree/updater_prune.cc:74: tree pruning end, 1 roots, 14 extra nodes, 6 pruned nodes, max_depth=5\u001b[0m\n",
      "\u001b[34m[91]#011train-error:0.109733#011validation-error:0.1556\u001b[0m\n",
      "\u001b[34m[14:28:17] src/tree/updater_prune.cc:74: tree pruning end, 1 roots, 18 extra nodes, 12 pruned nodes, max_depth=5\u001b[0m\n",
      "\u001b[34m[92]#011train-error:0.109333#011validation-error:0.1578\u001b[0m\n",
      "\u001b[34m[14:28:18] src/tree/updater_prune.cc:74: tree pruning end, 1 roots, 20 extra nodes, 6 pruned nodes, max_depth=5\u001b[0m\n",
      "\u001b[34m[93]#011train-error:0.1084#011validation-error:0.1562\u001b[0m\n",
      "\u001b[34m[14:28:20] src/tree/updater_prune.cc:74: tree pruning end, 1 roots, 14 extra nodes, 10 pruned nodes, max_depth=5\u001b[0m\n",
      "\u001b[34m[94]#011train-error:0.1082#011validation-error:0.1557\u001b[0m\n",
      "\u001b[34m[14:28:21] src/tree/updater_prune.cc:74: tree pruning end, 1 roots, 12 extra nodes, 10 pruned nodes, max_depth=5\u001b[0m\n",
      "\u001b[34m[95]#011train-error:0.107667#011validation-error:0.1546\u001b[0m\n",
      "\u001b[34m[14:28:22] src/tree/updater_prune.cc:74: tree pruning end, 1 roots, 14 extra nodes, 14 pruned nodes, max_depth=5\u001b[0m\n",
      "\u001b[34m[96]#011train-error:0.1076#011validation-error:0.1535\u001b[0m\n",
      "\u001b[34m[14:28:23] src/tree/updater_prune.cc:74: tree pruning end, 1 roots, 18 extra nodes, 0 pruned nodes, max_depth=5\u001b[0m\n",
      "\u001b[34m[97]#011train-error:0.106867#011validation-error:0.1532\u001b[0m\n",
      "\u001b[34m[14:28:25] src/tree/updater_prune.cc:74: tree pruning end, 1 roots, 26 extra nodes, 4 pruned nodes, max_depth=5\u001b[0m\n",
      "\u001b[34m[98]#011train-error:0.106267#011validation-error:0.1538\u001b[0m\n",
      "\u001b[34m[14:28:26] src/tree/updater_prune.cc:74: tree pruning end, 1 roots, 18 extra nodes, 6 pruned nodes, max_depth=5\u001b[0m\n",
      "\u001b[34m[99]#011train-error:0.104733#011validation-error:0.1523\u001b[0m\n",
      "\u001b[34m[14:28:27] src/tree/updater_prune.cc:74: tree pruning end, 1 roots, 20 extra nodes, 2 pruned nodes, max_depth=5\u001b[0m\n",
      "\u001b[34m[100]#011train-error:0.104067#011validation-error:0.1524\u001b[0m\n",
      "\u001b[34m[14:28:28] src/tree/updater_prune.cc:74: tree pruning end, 1 roots, 16 extra nodes, 6 pruned nodes, max_depth=5\u001b[0m\n",
      "\u001b[34m[101]#011train-error:0.1038#011validation-error:0.1524\u001b[0m\n",
      "\u001b[34m[14:28:30] src/tree/updater_prune.cc:74: tree pruning end, 1 roots, 22 extra nodes, 12 pruned nodes, max_depth=5\u001b[0m\n",
      "\u001b[34m[102]#011train-error:0.103#011validation-error:0.1518\u001b[0m\n",
      "\u001b[34m[14:28:31] src/tree/updater_prune.cc:74: tree pruning end, 1 roots, 24 extra nodes, 10 pruned nodes, max_depth=5\u001b[0m\n",
      "\u001b[34m[103]#011train-error:0.103133#011validation-error:0.1516\u001b[0m\n",
      "\u001b[34m[14:28:32] src/tree/updater_prune.cc:74: tree pruning end, 1 roots, 24 extra nodes, 16 pruned nodes, max_depth=5\u001b[0m\n",
      "\u001b[34m[104]#011train-error:0.101467#011validation-error:0.1504\u001b[0m\n",
      "\u001b[34m[14:28:34] src/tree/updater_prune.cc:74: tree pruning end, 1 roots, 12 extra nodes, 8 pruned nodes, max_depth=5\u001b[0m\n",
      "\u001b[34m[105]#011train-error:0.1008#011validation-error:0.1505\u001b[0m\n",
      "\u001b[34m[14:28:35] src/tree/updater_prune.cc:74: tree pruning end, 1 roots, 16 extra nodes, 8 pruned nodes, max_depth=5\u001b[0m\n",
      "\u001b[34m[106]#011train-error:0.101133#011validation-error:0.1508\u001b[0m\n",
      "\u001b[34m[14:28:36] src/tree/updater_prune.cc:74: tree pruning end, 1 roots, 22 extra nodes, 18 pruned nodes, max_depth=5\u001b[0m\n",
      "\u001b[34m[107]#011train-error:0.1006#011validation-error:0.1503\u001b[0m\n",
      "\u001b[34m[14:28:37] src/tree/updater_prune.cc:74: tree pruning end, 1 roots, 12 extra nodes, 4 pruned nodes, max_depth=5\u001b[0m\n",
      "\u001b[34m[108]#011train-error:0.100333#011validation-error:0.1506\u001b[0m\n",
      "\u001b[34m[14:28:39] src/tree/updater_prune.cc:74: tree pruning end, 1 roots, 12 extra nodes, 14 pruned nodes, max_depth=5\u001b[0m\n",
      "\u001b[34m[109]#011train-error:0.099867#011validation-error:0.1494\u001b[0m\n",
      "\u001b[34m[14:28:40] src/tree/updater_prune.cc:74: tree pruning end, 1 roots, 12 extra nodes, 8 pruned nodes, max_depth=5\u001b[0m\n",
      "\u001b[34m[110]#011train-error:0.099467#011validation-error:0.1493\u001b[0m\n",
      "\u001b[34m[14:28:41] src/tree/updater_prune.cc:74: tree pruning end, 1 roots, 16 extra nodes, 16 pruned nodes, max_depth=5\u001b[0m\n",
      "\u001b[34m[111]#011train-error:0.099333#011validation-error:0.1493\u001b[0m\n",
      "\u001b[34m[14:28:42] src/tree/updater_prune.cc:74: tree pruning end, 1 roots, 18 extra nodes, 12 pruned nodes, max_depth=5\u001b[0m\n",
      "\u001b[34m[112]#011train-error:0.0986#011validation-error:0.1482\u001b[0m\n",
      "\u001b[34m[14:28:44] src/tree/updater_prune.cc:74: tree pruning end, 1 roots, 20 extra nodes, 12 pruned nodes, max_depth=5\u001b[0m\n",
      "\u001b[34m[113]#011train-error:0.0978#011validation-error:0.1481\u001b[0m\n",
      "\u001b[34m[14:28:45] src/tree/updater_prune.cc:74: tree pruning end, 1 roots, 14 extra nodes, 14 pruned nodes, max_depth=5\u001b[0m\n",
      "\u001b[34m[114]#011train-error:0.097867#011validation-error:0.1482\u001b[0m\n",
      "\u001b[34m[14:28:46] src/tree/updater_prune.cc:74: tree pruning end, 1 roots, 18 extra nodes, 8 pruned nodes, max_depth=5\u001b[0m\n",
      "\u001b[34m[115]#011train-error:0.0976#011validation-error:0.1476\u001b[0m\n",
      "\u001b[34m[14:28:48] src/tree/updater_prune.cc:74: tree pruning end, 1 roots, 40 extra nodes, 4 pruned nodes, max_depth=5\u001b[0m\n",
      "\u001b[34m[116]#011train-error:0.096667#011validation-error:0.1474\u001b[0m\n",
      "\u001b[34m[14:28:49] src/tree/updater_prune.cc:74: tree pruning end, 1 roots, 10 extra nodes, 0 pruned nodes, max_depth=5\u001b[0m\n",
      "\u001b[34m[117]#011train-error:0.096533#011validation-error:0.1473\u001b[0m\n",
      "\u001b[34m[14:28:50] src/tree/updater_prune.cc:74: tree pruning end, 1 roots, 14 extra nodes, 4 pruned nodes, max_depth=5\u001b[0m\n",
      "\u001b[34m[118]#011train-error:0.095733#011validation-error:0.1467\u001b[0m\n",
      "\u001b[34m[14:28:51] src/tree/updater_prune.cc:74: tree pruning end, 1 roots, 12 extra nodes, 12 pruned nodes, max_depth=5\u001b[0m\n",
      "\u001b[34m[119]#011train-error:0.095933#011validation-error:0.1466\u001b[0m\n",
      "\u001b[34m[14:28:53] src/tree/updater_prune.cc:74: tree pruning end, 1 roots, 16 extra nodes, 2 pruned nodes, max_depth=5\u001b[0m\n",
      "\u001b[34m[120]#011train-error:0.095533#011validation-error:0.1449\u001b[0m\n",
      "\u001b[34m[14:28:54] src/tree/updater_prune.cc:74: tree pruning end, 1 roots, 14 extra nodes, 6 pruned nodes, max_depth=5\u001b[0m\n",
      "\u001b[34m[121]#011train-error:0.0956#011validation-error:0.1455\u001b[0m\n",
      "\u001b[34m[14:28:55] src/tree/updater_prune.cc:74: tree pruning end, 1 roots, 14 extra nodes, 2 pruned nodes, max_depth=5\u001b[0m\n",
      "\u001b[34m[122]#011train-error:0.094933#011validation-error:0.1465\u001b[0m\n",
      "\u001b[34m[14:28:57] src/tree/updater_prune.cc:74: tree pruning end, 1 roots, 12 extra nodes, 4 pruned nodes, max_depth=5\u001b[0m\n",
      "\u001b[34m[123]#011train-error:0.094667#011validation-error:0.1451\u001b[0m\n",
      "\u001b[34m[14:28:58] src/tree/updater_prune.cc:74: tree pruning end, 1 roots, 20 extra nodes, 12 pruned nodes, max_depth=5\u001b[0m\n",
      "\u001b[34m[124]#011train-error:0.0936#011validation-error:0.1451\u001b[0m\n",
      "\u001b[34m[14:28:59] src/tree/updater_prune.cc:74: tree pruning end, 1 roots, 28 extra nodes, 10 pruned nodes, max_depth=5\u001b[0m\n",
      "\u001b[34m[125]#011train-error:0.092933#011validation-error:0.1453\u001b[0m\n",
      "\u001b[34m[14:29:00] src/tree/updater_prune.cc:74: tree pruning end, 1 roots, 24 extra nodes, 10 pruned nodes, max_depth=5\u001b[0m\n",
      "\u001b[34m[126]#011train-error:0.092933#011validation-error:0.1456\u001b[0m\n",
      "\u001b[34m[14:29:02] src/tree/updater_prune.cc:74: tree pruning end, 1 roots, 10 extra nodes, 4 pruned nodes, max_depth=5\u001b[0m\n",
      "\u001b[34m[127]#011train-error:0.093133#011validation-error:0.1455\u001b[0m\n",
      "\n",
      "2020-09-29 14:29:16 Uploading - Uploading generated training model\n",
      "2020-09-29 14:29:16 Completed - Training job completed\n",
      "\u001b[34m[14:29:03] src/tree/updater_prune.cc:74: tree pruning end, 1 roots, 14 extra nodes, 6 pruned nodes, max_depth=5\u001b[0m\n",
      "\u001b[34m[128]#011train-error:0.0924#011validation-error:0.1459\u001b[0m\n",
      "\u001b[34m[14:29:04] src/tree/updater_prune.cc:74: tree pruning end, 1 roots, 14 extra nodes, 18 pruned nodes, max_depth=5\u001b[0m\n",
      "\u001b[34m[129]#011train-error:0.092#011validation-error:0.1452\u001b[0m\n",
      "\u001b[34m[14:29:05] src/tree/updater_prune.cc:74: tree pruning end, 1 roots, 10 extra nodes, 12 pruned nodes, max_depth=5\u001b[0m\n",
      "\u001b[34m[130]#011train-error:0.0918#011validation-error:0.145\u001b[0m\n",
      "\u001b[34mStopping. Best iteration:\u001b[0m\n",
      "\u001b[34m[120]#011train-error:0.095533#011validation-error:0.1449\n",
      "\u001b[0m\n"
     ]
    },
    {
     "name": "stdout",
     "output_type": "stream",
     "text": [
      "Training seconds: 241\n",
      "Billable seconds: 241\n"
     ]
    }
   ],
   "source": [
    "xgb.fit({'train': s3_input_train, 'validation': s3_input_validation})"
   ]
  },
  {
   "cell_type": "markdown",
   "metadata": {},
   "source": [
    "## Step 5: Testing the model\n",
    "\n",
    "Now that we've fit our XGBoost model, it's time to see how well it performs. To do this we will use SageMakers Batch Transform functionality. Batch Transform is a convenient way to perform inference on a large dataset in a way that is not realtime. That is, we don't necessarily need to use our model's results immediately and instead we can perform inference on a large number of samples. An example of this in industry might be performing an end of month report. This method of inference can also be useful to us as it means that we can perform inference on our entire test set. \n",
    "\n",
    "To perform a Batch Transformation we need to first create a transformer objects from our trained estimator object."
   ]
  },
  {
   "cell_type": "code",
   "execution_count": 25,
   "metadata": {},
   "outputs": [
    {
     "name": "stderr",
     "output_type": "stream",
     "text": [
      "Parameter image will be renamed to image_uri in SageMaker Python SDK v2.\n"
     ]
    }
   ],
   "source": [
    "xgb_transformer = xgb.transformer(instance_count = 1, instance_type = 'ml.m4.xlarge')"
   ]
  },
  {
   "cell_type": "markdown",
   "metadata": {},
   "source": [
    "Next we actually perform the transform job. When doing so we need to make sure to specify the type of data we are sending so that it is serialized correctly in the background. In our case we are providing our model with csv data so we specify `text/csv`. Also, if the test data that we have provided is too large to process all at once then we need to specify how the data file should be split up. Since each line is a single entry in our data set we tell SageMaker that it can split the input on each line."
   ]
  },
  {
   "cell_type": "code",
   "execution_count": 26,
   "metadata": {},
   "outputs": [],
   "source": [
    "xgb_transformer.transform(test_location, content_type='text/csv', split_type='Line')"
   ]
  },
  {
   "cell_type": "markdown",
   "metadata": {},
   "source": [
    "Currently the transform job is running but it is doing so in the background. Since we wish to wait until the transform job is done and we would like a bit of feedback we can run the `wait()` method."
   ]
  },
  {
   "cell_type": "code",
   "execution_count": 27,
   "metadata": {},
   "outputs": [
    {
     "name": "stdout",
     "output_type": "stream",
     "text": [
      "............................\u001b[32m2020-09-29T14:42:48.812:[sagemaker logs]: MaxConcurrentTransforms=4, MaxPayloadInMB=6, BatchStrategy=MULTI_RECORD\u001b[0m\n",
      "\u001b[34mArguments: serve\u001b[0m\n",
      "\u001b[34m[2020-09-29 14:42:48 +0000] [1] [INFO] Starting gunicorn 19.7.1\u001b[0m\n",
      "\u001b[34m[2020-09-29 14:42:48 +0000] [1] [INFO] Listening at: http://0.0.0.0:8080 (1)\u001b[0m\n",
      "\u001b[34m[2020-09-29 14:42:48 +0000] [1] [INFO] Using worker: gevent\u001b[0m\n",
      "\u001b[34m[2020-09-29 14:42:48 +0000] [37] [INFO] Booting worker with pid: 37\u001b[0m\n",
      "\u001b[34m[2020-09-29 14:42:48 +0000] [38] [INFO] Booting worker with pid: 38\u001b[0m\n",
      "\u001b[35mArguments: serve\u001b[0m\n",
      "\u001b[35m[2020-09-29 14:42:48 +0000] [1] [INFO] Starting gunicorn 19.7.1\u001b[0m\n",
      "\u001b[35m[2020-09-29 14:42:48 +0000] [1] [INFO] Listening at: http://0.0.0.0:8080 (1)\u001b[0m\n",
      "\u001b[35m[2020-09-29 14:42:48 +0000] [1] [INFO] Using worker: gevent\u001b[0m\n",
      "\u001b[35m[2020-09-29 14:42:48 +0000] [37] [INFO] Booting worker with pid: 37\u001b[0m\n",
      "\u001b[35m[2020-09-29 14:42:48 +0000] [38] [INFO] Booting worker with pid: 38\u001b[0m\n",
      "\u001b[34m[2020-09-29:14:42:48:INFO] Model loaded successfully for worker : 37\u001b[0m\n",
      "\u001b[34m[2020-09-29 14:42:48 +0000] [39] [INFO] Booting worker with pid: 39\u001b[0m\n",
      "\u001b[34m[2020-09-29:14:42:48:INFO] Model loaded successfully for worker : 38\u001b[0m\n",
      "\u001b[34m[2020-09-29 14:42:48 +0000] [40] [INFO] Booting worker with pid: 40\u001b[0m\n",
      "\u001b[34m[2020-09-29:14:42:48:INFO] Model loaded successfully for worker : 39\u001b[0m\n",
      "\u001b[34m[2020-09-29:14:42:49:INFO] Model loaded successfully for worker : 40\u001b[0m\n",
      "\u001b[35m[2020-09-29:14:42:48:INFO] Model loaded successfully for worker : 37\u001b[0m\n",
      "\u001b[35m[2020-09-29 14:42:48 +0000] [39] [INFO] Booting worker with pid: 39\u001b[0m\n",
      "\u001b[35m[2020-09-29:14:42:48:INFO] Model loaded successfully for worker : 38\u001b[0m\n",
      "\u001b[35m[2020-09-29 14:42:48 +0000] [40] [INFO] Booting worker with pid: 40\u001b[0m\n",
      "\u001b[35m[2020-09-29:14:42:48:INFO] Model loaded successfully for worker : 39\u001b[0m\n",
      "\u001b[35m[2020-09-29:14:42:49:INFO] Model loaded successfully for worker : 40\u001b[0m\n",
      "\u001b[34m[2020-09-29:14:42:49:INFO] Sniff delimiter as ','\u001b[0m\n",
      "\u001b[34m[2020-09-29:14:42:49:INFO] Determined delimiter of CSV input is ','\u001b[0m\n",
      "\u001b[34m[2020-09-29:14:42:49:INFO] Sniff delimiter as ','\u001b[0m\n",
      "\u001b[34m[2020-09-29:14:42:49:INFO] Determined delimiter of CSV input is ','\u001b[0m\n",
      "\u001b[34m[2020-09-29:14:42:49:INFO] Sniff delimiter as ','\u001b[0m\n",
      "\u001b[34m[2020-09-29:14:42:49:INFO] Determined delimiter of CSV input is ','\u001b[0m\n",
      "\u001b[35m[2020-09-29:14:42:49:INFO] Sniff delimiter as ','\u001b[0m\n",
      "\u001b[35m[2020-09-29:14:42:49:INFO] Determined delimiter of CSV input is ','\u001b[0m\n",
      "\u001b[35m[2020-09-29:14:42:49:INFO] Sniff delimiter as ','\u001b[0m\n",
      "\u001b[35m[2020-09-29:14:42:49:INFO] Determined delimiter of CSV input is ','\u001b[0m\n",
      "\u001b[35m[2020-09-29:14:42:49:INFO] Sniff delimiter as ','\u001b[0m\n",
      "\u001b[35m[2020-09-29:14:42:49:INFO] Determined delimiter of CSV input is ','\u001b[0m\n",
      "\u001b[34m[2020-09-29:14:42:50:INFO] Sniff delimiter as ','\u001b[0m\n",
      "\u001b[34m[2020-09-29:14:42:50:INFO] Determined delimiter of CSV input is ','\u001b[0m\n",
      "\u001b[35m[2020-09-29:14:42:50:INFO] Sniff delimiter as ','\u001b[0m\n",
      "\u001b[35m[2020-09-29:14:42:50:INFO] Determined delimiter of CSV input is ','\u001b[0m\n",
      "\u001b[34m[2020-09-29:14:42:51:INFO] Sniff delimiter as ','\u001b[0m\n",
      "\u001b[34m[2020-09-29:14:42:51:INFO] Determined delimiter of CSV input is ','\u001b[0m\n",
      "\u001b[34m[2020-09-29:14:42:51:INFO] Sniff delimiter as ','\u001b[0m\n",
      "\u001b[34m[2020-09-29:14:42:51:INFO] Determined delimiter of CSV input is ','\u001b[0m\n",
      "\u001b[34m[2020-09-29:14:42:51:INFO] Sniff delimiter as ','\u001b[0m\n",
      "\u001b[34m[2020-09-29:14:42:51:INFO] Determined delimiter of CSV input is ','\u001b[0m\n",
      "\u001b[35m[2020-09-29:14:42:51:INFO] Sniff delimiter as ','\u001b[0m\n",
      "\u001b[35m[2020-09-29:14:42:51:INFO] Determined delimiter of CSV input is ','\u001b[0m\n",
      "\u001b[35m[2020-09-29:14:42:51:INFO] Sniff delimiter as ','\u001b[0m\n",
      "\u001b[35m[2020-09-29:14:42:51:INFO] Determined delimiter of CSV input is ','\u001b[0m\n",
      "\u001b[35m[2020-09-29:14:42:51:INFO] Sniff delimiter as ','\u001b[0m\n",
      "\u001b[35m[2020-09-29:14:42:51:INFO] Determined delimiter of CSV input is ','\u001b[0m\n",
      "\u001b[34m[2020-09-29:14:42:52:INFO] Sniff delimiter as ','\u001b[0m\n",
      "\u001b[34m[2020-09-29:14:42:52:INFO] Determined delimiter of CSV input is ','\u001b[0m\n",
      "\u001b[35m[2020-09-29:14:42:52:INFO] Sniff delimiter as ','\u001b[0m\n",
      "\u001b[35m[2020-09-29:14:42:52:INFO] Determined delimiter of CSV input is ','\u001b[0m\n",
      "\u001b[34m[2020-09-29:14:42:54:INFO] Sniff delimiter as ','\u001b[0m\n",
      "\u001b[34m[2020-09-29:14:42:54:INFO] Determined delimiter of CSV input is ','\u001b[0m\n",
      "\u001b[34m[2020-09-29:14:42:54:INFO] Sniff delimiter as ','\u001b[0m\n",
      "\u001b[34m[2020-09-29:14:42:54:INFO] Determined delimiter of CSV input is ','\u001b[0m\n",
      "\u001b[35m[2020-09-29:14:42:54:INFO] Sniff delimiter as ','\u001b[0m\n",
      "\u001b[35m[2020-09-29:14:42:54:INFO] Determined delimiter of CSV input is ','\u001b[0m\n",
      "\u001b[35m[2020-09-29:14:42:54:INFO] Sniff delimiter as ','\u001b[0m\n",
      "\u001b[35m[2020-09-29:14:42:54:INFO] Determined delimiter of CSV input is ','\u001b[0m\n",
      "\u001b[34m[2020-09-29:14:42:55:INFO] Sniff delimiter as ','\u001b[0m\n",
      "\u001b[34m[2020-09-29:14:42:55:INFO] Determined delimiter of CSV input is ','\u001b[0m\n",
      "\u001b[34m[2020-09-29:14:42:55:INFO] Sniff delimiter as ','\u001b[0m\n",
      "\u001b[34m[2020-09-29:14:42:55:INFO] Determined delimiter of CSV input is ','\u001b[0m\n",
      "\u001b[34m[2020-09-29:14:42:55:INFO] Sniff delimiter as ','\u001b[0m\n",
      "\u001b[34m[2020-09-29:14:42:55:INFO] Determined delimiter of CSV input is ','\u001b[0m\n",
      "\u001b[34m[2020-09-29:14:42:55:INFO] Sniff delimiter as ','\u001b[0m\n",
      "\u001b[34m[2020-09-29:14:42:55:INFO] Determined delimiter of CSV input is ','\u001b[0m\n",
      "\u001b[35m[2020-09-29:14:42:55:INFO] Sniff delimiter as ','\u001b[0m\n",
      "\u001b[35m[2020-09-29:14:42:55:INFO] Determined delimiter of CSV input is ','\u001b[0m\n",
      "\u001b[35m[2020-09-29:14:42:55:INFO] Sniff delimiter as ','\u001b[0m\n",
      "\u001b[35m[2020-09-29:14:42:55:INFO] Determined delimiter of CSV input is ','\u001b[0m\n",
      "\u001b[35m[2020-09-29:14:42:55:INFO] Sniff delimiter as ','\u001b[0m\n",
      "\u001b[35m[2020-09-29:14:42:55:INFO] Determined delimiter of CSV input is ','\u001b[0m\n",
      "\u001b[35m[2020-09-29:14:42:55:INFO] Sniff delimiter as ','\u001b[0m\n",
      "\u001b[35m[2020-09-29:14:42:55:INFO] Determined delimiter of CSV input is ','\u001b[0m\n",
      "\u001b[34m[2020-09-29:14:42:57:INFO] Sniff delimiter as ','\u001b[0m\n",
      "\u001b[34m[2020-09-29:14:42:57:INFO] Determined delimiter of CSV input is ','\u001b[0m\n",
      "\u001b[34m[2020-09-29:14:42:57:INFO] Sniff delimiter as ','\u001b[0m\n",
      "\u001b[34m[2020-09-29:14:42:57:INFO] Determined delimiter of CSV input is ','\u001b[0m\n",
      "\u001b[34m[2020-09-29:14:42:57:INFO] Sniff delimiter as ','\u001b[0m\n",
      "\u001b[34m[2020-09-29:14:42:57:INFO] Determined delimiter of CSV input is ','\u001b[0m\n",
      "\u001b[35m[2020-09-29:14:42:57:INFO] Sniff delimiter as ','\u001b[0m\n",
      "\u001b[35m[2020-09-29:14:42:57:INFO] Determined delimiter of CSV input is ','\u001b[0m\n",
      "\u001b[35m[2020-09-29:14:42:57:INFO] Sniff delimiter as ','\u001b[0m\n",
      "\u001b[35m[2020-09-29:14:42:57:INFO] Determined delimiter of CSV input is ','\u001b[0m\n",
      "\u001b[35m[2020-09-29:14:42:57:INFO] Sniff delimiter as ','\u001b[0m\n",
      "\u001b[35m[2020-09-29:14:42:57:INFO] Determined delimiter of CSV input is ','\u001b[0m\n",
      "\u001b[34m[2020-09-29:14:42:58:INFO] Sniff delimiter as ','\u001b[0m\n",
      "\u001b[34m[2020-09-29:14:42:58:INFO] Determined delimiter of CSV input is ','\u001b[0m\n",
      "\u001b[35m[2020-09-29:14:42:58:INFO] Sniff delimiter as ','\u001b[0m\n",
      "\u001b[35m[2020-09-29:14:42:58:INFO] Determined delimiter of CSV input is ','\u001b[0m\n",
      "\u001b[34m[2020-09-29:14:43:00:INFO] Sniff delimiter as ','\u001b[0m\n",
      "\u001b[34m[2020-09-29:14:43:00:INFO] Determined delimiter of CSV input is ','\u001b[0m\n",
      "\u001b[34m[2020-09-29:14:43:00:INFO] Sniff delimiter as ','\u001b[0m\n",
      "\u001b[34m[2020-09-29:14:43:00:INFO] Determined delimiter of CSV input is ','\u001b[0m\n",
      "\u001b[34m[2020-09-29:14:43:00:INFO] Sniff delimiter as ','\u001b[0m\n",
      "\u001b[34m[2020-09-29:14:43:00:INFO] Determined delimiter of CSV input is ','\u001b[0m\n",
      "\u001b[35m[2020-09-29:14:43:00:INFO] Sniff delimiter as ','\u001b[0m\n",
      "\u001b[35m[2020-09-29:14:43:00:INFO] Determined delimiter of CSV input is ','\u001b[0m\n",
      "\u001b[35m[2020-09-29:14:43:00:INFO] Sniff delimiter as ','\u001b[0m\n",
      "\u001b[35m[2020-09-29:14:43:00:INFO] Determined delimiter of CSV input is ','\u001b[0m\n",
      "\u001b[35m[2020-09-29:14:43:00:INFO] Sniff delimiter as ','\u001b[0m\n",
      "\u001b[35m[2020-09-29:14:43:00:INFO] Determined delimiter of CSV input is ','\u001b[0m\n",
      "\u001b[34m[2020-09-29:14:43:02:INFO] Sniff delimiter as ','\u001b[0m\n",
      "\u001b[34m[2020-09-29:14:43:02:INFO] Determined delimiter of CSV input is ','\u001b[0m\n",
      "\u001b[34m[2020-09-29:14:43:02:INFO] Sniff delimiter as ','\u001b[0m\n",
      "\u001b[34m[2020-09-29:14:43:02:INFO] Determined delimiter of CSV input is ','\u001b[0m\n",
      "\u001b[34m[2020-09-29:14:43:02:INFO] Sniff delimiter as ','\u001b[0m\n",
      "\u001b[34m[2020-09-29:14:43:02:INFO] Determined delimiter of CSV input is ','\u001b[0m\n",
      "\u001b[34m[2020-09-29:14:43:02:INFO] Sniff delimiter as ','\u001b[0m\n",
      "\u001b[34m[2020-09-29:14:43:02:INFO] Determined delimiter of CSV input is ','\u001b[0m\n",
      "\u001b[35m[2020-09-29:14:43:02:INFO] Sniff delimiter as ','\u001b[0m\n",
      "\u001b[35m[2020-09-29:14:43:02:INFO] Determined delimiter of CSV input is ','\u001b[0m\n",
      "\u001b[35m[2020-09-29:14:43:02:INFO] Sniff delimiter as ','\u001b[0m\n",
      "\u001b[35m[2020-09-29:14:43:02:INFO] Determined delimiter of CSV input is ','\u001b[0m\n",
      "\u001b[35m[2020-09-29:14:43:02:INFO] Sniff delimiter as ','\u001b[0m\n",
      "\u001b[35m[2020-09-29:14:43:02:INFO] Determined delimiter of CSV input is ','\u001b[0m\n",
      "\u001b[35m[2020-09-29:14:43:02:INFO] Sniff delimiter as ','\u001b[0m\n",
      "\u001b[35m[2020-09-29:14:43:02:INFO] Determined delimiter of CSV input is ','\u001b[0m\n",
      "\u001b[34m[2020-09-29:14:43:04:INFO] Sniff delimiter as ','\u001b[0m\n",
      "\u001b[34m[2020-09-29:14:43:04:INFO] Determined delimiter of CSV input is ','\u001b[0m\n",
      "\u001b[34m[2020-09-29:14:43:05:INFO] Sniff delimiter as ','\u001b[0m\n",
      "\u001b[34m[2020-09-29:14:43:05:INFO] Determined delimiter of CSV input is ','\u001b[0m\n",
      "\u001b[35m[2020-09-29:14:43:04:INFO] Sniff delimiter as ','\u001b[0m\n",
      "\u001b[35m[2020-09-29:14:43:04:INFO] Determined delimiter of CSV input is ','\u001b[0m\n",
      "\u001b[35m[2020-09-29:14:43:05:INFO] Sniff delimiter as ','\u001b[0m\n",
      "\u001b[35m[2020-09-29:14:43:05:INFO] Determined delimiter of CSV input is ','\u001b[0m\n",
      "\u001b[34m[2020-09-29:14:43:05:INFO] Sniff delimiter as ','\u001b[0m\n",
      "\u001b[35m[2020-09-29:14:43:05:INFO] Sniff delimiter as ','\u001b[0m\n",
      "\u001b[34m[2020-09-29:14:43:05:INFO] Determined delimiter of CSV input is ','\u001b[0m\n",
      "\u001b[34m[2020-09-29:14:43:05:INFO] Sniff delimiter as ','\u001b[0m\n",
      "\u001b[34m[2020-09-29:14:43:05:INFO] Determined delimiter of CSV input is ','\u001b[0m\n",
      "\u001b[35m[2020-09-29:14:43:05:INFO] Determined delimiter of CSV input is ','\u001b[0m\n",
      "\u001b[35m[2020-09-29:14:43:05:INFO] Sniff delimiter as ','\u001b[0m\n",
      "\u001b[35m[2020-09-29:14:43:05:INFO] Determined delimiter of CSV input is ','\u001b[0m\n",
      "\u001b[34m[2020-09-29:14:43:07:INFO] Sniff delimiter as ','\u001b[0m\n",
      "\u001b[34m[2020-09-29:14:43:07:INFO] Determined delimiter of CSV input is ','\u001b[0m\n",
      "\u001b[34m[2020-09-29:14:43:07:INFO] Sniff delimiter as ','\u001b[0m\n",
      "\u001b[35m[2020-09-29:14:43:07:INFO] Sniff delimiter as ','\u001b[0m\n",
      "\u001b[35m[2020-09-29:14:43:07:INFO] Determined delimiter of CSV input is ','\u001b[0m\n",
      "\u001b[35m[2020-09-29:14:43:07:INFO] Sniff delimiter as ','\u001b[0m\n",
      "\u001b[34m[2020-09-29:14:43:07:INFO] Determined delimiter of CSV input is ','\u001b[0m\n",
      "\u001b[34m[2020-09-29:14:43:07:INFO] Sniff delimiter as ','\u001b[0m\n",
      "\u001b[34m[2020-09-29:14:43:07:INFO] Determined delimiter of CSV input is ','\u001b[0m\n",
      "\u001b[34m[2020-09-29:14:43:07:INFO] Sniff delimiter as ','\u001b[0m\n",
      "\u001b[34m[2020-09-29:14:43:07:INFO] Determined delimiter of CSV input is ','\u001b[0m\n",
      "\u001b[35m[2020-09-29:14:43:07:INFO] Determined delimiter of CSV input is ','\u001b[0m\n",
      "\u001b[35m[2020-09-29:14:43:07:INFO] Sniff delimiter as ','\u001b[0m\n",
      "\u001b[35m[2020-09-29:14:43:07:INFO] Determined delimiter of CSV input is ','\u001b[0m\n",
      "\u001b[35m[2020-09-29:14:43:07:INFO] Sniff delimiter as ','\u001b[0m\n",
      "\u001b[35m[2020-09-29:14:43:07:INFO] Determined delimiter of CSV input is ','\u001b[0m\n"
     ]
    },
    {
     "name": "stdout",
     "output_type": "stream",
     "text": [
      "\n",
      "\u001b[34m[2020-09-29:14:43:10:INFO] Determined delimiter of CSV input is ','\u001b[0m\n",
      "\u001b[35m[2020-09-29:14:43:10:INFO] Determined delimiter of CSV input is ','\u001b[0m\n",
      "\u001b[34m[2020-09-29:14:43:10:INFO] Sniff delimiter as ','\u001b[0m\n",
      "\u001b[34m[2020-09-29:14:43:10:INFO] Determined delimiter of CSV input is ','\u001b[0m\n",
      "\u001b[35m[2020-09-29:14:43:10:INFO] Sniff delimiter as ','\u001b[0m\n",
      "\u001b[35m[2020-09-29:14:43:10:INFO] Determined delimiter of CSV input is ','\u001b[0m\n",
      "\u001b[34m[2020-09-29:14:43:12:INFO] Sniff delimiter as ','\u001b[0m\n",
      "\u001b[34m[2020-09-29:14:43:12:INFO] Determined delimiter of CSV input is ','\u001b[0m\n",
      "\u001b[34m[2020-09-29:14:43:12:INFO] Sniff delimiter as ','\u001b[0m\n",
      "\u001b[34m[2020-09-29:14:43:12:INFO] Determined delimiter of CSV input is ','\u001b[0m\n",
      "\u001b[35m[2020-09-29:14:43:12:INFO] Sniff delimiter as ','\u001b[0m\n",
      "\u001b[35m[2020-09-29:14:43:12:INFO] Determined delimiter of CSV input is ','\u001b[0m\n",
      "\u001b[35m[2020-09-29:14:43:12:INFO] Sniff delimiter as ','\u001b[0m\n",
      "\u001b[35m[2020-09-29:14:43:12:INFO] Determined delimiter of CSV input is ','\u001b[0m\n"
     ]
    }
   ],
   "source": [
    "xgb_transformer.wait()"
   ]
  },
  {
   "cell_type": "markdown",
   "metadata": {},
   "source": [
    "Now the transform job has executed and the result, the estimated sentiment of each review, has been saved on S3. Since we would rather work on this file locally we can perform a bit of notebook magic to copy the file to the `data_dir`."
   ]
  },
  {
   "cell_type": "code",
   "execution_count": 28,
   "metadata": {},
   "outputs": [
    {
     "name": "stdout",
     "output_type": "stream",
     "text": [
      "Completed 256.0 KiB/368.9 KiB (2.1 MiB/s) with 1 file(s) remaining\r",
      "Completed 368.9 KiB/368.9 KiB (3.0 MiB/s) with 1 file(s) remaining\r",
      "download: s3://sagemaker-us-east-2-428747017283/xgboost-2020-09-29-14-38-18-999/test.csv.out to ../data/sentiment_web_app/test.csv.out\r\n"
     ]
    }
   ],
   "source": [
    "!aws s3 cp --recursive $xgb_transformer.output_path $data_dir"
   ]
  },
  {
   "cell_type": "markdown",
   "metadata": {},
   "source": [
    "The last step is now to read in the output from our model, convert the output to something a little more usable, in this case we want the sentiment to be either `1` (positive) or `0` (negative), and then compare to the ground truth labels."
   ]
  },
  {
   "cell_type": "code",
   "execution_count": 29,
   "metadata": {},
   "outputs": [],
   "source": [
    "predictions = pd.read_csv(os.path.join(data_dir, 'test.csv.out'), header=None)\n",
    "predictions = [round(num) for num in predictions.squeeze().values]"
   ]
  },
  {
   "cell_type": "code",
   "execution_count": 30,
   "metadata": {},
   "outputs": [
    {
     "data": {
      "text/plain": [
       "0.8522"
      ]
     },
     "execution_count": 30,
     "metadata": {},
     "output_type": "execute_result"
    }
   ],
   "source": [
    "from sklearn.metrics import accuracy_score\n",
    "accuracy_score(test_y, predictions)"
   ]
  },
  {
   "cell_type": "markdown",
   "metadata": {},
   "source": [
    "## Step 6: Deploying the model\n",
    "\n",
    "Once we construct and fit our model, SageMaker stores the resulting model artifacts and we can use those to deploy an endpoint (inference code). To see this, look in the SageMaker console and you should see that a model has been created along with a link to the S3 location where the model artifacts have been stored.\n",
    "\n",
    "Deploying an endpoint is a lot like training the model with a few important differences. The first is that a deployed model doesn't change the model artifacts, so as you send it various testing instances the model won't change. Another difference is that since we aren't performing a fixed computation, as we were in the training step or while performing a batch transform, the compute instance that gets started stays running until we tell it to stop. This is important to note as if we forget and leave it running we will be charged the entire time.\n",
    "\n",
    "In other words **If you are no longer using a deployed endpoint, shut it down!**"
   ]
  },
  {
   "cell_type": "code",
   "execution_count": 31,
   "metadata": {},
   "outputs": [
    {
     "name": "stderr",
     "output_type": "stream",
     "text": [
      "Parameter image will be renamed to image_uri in SageMaker Python SDK v2.\n",
      "Using already existing model: xgboost-2020-09-29-14-23-13-886\n"
     ]
    },
    {
     "name": "stdout",
     "output_type": "stream",
     "text": [
      "-------------!"
     ]
    }
   ],
   "source": [
    "xgb_predictor = xgb.deploy(initial_instance_count = 1, instance_type = 'ml.m4.xlarge')"
   ]
  },
  {
   "cell_type": "markdown",
   "metadata": {},
   "source": [
    "### Testing the model (again)\n",
    "\n",
    "Now that we have deployed our endpoint, we can send the testing data to it and get back the inference results. We already did this earlier using the batch transform functionality of SageMaker, however, we will test our model again using the newly deployed endpoint so that we can make sure that it works properly and to get a bit of a feel for how the endpoint works.\n",
    "\n",
    "When using the created endpoint it is important to know that we are limited in the amount of information we can send in each call so we need to break the testing data up into chunks and then send each chunk. Also, we need to serialize our data before we send it to the endpoint to ensure that our data is transmitted properly. Fortunately, SageMaker can do the serialization part for us provided we tell it the format of our data."
   ]
  },
  {
   "cell_type": "code",
   "execution_count": 32,
   "metadata": {},
   "outputs": [],
   "source": [
    "from sagemaker.predictor import csv_serializer\n",
    "\n",
    "# We need to tell the endpoint what format the data we are sending is in so that SageMaker can perform the serialization.\n",
    "xgb_predictor.content_type = 'text/csv'\n",
    "xgb_predictor.serializer = csv_serializer"
   ]
  },
  {
   "cell_type": "code",
   "execution_count": 33,
   "metadata": {},
   "outputs": [],
   "source": [
    "# We split the data into chunks and send each chunk seperately, accumulating the results.\n",
    "\n",
    "def predict(data, rows=512):\n",
    "    split_array = np.array_split(data, int(data.shape[0] / float(rows) + 1))\n",
    "    predictions = ''\n",
    "    for array in split_array:\n",
    "        predictions = ','.join([predictions, xgb_predictor.predict(array).decode('utf-8')])\n",
    "    \n",
    "    return np.fromstring(predictions[1:], sep=',')"
   ]
  },
  {
   "cell_type": "code",
   "execution_count": 34,
   "metadata": {},
   "outputs": [],
   "source": [
    "test_X = pd.read_csv(os.path.join(data_dir, 'test.csv'), header=None).values\n",
    "\n",
    "predictions = predict(test_X)\n",
    "predictions = [round(num) for num in predictions]"
   ]
  },
  {
   "cell_type": "markdown",
   "metadata": {},
   "source": [
    "Lastly, we check to see what the accuracy of our model is."
   ]
  },
  {
   "cell_type": "code",
   "execution_count": 35,
   "metadata": {},
   "outputs": [
    {
     "data": {
      "text/plain": [
       "0.8522"
      ]
     },
     "execution_count": 35,
     "metadata": {},
     "output_type": "execute_result"
    }
   ],
   "source": [
    "from sklearn.metrics import accuracy_score\n",
    "accuracy_score(test_y, predictions)"
   ]
  },
  {
   "cell_type": "markdown",
   "metadata": {},
   "source": [
    "And the results here should agree with the model testing that we did earlier using the batch transform job.\n",
    "\n",
    "### Cleaning up\n",
    "\n",
    "Now that we've determined that deploying our model works as expected, we are going to shut it down. Remember that the longer the endpoint is left running, the greater the cost and since we have a bit more work to do before we are able to use our endpoint with our simple web app, we should shut everything down."
   ]
  },
  {
   "cell_type": "code",
   "execution_count": 36,
   "metadata": {},
   "outputs": [],
   "source": [
    "xgb_predictor.delete_endpoint()"
   ]
  },
  {
   "cell_type": "markdown",
   "metadata": {},
   "source": [
    "## Step 7: Putting our model to work\n",
    "\n",
    "As we've mentioned a few times now, our goal is to have our model deployed and then access it using a very simple web app. The intent is for this web app to take some user submitted data (a review), send it off to our endpoint (the model) and then display the result.\n",
    "\n",
    "However, there is a small catch. Currently the only way we can access the endpoint to send it data is using the SageMaker API. We can, if we wish, expose the actual URL that our model's endpoint is receiving data from, however, if we just send it data ourselves we will not get anything in return. This is because the endpoint created by SageMaker requires the entity accessing it have the correct permissions. So, we would need to somehow authenticate our web app with AWS.\n",
    "\n",
    "Having a website that authenticates to AWS seems a bit beyond the scope of this lesson so we will opt for an alternative approach. Namely, we will create a new endpoint which does not require authentication and which acts as a proxy for the SageMaker endpoint.\n",
    "\n",
    "As an additional constraint, we will try to avoid doing any data processing in the web app itself. Remember that when we constructed and tested our model we started with a movie review, then we simplified it by removing any html formatting and punctuation, then we constructed a bag of words embedding and the resulting vector is what we sent to our model. All of this needs to be done to our user input as well.\n",
    "\n",
    "Fortunately we can do all of this data processing in the backend, using Amazon's Lambda service.\n",
    "\n",
    "<img src=\"Web App Diagram.svg\">\n",
    "\n",
    "The diagram above gives an overview of how the various services will work together. On the far right is the model which we trained above and which will be deployed using SageMaker. On the far left is our web app that collects a user's movie review, sends it off and expects a positive or negative sentiment in return.\n",
    "\n",
    "In the middle is where some of the magic happens. We will construct a Lambda function, which you can think of as a straightforward Python function that can be executed whenever a specified event occurs. This Python function will do the data processing we need to perform on a user submitted review. In addition, we will give this function permission to send and recieve data from a SageMaker endpoint.\n",
    "\n",
    "Lastly, the method we will use to execute the Lambda function is a new endpoint that we will create using API Gateway. This endpoint will be a url that listens for data to be sent to it. Once it gets some data it will pass that data on to the Lambda function and then return whatever the Lambda function returns. Essentially it will act as an interface that lets our web app communicate with the Lambda function.\n",
    "\n",
    "### Processing a single review\n",
    "\n",
    "For now, suppose we are given a movie review by our user in the form of a string, like so:"
   ]
  },
  {
   "cell_type": "code",
   "execution_count": 37,
   "metadata": {},
   "outputs": [],
   "source": [
    "test_review = \"Nothing but a disgusting materialistic pageant of glistening abed remote control greed zombies, totally devoid of any heart or heat. A romantic comedy that has zero romantic chemestry and zero laughs!\""
   ]
  },
  {
   "cell_type": "markdown",
   "metadata": {},
   "source": [
    "How do we go from this string to the bag of words feature vector that is expected by our model?\n",
    "\n",
    "If we recall at the beginning of this notebook, the first step is to remove any unnecessary characters using the `review_to_words` method. Remember that we intentionally did this in a very simplistic way. This is because we are going to have to copy this method to our (eventual) Lambda function (we will go into more detail later) and this means it needs to be rather simplistic."
   ]
  },
  {
   "cell_type": "code",
   "execution_count": 38,
   "metadata": {},
   "outputs": [
    {
     "name": "stdout",
     "output_type": "stream",
     "text": [
      "nothing but a disgusting materialistic pageant of glistening abed remote control greed zombies totally devoid of any heart or heat a romantic comedy that has zero romantic chemestry and zero laughs\n"
     ]
    }
   ],
   "source": [
    "test_words = review_to_words(test_review)\n",
    "print(test_words)"
   ]
  },
  {
   "cell_type": "markdown",
   "metadata": {},
   "source": [
    "Next, we need to construct a bag of words embedding of the `test_words` string. To do this, remember that a bag of words embedding uses a `vocabulary` consisting of the most frequently appearing words in a set of documents. Then, for each word in the vocabulary we record the number of times that word appears in `test_words`. We constructed the `vocabulary` earlier using the training set for our problem so encoding `test_words` is relatively straightforward."
   ]
  },
  {
   "cell_type": "code",
   "execution_count": 39,
   "metadata": {},
   "outputs": [],
   "source": [
    "def bow_encoding(words, vocabulary):\n",
    "    bow = [0] * len(vocabulary) # Start by setting the count for each word in the vocabulary to zero.\n",
    "    for word in words.split():  # For each word in the string\n",
    "        if word in vocabulary:  # If the word is one that occurs in the vocabulary, increase its count.\n",
    "            bow[vocabulary[word]] += 1\n",
    "    return bow"
   ]
  },
  {
   "cell_type": "code",
   "execution_count": 40,
   "metadata": {},
   "outputs": [
    {
     "name": "stdout",
     "output_type": "stream",
     "text": [
      "[0, 0, 0, 0, 0, 0, 0, 0, 0, 0, 0, 0, 0, 0, 0, 0, 0, 0, 0, 0, 0, 0, 0, 0, 0, 0, 0, 0, 0, 0, 0, 0, 0, 0, 0, 0, 0, 0, 0, 0, 0, 0, 0, 0, 0, 0, 0, 0, 0, 0, 0, 0, 0, 0, 0, 0, 0, 0, 0, 0, 0, 0, 0, 0, 0, 0, 0, 0, 0, 0, 0, 0, 0, 0, 0, 0, 0, 0, 0, 0, 0, 0, 0, 0, 0, 0, 0, 0, 0, 0, 0, 0, 0, 0, 0, 0, 0, 0, 0, 0, 0, 0, 0, 0, 0, 0, 0, 0, 0, 0, 0, 0, 0, 0, 0, 0, 0, 0, 0, 0, 0, 0, 0, 0, 0, 0, 0, 0, 0, 0, 0, 0, 0, 0, 0, 0, 0, 0, 0, 0, 0, 0, 0, 0, 0, 0, 0, 0, 0, 0, 0, 0, 0, 0, 0, 0, 0, 0, 0, 0, 0, 0, 0, 0, 0, 0, 0, 0, 0, 0, 0, 0, 0, 0, 0, 0, 0, 0, 0, 0, 0, 0, 0, 0, 0, 0, 0, 0, 0, 0, 0, 0, 0, 0, 0, 0, 0, 0, 0, 0, 0, 0, 0, 0, 0, 0, 0, 0, 0, 0, 0, 0, 0, 0, 0, 0, 0, 0, 0, 0, 0, 0, 0, 0, 0, 1, 0, 0, 0, 0, 0, 0, 0, 0, 0, 0, 0, 0, 0, 0, 0, 0, 0, 0, 0, 0, 0, 0, 0, 0, 0, 0, 0, 0, 0, 1, 0, 0, 0, 0, 0, 0, 0, 0, 0, 0, 0, 0, 0, 0, 0, 0, 0, 0, 0, 0, 0, 0, 0, 0, 0, 0, 0, 0, 0, 0, 0, 0, 0, 0, 0, 0, 0, 0, 0, 0, 0, 0, 0, 0, 0, 0, 0, 0, 0, 0, 0, 0, 0, 0, 0, 0, 0, 0, 0, 0, 0, 0, 0, 0, 0, 0, 0, 0, 0, 0, 0, 0, 0, 0, 0, 0, 0, 0, 0, 0, 0, 0, 0, 0, 0, 0, 0, 0, 0, 0, 0, 0, 0, 0, 0, 0, 0, 0, 0, 0, 0, 0, 0, 0, 0, 0, 0, 0, 0, 0, 0, 0, 0, 0, 0, 0, 0, 0, 0, 0, 0, 0, 0, 0, 0, 0, 0, 0, 0, 0, 0, 0, 0, 0, 0, 0, 0, 0, 0, 0, 0, 0, 0, 0, 0, 0, 0, 0, 0, 0, 0, 0, 0, 0, 0, 0, 0, 0, 0, 0, 0, 0, 0, 0, 0, 0, 0, 0, 0, 0, 0, 0, 0, 0, 0, 0, 0, 0, 0, 0, 0, 0, 0, 0, 0, 0, 0, 0, 0, 0, 0, 0, 0, 0, 0, 0, 0, 0, 0, 0, 0, 0, 0, 0, 0, 0, 0, 0, 0, 0, 0, 0, 0, 0, 0, 0, 0, 0, 0, 0, 0, 0, 0, 0, 0, 0, 0, 0, 0, 0, 0, 0, 0, 0, 0, 0, 0, 0, 0, 0, 0, 0, 0, 0, 0, 0, 0, 0, 0, 0, 0, 0, 0, 0, 0, 0, 0, 0, 0, 0, 0, 0, 0, 0, 0, 0, 0, 0, 0, 0, 0, 0, 0, 0, 0, 0, 0, 0, 0, 0, 0, 0, 0, 0, 0, 0, 0, 0, 0, 0, 0, 0, 0, 0, 0, 0, 0, 0, 0, 0, 0, 0, 0, 0, 0, 0, 0, 0, 0, 0, 0, 0, 0, 0, 0, 0, 0, 0, 0, 0, 0, 0, 0, 0, 0, 0, 0, 0, 0, 0, 0, 0, 0, 0, 0, 0, 0, 0, 0, 0, 0, 0, 0, 0, 0, 0, 0, 0, 0, 0, 0, 0, 0, 0, 0, 0, 0, 0, 0, 0, 0, 0, 0, 0, 0, 0, 0, 0, 0, 0, 0, 0, 0, 0, 0, 0, 0, 0, 0, 1, 0, 0, 0, 0, 0, 0, 0, 0, 0, 0, 0, 0, 0, 0, 0, 0, 0, 0, 0, 0, 0, 0, 0, 0, 0, 0, 0, 0, 0, 0, 0, 0, 0, 0, 0, 0, 0, 0, 0, 0, 0, 0, 0, 0, 0, 0, 0, 0, 0, 0, 0, 0, 0, 0, 0, 0, 0, 0, 0, 0, 0, 0, 0, 0, 0, 0, 0, 0, 0, 0, 0, 0, 0, 0, 0, 0, 0, 0, 0, 0, 0, 0, 0, 0, 0, 0, 0, 0, 0, 0, 0, 0, 0, 0, 0, 0, 0, 0, 0, 0, 0, 0, 0, 0, 0, 0, 0, 0, 0, 0, 0, 0, 0, 0, 0, 0, 0, 0, 0, 0, 0, 0, 0, 0, 0, 0, 0, 0, 0, 0, 0, 0, 0, 0, 0, 0, 0, 0, 0, 0, 0, 0, 0, 0, 0, 0, 0, 0, 0, 0, 0, 0, 0, 0, 0, 0, 0, 0, 0, 0, 0, 0, 0, 0, 0, 0, 0, 0, 0, 0, 0, 0, 0, 0, 0, 0, 0, 0, 0, 0, 0, 0, 0, 0, 0, 0, 0, 0, 0, 0, 0, 0, 0, 0, 0, 0, 0, 0, 0, 0, 0, 0, 0, 0, 0, 0, 0, 0, 0, 0, 0, 0, 0, 0, 0, 0, 0, 0, 0, 0, 0, 0, 0, 0, 0, 0, 0, 0, 0, 0, 0, 0, 0, 0, 0, 0, 0, 0, 0, 0, 0, 0, 0, 0, 0, 0, 0, 0, 0, 0, 0, 0, 0, 1, 0, 0, 0, 0, 0, 0, 0, 0, 0, 0, 0, 0, 0, 0, 0, 0, 0, 0, 0, 0, 0, 0, 0, 0, 0, 0, 0, 0, 0, 0, 0, 0, 0, 0, 0, 0, 0, 0, 0, 0, 0, 0, 0, 0, 0, 0, 0, 0, 0, 0, 0, 0, 0, 0, 0, 0, 0, 0, 0, 0, 0, 0, 0, 0, 0, 0, 0, 0, 0, 0, 0, 0, 0, 0, 0, 0, 0, 0, 0, 0, 0, 0, 0, 0, 0, 0, 0, 1, 0, 0, 0, 0, 0, 0, 0, 0, 0, 0, 0, 0, 0, 0, 0, 0, 0, 0, 0, 0, 0, 0, 0, 0, 0, 0, 0, 0, 0, 0, 0, 0, 0, 0, 0, 0, 0, 0, 0, 0, 0, 0, 0, 0, 0, 0, 0, 0, 0, 0, 0, 0, 0, 0, 0, 0, 0, 0, 0, 0, 0, 0, 0, 0, 0, 0, 0, 0, 0, 0, 0, 0, 0, 0, 0, 0, 0, 0, 0, 0, 0, 0, 0, 0, 0, 0, 0, 0, 0, 0, 0, 0, 0, 0, 0, 0, 0, 0, 0, 0, 0, 0, 0, 0, 0, 0, 0, 0, 0, 0, 0, 0, 0, 0, 0, 0, 0, 0, 0, 0, 0, 0, 0, 0, 0, 0, 0, 0, 0, 0, 0, 0, 0, 0, 0, 0, 0, 0, 0, 0, 0, 0, 0, 0, 0, 0, 0, 0, 0, 0, 0, 0, 0, 0, 0, 0, 0, 0, 0, 0, 0, 0, 0, 0, 0, 0, 0, 0, 0, 0, 0, 0, 0, 0, 0, 0, 0, 0, 0, 0, 0, 0, 0, 0, 0, 0, 0, 0, 0, 0, 0, 0, 0, 0, 0, 0, 0, 0, 0, 0, 0, 0, 0, 0, 0, 0, 0, 0, 0, 0, 0, 0, 0, 0, 0, 0, 0, 0, 0, 0, 0, 0, 0, 0, 0, 0, 0, 0, 0, 0, 0, 0, 0, 0, 0, 0, 0, 0, 0, 0, 0, 0, 0, 0, 0, 0, 0, 0, 0, 0, 1, 0, 0, 0, 0, 0, 0, 0, 0, 0, 0, 0, 0, 0, 0, 0, 0, 0, 0, 0, 0, 0, 0, 0, 0, 0, 0, 0, 0, 0, 0, 0, 0, 0, 0, 0, 0, 0, 0, 0, 0, 0, 0, 0, 0, 0, 0, 0, 0, 0, 0, 0, 0, 0, 0, 0, 1, 0, 0, 0, 0, 0, 0, 0, 0, 0, 0, 0, 0, 0, 0, 0, 0, 0, 0, 0, 0, 0, 0, 0, 0, 0, 0, 0, 0, 0, 0, 0, 0, 0, 0, 0, 0, 0, 0, 0, 0, 0, 0, 0, 0, 0, 0, 0, 0, 0, 0, 0, 0, 0, 0, 0, 0, 0, 0, 0, 0, 0, 0, 0, 0, 0, 0, 0, 0, 0, 0, 0, 0, 0, 0, 0, 0, 0, 0, 0, 0, 0, 0, 0, 0, 0, 0, 0, 0, 0, 0, 0, 0, 0, 0, 0, 0, 0, 0, 0, 0, 0, 0, 0, 0, 0, 0, 0, 0, 0, 0, 0, 0, 0, 0, 0, 0, 0, 0, 0, 0, 0, 0, 0, 0, 0, 0, 0, 0, 0, 0, 0, 0, 0, 0, 0, 0, 0, 0, 0, 0, 0, 0, 0, 0, 0, 0, 0, 0, 0, 0, 0, 0, 0, 0, 0, 0, 0, 0, 0, 0, 0, 0, 0, 0, 0, 0, 0, 0, 0, 0, 0, 0, 0, 0, 0, 0, 0, 0, 0, 0, 0, 0, 0, 0, 0, 0, 0, 0, 0, 0, 0, 0, 0, 0, 0, 0, 0, 0, 0, 0, 0, 0, 0, 0, 0, 0, 0, 0, 0, 0, 0, 0, 0, 0, 0, 0, 0, 0, 0, 0, 0, 0, 0, 0, 0, 0, 0, 0, 0, 0, 0, 0, 0, 0, 0, 0, 0, 0, 0, 0, 0, 0, 0, 0, 0, 0, 0, 0, 0, 0, 0, 0, 0, 0, 0, 0, 0, 0, 0, 0, 0, 0, 0, 0, 0, 0, 0, 0, 0, 0, 0, 0, 0, 0, 0, 0, 0, 0, 0, 0, 0, 0, 0, 0, 0, 0, 0, 0, 0, 0, 0, 0, 0, 0, 0, 0, 0, 0, 0, 0, 0, 0, 0, 0, 0, 0, 0, 0, 0, 0, 0, 0, 0, 0, 0, 0, 0, 0, 0, 0, 0, 0, 0, 0, 0, 0, 0, 0, 0, 0, 0, 0, 0, 0, 0, 0, 0, 0, 0, 0, 0, 0, 0, 0, 0, 0, 0, 0, 0, 0, 0, 0, 0, 0, 0, 0, 0, 0, 0, 0, 0, 0, 0, 0, 0, 0, 0, 0, 0, 0, 0, 0, 0, 0, 0, 0, 0, 0, 0, 0, 0, 0, 0, 0, 0, 0, 0, 0, 0, 0, 0, 0, 0, 0, 0, 0, 0, 0, 0, 0, 0, 0, 0, 0, 0, 0, 0, 0, 0, 0, 0, 0, 0, 0, 0, 0, 0, 0, 0, 0, 0, 0, 0, 0, 0, 0, 0, 0, 0, 0, 0, 0, 0, 0, 0, 0, 0, 0, 0, 0, 0, 0, 0, 0, 0, 0, 0, 0, 0, 0, 0, 0, 0, 0, 0, 0, 0, 0, 0, 0, 0, 0, 0, 0, 0, 0, 0, 0, 0, 0, 0, 0, 0, 0, 0, 0, 0, 0, 0, 0, 0, 0, 0, 0, 0, 0, 0, 0, 0, 0, 0, 0, 0, 0, 0, 0, 0, 0, 0, 0, 0, 0, 0, 0, 0, 0, 0, 0, 0, 0, 0, 0, 0, 0, 0, 0, 0, 0, 0, 0, 0, 0, 0, 0, 0, 0, 0, 0, 0, 0, 0, 0, 0, 0, 0, 0, 0, 0, 0, 0, 0, 0, 0, 0, 0, 0, 0, 0, 0, 0, 0, 0, 0, 0, 0, 0, 0, 0, 0, 0, 0, 0, 0, 0, 0, 0, 0, 0, 0, 0, 0, 0, 0, 0, 0, 0, 0, 0, 0, 0, 0, 0, 0, 0, 0, 0, 0, 0, 0, 0, 0, 0, 0, 0, 0, 0, 0, 0, 0, 0, 0, 0, 0, 0, 0, 0, 0, 0, 0, 0, 0, 0, 0, 0, 0, 0, 0, 0, 0, 0, 0, 0, 0, 0, 0, 0, 0, 0, 0, 0, 0, 0, 0, 0, 0, 0, 0, 0, 0, 0, 0, 0, 0, 0, 0, 0, 0, 0, 0, 0, 0, 0, 0, 0, 0, 0, 0, 0, 0, 0, 0, 0, 0, 0, 0, 0, 0, 0, 0, 0, 0, 0, 0, 0, 0, 0, 0, 0, 0, 0, 0, 0, 1, 0, 0, 0, 0, 0, 0, 0, 0, 0, 0, 0, 0, 0, 0, 0, 0, 0, 0, 0, 0, 0, 0, 0, 0, 0, 0, 0, 0, 0, 0, 0, 0, 0, 0, 0, 0, 0, 0, 0, 0, 0, 0, 0, 0, 0, 0, 0, 0, 0, 0, 0, 0, 0, 0, 0, 0, 0, 0, 0, 0, 0, 0, 0, 0, 0, 0, 0, 0, 0, 0, 0, 0, 0, 0, 1, 0, 0, 0, 0, 0, 0, 0, 0, 0, 0, 0, 0, 0, 0, 0, 0, 0, 0, 0, 0, 1, 0, 0, 1, 0, 0, 0, 0, 0, 0, 0, 0, 0, 0, 0, 0, 0, 0, 0, 0, 0, 0, 0, 0, 0, 0, 0, 0, 0, 0, 0, 0, 0, 0, 0, 0, 0, 0, 0, 0, 0, 0, 0, 0, 0, 0, 0, 0, 0, 0, 0, 0, 0, 0, 0, 0, 0, 0, 0, 0, 0, 0, 0, 0, 0, 0, 0, 0, 0, 0, 0, 0, 0, 0, 0, 0, 0, 0, 0, 0, 0, 0, 0, 0, 0, 0, 0, 0, 0, 0, 0, 0, 0, 0, 0, 0, 0, 0, 0, 0, 0, 0, 0, 0, 0, 0, 0, 0, 0, 0, 0, 0, 0, 0, 0, 0, 0, 0, 0, 0, 0, 0, 0, 0, 0, 0, 0, 0, 0, 0, 0, 0, 0, 0, 0, 0, 0, 0, 0, 0, 0, 0, 0, 0, 0, 0, 0, 0, 0, 0, 0, 0, 0, 0, 0, 0, 0, 0, 0, 0, 0, 0, 0, 0, 0, 0, 0, 0, 0, 0, 0, 0, 0, 0, 0, 0, 0, 0, 0, 0, 0, 0, 0, 0, 0, 0, 0, 0, 0, 0, 0, 0, 0, 0, 0, 0, 0, 0, 0, 0, 0, 0, 0, 0, 0, 0, 0, 0, 0, 0, 0, 0, 0, 0, 0, 0, 0, 0, 0, 0, 0, 0, 0, 0, 0, 0, 0, 0, 0, 0, 0, 0, 0, 0, 0, 0, 0, 0, 0, 0, 0, 0, 0, 0, 0, 0, 0, 0, 0, 0, 0, 0, 0, 0, 0, 0, 0, 0, 0, 0, 0, 0, 0, 0, 0, 0, 0, 0, 0, 0, 0, 0, 0, 0, 0, 0, 0, 0, 0, 0, 0, 0, 0, 0, 0, 0, 0, 0, 0, 0, 0, 0, 0, 0, 0, 0, 0, 0, 0, 0, 0, 0, 0, 0, 0, 0, 0, 0, 0, 0, 0, 0, 0, 0, 0, 0, 0, 0, 0, 0, 0, 0, 0, 0, 0, 0, 0, 0, 0, 0, 0, 0, 0, 0, 0, 0, 0, 0, 0, 0, 0, 0, 0, 0, 0, 0, 0, 0, 0, 0, 0, 0, 0, 0, 0, 0, 0, 0, 0, 0, 0, 0, 0, 0, 0, 0, 0, 0, 0, 0, 0, 0, 0, 0, 0, 0, 0, 0, 0, 0, 0, 0, 0, 0, 0, 0, 0, 0, 0, 0, 0, 0, 0, 0, 0, 0, 0, 0, 0, 0, 0, 0, 0, 0, 0, 0, 0, 0, 0, 0, 0, 0, 0, 0, 0, 0, 0, 0, 0, 0, 0, 0, 0, 0, 0, 0, 0, 0, 0, 0, 0, 0, 0, 0, 0, 0, 0, 0, 0, 0, 0, 0, 0, 0, 0, 0, 0, 0, 0, 0, 0, 0, 0, 0, 0, 0, 0, 0, 0, 0, 0, 0, 0, 0, 0, 0, 0, 0, 0, 0, 0, 1, 0, 0, 0, 0, 0, 0, 0, 0, 0, 0, 0, 0, 0, 0, 0, 0, 0, 0, 0, 0, 0, 0, 0, 0, 0, 0, 0, 0, 0, 0, 0, 0, 0, 0, 0, 0, 0, 0, 0, 0, 0, 0, 0, 0, 0, 0, 0, 0, 0, 0, 0, 0, 0, 0, 0, 0, 0, 0, 0, 0, 0, 0, 0, 0, 0, 0, 0, 0, 0, 0, 0, 0, 0, 0, 0, 0, 0, 0, 0, 0, 0, 0, 0, 0, 0, 0, 0, 0, 0, 0, 0, 0, 0, 0, 0, 0, 0, 0, 0, 0, 0, 0, 0, 0, 0, 0, 0, 0, 0, 0, 0, 0, 0, 0, 0, 0, 0, 0, 0, 0, 0, 0, 0, 0, 0, 0, 0, 0, 0, 0, 0, 0, 0, 0, 0, 0, 0, 0, 0, 0, 0, 0, 0, 0, 0, 0, 0, 0, 0, 0, 0, 0, 0, 0, 0, 0, 0, 0, 0, 0, 0, 0, 0, 0, 0, 0, 0, 0, 0, 0, 0, 0, 0, 0, 0, 0, 0, 0, 0, 0, 0, 0, 0, 0, 0, 0, 0, 0, 0, 0, 0, 0, 0, 0, 0, 0, 0, 0, 0, 0, 0, 0, 0, 0, 0, 0, 0, 0, 0, 0, 0, 0, 0, 0, 0, 0, 0, 0, 0, 0, 0, 0, 0, 0, 0, 0, 0, 0, 0, 0, 0, 0, 0, 0, 0, 0, 0, 0, 0, 0, 0, 0, 0, 0, 0, 0, 0, 0, 0, 0, 0, 0, 0, 0, 0, 0, 0, 0, 0, 0, 0, 0, 0, 0, 0, 0, 0, 0, 0, 0, 0, 0, 0, 0, 0, 0, 0, 0, 0, 0, 0, 0, 0, 0, 0, 0, 0, 0, 0, 0, 0, 0, 0, 0, 0, 0, 0, 0, 0, 0, 0, 0, 0, 0, 0, 0, 0, 0, 0, 0, 0, 0, 0, 0, 0, 0, 0, 0, 0, 0, 0, 0, 0, 0, 0, 0, 0, 0, 0, 0, 0, 0, 0, 0, 0, 0, 0, 0, 0, 0, 0, 0, 0, 0, 0, 0, 0, 0, 0, 0, 0, 0, 0, 0, 0, 0, 0, 0, 0, 0, 0, 0, 0, 0, 0, 0, 0, 0, 0, 0, 0, 0, 0, 0, 0, 0, 0, 0, 0, 0, 0, 0, 0, 0, 0, 0, 0, 0, 0, 0, 0, 0, 0, 0, 0, 0, 0, 0, 0, 0, 0, 0, 0, 0, 0, 0, 0, 0, 0, 0, 0, 0, 0, 0, 0, 0, 0, 0, 0, 0, 0, 0, 0, 0, 0, 0, 0, 0, 0, 0, 0, 0, 0, 0, 0, 0, 0, 0, 0, 0, 0, 0, 0, 0, 0, 0, 0, 0, 0, 0, 0, 0, 0, 0, 0, 0, 0, 0, 0, 0, 0, 0, 0, 0, 0, 0, 0, 0, 0, 0, 0, 0, 0, 0, 0, 0, 0, 0, 0, 0, 0, 0, 0, 0, 0, 0, 0, 0, 0, 0, 0, 0, 0, 0, 0, 0, 0, 0, 0, 0, 0, 0, 0, 0, 0, 0, 0, 0, 0, 0, 0, 0, 0, 1, 0, 0, 0, 0, 0, 0, 0, 0, 0, 0, 0, 0, 0, 0, 0, 0, 0, 0, 0, 0, 0, 0, 0, 0, 0, 0, 0, 0, 0, 0, 0, 0, 0, 0, 0, 2, 0, 0, 0, 0, 0, 0, 0, 0, 0, 0, 0, 0, 0, 0, 0, 0, 0, 0, 0, 0, 0, 0, 0, 0, 0, 0, 0, 0, 0, 0, 0, 0, 0, 0, 0, 0, 0, 0, 0, 0, 1, 0, 0, 0, 0, 0, 0, 0, 0, 0, 0, 0, 0, 0, 0, 0, 0, 0, 0, 0, 0, 0, 0, 0, 0, 0, 0, 0, 0, 0, 0, 0, 0, 0, 0, 0, 0, 0, 0, 0, 0, 0, 0, 0, 0, 0, 0, 0, 0, 0, 0, 0, 0, 0, 0, 0, 0, 0, 0, 0, 0, 0, 0, 0, 0, 0, 0, 0, 0, 0, 0, 0, 0, 0, 0, 0, 0, 0, 0, 0, 0, 0, 0, 0, 0, 0, 0, 0, 0, 0, 0, 0, 0, 0, 0, 0, 0, 0, 0, 0, 0, 0, 0, 0, 0, 0, 0, 0, 0, 0, 0, 0, 0, 0, 0, 0, 0, 0, 0, 0, 0, 0, 0, 0, 0, 0, 0, 0, 0, 0, 0, 0, 0, 0, 0, 0, 0, 0, 0, 0, 0, 0, 0, 0, 0, 0, 0, 0, 0, 0, 0, 0, 0, 0, 0, 0, 0, 0, 0, 0, 0, 0, 0, 0, 0, 0, 0, 0, 0, 0, 0, 0, 0, 0, 0, 0, 0, 0, 0, 0, 0, 0, 0, 0, 0, 0, 0, 0, 0, 0, 0, 0, 0, 0, 0, 0, 0, 0, 0, 0, 0, 0, 0, 0, 0, 0, 0, 0, 0, 0, 0, 0, 0, 0, 0, 0, 0, 0, 0, 0, 0, 0, 0, 0, 0, 0, 0, 0, 0, 0, 0, 0, 0, 0, 0, 0, 0, 0, 0, 0, 0, 0, 0, 0, 0, 0, 0, 0, 0, 0, 0, 0, 0, 0, 0, 0, 0, 0, 0, 0, 0, 0, 0, 0, 0, 0, 0, 0, 0, 0, 0, 0, 0, 0, 0, 0, 0, 0, 0, 0, 0, 0, 0, 0, 0, 0, 0, 0, 0, 0, 0, 0, 0, 0, 0, 0, 0, 0, 0, 0, 0, 0, 0, 0, 0, 0, 0, 0, 0, 0, 0, 0, 0, 0, 0, 0, 0, 0, 0, 0, 0, 0, 0, 0, 0, 0, 0, 0, 0, 0, 0, 0, 0, 0, 0, 0, 0, 0, 0, 0, 0, 0, 0, 0, 0, 0, 0, 0, 0, 0, 0, 0, 0, 0, 0, 0, 0, 0, 0, 0, 0, 0, 0, 0, 0, 0, 0, 0, 0, 0, 0, 0, 0, 0, 0, 0, 0, 0, 0, 0, 0, 0, 0, 0, 0, 0, 0, 0, 0, 0, 0, 0, 0, 0, 0, 0, 0, 0, 0, 0, 0, 0, 0, 0, 0, 0, 0, 0, 0, 0, 0, 0, 0, 0, 0, 0, 0, 0, 0, 0, 0, 0, 0, 0, 0, 0, 0, 0, 0, 0, 0, 0, 0, 0, 0, 0, 0, 0, 0, 0, 0, 0, 0, 0, 0, 0, 0, 0, 0, 0, 0, 0, 0, 0, 0, 0, 0, 0, 0, 0, 0, 0, 0, 0, 0, 0, 0, 0, 0, 0, 0, 0, 0, 0, 0, 0, 0, 0, 0, 0, 0, 0, 0, 0, 0, 0, 0, 0, 0, 0, 0, 0, 0, 0, 0, 0, 1, 0, 0, 0, 0, 0, 0, 0, 0, 0, 0, 0, 0, 0, 0, 0, 0, 0, 0, 0, 0, 0, 0, 0, 0, 0, 0, 0, 0, 0, 0, 0, 0, 0, 0, 0, 0, 0, 0, 0, 0, 0, 0, 0, 0, 0, 0, 0, 0, 0, 0, 0, 0, 0, 0, 0, 0, 0, 0, 0, 0, 0, 0, 0, 0, 0, 0, 0, 0, 0, 0, 0, 0, 0, 0, 0, 0, 0, 0, 0, 0, 0, 0, 0, 0, 0, 0, 0, 0, 0, 0, 0, 0, 0, 0, 0, 0, 0, 0, 0, 0, 0, 0, 0, 0, 0, 0, 0, 0, 0, 0, 2, 0, 0, 0, 0, 0, 0, 0, 0, 0, 0, 0, 0, 0, 0, 0, 0, 0, 0, 0, 0, 0, 0, 0, 0, 0, 0, 0, 0, 0, 0, 0, 0, 0, 0, 0, 0, 0, 0, 0, 0, 0, 0, 0, 0, 0, 0, 0, 0, 0, 0, 0, 0, 0, 0, 0, 0, 0, 0, 0, 0, 0, 0, 0, 0, 0, 0, 0, 0, 0, 0, 0, 0, 0, 0, 0, 0, 0, 0, 0, 0, 0, 0, 0, 0, 0, 0, 0, 0, 0, 0, 0, 0, 0, 0, 0, 0, 0, 0, 0, 0, 0, 0, 0, 0, 0, 0, 0, 0, 0, 0, 0, 0, 0, 0, 0, 0, 0, 0, 0, 0, 0, 0, 0, 0, 0, 0, 0, 0, 0, 0, 0, 0, 0, 0, 0, 0, 0, 0, 0, 0, 0, 0, 0, 0, 0, 0, 0, 0, 0, 0, 0, 0, 0, 0, 0, 0, 0, 0, 0, 0, 0, 0, 0, 0, 0, 0, 0, 0, 0, 0, 0, 0, 0, 0, 0, 0, 0, 0, 0, 0, 0, 0, 0, 0, 0, 0, 0, 0, 0, 0, 0, 0, 0, 0, 0, 0, 0, 0, 0, 0, 0, 0, 0, 0, 0, 0, 0, 0, 0, 0, 0, 0, 0, 0, 0, 0, 0, 0, 0, 0, 0, 0, 0, 0, 0, 0, 0, 0, 0, 0, 0, 0, 0, 0, 0, 0, 0, 0, 0, 0, 0, 0, 0, 0, 0, 0, 0, 0, 0, 0, 0, 0, 0, 0, 0, 0, 0, 0, 0, 0, 0, 0, 0, 0, 0, 0, 0, 0, 0, 0, 0, 0, 0, 0, 0, 0, 0, 0, 0, 0, 0, 0, 0, 0, 0, 0, 0, 0, 0, 0, 0, 0, 0, 0, 0, 0, 0, 0, 0, 0, 0, 0, 0, 0, 0, 0, 0, 0, 0, 0, 0, 0, 0, 0, 0, 0, 0, 0, 0, 0, 0, 0, 0, 0, 0, 0, 0, 0, 0, 0, 0, 0, 0, 0, 0, 0, 0, 0, 0, 0, 0, 0, 0, 0, 0, 0, 0, 0, 0, 0, 0, 0, 0, 0, 0, 0, 0, 0, 0, 0, 0, 0, 0, 0, 0, 0, 0, 0, 0, 0, 0, 0, 0, 0, 0, 0, 0, 0, 0, 0, 0, 0, 0, 0, 0, 0, 0, 0, 0, 0, 0, 0, 0, 0, 0, 0, 0, 0, 0, 0, 0, 0, 0, 0, 0, 0, 0, 0, 0, 0, 0, 0, 0, 0, 0, 0, 0, 0, 0, 0, 0, 0, 0, 0, 0, 0, 0, 0, 0, 0, 0, 0, 0, 0, 0, 0, 0, 0, 0, 0, 0, 0, 0, 0, 0, 0, 0, 0, 0, 0, 0, 0, 0, 0, 0, 0, 0, 0, 0, 0, 0, 0, 0, 0, 0, 0, 0, 0, 0, 0, 0, 0, 0, 0, 0, 0, 0, 0, 0, 0, 0, 0, 0, 0, 0, 0, 0, 0, 0, 0, 0, 0, 0, 0, 0, 0, 0, 0, 0, 0, 0, 0, 0, 0, 0, 0, 0, 0, 0, 0, 0, 0, 0, 0, 0, 0, 0, 0, 0, 0, 0, 0, 0, 0, 0, 0, 0, 0, 0, 0, 0, 0, 0, 0, 0, 0, 0, 0, 0, 0, 0, 0, 0, 0, 0, 0, 0, 0, 0, 0, 0, 0, 0, 0, 0, 0, 0, 0, 0, 0, 0, 0, 0, 0, 0, 0, 0, 0, 0, 0, 0, 0, 0, 0, 0, 0, 0, 0, 0, 0, 0, 0, 0, 0, 0, 0, 0, 0, 0, 0, 0, 0, 0, 0, 0, 0, 0, 0, 0, 0, 0, 0, 0, 0, 0, 0, 0, 0, 0, 0, 0, 0, 0, 0, 0, 0, 0, 0, 0, 0, 0, 0, 0, 0, 0, 0, 0, 0, 0, 0, 0, 0, 0, 0, 0, 0, 0, 0, 0, 0, 0, 0, 0, 0, 0, 0, 0, 0, 0, 0, 0, 0, 0, 0, 0, 0, 0, 0, 0, 0, 0, 0, 0, 0, 0, 0, 0, 0, 0, 0, 0, 0, 0, 0, 0, 0, 0, 0, 0, 0, 0, 0, 0, 0, 0, 0, 0, 0, 1, 0, 0, 0, 0, 0, 0, 0, 0, 0, 0, 0, 0, 0, 0, 0, 0, 0, 0, 0, 0, 0, 0, 0, 0, 0, 0, 0, 0, 0, 0, 0, 0, 0, 0, 0, 0, 0, 0, 0, 0, 0, 0, 0, 0, 0, 0, 0, 0, 0, 0, 0, 0, 0, 0, 0, 0, 0, 0, 0, 0, 0, 0, 0, 0, 0, 0, 0, 0, 0, 0, 0, 0, 0, 0, 0, 0, 0, 0, 0, 0, 0, 0, 0, 0, 0, 0, 0, 0, 0, 0, 0, 0, 0, 0, 0, 0, 0, 0, 0, 0, 0, 0, 0, 0, 0, 0, 0, 1, 0, 0, 0, 0, 0, 0, 0, 0, 0, 0, 0, 0, 0, 0, 0, 0, 0, 0, 0, 0, 0, 0, 0, 0, 0, 0, 0, 0, 0, 0, 0, 0, 0, 0, 0, 0, 0, 0, 0, 0, 0, 0, 0, 0, 0, 0, 0, 0, 0, 0, 0, 0, 0, 0, 0, 0, 0, 0, 0, 0, 0, 0, 0, 0, 0, 0, 0, 0, 0, 0, 0, 0, 0, 0, 0, 0, 0, 0, 0, 0, 0, 0, 0, 0, 0, 0, 0, 0, 0, 0, 0, 0, 0, 0, 0, 0, 0, 0, 0, 0, 0, 0, 0, 0, 0, 0, 0, 0, 0, 0, 0, 0, 0, 0, 0, 0, 0, 0, 0, 0, 0, 0, 0, 0, 0, 0, 0, 0, 0, 0, 0, 0, 0, 0, 0, 0, 0, 0, 0, 0, 0, 0, 0, 0, 0, 0, 0, 0, 0, 0, 0, 0, 0, 0, 0, 0, 0, 0, 0, 0, 0, 0, 0, 0, 0, 0, 0, 0, 0, 0, 0, 0, 0, 0, 0, 0, 0, 0, 0, 0, 0, 0, 0, 0, 0, 0, 0, 0, 0, 0, 0, 0, 0, 0, 0, 0, 0, 0, 0, 0, 0, 0, 0, 0, 0, 0, 0, 0, 0, 0, 0, 0, 0, 0, 0, 0, 0, 0, 0, 0, 0, 0, 0, 0, 0, 0, 0, 0, 0, 0, 0, 0, 0, 0, 0, 0, 0, 0, 0, 0, 0, 0, 0, 0, 0, 0, 0, 0, 0, 0, 0, 0, 0, 0, 0, 0, 0, 0, 0, 0, 0, 0, 0, 0, 0, 0, 0, 0, 0, 0, 0, 0, 0, 0, 0, 0, 0, 0, 0, 0, 0, 0, 0, 0, 0, 0, 0, 0, 0, 0, 0, 0, 0, 0, 0, 0, 0, 0, 0, 0, 0, 0, 0, 0, 0, 0, 0, 0, 0, 0, 0, 0, 0, 0, 0, 0, 0, 0, 0, 0, 0, 0, 0, 0, 0, 0, 0, 0, 0, 0, 0, 0, 0, 0, 0, 0, 0, 0, 0, 0, 0, 0, 0, 0, 0, 0, 0, 0, 0, 0, 0, 0, 0, 0, 0, 0, 0, 0, 0, 0, 0, 0, 0, 0, 0, 0, 0, 0, 0, 0, 0, 0, 0, 0, 0, 0, 0, 0, 0, 0, 0, 0, 0, 0, 0, 0, 0, 0, 0, 0, 0, 0, 0, 0, 0, 0, 0, 0, 0, 0, 0, 0, 0, 0, 0, 0, 0, 0, 0, 0, 0, 0, 0, 0, 0, 0, 0, 0, 0, 0, 0, 0, 0, 0, 0, 0, 0, 0, 0, 0, 0, 0, 0, 0, 0, 0, 0, 0, 0, 0, 0, 0, 0, 0, 0, 0, 0, 0, 0, 0, 0, 0, 0, 0, 0, 0, 0, 0, 0, 0, 0, 0, 0, 0, 0, 0, 2, 0, 1, 0]\n"
     ]
    }
   ],
   "source": [
    "test_bow = bow_encoding(test_words, vocabulary)\n",
    "print(test_bow)"
   ]
  },
  {
   "cell_type": "code",
   "execution_count": 41,
   "metadata": {},
   "outputs": [
    {
     "data": {
      "text/plain": [
       "5000"
      ]
     },
     "execution_count": 41,
     "metadata": {},
     "output_type": "execute_result"
    }
   ],
   "source": [
    "len(test_bow)"
   ]
  },
  {
   "cell_type": "markdown",
   "metadata": {},
   "source": [
    "So now we know how to construct a bag of words encoding of a user provided review, how to we send it to our endpoint? First, we need to start the endpoint back up."
   ]
  },
  {
   "cell_type": "code",
   "execution_count": 42,
   "metadata": {},
   "outputs": [
    {
     "name": "stderr",
     "output_type": "stream",
     "text": [
      "Parameter image will be renamed to image_uri in SageMaker Python SDK v2.\n",
      "Using already existing model: xgboost-2020-09-29-14-23-13-886\n"
     ]
    },
    {
     "name": "stdout",
     "output_type": "stream",
     "text": [
      "-------------!"
     ]
    }
   ],
   "source": [
    "xgb_predictor = xgb.deploy(initial_instance_count = 1, instance_type = 'ml.m4.xlarge')"
   ]
  },
  {
   "cell_type": "markdown",
   "metadata": {},
   "source": [
    "At this point we could just do the same thing that we did earlier when we tested our deployed model and send `test_bow` to our endpoint using the `xgb_predictor` object. However, when we eventually construct our Lambda function we won't have access to this object, so how do we call a SageMaker endpoint?\n",
    "\n",
    "It turns out that Python functions that are used in Lambda have access to another Amazon library called `boto3`. This library provides an API for working with Amazon services, including SageMaker. To start with, we need to get a handle to the SageMaker runtime."
   ]
  },
  {
   "cell_type": "code",
   "execution_count": 43,
   "metadata": {},
   "outputs": [],
   "source": [
    "import boto3\n",
    "\n",
    "runtime = boto3.Session().client('sagemaker-runtime')"
   ]
  },
  {
   "cell_type": "markdown",
   "metadata": {},
   "source": [
    "And now that we have access to the SageMaker runtime, we can ask it to make use of (invoke) an endpoint that has already been created. However, we need to provide SageMaker with the name of the deployed endpoint. To find this out we can print it out using the `xgb_predictor` object."
   ]
  },
  {
   "cell_type": "code",
   "execution_count": 44,
   "metadata": {},
   "outputs": [
    {
     "data": {
      "text/plain": [
       "'xgboost-2020-09-29-14-23-13-886'"
      ]
     },
     "execution_count": 44,
     "metadata": {},
     "output_type": "execute_result"
    }
   ],
   "source": [
    "xgb_predictor.endpoint"
   ]
  },
  {
   "cell_type": "markdown",
   "metadata": {},
   "source": [
    "Using the SageMaker runtime and the name of our endpoint, we can invoke the endpoint and send it the `test_bow` data."
   ]
  },
  {
   "cell_type": "code",
   "execution_count": 45,
   "metadata": {},
   "outputs": [
    {
     "ename": "ParamValidationError",
     "evalue": "Parameter validation failed:\nInvalid type for parameter Body, value: [0, 0, 0, 0, 0, 0, 0, 0, 0, 0, 0, 0, 0, 0, 0, 0, 0, 0, 0, 0, 0, 0, 0, 0, 0, 0, 0, 0, 0, 0, 0, 0, 0, 0, 0, 0, 0, 0, 0, 0, 0, 0, 0, 0, 0, 0, 0, 0, 0, 0, 0, 0, 0, 0, 0, 0, 0, 0, 0, 0, 0, 0, 0, 0, 0, 0, 0, 0, 0, 0, 0, 0, 0, 0, 0, 0, 0, 0, 0, 0, 0, 0, 0, 0, 0, 0, 0, 0, 0, 0, 0, 0, 0, 0, 0, 0, 0, 0, 0, 0, 0, 0, 0, 0, 0, 0, 0, 0, 0, 0, 0, 0, 0, 0, 0, 0, 0, 0, 0, 0, 0, 0, 0, 0, 0, 0, 0, 0, 0, 0, 0, 0, 0, 0, 0, 0, 0, 0, 0, 0, 0, 0, 0, 0, 0, 0, 0, 0, 0, 0, 0, 0, 0, 0, 0, 0, 0, 0, 0, 0, 0, 0, 0, 0, 0, 0, 0, 0, 0, 0, 0, 0, 0, 0, 0, 0, 0, 0, 0, 0, 0, 0, 0, 0, 0, 0, 0, 0, 0, 0, 0, 0, 0, 0, 0, 0, 0, 0, 0, 0, 0, 0, 0, 0, 0, 0, 0, 0, 0, 0, 0, 0, 0, 0, 0, 0, 0, 0, 0, 0, 0, 0, 0, 0, 0, 1, 0, 0, 0, 0, 0, 0, 0, 0, 0, 0, 0, 0, 0, 0, 0, 0, 0, 0, 0, 0, 0, 0, 0, 0, 0, 0, 0, 0, 0, 1, 0, 0, 0, 0, 0, 0, 0, 0, 0, 0, 0, 0, 0, 0, 0, 0, 0, 0, 0, 0, 0, 0, 0, 0, 0, 0, 0, 0, 0, 0, 0, 0, 0, 0, 0, 0, 0, 0, 0, 0, 0, 0, 0, 0, 0, 0, 0, 0, 0, 0, 0, 0, 0, 0, 0, 0, 0, 0, 0, 0, 0, 0, 0, 0, 0, 0, 0, 0, 0, 0, 0, 0, 0, 0, 0, 0, 0, 0, 0, 0, 0, 0, 0, 0, 0, 0, 0, 0, 0, 0, 0, 0, 0, 0, 0, 0, 0, 0, 0, 0, 0, 0, 0, 0, 0, 0, 0, 0, 0, 0, 0, 0, 0, 0, 0, 0, 0, 0, 0, 0, 0, 0, 0, 0, 0, 0, 0, 0, 0, 0, 0, 0, 0, 0, 0, 0, 0, 0, 0, 0, 0, 0, 0, 0, 0, 0, 0, 0, 0, 0, 0, 0, 0, 0, 0, 0, 0, 0, 0, 0, 0, 0, 0, 0, 0, 0, 0, 0, 0, 0, 0, 0, 0, 0, 0, 0, 0, 0, 0, 0, 0, 0, 0, 0, 0, 0, 0, 0, 0, 0, 0, 0, 0, 0, 0, 0, 0, 0, 0, 0, 0, 0, 0, 0, 0, 0, 0, 0, 0, 0, 0, 0, 0, 0, 0, 0, 0, 0, 0, 0, 0, 0, 0, 0, 0, 0, 0, 0, 0, 0, 0, 0, 0, 0, 0, 0, 0, 0, 0, 0, 0, 0, 0, 0, 0, 0, 0, 0, 0, 0, 0, 0, 0, 0, 0, 0, 0, 0, 0, 0, 0, 0, 0, 0, 0, 0, 0, 0, 0, 0, 0, 0, 0, 0, 0, 0, 0, 0, 0, 0, 0, 0, 0, 0, 0, 0, 0, 0, 0, 0, 0, 0, 0, 0, 0, 0, 0, 0, 0, 0, 0, 0, 0, 0, 0, 0, 0, 0, 0, 0, 0, 0, 0, 0, 0, 0, 0, 0, 0, 0, 0, 0, 0, 0, 0, 0, 0, 0, 0, 0, 0, 0, 0, 0, 0, 0, 0, 0, 0, 0, 0, 0, 0, 0, 0, 0, 0, 0, 0, 0, 0, 0, 0, 0, 0, 0, 0, 0, 0, 0, 0, 0, 0, 0, 0, 0, 0, 0, 0, 0, 0, 0, 0, 0, 0, 0, 0, 0, 0, 1, 0, 0, 0, 0, 0, 0, 0, 0, 0, 0, 0, 0, 0, 0, 0, 0, 0, 0, 0, 0, 0, 0, 0, 0, 0, 0, 0, 0, 0, 0, 0, 0, 0, 0, 0, 0, 0, 0, 0, 0, 0, 0, 0, 0, 0, 0, 0, 0, 0, 0, 0, 0, 0, 0, 0, 0, 0, 0, 0, 0, 0, 0, 0, 0, 0, 0, 0, 0, 0, 0, 0, 0, 0, 0, 0, 0, 0, 0, 0, 0, 0, 0, 0, 0, 0, 0, 0, 0, 0, 0, 0, 0, 0, 0, 0, 0, 0, 0, 0, 0, 0, 0, 0, 0, 0, 0, 0, 0, 0, 0, 0, 0, 0, 0, 0, 0, 0, 0, 0, 0, 0, 0, 0, 0, 0, 0, 0, 0, 0, 0, 0, 0, 0, 0, 0, 0, 0, 0, 0, 0, 0, 0, 0, 0, 0, 0, 0, 0, 0, 0, 0, 0, 0, 0, 0, 0, 0, 0, 0, 0, 0, 0, 0, 0, 0, 0, 0, 0, 0, 0, 0, 0, 0, 0, 0, 0, 0, 0, 0, 0, 0, 0, 0, 0, 0, 0, 0, 0, 0, 0, 0, 0, 0, 0, 0, 0, 0, 0, 0, 0, 0, 0, 0, 0, 0, 0, 0, 0, 0, 0, 0, 0, 0, 0, 0, 0, 0, 0, 0, 0, 0, 0, 0, 0, 0, 0, 0, 0, 0, 0, 0, 0, 0, 0, 0, 0, 0, 0, 0, 0, 0, 0, 0, 0, 0, 0, 0, 0, 0, 0, 0, 0, 0, 1, 0, 0, 0, 0, 0, 0, 0, 0, 0, 0, 0, 0, 0, 0, 0, 0, 0, 0, 0, 0, 0, 0, 0, 0, 0, 0, 0, 0, 0, 0, 0, 0, 0, 0, 0, 0, 0, 0, 0, 0, 0, 0, 0, 0, 0, 0, 0, 0, 0, 0, 0, 0, 0, 0, 0, 0, 0, 0, 0, 0, 0, 0, 0, 0, 0, 0, 0, 0, 0, 0, 0, 0, 0, 0, 0, 0, 0, 0, 0, 0, 0, 0, 0, 0, 0, 0, 0, 1, 0, 0, 0, 0, 0, 0, 0, 0, 0, 0, 0, 0, 0, 0, 0, 0, 0, 0, 0, 0, 0, 0, 0, 0, 0, 0, 0, 0, 0, 0, 0, 0, 0, 0, 0, 0, 0, 0, 0, 0, 0, 0, 0, 0, 0, 0, 0, 0, 0, 0, 0, 0, 0, 0, 0, 0, 0, 0, 0, 0, 0, 0, 0, 0, 0, 0, 0, 0, 0, 0, 0, 0, 0, 0, 0, 0, 0, 0, 0, 0, 0, 0, 0, 0, 0, 0, 0, 0, 0, 0, 0, 0, 0, 0, 0, 0, 0, 0, 0, 0, 0, 0, 0, 0, 0, 0, 0, 0, 0, 0, 0, 0, 0, 0, 0, 0, 0, 0, 0, 0, 0, 0, 0, 0, 0, 0, 0, 0, 0, 0, 0, 0, 0, 0, 0, 0, 0, 0, 0, 0, 0, 0, 0, 0, 0, 0, 0, 0, 0, 0, 0, 0, 0, 0, 0, 0, 0, 0, 0, 0, 0, 0, 0, 0, 0, 0, 0, 0, 0, 0, 0, 0, 0, 0, 0, 0, 0, 0, 0, 0, 0, 0, 0, 0, 0, 0, 0, 0, 0, 0, 0, 0, 0, 0, 0, 0, 0, 0, 0, 0, 0, 0, 0, 0, 0, 0, 0, 0, 0, 0, 0, 0, 0, 0, 0, 0, 0, 0, 0, 0, 0, 0, 0, 0, 0, 0, 0, 0, 0, 0, 0, 0, 0, 0, 0, 0, 0, 0, 0, 0, 0, 0, 0, 0, 0, 0, 0, 0, 0, 0, 1, 0, 0, 0, 0, 0, 0, 0, 0, 0, 0, 0, 0, 0, 0, 0, 0, 0, 0, 0, 0, 0, 0, 0, 0, 0, 0, 0, 0, 0, 0, 0, 0, 0, 0, 0, 0, 0, 0, 0, 0, 0, 0, 0, 0, 0, 0, 0, 0, 0, 0, 0, 0, 0, 0, 0, 1, 0, 0, 0, 0, 0, 0, 0, 0, 0, 0, 0, 0, 0, 0, 0, 0, 0, 0, 0, 0, 0, 0, 0, 0, 0, 0, 0, 0, 0, 0, 0, 0, 0, 0, 0, 0, 0, 0, 0, 0, 0, 0, 0, 0, 0, 0, 0, 0, 0, 0, 0, 0, 0, 0, 0, 0, 0, 0, 0, 0, 0, 0, 0, 0, 0, 0, 0, 0, 0, 0, 0, 0, 0, 0, 0, 0, 0, 0, 0, 0, 0, 0, 0, 0, 0, 0, 0, 0, 0, 0, 0, 0, 0, 0, 0, 0, 0, 0, 0, 0, 0, 0, 0, 0, 0, 0, 0, 0, 0, 0, 0, 0, 0, 0, 0, 0, 0, 0, 0, 0, 0, 0, 0, 0, 0, 0, 0, 0, 0, 0, 0, 0, 0, 0, 0, 0, 0, 0, 0, 0, 0, 0, 0, 0, 0, 0, 0, 0, 0, 0, 0, 0, 0, 0, 0, 0, 0, 0, 0, 0, 0, 0, 0, 0, 0, 0, 0, 0, 0, 0, 0, 0, 0, 0, 0, 0, 0, 0, 0, 0, 0, 0, 0, 0, 0, 0, 0, 0, 0, 0, 0, 0, 0, 0, 0, 0, 0, 0, 0, 0, 0, 0, 0, 0, 0, 0, 0, 0, 0, 0, 0, 0, 0, 0, 0, 0, 0, 0, 0, 0, 0, 0, 0, 0, 0, 0, 0, 0, 0, 0, 0, 0, 0, 0, 0, 0, 0, 0, 0, 0, 0, 0, 0, 0, 0, 0, 0, 0, 0, 0, 0, 0, 0, 0, 0, 0, 0, 0, 0, 0, 0, 0, 0, 0, 0, 0, 0, 0, 0, 0, 0, 0, 0, 0, 0, 0, 0, 0, 0, 0, 0, 0, 0, 0, 0, 0, 0, 0, 0, 0, 0, 0, 0, 0, 0, 0, 0, 0, 0, 0, 0, 0, 0, 0, 0, 0, 0, 0, 0, 0, 0, 0, 0, 0, 0, 0, 0, 0, 0, 0, 0, 0, 0, 0, 0, 0, 0, 0, 0, 0, 0, 0, 0, 0, 0, 0, 0, 0, 0, 0, 0, 0, 0, 0, 0, 0, 0, 0, 0, 0, 0, 0, 0, 0, 0, 0, 0, 0, 0, 0, 0, 0, 0, 0, 0, 0, 0, 0, 0, 0, 0, 0, 0, 0, 0, 0, 0, 0, 0, 0, 0, 0, 0, 0, 0, 0, 0, 0, 0, 0, 0, 0, 0, 0, 0, 0, 0, 0, 0, 0, 0, 0, 0, 0, 0, 0, 0, 0, 0, 0, 0, 0, 0, 0, 0, 0, 0, 0, 0, 0, 0, 0, 0, 0, 0, 0, 0, 0, 0, 0, 0, 0, 0, 0, 0, 0, 0, 0, 0, 0, 0, 0, 0, 0, 0, 0, 0, 0, 0, 0, 0, 0, 0, 0, 0, 0, 0, 0, 0, 0, 0, 0, 0, 0, 0, 0, 0, 0, 0, 0, 0, 0, 0, 0, 0, 0, 0, 0, 0, 0, 0, 0, 0, 0, 0, 0, 0, 0, 0, 0, 0, 0, 0, 0, 0, 0, 0, 0, 0, 0, 0, 0, 0, 0, 0, 0, 0, 0, 0, 0, 0, 0, 0, 0, 0, 0, 0, 0, 0, 0, 0, 0, 0, 0, 0, 0, 0, 0, 0, 0, 0, 0, 0, 0, 0, 0, 0, 0, 0, 0, 0, 0, 0, 0, 0, 0, 0, 0, 0, 0, 0, 0, 0, 0, 0, 0, 0, 0, 0, 0, 0, 0, 0, 0, 0, 0, 0, 0, 0, 0, 0, 0, 0, 0, 0, 0, 0, 0, 0, 0, 0, 0, 0, 0, 0, 0, 0, 0, 0, 0, 0, 0, 0, 0, 0, 0, 0, 0, 0, 0, 0, 0, 0, 0, 0, 0, 0, 0, 0, 0, 0, 0, 0, 0, 0, 0, 0, 0, 0, 0, 0, 0, 0, 0, 0, 0, 0, 0, 0, 0, 0, 0, 0, 0, 0, 0, 0, 0, 0, 0, 0, 0, 0, 0, 0, 0, 0, 0, 0, 0, 0, 0, 0, 0, 0, 0, 0, 0, 0, 0, 0, 0, 0, 0, 0, 0, 0, 0, 0, 0, 0, 0, 0, 0, 0, 0, 0, 0, 0, 0, 0, 0, 1, 0, 0, 0, 0, 0, 0, 0, 0, 0, 0, 0, 0, 0, 0, 0, 0, 0, 0, 0, 0, 0, 0, 0, 0, 0, 0, 0, 0, 0, 0, 0, 0, 0, 0, 0, 0, 0, 0, 0, 0, 0, 0, 0, 0, 0, 0, 0, 0, 0, 0, 0, 0, 0, 0, 0, 0, 0, 0, 0, 0, 0, 0, 0, 0, 0, 0, 0, 0, 0, 0, 0, 0, 0, 0, 1, 0, 0, 0, 0, 0, 0, 0, 0, 0, 0, 0, 0, 0, 0, 0, 0, 0, 0, 0, 0, 1, 0, 0, 1, 0, 0, 0, 0, 0, 0, 0, 0, 0, 0, 0, 0, 0, 0, 0, 0, 0, 0, 0, 0, 0, 0, 0, 0, 0, 0, 0, 0, 0, 0, 0, 0, 0, 0, 0, 0, 0, 0, 0, 0, 0, 0, 0, 0, 0, 0, 0, 0, 0, 0, 0, 0, 0, 0, 0, 0, 0, 0, 0, 0, 0, 0, 0, 0, 0, 0, 0, 0, 0, 0, 0, 0, 0, 0, 0, 0, 0, 0, 0, 0, 0, 0, 0, 0, 0, 0, 0, 0, 0, 0, 0, 0, 0, 0, 0, 0, 0, 0, 0, 0, 0, 0, 0, 0, 0, 0, 0, 0, 0, 0, 0, 0, 0, 0, 0, 0, 0, 0, 0, 0, 0, 0, 0, 0, 0, 0, 0, 0, 0, 0, 0, 0, 0, 0, 0, 0, 0, 0, 0, 0, 0, 0, 0, 0, 0, 0, 0, 0, 0, 0, 0, 0, 0, 0, 0, 0, 0, 0, 0, 0, 0, 0, 0, 0, 0, 0, 0, 0, 0, 0, 0, 0, 0, 0, 0, 0, 0, 0, 0, 0, 0, 0, 0, 0, 0, 0, 0, 0, 0, 0, 0, 0, 0, 0, 0, 0, 0, 0, 0, 0, 0, 0, 0, 0, 0, 0, 0, 0, 0, 0, 0, 0, 0, 0, 0, 0, 0, 0, 0, 0, 0, 0, 0, 0, 0, 0, 0, 0, 0, 0, 0, 0, 0, 0, 0, 0, 0, 0, 0, 0, 0, 0, 0, 0, 0, 0, 0, 0, 0, 0, 0, 0, 0, 0, 0, 0, 0, 0, 0, 0, 0, 0, 0, 0, 0, 0, 0, 0, 0, 0, 0, 0, 0, 0, 0, 0, 0, 0, 0, 0, 0, 0, 0, 0, 0, 0, 0, 0, 0, 0, 0, 0, 0, 0, 0, 0, 0, 0, 0, 0, 0, 0, 0, 0, 0, 0, 0, 0, 0, 0, 0, 0, 0, 0, 0, 0, 0, 0, 0, 0, 0, 0, 0, 0, 0, 0, 0, 0, 0, 0, 0, 0, 0, 0, 0, 0, 0, 0, 0, 0, 0, 0, 0, 0, 0, 0, 0, 0, 0, 0, 0, 0, 0, 0, 0, 0, 0, 0, 0, 0, 0, 0, 0, 0, 0, 0, 0, 0, 0, 0, 0, 0, 0, 0, 0, 0, 0, 0, 0, 0, 0, 0, 0, 0, 0, 0, 0, 0, 0, 0, 0, 0, 0, 0, 0, 0, 0, 0, 0, 0, 0, 0, 0, 0, 0, 0, 0, 0, 0, 0, 0, 0, 0, 0, 0, 0, 0, 0, 0, 0, 0, 0, 0, 0, 0, 0, 0, 0, 0, 0, 0, 0, 0, 0, 0, 0, 0, 0, 0, 0, 0, 0, 0, 0, 0, 0, 0, 0, 0, 0, 0, 0, 0, 0, 0, 0, 0, 0, 0, 0, 0, 0, 0, 0, 0, 0, 0, 1, 0, 0, 0, 0, 0, 0, 0, 0, 0, 0, 0, 0, 0, 0, 0, 0, 0, 0, 0, 0, 0, 0, 0, 0, 0, 0, 0, 0, 0, 0, 0, 0, 0, 0, 0, 0, 0, 0, 0, 0, 0, 0, 0, 0, 0, 0, 0, 0, 0, 0, 0, 0, 0, 0, 0, 0, 0, 0, 0, 0, 0, 0, 0, 0, 0, 0, 0, 0, 0, 0, 0, 0, 0, 0, 0, 0, 0, 0, 0, 0, 0, 0, 0, 0, 0, 0, 0, 0, 0, 0, 0, 0, 0, 0, 0, 0, 0, 0, 0, 0, 0, 0, 0, 0, 0, 0, 0, 0, 0, 0, 0, 0, 0, 0, 0, 0, 0, 0, 0, 0, 0, 0, 0, 0, 0, 0, 0, 0, 0, 0, 0, 0, 0, 0, 0, 0, 0, 0, 0, 0, 0, 0, 0, 0, 0, 0, 0, 0, 0, 0, 0, 0, 0, 0, 0, 0, 0, 0, 0, 0, 0, 0, 0, 0, 0, 0, 0, 0, 0, 0, 0, 0, 0, 0, 0, 0, 0, 0, 0, 0, 0, 0, 0, 0, 0, 0, 0, 0, 0, 0, 0, 0, 0, 0, 0, 0, 0, 0, 0, 0, 0, 0, 0, 0, 0, 0, 0, 0, 0, 0, 0, 0, 0, 0, 0, 0, 0, 0, 0, 0, 0, 0, 0, 0, 0, 0, 0, 0, 0, 0, 0, 0, 0, 0, 0, 0, 0, 0, 0, 0, 0, 0, 0, 0, 0, 0, 0, 0, 0, 0, 0, 0, 0, 0, 0, 0, 0, 0, 0, 0, 0, 0, 0, 0, 0, 0, 0, 0, 0, 0, 0, 0, 0, 0, 0, 0, 0, 0, 0, 0, 0, 0, 0, 0, 0, 0, 0, 0, 0, 0, 0, 0, 0, 0, 0, 0, 0, 0, 0, 0, 0, 0, 0, 0, 0, 0, 0, 0, 0, 0, 0, 0, 0, 0, 0, 0, 0, 0, 0, 0, 0, 0, 0, 0, 0, 0, 0, 0, 0, 0, 0, 0, 0, 0, 0, 0, 0, 0, 0, 0, 0, 0, 0, 0, 0, 0, 0, 0, 0, 0, 0, 0, 0, 0, 0, 0, 0, 0, 0, 0, 0, 0, 0, 0, 0, 0, 0, 0, 0, 0, 0, 0, 0, 0, 0, 0, 0, 0, 0, 0, 0, 0, 0, 0, 0, 0, 0, 0, 0, 0, 0, 0, 0, 0, 0, 0, 0, 0, 0, 0, 0, 0, 0, 0, 0, 0, 0, 0, 0, 0, 0, 0, 0, 0, 0, 0, 0, 0, 0, 0, 0, 0, 0, 0, 0, 0, 0, 0, 0, 0, 0, 0, 0, 0, 0, 0, 0, 0, 0, 0, 0, 0, 0, 0, 0, 0, 0, 0, 0, 0, 0, 0, 0, 0, 0, 0, 0, 0, 0, 0, 0, 0, 0, 0, 0, 0, 0, 0, 0, 0, 0, 0, 0, 0, 0, 0, 0, 0, 0, 0, 0, 0, 0, 0, 0, 0, 0, 0, 0, 0, 0, 0, 0, 0, 0, 0, 0, 0, 0, 0, 0, 0, 0, 0, 0, 0, 0, 0, 0, 0, 0, 0, 0, 1, 0, 0, 0, 0, 0, 0, 0, 0, 0, 0, 0, 0, 0, 0, 0, 0, 0, 0, 0, 0, 0, 0, 0, 0, 0, 0, 0, 0, 0, 0, 0, 0, 0, 0, 0, 2, 0, 0, 0, 0, 0, 0, 0, 0, 0, 0, 0, 0, 0, 0, 0, 0, 0, 0, 0, 0, 0, 0, 0, 0, 0, 0, 0, 0, 0, 0, 0, 0, 0, 0, 0, 0, 0, 0, 0, 0, 1, 0, 0, 0, 0, 0, 0, 0, 0, 0, 0, 0, 0, 0, 0, 0, 0, 0, 0, 0, 0, 0, 0, 0, 0, 0, 0, 0, 0, 0, 0, 0, 0, 0, 0, 0, 0, 0, 0, 0, 0, 0, 0, 0, 0, 0, 0, 0, 0, 0, 0, 0, 0, 0, 0, 0, 0, 0, 0, 0, 0, 0, 0, 0, 0, 0, 0, 0, 0, 0, 0, 0, 0, 0, 0, 0, 0, 0, 0, 0, 0, 0, 0, 0, 0, 0, 0, 0, 0, 0, 0, 0, 0, 0, 0, 0, 0, 0, 0, 0, 0, 0, 0, 0, 0, 0, 0, 0, 0, 0, 0, 0, 0, 0, 0, 0, 0, 0, 0, 0, 0, 0, 0, 0, 0, 0, 0, 0, 0, 0, 0, 0, 0, 0, 0, 0, 0, 0, 0, 0, 0, 0, 0, 0, 0, 0, 0, 0, 0, 0, 0, 0, 0, 0, 0, 0, 0, 0, 0, 0, 0, 0, 0, 0, 0, 0, 0, 0, 0, 0, 0, 0, 0, 0, 0, 0, 0, 0, 0, 0, 0, 0, 0, 0, 0, 0, 0, 0, 0, 0, 0, 0, 0, 0, 0, 0, 0, 0, 0, 0, 0, 0, 0, 0, 0, 0, 0, 0, 0, 0, 0, 0, 0, 0, 0, 0, 0, 0, 0, 0, 0, 0, 0, 0, 0, 0, 0, 0, 0, 0, 0, 0, 0, 0, 0, 0, 0, 0, 0, 0, 0, 0, 0, 0, 0, 0, 0, 0, 0, 0, 0, 0, 0, 0, 0, 0, 0, 0, 0, 0, 0, 0, 0, 0, 0, 0, 0, 0, 0, 0, 0, 0, 0, 0, 0, 0, 0, 0, 0, 0, 0, 0, 0, 0, 0, 0, 0, 0, 0, 0, 0, 0, 0, 0, 0, 0, 0, 0, 0, 0, 0, 0, 0, 0, 0, 0, 0, 0, 0, 0, 0, 0, 0, 0, 0, 0, 0, 0, 0, 0, 0, 0, 0, 0, 0, 0, 0, 0, 0, 0, 0, 0, 0, 0, 0, 0, 0, 0, 0, 0, 0, 0, 0, 0, 0, 0, 0, 0, 0, 0, 0, 0, 0, 0, 0, 0, 0, 0, 0, 0, 0, 0, 0, 0, 0, 0, 0, 0, 0, 0, 0, 0, 0, 0, 0, 0, 0, 0, 0, 0, 0, 0, 0, 0, 0, 0, 0, 0, 0, 0, 0, 0, 0, 0, 0, 0, 0, 0, 0, 0, 0, 0, 0, 0, 0, 0, 0, 0, 0, 0, 0, 0, 0, 0, 0, 0, 0, 0, 0, 0, 0, 0, 0, 0, 0, 0, 0, 0, 0, 0, 0, 0, 0, 0, 0, 0, 0, 0, 0, 0, 0, 0, 0, 0, 0, 0, 0, 0, 0, 0, 0, 0, 0, 0, 0, 0, 0, 0, 0, 0, 0, 0, 0, 0, 0, 0, 0, 0, 0, 0, 0, 0, 0, 0, 0, 0, 0, 0, 0, 0, 0, 0, 0, 0, 0, 0, 0, 0, 0, 0, 0, 0, 0, 0, 0, 0, 1, 0, 0, 0, 0, 0, 0, 0, 0, 0, 0, 0, 0, 0, 0, 0, 0, 0, 0, 0, 0, 0, 0, 0, 0, 0, 0, 0, 0, 0, 0, 0, 0, 0, 0, 0, 0, 0, 0, 0, 0, 0, 0, 0, 0, 0, 0, 0, 0, 0, 0, 0, 0, 0, 0, 0, 0, 0, 0, 0, 0, 0, 0, 0, 0, 0, 0, 0, 0, 0, 0, 0, 0, 0, 0, 0, 0, 0, 0, 0, 0, 0, 0, 0, 0, 0, 0, 0, 0, 0, 0, 0, 0, 0, 0, 0, 0, 0, 0, 0, 0, 0, 0, 0, 0, 0, 0, 0, 0, 0, 0, 2, 0, 0, 0, 0, 0, 0, 0, 0, 0, 0, 0, 0, 0, 0, 0, 0, 0, 0, 0, 0, 0, 0, 0, 0, 0, 0, 0, 0, 0, 0, 0, 0, 0, 0, 0, 0, 0, 0, 0, 0, 0, 0, 0, 0, 0, 0, 0, 0, 0, 0, 0, 0, 0, 0, 0, 0, 0, 0, 0, 0, 0, 0, 0, 0, 0, 0, 0, 0, 0, 0, 0, 0, 0, 0, 0, 0, 0, 0, 0, 0, 0, 0, 0, 0, 0, 0, 0, 0, 0, 0, 0, 0, 0, 0, 0, 0, 0, 0, 0, 0, 0, 0, 0, 0, 0, 0, 0, 0, 0, 0, 0, 0, 0, 0, 0, 0, 0, 0, 0, 0, 0, 0, 0, 0, 0, 0, 0, 0, 0, 0, 0, 0, 0, 0, 0, 0, 0, 0, 0, 0, 0, 0, 0, 0, 0, 0, 0, 0, 0, 0, 0, 0, 0, 0, 0, 0, 0, 0, 0, 0, 0, 0, 0, 0, 0, 0, 0, 0, 0, 0, 0, 0, 0, 0, 0, 0, 0, 0, 0, 0, 0, 0, 0, 0, 0, 0, 0, 0, 0, 0, 0, 0, 0, 0, 0, 0, 0, 0, 0, 0, 0, 0, 0, 0, 0, 0, 0, 0, 0, 0, 0, 0, 0, 0, 0, 0, 0, 0, 0, 0, 0, 0, 0, 0, 0, 0, 0, 0, 0, 0, 0, 0, 0, 0, 0, 0, 0, 0, 0, 0, 0, 0, 0, 0, 0, 0, 0, 0, 0, 0, 0, 0, 0, 0, 0, 0, 0, 0, 0, 0, 0, 0, 0, 0, 0, 0, 0, 0, 0, 0, 0, 0, 0, 0, 0, 0, 0, 0, 0, 0, 0, 0, 0, 0, 0, 0, 0, 0, 0, 0, 0, 0, 0, 0, 0, 0, 0, 0, 0, 0, 0, 0, 0, 0, 0, 0, 0, 0, 0, 0, 0, 0, 0, 0, 0, 0, 0, 0, 0, 0, 0, 0, 0, 0, 0, 0, 0, 0, 0, 0, 0, 0, 0, 0, 0, 0, 0, 0, 0, 0, 0, 0, 0, 0, 0, 0, 0, 0, 0, 0, 0, 0, 0, 0, 0, 0, 0, 0, 0, 0, 0, 0, 0, 0, 0, 0, 0, 0, 0, 0, 0, 0, 0, 0, 0, 0, 0, 0, 0, 0, 0, 0, 0, 0, 0, 0, 0, 0, 0, 0, 0, 0, 0, 0, 0, 0, 0, 0, 0, 0, 0, 0, 0, 0, 0, 0, 0, 0, 0, 0, 0, 0, 0, 0, 0, 0, 0, 0, 0, 0, 0, 0, 0, 0, 0, 0, 0, 0, 0, 0, 0, 0, 0, 0, 0, 0, 0, 0, 0, 0, 0, 0, 0, 0, 0, 0, 0, 0, 0, 0, 0, 0, 0, 0, 0, 0, 0, 0, 0, 0, 0, 0, 0, 0, 0, 0, 0, 0, 0, 0, 0, 0, 0, 0, 0, 0, 0, 0, 0, 0, 0, 0, 0, 0, 0, 0, 0, 0, 0, 0, 0, 0, 0, 0, 0, 0, 0, 0, 0, 0, 0, 0, 0, 0, 0, 0, 0, 0, 0, 0, 0, 0, 0, 0, 0, 0, 0, 0, 0, 0, 0, 0, 0, 0, 0, 0, 0, 0, 0, 0, 0, 0, 0, 0, 0, 0, 0, 0, 0, 0, 0, 0, 0, 0, 0, 0, 0, 0, 0, 0, 0, 0, 0, 0, 0, 0, 0, 0, 0, 0, 0, 0, 0, 0, 0, 0, 0, 0, 0, 0, 0, 0, 0, 0, 0, 0, 0, 0, 0, 0, 0, 0, 0, 0, 0, 0, 0, 0, 0, 0, 0, 0, 0, 0, 0, 0, 0, 0, 0, 0, 0, 0, 0, 0, 0, 0, 0, 0, 0, 0, 0, 0, 0, 0, 0, 0, 0, 0, 0, 0, 0, 0, 0, 0, 0, 0, 0, 0, 0, 0, 0, 0, 0, 0, 0, 0, 0, 0, 0, 0, 0, 0, 0, 0, 0, 0, 0, 0, 0, 0, 0, 0, 0, 0, 0, 0, 0, 0, 0, 0, 0, 0, 0, 0, 0, 0, 0, 0, 0, 0, 0, 0, 0, 0, 0, 0, 0, 0, 0, 0, 0, 0, 0, 0, 0, 0, 0, 0, 1, 0, 0, 0, 0, 0, 0, 0, 0, 0, 0, 0, 0, 0, 0, 0, 0, 0, 0, 0, 0, 0, 0, 0, 0, 0, 0, 0, 0, 0, 0, 0, 0, 0, 0, 0, 0, 0, 0, 0, 0, 0, 0, 0, 0, 0, 0, 0, 0, 0, 0, 0, 0, 0, 0, 0, 0, 0, 0, 0, 0, 0, 0, 0, 0, 0, 0, 0, 0, 0, 0, 0, 0, 0, 0, 0, 0, 0, 0, 0, 0, 0, 0, 0, 0, 0, 0, 0, 0, 0, 0, 0, 0, 0, 0, 0, 0, 0, 0, 0, 0, 0, 0, 0, 0, 0, 0, 0, 1, 0, 0, 0, 0, 0, 0, 0, 0, 0, 0, 0, 0, 0, 0, 0, 0, 0, 0, 0, 0, 0, 0, 0, 0, 0, 0, 0, 0, 0, 0, 0, 0, 0, 0, 0, 0, 0, 0, 0, 0, 0, 0, 0, 0, 0, 0, 0, 0, 0, 0, 0, 0, 0, 0, 0, 0, 0, 0, 0, 0, 0, 0, 0, 0, 0, 0, 0, 0, 0, 0, 0, 0, 0, 0, 0, 0, 0, 0, 0, 0, 0, 0, 0, 0, 0, 0, 0, 0, 0, 0, 0, 0, 0, 0, 0, 0, 0, 0, 0, 0, 0, 0, 0, 0, 0, 0, 0, 0, 0, 0, 0, 0, 0, 0, 0, 0, 0, 0, 0, 0, 0, 0, 0, 0, 0, 0, 0, 0, 0, 0, 0, 0, 0, 0, 0, 0, 0, 0, 0, 0, 0, 0, 0, 0, 0, 0, 0, 0, 0, 0, 0, 0, 0, 0, 0, 0, 0, 0, 0, 0, 0, 0, 0, 0, 0, 0, 0, 0, 0, 0, 0, 0, 0, 0, 0, 0, 0, 0, 0, 0, 0, 0, 0, 0, 0, 0, 0, 0, 0, 0, 0, 0, 0, 0, 0, 0, 0, 0, 0, 0, 0, 0, 0, 0, 0, 0, 0, 0, 0, 0, 0, 0, 0, 0, 0, 0, 0, 0, 0, 0, 0, 0, 0, 0, 0, 0, 0, 0, 0, 0, 0, 0, 0, 0, 0, 0, 0, 0, 0, 0, 0, 0, 0, 0, 0, 0, 0, 0, 0, 0, 0, 0, 0, 0, 0, 0, 0, 0, 0, 0, 0, 0, 0, 0, 0, 0, 0, 0, 0, 0, 0, 0, 0, 0, 0, 0, 0, 0, 0, 0, 0, 0, 0, 0, 0, 0, 0, 0, 0, 0, 0, 0, 0, 0, 0, 0, 0, 0, 0, 0, 0, 0, 0, 0, 0, 0, 0, 0, 0, 0, 0, 0, 0, 0, 0, 0, 0, 0, 0, 0, 0, 0, 0, 0, 0, 0, 0, 0, 0, 0, 0, 0, 0, 0, 0, 0, 0, 0, 0, 0, 0, 0, 0, 0, 0, 0, 0, 0, 0, 0, 0, 0, 0, 0, 0, 0, 0, 0, 0, 0, 0, 0, 0, 0, 0, 0, 0, 0, 0, 0, 0, 0, 0, 0, 0, 0, 0, 0, 0, 0, 0, 0, 0, 0, 0, 0, 0, 0, 0, 0, 0, 0, 0, 0, 0, 0, 0, 0, 0, 0, 0, 0, 0, 0, 0, 0, 0, 0, 0, 0, 0, 0, 0, 0, 0, 0, 0, 0, 0, 0, 0, 0, 0, 0, 0, 0, 0, 0, 0, 0, 0, 0, 0, 0, 0, 0, 0, 0, 0, 0, 0, 0, 0, 0, 0, 0, 0, 0, 0, 0, 0, 0, 0, 0, 0, 0, 0, 0, 0, 0, 0, 0, 0, 0, 0, 0, 2, 0, 1, 0], type: <class 'list'>, valid types: <class 'bytes'>, <class 'bytearray'>, file-like object",
     "output_type": "error",
     "traceback": [
      "\u001b[0;31m---------------------------------------------------------------------------\u001b[0m",
      "\u001b[0;31mParamValidationError\u001b[0m                      Traceback (most recent call last)",
      "\u001b[0;32m<ipython-input-45-c9ab54ae3a48>\u001b[0m in \u001b[0;36m<module>\u001b[0;34m\u001b[0m\n\u001b[1;32m      1\u001b[0m response = runtime.invoke_endpoint(EndpointName = xgb_predictor.endpoint, # The name of the endpoint we created\n\u001b[1;32m      2\u001b[0m                                        \u001b[0mContentType\u001b[0m \u001b[0;34m=\u001b[0m \u001b[0;34m'text/csv'\u001b[0m\u001b[0;34m,\u001b[0m                     \u001b[0;31m# The data format that is expected\u001b[0m\u001b[0;34m\u001b[0m\u001b[0;34m\u001b[0m\u001b[0m\n\u001b[0;32m----> 3\u001b[0;31m                                        Body = test_bow)\n\u001b[0m",
      "\u001b[0;32m~/anaconda3/envs/python3/lib/python3.6/site-packages/botocore/client.py\u001b[0m in \u001b[0;36m_api_call\u001b[0;34m(self, *args, **kwargs)\u001b[0m\n\u001b[1;32m    335\u001b[0m                     \"%s() only accepts keyword arguments.\" % py_operation_name)\n\u001b[1;32m    336\u001b[0m             \u001b[0;31m# The \"self\" in this scope is referring to the BaseClient.\u001b[0m\u001b[0;34m\u001b[0m\u001b[0;34m\u001b[0m\u001b[0;34m\u001b[0m\u001b[0m\n\u001b[0;32m--> 337\u001b[0;31m             \u001b[0;32mreturn\u001b[0m \u001b[0mself\u001b[0m\u001b[0;34m.\u001b[0m\u001b[0m_make_api_call\u001b[0m\u001b[0;34m(\u001b[0m\u001b[0moperation_name\u001b[0m\u001b[0;34m,\u001b[0m \u001b[0mkwargs\u001b[0m\u001b[0;34m)\u001b[0m\u001b[0;34m\u001b[0m\u001b[0;34m\u001b[0m\u001b[0m\n\u001b[0m\u001b[1;32m    338\u001b[0m \u001b[0;34m\u001b[0m\u001b[0m\n\u001b[1;32m    339\u001b[0m         \u001b[0m_api_call\u001b[0m\u001b[0;34m.\u001b[0m\u001b[0m__name__\u001b[0m \u001b[0;34m=\u001b[0m \u001b[0mstr\u001b[0m\u001b[0;34m(\u001b[0m\u001b[0mpy_operation_name\u001b[0m\u001b[0;34m)\u001b[0m\u001b[0;34m\u001b[0m\u001b[0;34m\u001b[0m\u001b[0m\n",
      "\u001b[0;32m~/anaconda3/envs/python3/lib/python3.6/site-packages/botocore/client.py\u001b[0m in \u001b[0;36m_make_api_call\u001b[0;34m(self, operation_name, api_params)\u001b[0m\n\u001b[1;32m    627\u001b[0m         }\n\u001b[1;32m    628\u001b[0m         request_dict = self._convert_to_request_dict(\n\u001b[0;32m--> 629\u001b[0;31m             api_params, operation_model, context=request_context)\n\u001b[0m\u001b[1;32m    630\u001b[0m \u001b[0;34m\u001b[0m\u001b[0m\n\u001b[1;32m    631\u001b[0m         \u001b[0mservice_id\u001b[0m \u001b[0;34m=\u001b[0m \u001b[0mself\u001b[0m\u001b[0;34m.\u001b[0m\u001b[0m_service_model\u001b[0m\u001b[0;34m.\u001b[0m\u001b[0mservice_id\u001b[0m\u001b[0;34m.\u001b[0m\u001b[0mhyphenize\u001b[0m\u001b[0;34m(\u001b[0m\u001b[0;34m)\u001b[0m\u001b[0;34m\u001b[0m\u001b[0;34m\u001b[0m\u001b[0m\n",
      "\u001b[0;32m~/anaconda3/envs/python3/lib/python3.6/site-packages/botocore/client.py\u001b[0m in \u001b[0;36m_convert_to_request_dict\u001b[0;34m(self, api_params, operation_model, context)\u001b[0m\n\u001b[1;32m    675\u001b[0m             api_params, operation_model, context)\n\u001b[1;32m    676\u001b[0m         request_dict = self._serializer.serialize_to_request(\n\u001b[0;32m--> 677\u001b[0;31m             api_params, operation_model)\n\u001b[0m\u001b[1;32m    678\u001b[0m         \u001b[0;32mif\u001b[0m \u001b[0;32mnot\u001b[0m \u001b[0mself\u001b[0m\u001b[0;34m.\u001b[0m\u001b[0m_client_config\u001b[0m\u001b[0;34m.\u001b[0m\u001b[0minject_host_prefix\u001b[0m\u001b[0;34m:\u001b[0m\u001b[0;34m\u001b[0m\u001b[0;34m\u001b[0m\u001b[0m\n\u001b[1;32m    679\u001b[0m             \u001b[0mrequest_dict\u001b[0m\u001b[0;34m.\u001b[0m\u001b[0mpop\u001b[0m\u001b[0;34m(\u001b[0m\u001b[0;34m'host_prefix'\u001b[0m\u001b[0;34m,\u001b[0m \u001b[0;32mNone\u001b[0m\u001b[0;34m)\u001b[0m\u001b[0;34m\u001b[0m\u001b[0;34m\u001b[0m\u001b[0m\n",
      "\u001b[0;32m~/anaconda3/envs/python3/lib/python3.6/site-packages/botocore/validate.py\u001b[0m in \u001b[0;36mserialize_to_request\u001b[0;34m(self, parameters, operation_model)\u001b[0m\n\u001b[1;32m    295\u001b[0m                                                     operation_model.input_shape)\n\u001b[1;32m    296\u001b[0m             \u001b[0;32mif\u001b[0m \u001b[0mreport\u001b[0m\u001b[0;34m.\u001b[0m\u001b[0mhas_errors\u001b[0m\u001b[0;34m(\u001b[0m\u001b[0;34m)\u001b[0m\u001b[0;34m:\u001b[0m\u001b[0;34m\u001b[0m\u001b[0;34m\u001b[0m\u001b[0m\n\u001b[0;32m--> 297\u001b[0;31m                 \u001b[0;32mraise\u001b[0m \u001b[0mParamValidationError\u001b[0m\u001b[0;34m(\u001b[0m\u001b[0mreport\u001b[0m\u001b[0;34m=\u001b[0m\u001b[0mreport\u001b[0m\u001b[0;34m.\u001b[0m\u001b[0mgenerate_report\u001b[0m\u001b[0;34m(\u001b[0m\u001b[0;34m)\u001b[0m\u001b[0;34m)\u001b[0m\u001b[0;34m\u001b[0m\u001b[0;34m\u001b[0m\u001b[0m\n\u001b[0m\u001b[1;32m    298\u001b[0m         return self._serializer.serialize_to_request(parameters,\n\u001b[1;32m    299\u001b[0m                                                      operation_model)\n",
      "\u001b[0;31mParamValidationError\u001b[0m: Parameter validation failed:\nInvalid type for parameter Body, value: [0, 0, 0, 0, 0, 0, 0, 0, 0, 0, 0, 0, 0, 0, 0, 0, 0, 0, 0, 0, 0, 0, 0, 0, 0, 0, 0, 0, 0, 0, 0, 0, 0, 0, 0, 0, 0, 0, 0, 0, 0, 0, 0, 0, 0, 0, 0, 0, 0, 0, 0, 0, 0, 0, 0, 0, 0, 0, 0, 0, 0, 0, 0, 0, 0, 0, 0, 0, 0, 0, 0, 0, 0, 0, 0, 0, 0, 0, 0, 0, 0, 0, 0, 0, 0, 0, 0, 0, 0, 0, 0, 0, 0, 0, 0, 0, 0, 0, 0, 0, 0, 0, 0, 0, 0, 0, 0, 0, 0, 0, 0, 0, 0, 0, 0, 0, 0, 0, 0, 0, 0, 0, 0, 0, 0, 0, 0, 0, 0, 0, 0, 0, 0, 0, 0, 0, 0, 0, 0, 0, 0, 0, 0, 0, 0, 0, 0, 0, 0, 0, 0, 0, 0, 0, 0, 0, 0, 0, 0, 0, 0, 0, 0, 0, 0, 0, 0, 0, 0, 0, 0, 0, 0, 0, 0, 0, 0, 0, 0, 0, 0, 0, 0, 0, 0, 0, 0, 0, 0, 0, 0, 0, 0, 0, 0, 0, 0, 0, 0, 0, 0, 0, 0, 0, 0, 0, 0, 0, 0, 0, 0, 0, 0, 0, 0, 0, 0, 0, 0, 0, 0, 0, 0, 0, 0, 1, 0, 0, 0, 0, 0, 0, 0, 0, 0, 0, 0, 0, 0, 0, 0, 0, 0, 0, 0, 0, 0, 0, 0, 0, 0, 0, 0, 0, 0, 1, 0, 0, 0, 0, 0, 0, 0, 0, 0, 0, 0, 0, 0, 0, 0, 0, 0, 0, 0, 0, 0, 0, 0, 0, 0, 0, 0, 0, 0, 0, 0, 0, 0, 0, 0, 0, 0, 0, 0, 0, 0, 0, 0, 0, 0, 0, 0, 0, 0, 0, 0, 0, 0, 0, 0, 0, 0, 0, 0, 0, 0, 0, 0, 0, 0, 0, 0, 0, 0, 0, 0, 0, 0, 0, 0, 0, 0, 0, 0, 0, 0, 0, 0, 0, 0, 0, 0, 0, 0, 0, 0, 0, 0, 0, 0, 0, 0, 0, 0, 0, 0, 0, 0, 0, 0, 0, 0, 0, 0, 0, 0, 0, 0, 0, 0, 0, 0, 0, 0, 0, 0, 0, 0, 0, 0, 0, 0, 0, 0, 0, 0, 0, 0, 0, 0, 0, 0, 0, 0, 0, 0, 0, 0, 0, 0, 0, 0, 0, 0, 0, 0, 0, 0, 0, 0, 0, 0, 0, 0, 0, 0, 0, 0, 0, 0, 0, 0, 0, 0, 0, 0, 0, 0, 0, 0, 0, 0, 0, 0, 0, 0, 0, 0, 0, 0, 0, 0, 0, 0, 0, 0, 0, 0, 0, 0, 0, 0, 0, 0, 0, 0, 0, 0, 0, 0, 0, 0, 0, 0, 0, 0, 0, 0, 0, 0, 0, 0, 0, 0, 0, 0, 0, 0, 0, 0, 0, 0, 0, 0, 0, 0, 0, 0, 0, 0, 0, 0, 0, 0, 0, 0, 0, 0, 0, 0, 0, 0, 0, 0, 0, 0, 0, 0, 0, 0, 0, 0, 0, 0, 0, 0, 0, 0, 0, 0, 0, 0, 0, 0, 0, 0, 0, 0, 0, 0, 0, 0, 0, 0, 0, 0, 0, 0, 0, 0, 0, 0, 0, 0, 0, 0, 0, 0, 0, 0, 0, 0, 0, 0, 0, 0, 0, 0, 0, 0, 0, 0, 0, 0, 0, 0, 0, 0, 0, 0, 0, 0, 0, 0, 0, 0, 0, 0, 0, 0, 0, 0, 0, 0, 0, 0, 0, 0, 0, 0, 0, 0, 0, 0, 0, 0, 0, 0, 0, 0, 0, 0, 0, 0, 0, 0, 0, 0, 0, 0, 0, 0, 0, 0, 0, 0, 0, 0, 0, 0, 0, 0, 0, 0, 0, 0, 0, 0, 0, 0, 0, 0, 0, 0, 1, 0, 0, 0, 0, 0, 0, 0, 0, 0, 0, 0, 0, 0, 0, 0, 0, 0, 0, 0, 0, 0, 0, 0, 0, 0, 0, 0, 0, 0, 0, 0, 0, 0, 0, 0, 0, 0, 0, 0, 0, 0, 0, 0, 0, 0, 0, 0, 0, 0, 0, 0, 0, 0, 0, 0, 0, 0, 0, 0, 0, 0, 0, 0, 0, 0, 0, 0, 0, 0, 0, 0, 0, 0, 0, 0, 0, 0, 0, 0, 0, 0, 0, 0, 0, 0, 0, 0, 0, 0, 0, 0, 0, 0, 0, 0, 0, 0, 0, 0, 0, 0, 0, 0, 0, 0, 0, 0, 0, 0, 0, 0, 0, 0, 0, 0, 0, 0, 0, 0, 0, 0, 0, 0, 0, 0, 0, 0, 0, 0, 0, 0, 0, 0, 0, 0, 0, 0, 0, 0, 0, 0, 0, 0, 0, 0, 0, 0, 0, 0, 0, 0, 0, 0, 0, 0, 0, 0, 0, 0, 0, 0, 0, 0, 0, 0, 0, 0, 0, 0, 0, 0, 0, 0, 0, 0, 0, 0, 0, 0, 0, 0, 0, 0, 0, 0, 0, 0, 0, 0, 0, 0, 0, 0, 0, 0, 0, 0, 0, 0, 0, 0, 0, 0, 0, 0, 0, 0, 0, 0, 0, 0, 0, 0, 0, 0, 0, 0, 0, 0, 0, 0, 0, 0, 0, 0, 0, 0, 0, 0, 0, 0, 0, 0, 0, 0, 0, 0, 0, 0, 0, 0, 0, 0, 0, 0, 0, 0, 0, 0, 0, 0, 0, 0, 1, 0, 0, 0, 0, 0, 0, 0, 0, 0, 0, 0, 0, 0, 0, 0, 0, 0, 0, 0, 0, 0, 0, 0, 0, 0, 0, 0, 0, 0, 0, 0, 0, 0, 0, 0, 0, 0, 0, 0, 0, 0, 0, 0, 0, 0, 0, 0, 0, 0, 0, 0, 0, 0, 0, 0, 0, 0, 0, 0, 0, 0, 0, 0, 0, 0, 0, 0, 0, 0, 0, 0, 0, 0, 0, 0, 0, 0, 0, 0, 0, 0, 0, 0, 0, 0, 0, 0, 1, 0, 0, 0, 0, 0, 0, 0, 0, 0, 0, 0, 0, 0, 0, 0, 0, 0, 0, 0, 0, 0, 0, 0, 0, 0, 0, 0, 0, 0, 0, 0, 0, 0, 0, 0, 0, 0, 0, 0, 0, 0, 0, 0, 0, 0, 0, 0, 0, 0, 0, 0, 0, 0, 0, 0, 0, 0, 0, 0, 0, 0, 0, 0, 0, 0, 0, 0, 0, 0, 0, 0, 0, 0, 0, 0, 0, 0, 0, 0, 0, 0, 0, 0, 0, 0, 0, 0, 0, 0, 0, 0, 0, 0, 0, 0, 0, 0, 0, 0, 0, 0, 0, 0, 0, 0, 0, 0, 0, 0, 0, 0, 0, 0, 0, 0, 0, 0, 0, 0, 0, 0, 0, 0, 0, 0, 0, 0, 0, 0, 0, 0, 0, 0, 0, 0, 0, 0, 0, 0, 0, 0, 0, 0, 0, 0, 0, 0, 0, 0, 0, 0, 0, 0, 0, 0, 0, 0, 0, 0, 0, 0, 0, 0, 0, 0, 0, 0, 0, 0, 0, 0, 0, 0, 0, 0, 0, 0, 0, 0, 0, 0, 0, 0, 0, 0, 0, 0, 0, 0, 0, 0, 0, 0, 0, 0, 0, 0, 0, 0, 0, 0, 0, 0, 0, 0, 0, 0, 0, 0, 0, 0, 0, 0, 0, 0, 0, 0, 0, 0, 0, 0, 0, 0, 0, 0, 0, 0, 0, 0, 0, 0, 0, 0, 0, 0, 0, 0, 0, 0, 0, 0, 0, 0, 0, 0, 0, 0, 0, 0, 0, 1, 0, 0, 0, 0, 0, 0, 0, 0, 0, 0, 0, 0, 0, 0, 0, 0, 0, 0, 0, 0, 0, 0, 0, 0, 0, 0, 0, 0, 0, 0, 0, 0, 0, 0, 0, 0, 0, 0, 0, 0, 0, 0, 0, 0, 0, 0, 0, 0, 0, 0, 0, 0, 0, 0, 0, 1, 0, 0, 0, 0, 0, 0, 0, 0, 0, 0, 0, 0, 0, 0, 0, 0, 0, 0, 0, 0, 0, 0, 0, 0, 0, 0, 0, 0, 0, 0, 0, 0, 0, 0, 0, 0, 0, 0, 0, 0, 0, 0, 0, 0, 0, 0, 0, 0, 0, 0, 0, 0, 0, 0, 0, 0, 0, 0, 0, 0, 0, 0, 0, 0, 0, 0, 0, 0, 0, 0, 0, 0, 0, 0, 0, 0, 0, 0, 0, 0, 0, 0, 0, 0, 0, 0, 0, 0, 0, 0, 0, 0, 0, 0, 0, 0, 0, 0, 0, 0, 0, 0, 0, 0, 0, 0, 0, 0, 0, 0, 0, 0, 0, 0, 0, 0, 0, 0, 0, 0, 0, 0, 0, 0, 0, 0, 0, 0, 0, 0, 0, 0, 0, 0, 0, 0, 0, 0, 0, 0, 0, 0, 0, 0, 0, 0, 0, 0, 0, 0, 0, 0, 0, 0, 0, 0, 0, 0, 0, 0, 0, 0, 0, 0, 0, 0, 0, 0, 0, 0, 0, 0, 0, 0, 0, 0, 0, 0, 0, 0, 0, 0, 0, 0, 0, 0, 0, 0, 0, 0, 0, 0, 0, 0, 0, 0, 0, 0, 0, 0, 0, 0, 0, 0, 0, 0, 0, 0, 0, 0, 0, 0, 0, 0, 0, 0, 0, 0, 0, 0, 0, 0, 0, 0, 0, 0, 0, 0, 0, 0, 0, 0, 0, 0, 0, 0, 0, 0, 0, 0, 0, 0, 0, 0, 0, 0, 0, 0, 0, 0, 0, 0, 0, 0, 0, 0, 0, 0, 0, 0, 0, 0, 0, 0, 0, 0, 0, 0, 0, 0, 0, 0, 0, 0, 0, 0, 0, 0, 0, 0, 0, 0, 0, 0, 0, 0, 0, 0, 0, 0, 0, 0, 0, 0, 0, 0, 0, 0, 0, 0, 0, 0, 0, 0, 0, 0, 0, 0, 0, 0, 0, 0, 0, 0, 0, 0, 0, 0, 0, 0, 0, 0, 0, 0, 0, 0, 0, 0, 0, 0, 0, 0, 0, 0, 0, 0, 0, 0, 0, 0, 0, 0, 0, 0, 0, 0, 0, 0, 0, 0, 0, 0, 0, 0, 0, 0, 0, 0, 0, 0, 0, 0, 0, 0, 0, 0, 0, 0, 0, 0, 0, 0, 0, 0, 0, 0, 0, 0, 0, 0, 0, 0, 0, 0, 0, 0, 0, 0, 0, 0, 0, 0, 0, 0, 0, 0, 0, 0, 0, 0, 0, 0, 0, 0, 0, 0, 0, 0, 0, 0, 0, 0, 0, 0, 0, 0, 0, 0, 0, 0, 0, 0, 0, 0, 0, 0, 0, 0, 0, 0, 0, 0, 0, 0, 0, 0, 0, 0, 0, 0, 0, 0, 0, 0, 0, 0, 0, 0, 0, 0, 0, 0, 0, 0, 0, 0, 0, 0, 0, 0, 0, 0, 0, 0, 0, 0, 0, 0, 0, 0, 0, 0, 0, 0, 0, 0, 0, 0, 0, 0, 0, 0, 0, 0, 0, 0, 0, 0, 0, 0, 0, 0, 0, 0, 0, 0, 0, 0, 0, 0, 0, 0, 0, 0, 0, 0, 0, 0, 0, 0, 0, 0, 0, 0, 0, 0, 0, 0, 0, 0, 0, 0, 0, 0, 0, 0, 0, 0, 0, 0, 0, 0, 0, 0, 0, 0, 0, 0, 0, 0, 0, 0, 0, 0, 0, 0, 0, 0, 0, 0, 0, 0, 0, 0, 0, 0, 0, 0, 0, 0, 0, 0, 0, 0, 0, 0, 0, 0, 0, 0, 0, 0, 0, 0, 0, 0, 0, 0, 0, 0, 0, 0, 0, 0, 0, 0, 0, 0, 0, 0, 0, 0, 0, 0, 0, 0, 0, 0, 0, 0, 0, 0, 0, 0, 0, 0, 0, 0, 0, 0, 0, 0, 0, 0, 0, 0, 0, 0, 0, 0, 0, 0, 0, 0, 0, 0, 0, 0, 0, 0, 0, 0, 0, 0, 0, 0, 0, 0, 0, 0, 0, 0, 0, 0, 0, 0, 0, 0, 0, 0, 0, 0, 0, 0, 0, 0, 0, 0, 0, 0, 0, 0, 0, 0, 0, 0, 0, 0, 0, 0, 0, 0, 0, 0, 0, 0, 0, 0, 0, 0, 0, 0, 1, 0, 0, 0, 0, 0, 0, 0, 0, 0, 0, 0, 0, 0, 0, 0, 0, 0, 0, 0, 0, 0, 0, 0, 0, 0, 0, 0, 0, 0, 0, 0, 0, 0, 0, 0, 0, 0, 0, 0, 0, 0, 0, 0, 0, 0, 0, 0, 0, 0, 0, 0, 0, 0, 0, 0, 0, 0, 0, 0, 0, 0, 0, 0, 0, 0, 0, 0, 0, 0, 0, 0, 0, 0, 0, 1, 0, 0, 0, 0, 0, 0, 0, 0, 0, 0, 0, 0, 0, 0, 0, 0, 0, 0, 0, 0, 1, 0, 0, 1, 0, 0, 0, 0, 0, 0, 0, 0, 0, 0, 0, 0, 0, 0, 0, 0, 0, 0, 0, 0, 0, 0, 0, 0, 0, 0, 0, 0, 0, 0, 0, 0, 0, 0, 0, 0, 0, 0, 0, 0, 0, 0, 0, 0, 0, 0, 0, 0, 0, 0, 0, 0, 0, 0, 0, 0, 0, 0, 0, 0, 0, 0, 0, 0, 0, 0, 0, 0, 0, 0, 0, 0, 0, 0, 0, 0, 0, 0, 0, 0, 0, 0, 0, 0, 0, 0, 0, 0, 0, 0, 0, 0, 0, 0, 0, 0, 0, 0, 0, 0, 0, 0, 0, 0, 0, 0, 0, 0, 0, 0, 0, 0, 0, 0, 0, 0, 0, 0, 0, 0, 0, 0, 0, 0, 0, 0, 0, 0, 0, 0, 0, 0, 0, 0, 0, 0, 0, 0, 0, 0, 0, 0, 0, 0, 0, 0, 0, 0, 0, 0, 0, 0, 0, 0, 0, 0, 0, 0, 0, 0, 0, 0, 0, 0, 0, 0, 0, 0, 0, 0, 0, 0, 0, 0, 0, 0, 0, 0, 0, 0, 0, 0, 0, 0, 0, 0, 0, 0, 0, 0, 0, 0, 0, 0, 0, 0, 0, 0, 0, 0, 0, 0, 0, 0, 0, 0, 0, 0, 0, 0, 0, 0, 0, 0, 0, 0, 0, 0, 0, 0, 0, 0, 0, 0, 0, 0, 0, 0, 0, 0, 0, 0, 0, 0, 0, 0, 0, 0, 0, 0, 0, 0, 0, 0, 0, 0, 0, 0, 0, 0, 0, 0, 0, 0, 0, 0, 0, 0, 0, 0, 0, 0, 0, 0, 0, 0, 0, 0, 0, 0, 0, 0, 0, 0, 0, 0, 0, 0, 0, 0, 0, 0, 0, 0, 0, 0, 0, 0, 0, 0, 0, 0, 0, 0, 0, 0, 0, 0, 0, 0, 0, 0, 0, 0, 0, 0, 0, 0, 0, 0, 0, 0, 0, 0, 0, 0, 0, 0, 0, 0, 0, 0, 0, 0, 0, 0, 0, 0, 0, 0, 0, 0, 0, 0, 0, 0, 0, 0, 0, 0, 0, 0, 0, 0, 0, 0, 0, 0, 0, 0, 0, 0, 0, 0, 0, 0, 0, 0, 0, 0, 0, 0, 0, 0, 0, 0, 0, 0, 0, 0, 0, 0, 0, 0, 0, 0, 0, 0, 0, 0, 0, 0, 0, 0, 0, 0, 0, 0, 0, 0, 0, 0, 0, 0, 0, 0, 0, 0, 0, 0, 0, 0, 0, 0, 0, 0, 0, 0, 0, 0, 0, 0, 0, 0, 0, 0, 0, 0, 0, 0, 0, 0, 0, 0, 0, 0, 0, 0, 0, 0, 0, 0, 0, 0, 0, 0, 0, 0, 0, 0, 0, 0, 0, 0, 0, 0, 0, 0, 0, 0, 0, 0, 0, 0, 0, 0, 0, 0, 0, 0, 0, 0, 0, 0, 0, 0, 0, 1, 0, 0, 0, 0, 0, 0, 0, 0, 0, 0, 0, 0, 0, 0, 0, 0, 0, 0, 0, 0, 0, 0, 0, 0, 0, 0, 0, 0, 0, 0, 0, 0, 0, 0, 0, 0, 0, 0, 0, 0, 0, 0, 0, 0, 0, 0, 0, 0, 0, 0, 0, 0, 0, 0, 0, 0, 0, 0, 0, 0, 0, 0, 0, 0, 0, 0, 0, 0, 0, 0, 0, 0, 0, 0, 0, 0, 0, 0, 0, 0, 0, 0, 0, 0, 0, 0, 0, 0, 0, 0, 0, 0, 0, 0, 0, 0, 0, 0, 0, 0, 0, 0, 0, 0, 0, 0, 0, 0, 0, 0, 0, 0, 0, 0, 0, 0, 0, 0, 0, 0, 0, 0, 0, 0, 0, 0, 0, 0, 0, 0, 0, 0, 0, 0, 0, 0, 0, 0, 0, 0, 0, 0, 0, 0, 0, 0, 0, 0, 0, 0, 0, 0, 0, 0, 0, 0, 0, 0, 0, 0, 0, 0, 0, 0, 0, 0, 0, 0, 0, 0, 0, 0, 0, 0, 0, 0, 0, 0, 0, 0, 0, 0, 0, 0, 0, 0, 0, 0, 0, 0, 0, 0, 0, 0, 0, 0, 0, 0, 0, 0, 0, 0, 0, 0, 0, 0, 0, 0, 0, 0, 0, 0, 0, 0, 0, 0, 0, 0, 0, 0, 0, 0, 0, 0, 0, 0, 0, 0, 0, 0, 0, 0, 0, 0, 0, 0, 0, 0, 0, 0, 0, 0, 0, 0, 0, 0, 0, 0, 0, 0, 0, 0, 0, 0, 0, 0, 0, 0, 0, 0, 0, 0, 0, 0, 0, 0, 0, 0, 0, 0, 0, 0, 0, 0, 0, 0, 0, 0, 0, 0, 0, 0, 0, 0, 0, 0, 0, 0, 0, 0, 0, 0, 0, 0, 0, 0, 0, 0, 0, 0, 0, 0, 0, 0, 0, 0, 0, 0, 0, 0, 0, 0, 0, 0, 0, 0, 0, 0, 0, 0, 0, 0, 0, 0, 0, 0, 0, 0, 0, 0, 0, 0, 0, 0, 0, 0, 0, 0, 0, 0, 0, 0, 0, 0, 0, 0, 0, 0, 0, 0, 0, 0, 0, 0, 0, 0, 0, 0, 0, 0, 0, 0, 0, 0, 0, 0, 0, 0, 0, 0, 0, 0, 0, 0, 0, 0, 0, 0, 0, 0, 0, 0, 0, 0, 0, 0, 0, 0, 0, 0, 0, 0, 0, 0, 0, 0, 0, 0, 0, 0, 0, 0, 0, 0, 0, 0, 0, 0, 0, 0, 0, 0, 0, 0, 0, 0, 0, 0, 0, 0, 0, 0, 0, 0, 0, 0, 0, 0, 0, 0, 0, 0, 0, 0, 0, 0, 0, 0, 0, 0, 0, 0, 0, 0, 0, 0, 0, 0, 0, 0, 0, 0, 0, 0, 0, 0, 0, 0, 0, 0, 0, 0, 0, 0, 0, 0, 0, 0, 0, 0, 0, 0, 0, 0, 0, 0, 0, 0, 0, 0, 0, 0, 0, 0, 0, 0, 0, 0, 0, 0, 0, 0, 0, 0, 0, 0, 0, 0, 0, 0, 0, 0, 0, 0, 0, 0, 0, 0, 0, 0, 0, 0, 0, 1, 0, 0, 0, 0, 0, 0, 0, 0, 0, 0, 0, 0, 0, 0, 0, 0, 0, 0, 0, 0, 0, 0, 0, 0, 0, 0, 0, 0, 0, 0, 0, 0, 0, 0, 0, 2, 0, 0, 0, 0, 0, 0, 0, 0, 0, 0, 0, 0, 0, 0, 0, 0, 0, 0, 0, 0, 0, 0, 0, 0, 0, 0, 0, 0, 0, 0, 0, 0, 0, 0, 0, 0, 0, 0, 0, 0, 1, 0, 0, 0, 0, 0, 0, 0, 0, 0, 0, 0, 0, 0, 0, 0, 0, 0, 0, 0, 0, 0, 0, 0, 0, 0, 0, 0, 0, 0, 0, 0, 0, 0, 0, 0, 0, 0, 0, 0, 0, 0, 0, 0, 0, 0, 0, 0, 0, 0, 0, 0, 0, 0, 0, 0, 0, 0, 0, 0, 0, 0, 0, 0, 0, 0, 0, 0, 0, 0, 0, 0, 0, 0, 0, 0, 0, 0, 0, 0, 0, 0, 0, 0, 0, 0, 0, 0, 0, 0, 0, 0, 0, 0, 0, 0, 0, 0, 0, 0, 0, 0, 0, 0, 0, 0, 0, 0, 0, 0, 0, 0, 0, 0, 0, 0, 0, 0, 0, 0, 0, 0, 0, 0, 0, 0, 0, 0, 0, 0, 0, 0, 0, 0, 0, 0, 0, 0, 0, 0, 0, 0, 0, 0, 0, 0, 0, 0, 0, 0, 0, 0, 0, 0, 0, 0, 0, 0, 0, 0, 0, 0, 0, 0, 0, 0, 0, 0, 0, 0, 0, 0, 0, 0, 0, 0, 0, 0, 0, 0, 0, 0, 0, 0, 0, 0, 0, 0, 0, 0, 0, 0, 0, 0, 0, 0, 0, 0, 0, 0, 0, 0, 0, 0, 0, 0, 0, 0, 0, 0, 0, 0, 0, 0, 0, 0, 0, 0, 0, 0, 0, 0, 0, 0, 0, 0, 0, 0, 0, 0, 0, 0, 0, 0, 0, 0, 0, 0, 0, 0, 0, 0, 0, 0, 0, 0, 0, 0, 0, 0, 0, 0, 0, 0, 0, 0, 0, 0, 0, 0, 0, 0, 0, 0, 0, 0, 0, 0, 0, 0, 0, 0, 0, 0, 0, 0, 0, 0, 0, 0, 0, 0, 0, 0, 0, 0, 0, 0, 0, 0, 0, 0, 0, 0, 0, 0, 0, 0, 0, 0, 0, 0, 0, 0, 0, 0, 0, 0, 0, 0, 0, 0, 0, 0, 0, 0, 0, 0, 0, 0, 0, 0, 0, 0, 0, 0, 0, 0, 0, 0, 0, 0, 0, 0, 0, 0, 0, 0, 0, 0, 0, 0, 0, 0, 0, 0, 0, 0, 0, 0, 0, 0, 0, 0, 0, 0, 0, 0, 0, 0, 0, 0, 0, 0, 0, 0, 0, 0, 0, 0, 0, 0, 0, 0, 0, 0, 0, 0, 0, 0, 0, 0, 0, 0, 0, 0, 0, 0, 0, 0, 0, 0, 0, 0, 0, 0, 0, 0, 0, 0, 0, 0, 0, 0, 0, 0, 0, 0, 0, 0, 0, 0, 0, 0, 0, 0, 0, 0, 0, 0, 0, 0, 0, 0, 0, 0, 0, 0, 0, 0, 0, 0, 0, 0, 0, 0, 0, 0, 0, 0, 0, 0, 0, 0, 0, 0, 0, 0, 0, 0, 0, 0, 0, 0, 0, 0, 0, 0, 0, 0, 0, 0, 0, 0, 0, 0, 0, 0, 0, 0, 0, 0, 0, 0, 0, 0, 0, 0, 0, 0, 0, 0, 0, 0, 0, 0, 0, 0, 0, 0, 0, 0, 0, 0, 0, 0, 1, 0, 0, 0, 0, 0, 0, 0, 0, 0, 0, 0, 0, 0, 0, 0, 0, 0, 0, 0, 0, 0, 0, 0, 0, 0, 0, 0, 0, 0, 0, 0, 0, 0, 0, 0, 0, 0, 0, 0, 0, 0, 0, 0, 0, 0, 0, 0, 0, 0, 0, 0, 0, 0, 0, 0, 0, 0, 0, 0, 0, 0, 0, 0, 0, 0, 0, 0, 0, 0, 0, 0, 0, 0, 0, 0, 0, 0, 0, 0, 0, 0, 0, 0, 0, 0, 0, 0, 0, 0, 0, 0, 0, 0, 0, 0, 0, 0, 0, 0, 0, 0, 0, 0, 0, 0, 0, 0, 0, 0, 0, 2, 0, 0, 0, 0, 0, 0, 0, 0, 0, 0, 0, 0, 0, 0, 0, 0, 0, 0, 0, 0, 0, 0, 0, 0, 0, 0, 0, 0, 0, 0, 0, 0, 0, 0, 0, 0, 0, 0, 0, 0, 0, 0, 0, 0, 0, 0, 0, 0, 0, 0, 0, 0, 0, 0, 0, 0, 0, 0, 0, 0, 0, 0, 0, 0, 0, 0, 0, 0, 0, 0, 0, 0, 0, 0, 0, 0, 0, 0, 0, 0, 0, 0, 0, 0, 0, 0, 0, 0, 0, 0, 0, 0, 0, 0, 0, 0, 0, 0, 0, 0, 0, 0, 0, 0, 0, 0, 0, 0, 0, 0, 0, 0, 0, 0, 0, 0, 0, 0, 0, 0, 0, 0, 0, 0, 0, 0, 0, 0, 0, 0, 0, 0, 0, 0, 0, 0, 0, 0, 0, 0, 0, 0, 0, 0, 0, 0, 0, 0, 0, 0, 0, 0, 0, 0, 0, 0, 0, 0, 0, 0, 0, 0, 0, 0, 0, 0, 0, 0, 0, 0, 0, 0, 0, 0, 0, 0, 0, 0, 0, 0, 0, 0, 0, 0, 0, 0, 0, 0, 0, 0, 0, 0, 0, 0, 0, 0, 0, 0, 0, 0, 0, 0, 0, 0, 0, 0, 0, 0, 0, 0, 0, 0, 0, 0, 0, 0, 0, 0, 0, 0, 0, 0, 0, 0, 0, 0, 0, 0, 0, 0, 0, 0, 0, 0, 0, 0, 0, 0, 0, 0, 0, 0, 0, 0, 0, 0, 0, 0, 0, 0, 0, 0, 0, 0, 0, 0, 0, 0, 0, 0, 0, 0, 0, 0, 0, 0, 0, 0, 0, 0, 0, 0, 0, 0, 0, 0, 0, 0, 0, 0, 0, 0, 0, 0, 0, 0, 0, 0, 0, 0, 0, 0, 0, 0, 0, 0, 0, 0, 0, 0, 0, 0, 0, 0, 0, 0, 0, 0, 0, 0, 0, 0, 0, 0, 0, 0, 0, 0, 0, 0, 0, 0, 0, 0, 0, 0, 0, 0, 0, 0, 0, 0, 0, 0, 0, 0, 0, 0, 0, 0, 0, 0, 0, 0, 0, 0, 0, 0, 0, 0, 0, 0, 0, 0, 0, 0, 0, 0, 0, 0, 0, 0, 0, 0, 0, 0, 0, 0, 0, 0, 0, 0, 0, 0, 0, 0, 0, 0, 0, 0, 0, 0, 0, 0, 0, 0, 0, 0, 0, 0, 0, 0, 0, 0, 0, 0, 0, 0, 0, 0, 0, 0, 0, 0, 0, 0, 0, 0, 0, 0, 0, 0, 0, 0, 0, 0, 0, 0, 0, 0, 0, 0, 0, 0, 0, 0, 0, 0, 0, 0, 0, 0, 0, 0, 0, 0, 0, 0, 0, 0, 0, 0, 0, 0, 0, 0, 0, 0, 0, 0, 0, 0, 0, 0, 0, 0, 0, 0, 0, 0, 0, 0, 0, 0, 0, 0, 0, 0, 0, 0, 0, 0, 0, 0, 0, 0, 0, 0, 0, 0, 0, 0, 0, 0, 0, 0, 0, 0, 0, 0, 0, 0, 0, 0, 0, 0, 0, 0, 0, 0, 0, 0, 0, 0, 0, 0, 0, 0, 0, 0, 0, 0, 0, 0, 0, 0, 0, 0, 0, 0, 0, 0, 0, 0, 0, 0, 0, 0, 0, 0, 0, 0, 0, 0, 0, 0, 0, 0, 0, 0, 0, 0, 0, 0, 0, 0, 0, 0, 0, 0, 0, 0, 0, 0, 0, 0, 0, 0, 0, 0, 0, 0, 0, 0, 0, 0, 0, 0, 0, 0, 0, 0, 0, 0, 0, 0, 0, 0, 0, 0, 0, 0, 0, 0, 0, 0, 0, 0, 0, 0, 0, 0, 0, 0, 0, 0, 0, 0, 0, 0, 0, 0, 0, 0, 0, 0, 0, 0, 0, 0, 0, 0, 0, 0, 0, 0, 0, 0, 0, 0, 0, 0, 0, 0, 0, 0, 0, 0, 0, 0, 0, 0, 0, 0, 0, 0, 0, 0, 0, 0, 0, 0, 0, 0, 0, 0, 0, 0, 0, 0, 0, 0, 0, 0, 0, 0, 0, 0, 0, 0, 0, 0, 0, 0, 0, 0, 0, 0, 0, 0, 0, 0, 0, 0, 0, 0, 0, 0, 0, 0, 0, 0, 0, 0, 0, 0, 0, 0, 1, 0, 0, 0, 0, 0, 0, 0, 0, 0, 0, 0, 0, 0, 0, 0, 0, 0, 0, 0, 0, 0, 0, 0, 0, 0, 0, 0, 0, 0, 0, 0, 0, 0, 0, 0, 0, 0, 0, 0, 0, 0, 0, 0, 0, 0, 0, 0, 0, 0, 0, 0, 0, 0, 0, 0, 0, 0, 0, 0, 0, 0, 0, 0, 0, 0, 0, 0, 0, 0, 0, 0, 0, 0, 0, 0, 0, 0, 0, 0, 0, 0, 0, 0, 0, 0, 0, 0, 0, 0, 0, 0, 0, 0, 0, 0, 0, 0, 0, 0, 0, 0, 0, 0, 0, 0, 0, 0, 1, 0, 0, 0, 0, 0, 0, 0, 0, 0, 0, 0, 0, 0, 0, 0, 0, 0, 0, 0, 0, 0, 0, 0, 0, 0, 0, 0, 0, 0, 0, 0, 0, 0, 0, 0, 0, 0, 0, 0, 0, 0, 0, 0, 0, 0, 0, 0, 0, 0, 0, 0, 0, 0, 0, 0, 0, 0, 0, 0, 0, 0, 0, 0, 0, 0, 0, 0, 0, 0, 0, 0, 0, 0, 0, 0, 0, 0, 0, 0, 0, 0, 0, 0, 0, 0, 0, 0, 0, 0, 0, 0, 0, 0, 0, 0, 0, 0, 0, 0, 0, 0, 0, 0, 0, 0, 0, 0, 0, 0, 0, 0, 0, 0, 0, 0, 0, 0, 0, 0, 0, 0, 0, 0, 0, 0, 0, 0, 0, 0, 0, 0, 0, 0, 0, 0, 0, 0, 0, 0, 0, 0, 0, 0, 0, 0, 0, 0, 0, 0, 0, 0, 0, 0, 0, 0, 0, 0, 0, 0, 0, 0, 0, 0, 0, 0, 0, 0, 0, 0, 0, 0, 0, 0, 0, 0, 0, 0, 0, 0, 0, 0, 0, 0, 0, 0, 0, 0, 0, 0, 0, 0, 0, 0, 0, 0, 0, 0, 0, 0, 0, 0, 0, 0, 0, 0, 0, 0, 0, 0, 0, 0, 0, 0, 0, 0, 0, 0, 0, 0, 0, 0, 0, 0, 0, 0, 0, 0, 0, 0, 0, 0, 0, 0, 0, 0, 0, 0, 0, 0, 0, 0, 0, 0, 0, 0, 0, 0, 0, 0, 0, 0, 0, 0, 0, 0, 0, 0, 0, 0, 0, 0, 0, 0, 0, 0, 0, 0, 0, 0, 0, 0, 0, 0, 0, 0, 0, 0, 0, 0, 0, 0, 0, 0, 0, 0, 0, 0, 0, 0, 0, 0, 0, 0, 0, 0, 0, 0, 0, 0, 0, 0, 0, 0, 0, 0, 0, 0, 0, 0, 0, 0, 0, 0, 0, 0, 0, 0, 0, 0, 0, 0, 0, 0, 0, 0, 0, 0, 0, 0, 0, 0, 0, 0, 0, 0, 0, 0, 0, 0, 0, 0, 0, 0, 0, 0, 0, 0, 0, 0, 0, 0, 0, 0, 0, 0, 0, 0, 0, 0, 0, 0, 0, 0, 0, 0, 0, 0, 0, 0, 0, 0, 0, 0, 0, 0, 0, 0, 0, 0, 0, 0, 0, 0, 0, 0, 0, 0, 0, 0, 0, 0, 0, 0, 0, 0, 0, 0, 0, 0, 0, 0, 0, 0, 0, 0, 0, 0, 0, 0, 0, 0, 0, 0, 0, 0, 0, 0, 0, 0, 0, 0, 0, 0, 0, 0, 0, 0, 0, 0, 0, 0, 0, 0, 0, 0, 0, 0, 0, 0, 0, 0, 0, 0, 0, 0, 0, 0, 0, 0, 0, 0, 0, 0, 0, 0, 0, 0, 0, 0, 0, 0, 0, 0, 0, 0, 0, 2, 0, 1, 0], type: <class 'list'>, valid types: <class 'bytes'>, <class 'bytearray'>, file-like object"
     ]
    }
   ],
   "source": [
    "response = runtime.invoke_endpoint(EndpointName = xgb_predictor.endpoint, # The name of the endpoint we created\n",
    "                                       ContentType = 'text/csv',                     # The data format that is expected\n",
    "                                       Body = test_bow)"
   ]
  },
  {
   "cell_type": "markdown",
   "metadata": {},
   "source": [
    "So why did we get an error?\n",
    "\n",
    "Because we tried to send the endpoint a list of integers but it expected us to send data of type `text/csv`. So, we need to convert it."
   ]
  },
  {
   "cell_type": "code",
   "execution_count": 46,
   "metadata": {},
   "outputs": [],
   "source": [
    "response = runtime.invoke_endpoint(EndpointName = xgb_predictor.endpoint, # The name of the endpoint we created\n",
    "                                       ContentType = 'text/csv',                     # The data format that is expected\n",
    "                                       Body = ','.join([str(val) for val in test_bow]).encode('utf-8'))"
   ]
  },
  {
   "cell_type": "code",
   "execution_count": 47,
   "metadata": {},
   "outputs": [
    {
     "name": "stdout",
     "output_type": "stream",
     "text": [
      "{'ResponseMetadata': {'RequestId': '619dc264-6c58-47fd-bf49-9f8cbe202168', 'HTTPStatusCode': 200, 'HTTPHeaders': {'x-amzn-requestid': '619dc264-6c58-47fd-bf49-9f8cbe202168', 'x-amzn-invoked-production-variant': 'AllTraffic', 'date': 'Tue, 29 Sep 2020 15:24:53 GMT', 'content-type': 'text/csv; charset=utf-8', 'content-length': '14'}, 'RetryAttempts': 0}, 'ContentType': 'text/csv; charset=utf-8', 'InvokedProductionVariant': 'AllTraffic', 'Body': <botocore.response.StreamingBody object at 0x7f900d27d9e8>}\n"
     ]
    }
   ],
   "source": [
    "print(response)"
   ]
  },
  {
   "cell_type": "markdown",
   "metadata": {},
   "source": [
    "As we can see, the response from our model is a somewhat complicated looking dict that contains a bunch of information. The bit that we are most interested in is `'Body'` object which is a streaming object that we need to `read` in order to make use of."
   ]
  },
  {
   "cell_type": "code",
   "execution_count": 48,
   "metadata": {},
   "outputs": [
    {
     "name": "stdout",
     "output_type": "stream",
     "text": [
      "0.405646294355\n"
     ]
    }
   ],
   "source": [
    "response = response['Body'].read().decode('utf-8')\n",
    "print(response)"
   ]
  },
  {
   "cell_type": "markdown",
   "metadata": {},
   "source": [
    "Now that we know how to process the incoming user data we can start setting up the infrastructure to make our simple web app work. To do this we will make use of two different services. Amazon's Lambda and API Gateway services.\n",
    "\n",
    "Lambda is a service which allows someone to write some relatively simple code and have it executed whenever a chosen trigger occurs. For example, you may want to update a database whenever new data is uploaded to a folder stored on S3.\n",
    "\n",
    "API Gateway is a service that allows you to create HTTP endpoints (url addresses) which are connected to other AWS services. One of the benefits to this is that you get to decide what credentials, if any, are required to access these endpoints.\n",
    "\n",
    "In our case we are going to set up an HTTP endpoint through API Gateway which is open to the public. Then, whenever anyone sends data to our public endpoint we will trigger a Lambda function which will send the input (in our case a review) to our model's endpoint and then return the result."
   ]
  },
  {
   "cell_type": "markdown",
   "metadata": {},
   "source": [
    "### Setting up a Lambda function\n",
    "\n",
    "The first thing we are going to do is set up a Lambda function. This Lambda function will be executed whenever our public API has data sent to it. When it is executed it will receive the data, perform any sort of processing that is required, send the data (the review) to the SageMaker endpoint we've created and then return the result.\n",
    "\n",
    "#### Part A: Create an IAM Role for the Lambda function\n",
    "\n",
    "Since we want the Lambda function to call a SageMaker endpoint, we need to make sure that it has permission to do so. To do this, we will construct a role that we can later give the Lambda function.\n",
    "\n",
    "Using the AWS Console, navigate to the **IAM** page and click on **Roles**. Then, click on **Create role**. Make sure that the **AWS service** is the type of trusted entity selected and choose **Lambda** as the service that will use this role, then click **Next: Permissions**.\n",
    "\n",
    "In the search box type `sagemaker` and select the check box next to the **AmazonSageMakerFullAccess** policy. Then, click on **Next: Review**.\n",
    "\n",
    "Lastly, give this role a name. Make sure you use a name that you will remember later on, for example `LambdaSageMakerRole`. Then, click on **Create role**."
   ]
  },
  {
   "cell_type": "markdown",
   "metadata": {},
   "source": [
    "#### Part B: Create a Lambda function\n",
    "\n",
    "Now it is time to actually create the Lambda function. Remember from earlier that in order to process the user provided input and send it to our endpoint we need to gather two pieces of information:\n",
    "\n",
    " - The name of the endpoint, and\n",
    " - the vocabulary object.\n",
    "\n",
    "We will copy these pieces of information to our Lambda function after we create it.\n",
    "\n",
    "To start, using the AWS Console, navigate to the AWS Lambda page and click on **Create a function**. When you get to the next page, make sure that **Author from scratch** is selected. Now, name your Lambda function, using a name that you will remember later on, for example `sentiment_analysis_xgboost_func`. Make sure that the **Python 3.6** runtime is selected and then choose the role that you created in the previous part. Then, click on **Create Function**.\n",
    "\n",
    "On the next page you will see some information about the Lambda function you've just created. If you scroll down you should see an editor in which you can write the code that will be executed when your Lambda function is triggered. Collecting the code we wrote above to process a single review and adding it to the provided example `lambda_handler` we arrive at the following.\n",
    "\n",
    "```python\n",
    "# We need to use the low-level library to interact with SageMaker since the SageMaker API\n",
    "# is not available natively through Lambda.\n",
    "import boto3\n",
    "\n",
    "# And we need the regular expression library to do some of the data processing\n",
    "import re\n",
    "\n",
    "REPLACE_NO_SPACE = re.compile(\"(\\.)|(\\;)|(\\:)|(\\!)|(\\')|(\\?)|(\\,)|(\\\")|(\\()|(\\))|(\\[)|(\\])\")\n",
    "REPLACE_WITH_SPACE = re.compile(\"(<br\\s*/><br\\s*/>)|(\\-)|(\\/)\")\n",
    "\n",
    "def review_to_words(review):\n",
    "    words = REPLACE_NO_SPACE.sub(\"\", review.lower())\n",
    "    words = REPLACE_WITH_SPACE.sub(\" \", words)\n",
    "    return words\n",
    "    \n",
    "def bow_encoding(words, vocabulary):\n",
    "    bow = [0] * len(vocabulary) # Start by setting the count for each word in the vocabulary to zero.\n",
    "    for word in words.split():  # For each word in the string\n",
    "        if word in vocabulary:  # If the word is one that occurs in the vocabulary, increase its count.\n",
    "            bow[vocabulary[word]] += 1\n",
    "    return bow\n",
    "\n",
    "\n",
    "def lambda_handler(event, context):\n",
    "    \n",
    "    vocab = \"*** ACTUAL VOCABULARY GOES HERE ***\"\n",
    "    \n",
    "    words = review_to_words(event['body'])\n",
    "    bow = bow_encoding(words, vocab)\n",
    "\n",
    "    # The SageMaker runtime is what allows us to invoke the endpoint that we've created.\n",
    "    runtime = boto3.Session().client('sagemaker-runtime')\n",
    "\n",
    "    # Now we use the SageMaker runtime to invoke our endpoint, sending the review we were given\n",
    "    response = runtime.invoke_endpoint(EndpointName = '***ENDPOINT NAME HERE***',# The name of the endpoint we created\n",
    "                                       ContentType = 'text/csv',                 # The data format that is expected\n",
    "                                       Body = ','.join([str(val) for val in bow]).encode('utf-8')) # The actual review\n",
    "\n",
    "    # The response is an HTTP response whose body contains the result of our inference\n",
    "    result = response['Body'].read().decode('utf-8')\n",
    "    \n",
    "    # Round the result so that our web app only gets '1' or '0' as a response.\n",
    "    result = round(float(result))\n",
    "\n",
    "    return {\n",
    "        'statusCode' : 200,\n",
    "        'headers' : { 'Content-Type' : 'text/plain', 'Access-Control-Allow-Origin' : '*' },\n",
    "        'body' : str(result)\n",
    "    }\n",
    "```"
   ]
  },
  {
   "cell_type": "markdown",
   "metadata": {},
   "source": [
    "Once you have copy and pasted the code above into the Lambda code editor, replace the `**ENDPOINT NAME HERE**` portion with the name of the endpoint that we deployed earlier. You can determine the name of the endpoint using the code cell below."
   ]
  },
  {
   "cell_type": "code",
   "execution_count": 49,
   "metadata": {},
   "outputs": [
    {
     "data": {
      "text/plain": [
       "'xgboost-2020-09-29-14-23-13-886'"
      ]
     },
     "execution_count": 49,
     "metadata": {},
     "output_type": "execute_result"
    }
   ],
   "source": [
    "xgb_predictor.endpoint"
   ]
  },
  {
   "cell_type": "markdown",
   "metadata": {},
   "source": [
    "In addition, you will need to copy the vocabulary dict to the appropriate place in the code at the beginning of the `lambda_handler` method. The cell below prints out the vocabulary dict in a way that is easy to copy and paste."
   ]
  },
  {
   "cell_type": "code",
   "execution_count": 50,
   "metadata": {},
   "outputs": [
    {
     "name": "stdout",
     "output_type": "stream",
     "text": [
      "{'group': 1979, 'of': 3084, 'friends': 1836, 'decide': 1147, 'to': 4504, 'take': 4346, 'trip': 4584, 'into': 2331, 'the': 4423, 'desert': 1196, 'and': 225, 'find': 1725, 'themselves': 4432, 'murdered': 2941, 'by': 641, 'mysterious': 2956, 'killer': 2470, 'in': 2256, 'black': 492, 'pick': 3266, 'up': 4679, 'is': 2359, 'obviously': 3073, 'inspired': 2300, 'hills': 2108, 'have': 2051, 'this': 4454, 'slasher': 4017, 'offers': 3091, 'plenty': 3308, 'nasty': 2969, 'violence': 4745, 'films': 1720, 'gory': 1942, 'highlight': 2102, 'sequence': 3885, 'involving': 2348, 'man': 2721, 'having': 2053, 'his': 2117, 'arm': 291, 'leg': 2562, 'together': 4508, 'around': 296, 'tree': 4572, 'then': 4433, 'when': 4860, 'chain': 740, 'pulled': 3463, 'also': 198, 'little': 2624, 'bit': 487, 'suspense': 4327, 'some': 4058, 'exciting': 1563, 'acting': 98, 'pretty': 3385, 'lame': 2510, 'script': 3832, 'quite': 3496, 'film': 1715, 'fast': 1661, 'paced': 3163, 'who': 4869, 'plays': 3302, 'villain': 4742, 'fairly': 1631, 'locations': 2636, 'provide': 3449, 'atmosphere': 332, 'gore': 1940, 'rather': 3528, 'you': 4986, 'like': 2599, 'low': 2676, 'budget': 609, 'horror': 2167, 'give': 1911, 'one': 3108, 'out': 3142, '10': 0, 'must': 2951, 'admit': 121, 'read': 3543, 'description': 1195, 'genre': 1887, 'on': 3106, 'as': 310, 'romance': 3731, 'was': 4803, 'movie': 2927, 'from': 1839, '1968': 16, 'prepared': 3372, 'for': 1783, 'disappointment': 1273, 'realized': 3553, 'it': 2366, 'shot': 3947, 'entirely': 1503, 'white': 4868, 'knew': 2486, 'my': 2952, 'erotic': 1515, 'hopes': 2158, 'were': 4846, 'boy': 556, 'wrong': 4973, 'not': 3041, 'only': 3111, 'does': 1306, 'all': 186, 'elements': 1443, 'discovery': 1280, 'first': 1735, 'love': 2669, 'fear': 1676, 'secret': 3847, 'being': 447, 'found': 1810, 'sudden': 4270, 'unexpected': 4646, 'end': 1468, 'but': 635, 'at': 330, 'times': 4494, 'downright': 1335, 'will': 4885, 'soon': 4071, 'forget': 1792, 'that': 4421, 'cinematography': 819, 'deserves': 1199, 'every': 1539, 'has': 2042, 'received': 3564, 'over': 3149, 'years': 4979, 'performances': 3230, 'two': 4616, 'stars': 4153, 'anna': 244, 'are': 284, 'intense': 2315, 'memorable': 2803, 'ok': 3099, 'so': 4043, 'theyre': 4442, 'both': 546, 'their': 4428, 'mid': 2834, 'trying': 4597, 'play': 3297, 'school': 3811, 'girls': 1910, 'its': 2370, 'do': 1300, 'really': 3556, 'expect': 1575, 'teenagers': 4388, '60s': 54, 'be': 417, 'able': 66, 'effectively': 1430, 'explore': 1594, 'lesbian': 2573, 'story': 4205, 'many': 2733, 'adult': 124, 'women': 4923, 'still': 4186, 'come': 885, 'with': 4911, 'sexuality': 3907, 'back': 377, 'anyone': 258, 'looking': 2648, 'real': 3547, 'teens': 4389, 'here': 2085, 'expecting': 1578, 'too': 4519, 'much': 2935, 'think': 4449, 'way': 4818, 'ahead': 158, 'time': 4492, 'level': 2584, 'an': 222, 'pleasure': 3307, 'yet': 4984, 'managed': 2723, 'leave': 2555, 'lot': 2661, 'imagination': 2235, 'instead': 2306, 'us': 4687, 'poetic': 3314, 'add': 114, 'what': 4856, 'we': 4821, 'shown': 3957, 'no': 3021, 'doubt': 1330, 'identify': 2215, 'characters': 759, 'straight': 4208, 'guys': 2000, 'watching': 4813, 'action': 99, 'although': 200, 'wont': 4932, 'dont': 1322, 'youll': 4988, 'disappointed': 1271, 'ever': 1538, 'viewing': 4738, 'very': 4721, 'impressive': 2252, 'screenplay': 3829, 'comedic': 887, 'timing': 4495, 'now': 3055, '40': 48, 'old': 3101, 'lost': 2660, 'none': 3029, 'power': 3360, 'neil': 2996, 'simon': 3979, 'displays': 1291, 'excellent': 1555, 'insight': 2297, 'human': 2187, 'nature': 2976, 'relationships': 3597, 'well': 4841, 'how': 2180, 'create': 1036, 'genuine': 1890, 'comedy': 889, 'unusual': 4677, 'situations': 4006, 'jack': 2373, 'lemmon': 2567, 'walter': 4782, 'matthau': 2772, 'great': 1963, 'actual': 107, 'events': 1536, 'own': 3159, 'life': 2592, 'write': 4967, 'based': 403, 'best': 468, 'written': 4972, 'acted': 97, 'hollywood': 2136, 'comedies': 888, 'surprisingly': 4313, 'nominated': 3026, 'academy': 76, 'awards': 366, 'adapted': 113, 'editing': 1421, 'rarely': 3524, 'matter': 2770, 'they': 4439, 'made': 2697, 'happened': 2026, 'spot': 4129, 'flick': 1753, 'shelf': 3924, 'under': 4635, 'new': 3004, 'idea': 2212, 'hip': 2113, 'hop': 2153, 'zombie': 4997, 'far': 1653, 'interesting': 2324, 'pass': 3202, 'thats': 4422, 'box': 554, 'thought': 4459, 'myself': 2954, 'plus': 3312, 'theres': 4437, 'welcome': 4840, 'sign': 3967, 'cover': 1022, 'could': 1007, 'resist': 3647, 'unfortunately': 4650, 'part': 3194, 'lasted': 2522, 'long': 2644, 'opening': 3115, 'theme': 4430, 'neither': 2997, 'music': 2947, 'nor': 3033, 'culture': 1079, 'had': 2002, 'role': 3725, 'lived': 2626, 'know': 2489, 'there': 4435, 'artists': 308, 'excuse': 1564, 'fitting': 1741, 'soundtrack': 4082, 'any': 255, 'number': 3061, 'struggling': 4234, 'would': 4957, 'jumped': 2430, 'opportunity': 3122, 'why': 4877, 'brothers': 598, 'didnt': 1240, 'advantage': 128, 'beyond': 475, 'me': 2779, 'once': 3107, 'got': 1943, 'rolling': 3729, 'completely': 922, 'typical': 4619, 'cast': 709, 'just': 2437, 'might': 2837, 'put': 3481, 'somehow': 4060, 'vision': 4752, 'urban': 4685, 'down': 1333, 'drive': 1362, 'dropping': 1370, 'bomb': 530, 'line': 2610, 'fire': 1733, 'use': 4689, 'word': 4937, 'probably': 3408, 'movies': 2928, 'most': 2910, 'single': 3993, 'lines': 2612, 'contained': 963, 'three': 4466, 'or': 3125, 'four': 1811, 'contain': 962, 'least': 2554, 'im': 2231, 'about': 67, 'feeling': 1684, 'result': 3659, 'lack': 2502, 'ideas': 2214, 'writers': 4969, 'generally': 1880, 'poor': 3329, 'been': 437, 'see': 3853, 'genuinely': 1891, 'hood': 2150, 'living': 2629, 'dead': 1132, 'doesnt': 1307, 'deliver': 1168, 'count': 1010, 'easily': 1405, 'anything': 259, 'else': 1448, 'distinct': 1294, 'another': 249, 'run': 3753, 'mill': 2847, 'bad': 381, 'lousy': 2667, 'writing': 4971, 'amateurish': 206, 'direction': 1259, 'bland': 499, 'cheap': 773, 'nothing': 3048, 'recommend': 3571, 'show': 3951, 'same': 3776, 'sitcom': 4001, 'type': 4617, 'shows': 3958, 'where': 4862, 'thing': 4447, 'different': 1246, 'refreshing': 3585, 'provided': 3450, 'incredibly': 2269, 'entertaining': 1499, 'view': 4734, 'office': 3092, 'away': 368, 'television': 4391, 'after': 142, 'coming': 895, 'available': 360, 'look': 2646, 'forward': 1807, 'shame': 3916, 'global': 1919, 'pulling': 3464, 'winner': 4897, 'lets': 2580, 'realistic': 3550, 'things': 4448, 'few': 1699, 'canadian': 666, 'make': 2713, 'everyone': 1542, 'talk': 4355, 'enjoys': 1489, 'believe': 453, 'walk': 4773, 'guess': 1988, 'want': 4786, 'stick': 4183, 'mind': 2851, 'states': 4161, 'behind': 446, 'promise': 3431, 'get': 1898, 'enjoy': 1484, 'tv': 4606, 'people': 3222, 'keep': 2449, 'variety': 4711, 'unique': 4658, 'slightly': 4026, 'exaggerated': 1552, 'side': 3962, 'today': 4505, 'past': 3208, 'say': 3797, 'mistake': 2873, 'directing': 1258, 'never': 3002, 'director': 1262, '80s': 59, 'however': 2182, 'while': 4866, 'front': 1840, 'him': 2109, 'those': 4457, 'kind': 2476, 'mistakes': 2875, 'along': 194, 'weird': 4839, 'battle': 413, 'sub': 4250, 'par': 3185, 'cutting': 1092, 'visual': 4755, 'effects': 1431, 'makes': 2716, 'other': 3136, 'commented': 899, 'american': 212, 'german': 1895, 'general': 1879, 'practically': 3363, 'scared': 3803, 'captured': 676, 'private': 3405, 'small': 4030, 'sum': 4286, 'horrible': 2162, 'definitely': 1161, 'war': 4790, 'aspects': 321, 'directors': 1264, 'judging': 2425, 'conventional': 979, 'should': 3949, 'stuck': 4235, 'making': 2718, 'short': 3944, 'actually': 108, 'liked': 2600, 'feature': 1678, 'effort': 1432, 'piano': 3265, 'willing': 4889, 'agree': 154, 'close': 852, 'genius': 1886, 'length': 2569, 'without': 4913, 'gorgeous': 1941, 'often': 3096, 'listen': 2619, 'painful': 3172, 'sit': 4000, 'through': 4474, 'convoluted': 987, 'narrative': 2967, 'pace': 3162, 'reading': 3544, 'plot': 3310, 'synopsis': 4341, 'sounds': 4081, 'good': 1936, 'fail': 1625, 'miserably': 2866, 'bring': 584, 'consider': 949, 'future': 1855, 'dialogue': 1232, 'god': 1925, 'awful': 371, 'huge': 2184, 'year': 4978, 'equally': 1510, 'though': 4458, 'set': 3896, 'york': 4985, 'during': 1386, 'winter': 4900, 'kim': 2475, 'witch': 4909, 'spell': 4101, 'james': 2378, 'stewart': 4182, 'gets': 1899, 'caught': 721, 'rival': 3705, 'played': 3298, 'rule': 3751, 'broadway': 591, 'famous': 1647, 'last': 2521, 'hard': 2032, 'men': 2806, 'finds': 1727, 'doing': 1310, 'sentence': 3879, 'breaking': 569, 'free': 1826, 'gang': 1866, 'he': 2055, 'head': 2056, 'mexican': 2828, 'border': 538, 'jail': 2376, 'safety': 3770, 'because': 431, 'mission': 2872, 'revenge': 3674, 'kill': 2468, 'peace': 3220, 'officer': 3093, 'brought': 599, 'process': 3413, 'killed': 2469, 'woman': 4921, 'heston': 2093, 'retired': 3663, 'knows': 2493, 'explains': 1589, 'daughter': 1121, 'barbara': 396, 'involved': 2345, 'indian': 2273, 'bullets': 620, 'fired': 1734, 'something': 4063, 'hes': 2092, 'proud': 3445, 'she': 3921, 'feel': 1683, 'sorry': 4073, 'full': 1845, 'evil': 1548, 'truly': 4593, 'usual': 4696, 'hero': 2087, 'go': 1923, 'blows': 516, 'off': 3085, 'screen': 3827, 'bright': 580, 'sure': 4305, 'taking': 4349, 'her': 2084, 'cant': 670, 'touch': 4530, 'personal': 3241, 'includes': 2262, 'morgan': 2906, 'john': 2409, 'larry': 2520, 'chris': 805, 'son': 4067, 'law': 2538, 'brutal': 602, 'western': 4851, 'andrew': 227, 'directed': 1257, 'thinking': 4450, 'may': 2776, 'project': 3428, 'originally': 3132, 'intended': 2314, 'sam': 3775, 'influence': 2285, 'liberal': 2588, 'slow': 4028, 'motion': 2914, 'which': 4865, 'your': 4991, 'vampire': 4708, 'bat': 409, 'village': 4741, 'holding': 2129, 'meeting': 2795, 'inspector': 2298, 'douglas': 1332, 'local': 2634, 'recent': 3566, 'murders': 2944, 'six': 4007, 'victims': 4728, 'discovered': 1278, 'weeks': 4837, 'blood': 511, 'clue': 863, 'deaths': 1142, 'work': 4940, 'isnt': 2361, 'convinced': 984, 'telling': 4393, 'tales': 4354, 'seeing': 3855, 'large': 2517, 'meanwhile': 2786, 'latest': 2526, 'victim': 4727, 'comes': 890, 'solve': 4057, 'can': 664, 'giant': 1904, 'responsible': 3655, 'if': 2221, 'going': 1930, 'stop': 4199, 'frank': 1820, 'pictures': 3271, 'cash': 708, 'success': 4263, 'previous': 3388, 'doctor': 1302, 'more': 2905, 'murder': 2940, 'mystery': 2957, 'than': 4417, 'title': 4501, 'lead': 2545, 'frankly': 1822, 'dull': 1383, 'edward': 1426, 'jr': 2423, 'takes': 4348, 'itself': 2371, 'seriously': 3890, 'sets': 3897, 'basic': 405, 'killing': 2472, 'possibly': 3352, 'focuses': 1767, 'incompetent': 2265, 'fine': 1728, 'point': 3317, 'boring': 542, 'identity': 2216, 'crisis': 1060, 'wants': 4789, 'suggest': 4278, 'majority': 2712, 'described': 1193, 'thriller': 4469, 'final': 1721, 'minutes': 2861, 'silly': 3973, 'sci': 3813, 'fi': 1700, 'attempts': 342, 'fool': 1778, 'pathetic': 3211, 'broad': 589, 'stereotypes': 4177, 'tell': 4392, 'piece': 3273, 'whole': 4871, 'particularly': 3196, 'cinema': 815, 'moved': 2923, 'since': 3987, '1933': 12, 'flat': 1747, 'such': 4266, 'cut': 1089, 'these': 4438, 'days': 1130, 'original': 3130, 'king': 2479, 'kong': 2494, 'released': 3602, 'brilliantly': 583, 'holds': 2130, 'modern': 2884, 'either': 1438, 'simple': 3980, 'special': 4094, 'case': 706, 'age': 147, 'shoot': 3940, 'hope': 2154, 'stuff': 4241, 'scares': 3804, 'already': 196, 'ones': 3109, 'taken': 4347, 'dark': 1115, 'house': 2177, 'european': 1530, 'nice': 3009, 'certain': 736, 'technically': 4379, 'compare': 910, 'even': 1533, 'remotely': 3622, 'alright': 197, 'suppose': 4302, 'again': 145, 'draw': 1347, 'attention': 344, 'speaking': 4092, 'star': 4148, 'fay': 1674, 'icon': 2210, 'ill': 2227, 'imagine': 2237, 'fact': 1621, 'personally': 3244, 'bore': 539, 'tells': 4394, 'reasonably': 3559, 'enough': 1491, 'fan': 1648, 'embarrassing': 1454, 'business': 632, 'routine': 3741, 'almost': 192, 'merely': 2816, 'push': 3478, 'popular': 3334, 'groups': 1980, 'including': 2263, 'duke': 1382, 'bob': 523, 'freddy': 1825, 'each': 1394, 'standard': 4142, 'exception': 1557, 'reason': 3557, 'numbers': 3062, 'ann': 243, 'miller': 2848, 'dance': 1103, 'until': 4676, 'couple': 1016, 'propaganda': 3436, 'moment': 2888, 'occurred': 3078, 'segment': 3865, 'band': 390, 'appears': 277, 'playing': 3301, 'train': 4552, 'standing': 4144, 'awkward': 373, 'deep': 1153, 'south': 4084, 'cars': 701, 'traveling': 4564, 'johnny': 2410, 'seen': 3863, 'next': 3008, 'harry': 2038, 'moments': 2889, 'ray': 3533, 'camera': 658, 'uncle': 4632, 'tom': 4511, 'eyes': 1613, 'did': 1239, 'viewers': 4737, 'especially': 1520, 'jazz': 2387, 'fans': 1650, 'homage': 2140, 'sad': 3765, 'indeed': 2270, 'unseen': 4674, 'saved': 3793, 'dr': 1338, 'corrupt': 1001, 'patients': 3213, 'abilities': 64, 'second': 3844, 'later': 2525, 'clark': 831, 'arrives': 301, 'returned': 3665, 'meet': 2794, 'farm': 1656, 'break': 568, 'discovers': 1279, 'green': 1970, 'hired': 2116, 'aka': 167, 'arthur': 304, 'victor': 4729, 'stone': 4195, 'investigate': 2341, 'join': 2412, 'trio': 4583, 'save': 3792, 'justice': 2438, 'episode': 1507, 'season': 3841, 'league': 2549, 'begins': 443, 'saga': 3771, 'five': 1742, 'heroes': 2088, 'flash': 1744, 'spectacular': 4098, 'necessary': 2985, 'oliver': 3103, 'breaks': 570, 'importance': 2245, 'fighting': 1708, 'against': 146, 'criminals': 1058, 'world': 4946, 'vote': 4764, 'ten': 4396, 'brazil': 567, 'performance': 3229, 'artist': 306, 'wealthy': 4825, 'club': 862, 'falls': 1640, 'romantic': 3732, 'turn': 4601, 'kills': 2474, 'sex': 3905, 'possible': 3351, 'form': 1797, 'task': 4365, 'master': 2758, 'across': 95, 'places': 3285, 'begin': 441, 'within': 4912, 'committed': 904, 'dreams': 1353, 'took': 4520, 'place': 3283, 'reality': 3551, 'someone': 4061, 'asked': 316, 'describe': 1192, 'particular': 3195, 'franco': 1819, 'id': 2211, 'elegant': 1441, 'difficult': 1247, 'youve': 4995, 'user': 4693, 'comments': 900, 'portion': 3339, 'surreal': 4314, 'dream': 1352, 'mentioned': 2812, 'interview': 2328, 'heavily': 2068, 'influenced': 2286, 'early': 1399, 'career': 685, 'style': 4247, 'clear': 838, 'structure': 4231, 'favor': 1670, 'experience': 1580, 'reaction': 3541, 'decision': 1150, 'others': 3137, 'himself': 2110, 'critics': 1064, 'watched': 4811, 'understand': 4639, 'considered': 951, 'faithful': 1634, 'protagonist': 3442, 'whether': 4864, 'imagined': 2238, 'sense': 3875, 'arent': 287, 'given': 1912, 'exactly': 1551, 'deal': 1135, 'help': 2078, 'matters': 2771, 'types': 4618, 'speak': 4091, 'fun': 1847, 'favorite': 1671, 'scene': 3807, 'between': 474, 'meets': 2796, 'bizarre': 491, 'fantasy': 1652, 'used': 4690, 'receive': 3563, 'negative': 2992, 'loved': 2670, 'party': 3201, 'drunk': 1374, 'floor': 1758, 'evening': 1534, 'crowd': 1067, 'musical': 2948, 'hidden': 2095, 'missing': 2871, 'legs': 2566, 'females': 1693, 'closer': 855, 'intelligent': 2313, 'comment': 897, 'effective': 1429, 'contemporary': 965, 'drama': 1344, 'keeps': 2451, 'pants': 3183, 'remarkable': 3612, 'context': 968, 'despite': 1209, 'providing': 3452, '90': 60, 'surprises': 4311, 'greed': 1967, 'lives': 2628, 'rocket': 3720, 'hence': 2082, 'shower': 3955, 'scenes': 3809, 'protagonists': 3443, 'seemingly': 3861, 'nowhere': 3057, 'alive': 185, '1999': 27, 'forth': 1803, 'thin': 4446, 'air': 163, 'heroine': 2090, 'towards': 4537, '2000': 30, 'blue': 517, 'third': 4452, 'japanese': 2382, 'am': 203, 'loss': 2659, 'explain': 1586, 'cannot': 669, 'complain': 919, 'quality': 3485, 'essence': 1521, 'crap': 1031, 'thrill': 4468, 'laughable': 2530, 'true': 4592, 'ending': 1471, 'brilliant': 582, 'rip': 3699, 'certainly': 737, 'appropriate': 282, 'call': 650, 'understanding': 4641, 'explained': 1587, 'instance': 2303, 'concerning': 933, 'knowing': 2490, 'warn': 4795, 'called': 651, 'wave': 4816, 'native': 2973, 'apparent': 268, 'arrested': 297, 'remain': 3608, 'silent': 3972, 'less': 2575, 'order': 3127, 'david': 1124, 'burton': 629, 'richard': 3685, 'defense': 1158, 'attorney': 347, 'assigned': 324, 'defend': 1157, 'accused': 90, 'haunted': 2049, 'images': 2234, 'childhood': 789, 'warned': 4796, 'signs': 3970, 'sympathetic': 4339, 'named': 2962, 'lee': 2559, 'proceeds': 3412, 'therefore': 4436, 'subject': 4251, 'island': 2360, 'doom': 1324, 'gives': 1913, 'frightening': 1838, 'hearted': 2064, 'haunting': 2050, 'nightmares': 3016, 'innocent': 2293, 'gary': 1872, 'unknown': 4664, 'saw': 3796, 'car': 679, 'boot': 537, 'looks': 2649, 'right': 3695, 'smith': 4035, 'tough': 4534, 'powerful': 3361, 'crime': 1055, 'lord': 2652, 'survive': 4318, 'prove': 3446, 'innocence': 2292, 'steve': 4179, 'jeff': 2390, 'expert': 1585, 'done': 1320, 'before': 439, 'watch': 4809, 'climax': 848, 'ironic': 2354, 'normally': 3035, 'guy': 1999, 'sidekick': 3963, 'act': 96, 'finish': 1731, 'enjoyable': 1485, 'image': 2232, 'wasted': 4807, 'couldnt': 1008, 'flicks': 1754, 'bored': 540, 'death': 1141, 'badly': 382, 'ruined': 3749, 'curious': 1083, 'wonder': 4926, 'spent': 4105, 'money': 2890, 'produce': 3414, 'release': 3601, 'audience': 351, 'likes': 2602, 'video': 4731, 'store': 4202, 'forgotten': 1796, 'premise': 3371, 'criminal': 1057, 'realize': 3552, 'went': 4845, 'capturing': 678, 'family': 1645, 'promising': 3434, 'dealt': 1138, '20': 29, 'ago': 153, 'problem': 3409, 'sort': 4074, 'confusion': 943, 'emotions': 1461, 'rich': 3684, 'heavy': 2069, 'duty': 1389, 'evident': 1547, 'outcome': 3143, 'ignore': 2223, 'always': 202, 'high': 2099, 'entertainment': 1500, 'value': 4706, 'surprise': 4309, 'sensitive': 3877, 'half': 2006, 'characterization': 758, 'amitabh': 215, 'getting': 1900, 'whom': 4873, 'hate': 2045, 'factor': 1622, 'major': 2711, 'force': 1785, 'complete': 921, 'narration': 2966, 'starts': 4157, 'common': 905, 'don': 1318, 'ends': 1474, 'strange': 4209, 'note': 3045, 'self': 3867, 'regret': 3590, 'revelation': 3673, 'element': 1442, 'compared': 911, 'similar': 3975, 'situation': 4005, 'worked': 4941, 'character': 757, 'illogical': 2230, 'landing': 2512, 'running': 3754, 'enemies': 1476, 'shooting': 3941, 'them': 4429, 'believable': 452, 'mediocre': 2792, 'actor': 102, 'opposite': 3124, 'mr': 2930, 'nonetheless': 3030, 'points': 3320, 'fight': 1706, 'sequences': 3886, 'co': 866, 'light': 2595, 'akshay': 168, 'slick': 4023, 'treatment': 4570, 'course': 1019, 'ms': 2932, 'struggles': 4233, 'depression': 1187, 'amazed': 207, 'similarities': 3976, 'our': 3140, 'include': 2260, 'sexual': 3906, 'abuse': 73, 'children': 791, '1990': 24, 'showed': 3954, 'issue': 2364, 'illness': 2229, 'survival': 4317, 'disease': 1283, 'leaves': 2556, 'unless': 4665, 'person': 3239, 'hell': 2076, 'live': 2625, 'issues': 2365, 'depressed': 1185, 'acts': 106, 'wish': 4904, 'thank': 4418, 'courage': 1018, 'let': 2579, 'public': 3461, 'charlotte': 765, 'develops': 1224, 'fever': 1698, 'causes': 724, 'creation': 1040, 'bleak': 502, 'drew': 1359, 'middle': 2835, 'lonely': 2643, 'field': 1703, 'lacking': 2504, 'detail': 1215, 'child': 788, 'drawing': 1348, 'frequently': 1831, 'figure': 1710, 'whats': 4858, 'tries': 4581, 'harder': 2034, 'wake': 4772, 'trap': 4559, 'forever': 1791, 'wow': 4962, 'damn': 1100, 'near': 2980, 'impossible': 2248, 'section': 3851, 'serious': 3889, 'exceptionally': 1559, 'childrens': 792, 'meant': 2785, 'remember': 3615, 'memories': 2804, 'rose': 3737, 'creates': 1038, 'moody': 2900, 'thrilling': 4471, 'backdrop': 378, 'actors': 103, 'stays': 4167, 'qualities': 3484, 'symbolism': 4338, 'sink': 3996, 'teeth': 4390, 'games': 1864, 'impressed': 2250, 'finale': 1722, 'left': 2561, 'smile': 4033, 'face': 1616, 'tear': 4376, 'eye': 1611, 'visuals': 4757, 'surface': 4307, 'greater': 1964, 'parts': 3200, 'young': 4989, 'debut': 1143, 'shes': 3928, 'deserved': 1198, 'central': 734, 'award': 365, 'seems': 3862, 'proper': 3437, 'toward': 4536, 'overlook': 3154, 'wished': 4905, 'darker': 1116, 'creating': 1039, 'proved': 3447, 'riveting': 3707, 'books': 535, 'lover': 2672, 'ride': 3691, 'told': 4510, 'maybe': 2777, 'ninja': 3019, 'hitting': 2125, 'lots': 2662, 'greatest': 1965, 'swedish': 4332, 'hardly': 2035, 'wait': 4768, 'sequel': 3883, 'generous': 1885, 'ive': 2372, 'fall': 1637, 'happens': 2028, 'big': 477, 'ryan': 3763, 'tim': 4491, 'robbins': 3711, 'funny': 1851, 'scientists': 3817, 'laugh': 2529, 'hasnt': 2043, 'clean': 837, 'rare': 3523, 'brother': 597, 'chick': 785, 'need': 2988, 'youre': 4992, 'yourself': 4993, 'un': 4626, 'props': 3440, 'wouldve': 4959, 'better': 471, 'parody': 3193, 'waste': 4806, 'starting': 4156, 'name': 2961, 'enemy': 1477, 'effect': 1428, 'cop': 991, '60': 53, 'player': 3299, 'blond': 509, 'girl': 1908, 'blank': 500, 'working': 4944, 'words': 4938, 'feels': 1686, 'porn': 3337, 'scary': 3805, 'otherwise': 3138, 'weak': 4822, 'questions': 3490, 'tried': 4580, 'seemed': 3860, 'ways': 4820, 'reminded': 3618, 'hill': 2107, 'try': 4596, 'abandoned': 62, 'decent': 1146, 'dragged': 1341, 'gave': 1874, 'satisfying': 3789, 'conclusion': 936, 'said': 3772, 'above': 68, 'creepy': 1052, 'mess': 2819, 'game': 1863, 'brings': 586, 'tired': 4498, 'em': 1452, 'ups': 4683, 'patrick': 3214, 'fighter': 1707, 'friend': 1834, 'estate': 1525, 'ireland': 2351, 'weapons': 4827, 'system': 4342, 'hands': 2019, 'uses': 4694, 'guns': 1997, 'graphics': 1958, 'medium': 2793, 'design': 1200, 'cool': 989, 'atmospheric': 333, 'mostly': 2911, 'revolves': 3681, 'mansion': 2732, 'waiting': 4770, 'progress': 3426, 'thanks': 4420, 'talent': 4351, 'storyline': 4206, 'spooky': 4126, 'voice': 4759, 'main': 2707, 'flaws': 1751, 'says': 3799, 'example': 1553, 'room': 3734, 'doors': 1327, 'locked': 2637, 'apart': 263, 'appeal': 270, 'players': 3300, 'concerned': 932, 'sometimes': 4064, 'overall': 3151, 'chance': 746, 'realizing': 3555, 'ought': 3139, 'opportunities': 3121, 'holes': 2132, 'disney': 1287, 'choice': 796, 'talked': 4356, 'fit': 1739, 'perfect': 3225, 'guarantee': 1986, 'dig': 1248, 'city': 824, 'amount': 218, 'solid': 4054, 'losing': 2658, 'quickly': 3492, 'catches': 714, 'staying': 4166, 'discover': 1277, 'jean': 2389, 'hair': 2004, 'beauty': 429, 'obscure': 3069, 'actress': 104, 'earned': 1400, 'top': 4522, 'support': 4300, 'wise': 4903, 'handsome': 2020, 'tone': 4514, 'kelly': 2452, 'stealing': 4169, 'alan': 170, 'english': 1483, 'elderly': 1440, 'secretary': 3848, 'hamilton': 2011, 'ladies': 2506, 'lewis': 2586, 'unforgettable': 4648, 'businessman': 633, 'noted': 3046, 'produced': 3415, 'hollywoods': 2137, 'production': 3420, 'code': 868, 'comparison': 913, 'red': 3576, 'headed': 2057, 'earlier': 1398, 'fascinating': 1658, 'goes': 1929, 'means': 2784, 'oh': 3097, 'please': 3305, 'holy': 2139, 'stopped': 4200, 'enjoyed': 1486, 'sick': 3961, 'twisted': 4614, 'individual': 2276, 'terrible': 4404, 'reputation': 3639, 'everything': 1544, 'reviews': 3678, 'earth': 1402, 'sweet': 4333, 'stanley': 4146, 'genres': 1888, 'horrific': 2165, 'basis': 407, 'terrifying': 4407, 'scenario': 3806, 'burning': 626, 'madness': 2698, 'attempting': 341, 'hilarious': 2105, 'months': 2898, 'terrific': 4406, 'drinking': 1361, 'included': 2261, 'spirit': 4110, 'chilling': 793, 'disagree': 1267, 'hotel': 2174, 'filmed': 1716, 'version': 4718, 'nicholson': 3012, 'provides': 3451, 'hint': 2111, 'potential': 3356, 'learn': 2550, 'emotionally': 1460, 'distant': 1293, 'wife': 4883, 'environment': 1505, 'personality': 3243, 'upon': 4681, 'buildings': 615, 'happen': 2025, 'troubled': 4589, 'eventually': 1537, 'return': 3664, 'cold': 871, 'approach': 281, 'works': 4945, 'unpredictable': 4671, 'team': 4375, 'blend': 503, 'talents': 4353, 'classic': 834, 'shines': 3930, 'dislike': 1286, 'redeeming': 3577, 'fox': 1813, 'rest': 3656, 'hugh': 2185, 'amazingly': 209, 'toy': 4539, 'monsters': 2894, 'impact': 2243, 'alone': 193, 'raped': 3522, 'reveals': 3672, 'turns': 4605, 'led': 2558, 'ethan': 1528, 'brian': 575, 'struggle': 4232, 'entire': 1502, 'town': 4538, 'essentially': 1523, 'social': 4046, 'allowing': 190, 'whatever': 4857, 'performers': 3233, 'chemistry': 781, 'throughout': 4475, 'job': 2405, 'captures': 677, 'recommended': 3572, 'polished': 3324, 'detective': 1218, 'adventure': 129, 'beautiful': 427, 'joan': 2404, 'reviewer': 3676, 'wrote': 4974, 'novel': 3053, 'suffering': 4275, 'series': 3888, 'reach': 3536, 'status': 4163, 'ingredients': 2288, 'moving': 2929, 'nearly': 2982, 'notice': 3049, 'williams': 4887, 'columbo': 880, 'critical': 1062, 'expected': 1577, 'grows': 1984, 'dvd': 1390, 'disappoint': 1270, 'chases': 770, 'weapon': 4826, 'blowing': 514, 'edge': 1417, 'seat': 3843, 'song': 4068, 'book': 534, 'doc': 1301, 'savage': 3791, 'helping': 2080, 'jake': 2377, 'speed': 4100, 'producer': 3416, 'writer': 4968, 'jones': 2418, 'usually': 4697, 'sheer': 3923, 'dumb': 1384, 'luck': 2681, 'bond': 531, 'equipment': 1511, 'ultimate': 4623, 'road': 3708, 'warrior': 4800, 'sky': 4014, 'interest': 2322, 'jim': 2402, 'older': 3102, 'teenage': 4386, 'blonde': 510, 'sister': 3998, 'worst': 4952, 'stand': 4141, 'sadly': 3767, 'entertain': 1497, 'worth': 4953, 'price': 3390, 'ticket': 4484, 'totally': 4529, 'guard': 1987, 'initial': 2289, 'became': 430, 'fully': 1846, 'developed': 1221, 'bigger': 478, 'among': 216, 'anywhere': 262, 'turkey': 4600, 'america': 211, 'beings': 448, 'brilliance': 581, 'kay': 2447, 'wonderful': 4928, 'superb': 4293, 'treat': 4568, 'commentary': 898, 'event': 1535, 'balls': 389, 'constant': 957, 'violent': 4746, 'blame': 498, 'impression': 2251, 'ben': 462, 'media': 2790, 'devoid': 1228, 'obvious': 3072, 'message': 2820, 'boys': 558, 'subtlety': 4259, 'fiction': 1701, 'yes': 4982, 'kids': 2467, 'planned': 3291, 'executed': 1565, 'werent': 4847, 'smart': 4032, 'nazi': 2978, 'ground': 1978, 'portrayal': 3342, 'families': 1644, 'wasnt': 4805, 'flaw': 1748, 'dynamic': 1393, 'gone': 1934, 'fellow': 1690, 'killers': 2471, 'seem': 3859, 'normal': 3034, 'false': 1641, 'phony': 3257, 'depiction': 1183, 'buff': 610, 'rent': 3625, 'rated': 3527, 'language': 2516, 'overlooked': 3155, 'brief': 578, 'nudity': 3060, 'witty': 4917, 'amusing': 220, 'awesome': 370, 'stupid': 4245, 'blatant': 501, 'exploitation': 1592, 'chinese': 795, 'worker': 4942, 'female': 1692, 'footage': 1781, 'owner': 3160, 'workers': 4943, 'drunken': 1375, 'americans': 213, 'wear': 4828, 'paid': 3170, 'per': 3224, 'hour': 2175, 'escape': 1517, 'factory': 1623, 'punishment': 3468, 'hours': 2176, 'day': 1129, 'wondered': 4927, 'came': 655, 'appreciated': 279, 'beautifully': 428, 'portrays': 3345, 'relatively': 3599, 'society': 4047, 'peoples': 3223, 'mention': 2811, 'simply': 3983, 'amazing': 208, 'clearly': 839, 'known': 2492, 'saving': 3795, 'virgin': 4747, 'perhaps': 3236, 'adds': 118, 'charm': 766, 'opinion': 3119, 'whenever': 4861, 'furthermore': 1853, 'unlike': 4666, 'daring': 1114, 'list': 2617, 'sleeping': 4022, 'basically': 406, 'worthless': 4954, 'machine': 2693, 'mood': 2899, 'cure': 1081, 'puts': 3482, 'sleep': 4021, 'beginning': 442, 'rid': 3689, 'worse': 4951, 'episodes': 1508, 'park': 3191, 'replaced': 3633, 'lose': 2654, 'joe': 2407, 'baker': 384, 'texas': 4415, 'shoots': 3942, 'dressed': 1357, 'boat': 522, 'chase': 768, 'winds': 4895, 'finally': 1723, 'blow': 513, 'catchy': 716, 'mitchell': 2877, 'pokemon': 3321, 'hit': 2121, 'theaters': 4425, 'hearing': 2062, 'blah': 495, 'card': 680, 'advance': 126, 'introduces': 2337, 'legendary': 2565, 'north': 3037, 'wind': 4893, 'forest': 1790, 'present': 3375, 'become': 432, 'protect': 3444, 'agent': 149, 'vicious': 4726, 'picture': 3270, 'younger': 4990, 'et': 1526, 'decided': 1148, 'trash': 4561, 'plain': 3287, 'non': 3028, 'saying': 3798, 'heard': 2061, 'rights': 3696, 'summer': 4288, 'japan': 2381, 'claims': 829, 'marketing': 2742, 'limited': 2606, 'hide': 2096, 'seek': 3856, 'onto': 3112, 'vhs': 4723, 'current': 1084, 'tarzan': 4364, 'epic': 1506, 'derek': 1190, 'wanted': 4787, 'bo': 520, 'humorous': 2192, 'soft': 4048, 'skip': 4013, 'vehicle': 4715, 'undoubtedly': 4644, 'poster': 3354, 'harris': 2037, 'buy': 639, 'filming': 1717, 'dialog': 1230, 'shallow': 3915, '11': 2, 'check': 776, 'moronic': 2908, 'technology': 4382, 'intelligence': 2312, 'purchase': 3470, 'dollars': 1313, 'bumbling': 621, 'idiots': 2219, 'reminiscent': 3620, 'stooges': 4198, 'blake': 497, 'annoying': 248, 'obnoxious': 3068, 'decides': 1149, 'stranger': 4211, 'bank': 393, 'walks': 4778, 'million': 2849, 'bucks': 605, 'apparently': 269, 'capable': 671, 'reaching': 3539, 'incredible': 2268, 'due': 1381, 'driving': 1367, 'catch': 713, 'row': 3742, 'hot': 2173, 'fbi': 1675, 'promises': 3433, 'date': 1118, '17': 9, 'absolute': 70, 'aspect': 320, 'casting': 710, 'sloppy': 4027, 'cat': 712, 'butt': 637, 'nobody': 3023, 'random': 3514, 'failed': 1626, 'sorts': 4075, 'intriguing': 2334, 'sends': 3874, 'wit': 4908, 'scream': 3824, 'ridiculous': 3692, 'area': 285, 'water': 4814, 'fails': 1628, 'dimensional': 1251, 'driver': 1365, '3rd': 47, 'rate': 3526, 'laughs': 2534, 'okay': 3100, 'start': 4154, 'audiences': 352, 'moral': 2903, 'solution': 4056, 'thousand': 4462, 'delight': 1166, 'mark': 2740, 'decades': 1145, 'minded': 2852, 'producers': 3417, 'ridiculously': 3693, 'conservative': 948, 'fashioned': 1660, 'open': 3113, 'turning': 4604, 'disappointing': 1272, 'gotta': 1945, 'expectations': 1576, 're': 3535, 'met': 2823, 'answer': 250, 'fest': 1695, 'clip': 850, 'balance': 386, 'besides': 467, 'further': 1852, 'filmmaker': 1718, 'paul': 3215, 'jesus': 2399, 'ignorant': 2222, 'bible': 476, 'claim': 827, 'quote': 3497, 'priest': 3393, 'viewer': 4736, 'accept': 79, 'believing': 456, 'spoken': 4124, 'hand': 2014, 'heaven': 2067, 'aware': 367, 'follow': 1771, 'honest': 2145, '14': 6, 'knowledge': 2491, 'likely': 2601, 'anyways': 261, 'maker': 2714, 'areas': 286, 'engaging': 1481, 'blind': 505, 'religion': 3606, 'strong': 4227, 'loses': 2657, 'credibility': 1047, 'picks': 3269, 'longer': 2645, 'documentary': 1305, 'terms': 4403, 'mainly': 2708, 'cgi': 739, 'dreadful': 1351, 'total': 4528, 'joke': 2414, 'nights': 3017, 'crying': 1074, 'girlfriend': 1909, 'childish': 790, 'development': 1223, 'absolutely': 71, 'whatsoever': 4859, 'laughing': 2533, 'loud': 2664, 'utterly': 4699, 'predictable': 3368, 'absurd': 72, 'twist': 4613, 'jump': 2429, 'mtv': 2934, 'emotion': 1458, 'unintentionally': 4655, 'distracting': 1295, 'wacky': 4767, 'angles': 236, 'etc': 1527, 'deeply': 1155, 'selfish': 3868, 'night': 3014, 'space': 4087, 'fly': 1762, 'moon': 2901, 'strikes': 4223, 'rubbish': 3746, 'involve': 2344, 'credit': 1049, 'literally': 2622, 'review': 3675, 'record': 3573, 'recall': 3562, 'tedious': 4384, 'bunch': 622, 'nuclear': 3058, 'naked': 2960, 'interested': 2323, 'activities': 101, 'send': 3873, 'steal': 4168, 'bought': 551, 'ex': 1549, 'rental': 3626, 'looked': 2647, 'thrown': 4478, 'avoid': 362, 'melodrama': 2798, 'deals': 1137, 'harsh': 2039, 'using': 4695, 'pan': 3181, 'julie': 2428, 'smoking': 4037, 'candy': 667, 'advice': 132, 'frustration': 1842, 'wreck': 4965, 'twelve': 4607, 'garbage': 1869, 'practice': 3364, 'mans': 2731, 'dies': 1243, 'care': 683, 'calls': 653, 'lovable': 2668, 'dog': 1308, 'alex': 178, 'spoil': 4119, 'mary': 2752, 'kate': 2446, 'ashley': 312, 'cameron': 660, 'definite': 1160, 'von': 4763, 'rank': 3518, 'higher': 2100, 'waves': 4817, 'dancer': 1104, 'rough': 3739, 'facial': 1619, 'grade': 1950, 'mistaken': 2874, 'garbo': 1870, 'shocked': 3937, 'studio': 4238, 'understood': 4643, 'meaningful': 2782, 'expression': 1602, 'felt': 1691, 'kept': 2456, 'tale': 4350, 'returns': 3667, 'clothes': 859, 'ordinary': 3129, 'somewhat': 4065, 'object': 3067, 'obsession': 3071, 'fantastic': 1651, 'becoming': 434, '30': 42, 'seconds': 3846, 'sits': 4003, 'happy': 2031, 'bacall': 376, 'charles': 763, 'supposedly': 4304, 'british': 588, 'kudos': 2497, 'veteran': 4722, 'oscar': 3134, 'bell': 457, 'spanish': 4089, 'revolutionary': 3680, 'double': 1329, 'counter': 1011, 'spy': 4133, 'pro': 3407, 'throws': 4479, 'window': 4894, 'believed': 454, 'important': 2246, 'material': 2767, 'album': 174, 'rock': 3719, 'repetitive': 3632, 'energy': 1478, 'corporate': 998, 'glad': 1915, 'psycho': 3458, 'somewhere': 4066, 'concept': 930, 'passed': 3203, 'board': 521, 'class': 832, 'afternoon': 143, 'surprised': 4310, 'george': 1892, 'scott': 3822, 'scrooge': 3835, 'repeated': 3630, 'christmas': 809, 'fell': 1689, 'asleep': 319, 'dickens': 1238, 'ghosts': 1902, 'bill': 480, 'meaning': 2781, 'sympathy': 4340, 'desperate': 1206, 'substance': 4256, 'folk': 1769, 'hospital': 2171, 'becomes': 433, 'neck': 2986, 'terrorist': 4410, 'government': 1947, 'jason': 2383, 'radio': 3505, 'builds': 616, 'unbelievable': 4630, 'preview': 3387, 'convey': 982, 'feelings': 1685, 'thoughts': 4461, 'sent': 3878, 'mike': 2840, 'dry': 1376, 'continues': 971, 'fault': 1668, 'pay': 3217, 'gem': 1876, 'block': 507, 'needs': 2991, 'inspiration': 2299, 'visit': 4753, 'mexico': 2829, 'van': 4710, 'cowboy': 1025, 'chooses': 799, 'horse': 2169, 'fathers': 1667, 'partner': 3199, 'camp': 661, 'rocks': 3721, 'encounters': 1467, 'filmmakers': 1719, 'beating': 424, 'odds': 3083, 'passing': 3205, 'jumps': 2432, 'drives': 1366, 'pursuit': 3477, 'slowly': 4029, 'mountain': 2918, 'fallen': 1638, 'helps': 2081, 'crush': 1072, 'army': 294, 'combined': 884, 'brave': 566, 'dramatic': 1346, 'lacks': 2505, 'boredom': 541, 'cares': 689, 'wins': 4899, 'measure': 2787, 'superficial': 4295, 'background': 379, 'paris': 3190, 'french': 1829, 'countryside': 1015, 'cardboard': 681, 'bare': 397, 'stage': 4137, 'flying': 1763, 'golden': 1933, '2002': 32, 'enter': 1494, 'sake': 3773, 'rooms': 3735, 'revolution': 3679, 'julia': 2427, 'roberts': 3713, 'highest': 2101, 'professional': 3422, 'swear': 4331, 'despair': 1205, 'move': 2922, 'walken': 4775, 'explored': 1595, 'late': 2523, 'wooden': 4934, 'cusack': 1088, 'talented': 4352, 'experiences': 1582, 'follows': 1774, 'slave': 4019, 'china': 794, 'pearl': 3221, 'buck': 604, 'hated': 2046, 'roles': 3726, 'father': 1666, 'accent': 77, 'bear': 419, 'listening': 2620, 'racist': 3504, 'beliefs': 451, 'putting': 3483, 'faces': 1618, 'african': 141, 'cinderella': 814, 'adults': 125, 'unrealistic': 4673, 'till': 4490, 'kapoor': 2443, 'highly': 2104, 'beat': 422, 'travels': 4565, 'husband': 2203, 'steven': 4180, 'baby': 375, 'spend': 4102, 'weekend': 4836, 'remote': 3621, 'peter': 3248, 'smoke': 4036, 'pot': 3355, 'truck': 4591, 'accidentally': 84, 'runs': 3755, 'believes': 455, 'animal': 238, 'trade': 4544, 'deadly': 1133, 'flawed': 1749, 'menace': 2807, 'logical': 2639, 'immediately': 2241, 'bringing': 585, 'police': 3323, 'rescue': 3642, 'home': 2141, 'de': 1131, 'grim': 1973, 'stanwyck': 4147, 'sisters': 3999, 'france': 1815, 'danger': 1109, 'grand': 1952, 'sacrifice': 3764, 'secretly': 3849, 'fortune': 1805, 'learns': 2553, 'passes': 3204, 'court': 1020, 'assumed': 328, 'copy': 994, 'mother': 2912, 'falling': 1639, 'industry': 2279, 'todays': 4506, 'videos': 4732, '1970s': 17, 'dear': 1140, 'teen': 4385, 'birth': 485, 'control': 977, 'mean': 2780, 'honor': 2149, 'student': 4236, 'aid': 159, 'quotes': 3498, 'eat': 1410, 'kiss': 2483, 'baseball': 402, 'suffer': 4273, 'slap': 4015, 'funniest': 1850, 'robert': 3712, 'delivery': 1172, 'sing': 3989, 'sally': 3774, 'comic': 892, 'kevin': 2457, 'typically': 4620, 'surrounded': 4315, 'cartoon': 703, 'sun': 4289, 'beneath': 463, 'grave': 1961, 'april': 283, 'following': 1773, 'castle': 711, 'italy': 2368, 'month': 2897, 'leaving': 2557, 'root': 3736, 'plan': 3288, 'share': 3918, 'pure': 3472, 'taste': 4366, 'except': 1556, 'tears': 4377, 'acceptable': 80, 'tend': 4397, 'dust': 1387, 'gold': 1931, 'heights': 2072, 'afraid': 139, 'shots': 3948, 'shocking': 3938, 'disturbing': 1298, 'reviewers': 3677, 'pointless': 3319, 'teaching': 4374, 'mouth': 2921, 'michael': 2831, 'jackson': 2375, 'history': 2120, 'era': 1513, 'demon': 1176, 'smooth': 4038, 'zero': 4996, 'familiar': 1643, 'drawn': 1349, 'pre': 3366, 'prefer': 3369, 'lab': 2501, 'yeah': 4977, 'ripped': 3700, 'shadow': 3910, 'franchise': 1816, 'test': 4413, 'lying': 2690, 'change': 748, 'channel': 752, 'political': 3325, 'reasons': 3560, 'sides': 3964, 'surely': 4306, 'attempt': 339, 'cia': 813, 'involvement': 2346, 'latin': 2527, 'civil': 825, 'national': 2971, 'security': 3852, 'country': 1014, 'elsewhere': 1449, 'existent': 1572, 'makers': 2715, 'stayed': 4165, 'gritty': 1976, 'masterpiece': 2760, 'ranks': 3519, 'cry': 1073, 'freedom': 1827, 'beloved': 460, 'inside': 2296, 'underrated': 4638, 'company': 909, 'eric': 1514, 'anyway': 260, 'humor': 2191, 'havent': 2052, 'danny': 1112, 'lloyd': 2630, 'mini': 2856, 'missed': 2869, 'location': 2635, 'shining': 3931, 'titled': 4502, 'college': 874, 'dave': 1123, 'university': 4663, 'sitting': 4004, 'successfully': 4265, 'likable': 2598, 'figures': 1712, 'easy': 1409, 'kings': 2481, 'average': 361, 'pie': 3272, 'jokes': 2415, 'warning': 4798, 'originality': 3131, 'illegal': 2228, 'germans': 1896, 'post': 3353, 'wwii': 4975, 'anti': 253, 'aimed': 161, 'sell': 3869, 'drugs': 1373, 'der': 1189, 'experiment': 1583, 'male': 2719, 'jumping': 2431, 'wood': 4933, 'dreck': 1355, 'destruction': 1214, 'lucas': 2680, 'nonsense': 3031, 'phantom': 3252, 'throw': 4476, 'spoilers': 4122, 'luke': 2687, 'related': 3593, 'skills': 4011, 'anybody': 256, 'build': 613, 'mom': 2887, 'brains': 562, 'wouldnt': 4958, 'annie': 246, 'mst3k': 2933, 'laughed': 2532, 'hitchcock': 2122, 'honestly': 2146, 'viewed': 4735, 'entertained': 1498, 'remake': 3611, 'stevens': 4181, 'falk': 1636, 'science': 3814, 'campy': 663, 'step': 4173, 'morning': 2907, 'began': 440, 'finding': 1726, 'appeared': 275, 'odd': 3081, 'accurate': 89, 'various': 4712, 'plots': 3311, 'reasonable': 3558, 'schools': 3812, 'subjects': 4252, 'traditional': 4547, 'perspective': 3246, 'tiresome': 4499, 'skin': 4012, 'features': 1680, 'walker': 4776, 'bedroom': 436, 'rape': 3521, 'ultimately': 4624, 'affair': 134, 'ship': 3932, 'resulting': 3660, 'depth': 1188, 'shirley': 3934, 'unable': 4627, 'inane': 2257, 'slapstick': 4016, 'martin': 2749, 'mrs': 2931, 'brown': 600, 'pamela': 3180, 'portrayed': 3343, 'shell': 3925, 'colors': 878, 'dances': 1106, 'ended': 1470, 'appreciate': 278, 'revealing': 3671, 'cameras': 659, 'restaurant': 3657, 'dancers': 1105, 'bang': 392, 'attracted': 348, 'safe': 3769, 'favorites': 1672, 'screening': 3828, 'theater': 4424, 'presumably': 3381, 'laughter': 2535, 'supposed': 4303, 'curiosity': 1082, 'theyd': 4440, 'hadnt': 2003, 'southern': 4085, 'singer': 3990, 'dancing': 1107, 'chorus': 802, 'appear': 272, 'race': 3500, 'accepted': 81, 'extremely': 1610, 'offensive': 3087, 'offended': 3086, 'streep': 4213, 'accents': 78, 'skill': 4010, 'upset': 4684, 'unpleasant': 4670, 'continued': 970, 'initially': 2290, 'turned': 4602, 'outstanding': 3148, 'serial': 3887, 'cross': 1066, 'fresh': 1832, 'stress': 4218, 'position': 3346, 'feet': 1687, 'arms': 293, '24': 39, 'week': 4835, 'bay': 415, 'notion': 3051, 'patient': 3212, 'vulnerable': 4766, 'relationship': 3596, 'apartment': 264, 'sexually': 3908, 'connection': 946, 'mature': 2774, 'mental': 2809, 'ice': 2209, 'cringe': 1059, 'hoping': 2159, 'utter': 4698, 'del': 1164, 'argument': 290, 'serves': 3893, 'quest': 3487, 'jeffrey': 2391, 'lower': 2677, 'performed': 3231, 'complicated': 925, 'juvenile': 2441, 'trite': 4585, 'korean': 2495, 'sappy': 3782, 'stories': 4203, 'foreign': 1789, 'century': 735, 'india': 2272, 'military': 2846, 'whose': 4876, 'mere': 2815, 'friendship': 1837, 'soldier': 4050, 'according': 87, 'classics': 836, '15': 7, 'computer': 927, 'halloween': 2009, 'suit': 4281, 'exist': 1569, 'letters': 2582, 'theatre': 4426, 'abysmal': 75, 'unfunny': 4651, 'clips': 851, 'batman': 412, 'spoof': 4125, 'lady': 2507, 'underground': 4636, 'joey': 2408, 'inept': 2280, 'adaptation': 112, 'arguably': 288, 'novels': 3054, 'william': 4886, 'drop': 1368, 'appearance': 273, 'drug': 1372, 'ludicrous': 2685, 'cult': 1077, 'express': 1600, 'killings': 2473, 'worlds': 4947, 'reel': 3581, 'prior': 3401, 'rise': 3701, 'fame': 1642, 'jennifer': 2392, 'offered': 3089, 'hed': 2071, 'changed': 749, 'agents': 150, 'suited': 4283, 'scottish': 3823, 'remarks': 3614, 'cried': 1054, 'norman': 3036, 'grown': 1983, 'lovely': 2671, 'someones': 4062, '1930s': 11, 'heart': 2063, 'existence': 1571, 'rating': 3529, 'barely': 398, 'watchable': 4810, 'unbelievably': 4631, 'wars': 4802, 'ii': 2225, 'creative': 1041, 'avoided': 363, 'costs': 1004, 'festival': 1696, 'pseudo': 3455, 'conflict': 939, 'grace': 1949, 'europe': 1529, '3000': 43, 'miles': 2845, 'forces': 1787, 'multiple': 2937, 'gentle': 1889, 'imaginative': 2236, 'clever': 840, 'journey': 2421, 'whereas': 4863, 'ted': 4383, 'landscape': 2513, 'rap': 3520, 'sound': 4078, '90s': 61, 'suffered': 4274, 'fate': 1665, 'associated': 326, 'transition': 4557, 'faster': 1662, '2001': 31, '1996': 26, 'subtle': 4258, 'sophisticated': 4072, 'ian': 2208, 'cary': 705, 'grant': 1955, 'building': 614, 'sight': 3966, 'carpenter': 693, 'asks': 318, 'wanting': 4788, 'hear': 2060, 'dated': 1119, 'youd': 4987, 'treasure': 4567, 'trek': 4574, 'truth': 4595, 'choices': 797, 'remains': 3610, 'biggest': 479, 'setting': 3898, 'robinson': 3715, 'touching': 4533, 'manhattan': 2726, 'food': 1777, 'executive': 1567, 'research': 3643, 'rules': 3752, 'specifically': 4097, 'sucks': 4269, 'talking': 4357, 'throat': 4473, 'decisions': 1151, 'tortured': 4527, 'centered': 732, 'arrogant': 302, 'kinds': 2478, 'wall': 4779, 'strongly': 4229, 'tragic': 4549, 'crazy': 1035, 'russell': 3759, 'friday': 1833, 'powell': 3359, 'woody': 4936, 'allen': 187, 'charming': 767, 'amateur': 205, 'filled': 1714, 'occur': 3077, 'born': 543, 'match': 2763, 'suitable': 4282, 'london': 2641, 'upper': 4682, 'tragedy': 4548, 'accident': 83, 'purple': 3474, 'examples': 1554, 'equal': 1509, 'alas': 171, 'diane': 1236, 'keaton': 2448, 'murderer': 2942, 'leads': 2548, 'sincere': 3988, 'fetched': 1697, 'covers': 1024, 'giving': 1914, 'cliff': 846, 'details': 1217, 'scale': 3800, 'continue': 969, 'format': 1798, 'generation': 1882, '1973': 19, 'category': 717, 'largely': 2518, 'regard': 3587, 'feminist': 1694, 'competent': 917, 'farce': 1654, 'plane': 3289, 'potentially': 3357, 'forgettable': 1793, 'bruce': 601, 'unhappy': 4652, 'thinks': 4451, 'happiness': 2030, 'bitter': 490, 'state': 4158, 'powers': 3362, 'unfolds': 4647, 'needed': 2989, 'circumstances': 821, 'respect': 3651, 'recognize': 3569, 'humble': 2190, 'addition': 117, 'ourselves': 3141, 'differences': 1245, 'russian': 3760, 'marie': 2738, 'pleasant': 3303, 'confused': 941, 'built': 617, 'direct': 1256, 'renting': 3628, 'indie': 2275, 'finished': 1732, 'criticism': 1063, 'enters': 1496, 'whos': 4875, 'door': 1326, 'imdb': 2239, 'miscast': 2864, 'justin': 2440, 'land': 2511, 'heck': 2070, 'numerous': 3063, 'figured': 1711, 'ready': 3546, 'ruins': 3750, 'cops': 993, 'ass': 322, 'hbo': 2054, 'saturday': 3790, 'blockbuster': 508, 'todd': 4507, 'mad': 2696, 'heads': 2058, 'regular': 3591, 'confidence': 938, 'fifteen': 1705, 'relate': 3592, 'cube': 1076, '2003': 33, 'installment': 2302, 'trilogy': 4582, 'prequel': 3373, 'behavior': 445, 'placed': 3284, 'network': 3001, 'chose': 803, 'jobs': 2406, 'prisoners': 3404, 'moore': 2902, 'agreed': 155, 'suddenly': 4271, 'liking': 2604, 'neat': 2983, 'psychological': 3459, 'nicely': 3010, 'offer': 3088, 'raised': 3509, 'merits': 2818, 'noir': 3024, 'matrix': 2768, 'positive': 3347, 'reference': 3582, 'orson': 3133, 'welles': 4842, 'broadcast': 590, 'aliens': 183, 'dress': 1356, 'magnificent': 2705, 'fooled': 1779, 'sat': 3784, 'improvement': 2255, '45': 50, 'host': 2172, 'carried': 697, 'poorly': 3330, 'productions': 3421, 'brand': 564, 'guest': 1991, 'elm': 1447, 'devil': 1226, 'successful': 4264, 'author': 358, 'wicked': 4878, 'herself': 2091, 'pitch': 3280, 'responsibility': 3654, 'perform': 3228, 'unsettling': 4675, 'behave': 444, 'spin': 4109, 'guessing': 1990, 'repeat': 3629, 'alongside': 195, 'attempted': 340, 'gods': 1927, 'outside': 3147, 'boyfriend': 557, 'implausible': 2244, 'learned': 2551, 'minute': 2860, 'writes': 4970, 'directs': 1265, 'wild': 4884, 'suffice': 4277, 'leonard': 2572, 'blair': 496, 'ford': 1788, 'lawyer': 2541, 'union': 4657, 'lincoln': 2608, 'minds': 2854, 'faced': 1617, 'winning': 4898, 'raymond': 3534, 'physically': 3264, 'packed': 3167, 'houses': 2179, 'carl': 691, 'president': 3379, 'washington': 4804, '20th': 38, 'henry': 2083, 'fonda': 1776, 'damage': 1099, 'portraying': 3344, 'legend': 2564, 'facing': 1620, 'trial': 4576, 'shy': 3960, 'misses': 2870, 'speaks': 4093, 'pair': 3177, 'wore': 4939, 'yellow': 4981, 'belief': 450, 'represented': 3637, 'da': 1094, 'donald': 1319, 'stephen': 4174, 'ward': 4791, 'key': 2458, 'witness': 4914, 'closing': 858, 'distance': 1292, 'destiny': 1210, 'cause': 722, 'triumph': 4586, 'touched': 4531, 'racial': 3502, 'experienced': 1581, 'created': 1037, 'intellectual': 2311, 'shoes': 3939, 'eva': 1531, 'spending': 4103, 'fights': 1709, 'below': 461, 'superhero': 4296, 'fatal': 1664, 'nyc': 3066, 'bed': 435, 'resident': 3646, 'superman': 4298, 'conceived': 929, 'insult': 2308, 'introduction': 2338, 'leading': 2547, 'wilson': 4891, 'accompanied': 85, 'buddies': 607, 'strictly': 4221, 'june': 2433, 'helped': 2079, 'intensity': 2316, 'expensive': 1579, 'bothered': 548, 'ugly': 4621, 'dating': 1120, 'loosely': 2651, 'loose': 2650, 'rings': 3698, 'twice': 4609, 'jessica': 2398, 'la': 2500, 'motivations': 2916, 'emotional': 1459, 'lesser': 2576, 'finest': 1729, 'path': 3210, 'movement': 2924, 'neo': 2999, 'realism': 3549, 'claimed': 828, 'shape': 3917, 'efforts': 1433, 'storytelling': 4207, 'fashion': 1659, 'themes': 4431, 'desperation': 1208, 'aside': 314, 'site': 4002, 'guilt': 1993, 'shadows': 3911, 'darkness': 1117, 'overcome': 3152, 'italian': 2367, 'streets': 4215, 'voices': 4761, 'portray': 3341, 'compelling': 916, 'supporting': 4301, 'striking': 4224, 'urge': 4686, 'mgm': 2830, 'musicals': 2949, 'songs': 4069, 'classical': 835, 'sinatra': 3986, 'woods': 4935, 'steps': 4175, 'dozens': 1337, 'jerry': 2396, 'mouse': 2920, 'loves': 2674, 'color': 876, 'mountains': 2919, '1940s': 13, 'glorious': 1920, 'disc': 1276, 'concert': 935, 'screaming': 3825, 'threw': 4467, 'bands': 391, 'gifted': 1906, 'princess': 3398, 'bride': 576, 'execution': 1566, 'charlie': 764, 'cox': 1026, 'agrees': 156, 'stunning': 4242, 'claire': 830, 'danes': 1108, 'suspenseful': 4328, 'michelle': 2832, 'prince': 3397, 'ruby': 3747, 'wearing': 4829, 'chasing': 771, 'encounter': 1466, 'captain': 673, 'shakespeare': 3913, 'shall': 3914, 'involves': 2347, 'matthew': 2773, 'cake': 647, 'prevent': 3386, 'smiling': 4034, 'surprising': 4312, 'starring': 4152, 'marriage': 2744, 'swimming': 4335, 'universal': 4661, 'fabulous': 1615, 'former': 1799, 'names': 2964, 'turner': 4603, 'period': 3237, 'mine': 2855, 'grew': 1971, 'germany': 1897, 'joined': 2413, 'hitler': 2123, 'youth': 4994, 'channels': 753, 'documentaries': 1304, 'ships': 3933, 'navy': 2977, 'troops': 4587, 'naturally': 2975, 'analysis': 223, 'letting': 2583, 'segments': 3866, 'wrap': 4963, 'medical': 2791, 'impress': 2249, 'everybody': 1540, 'orange': 3126, 'product': 3419, 'pretentious': 3384, 'twenty': 4608, 'awfully': 372, 'topic': 4523, 'assistant': 325, 'craft': 1028, 'staged': 4138, 'extras': 1608, 'walking': 4777, 'sunday': 4290, 'dentist': 1179, 'sees': 3864, 'fake': 1635, 'tongue': 4515, 'laid': 2508, 'torture': 4526, 'contrary': 974, 'depicted': 1182, 'represent': 3636, 'lies': 2591, 'everyday': 1541, 'greatly': 1966, 'art': 303, 'glimpse': 1918, 'quiet': 3493, 'featuring': 1681, 'jane': 2380, 'stands': 4145, 'displayed': 1290, 'subsequent': 4255, 'likewise': 2603, 'accomplished': 86, 'stock': 4191, 'uneven': 4645, 'scenery': 3808, 'exposed': 1598, 'display': 1289, 'movements': 2925, 'showing': 3956, 'jungle': 2434, 'contrast': 975, 'regarding': 3588, 'partly': 3198, 'guilty': 1994, 'actions': 100, 'delivering': 1170, 'explicit': 1591, 'returning': 3666, 'parker': 3192, 'struck': 4230, 'domestic': 1316, 'combination': 882, 'nearby': 2981, 'possibility': 3350, 'core': 995, 'standards': 4143, 'valley': 4704, 'health': 2059, 'apes': 266, 'trapped': 4560, 'foot': 1780, 'river': 3706, 'trees': 4573, 'splendid': 4116, 'charge': 760, 'cuts': 1091, 'memory': 2805, 'asian': 313, 'united': 4660, 'slightest': 4025, 'study': 4240, 'albeit': 172, '70s': 56, 'happening': 2027, 'dad': 1095, 'tape': 4362, 'forgive': 1794, 'wonderfully': 4929, 'massacre': 2755, 'elephant': 1444, 'guide': 1992, 'chicago': 784, 'strike': 4222, 'charisma': 761, 'bin': 482, 'teenager': 4387, 'manipulative': 2728, 'unconvincing': 4634, 'nick': 3013, 'refuses': 3586, 'stay': 4164, 'manner': 2730, 'letter': 2581, 'mentioning': 2813, 'sadness': 3768, 'pain': 3171, 'billy': 481, 'thomas': 4455, 'belongs': 459, 'laura': 2536, 'cooper': 990, 'several': 3903, 'edited': 1420, 'achievement': 93, 'calling': 652, 'hates': 2047, 'suspend': 4326, 'disbelief': 1275, 'hurts': 2202, 'natural': 2974, 'obsessed': 3070, 'chaplin': 755, 'complex': 923, 'bone': 532, 'shake': 3912, 'stops': 4201, 'contract': 973, 'bother': 547, 'target': 4363, '12': 3, 'disjointed': 1285, 'summary': 4287, 'politics': 3327, 'covered': 1023, 'alcohol': 175, 'suspect': 4324, 'married': 2745, 'teacher': 4372, 'lie': 2590, 'changing': 751, 'broke': 592, 'students': 4237, 'worry': 4950, 'sue': 4272, 'gonna': 1935, 'international': 2325, 'daddy': 1096, 'funeral': 1848, 'continuity': 972, 'brain': 561, 'pack': 3166, 'faith': 1633, 'carry': 699, 'tooth': 4521, 'clichés': 845, 'dan': 1102, 'handled': 2018, 'split': 4117, 'picked': 3267, 'monster': 2893, 'capture': 675, 'phone': 3256, 'scare': 3801, 'properly': 3438, 'unnecessary': 4668, 'react': 3540, 'lust': 2689, 'bodies': 525, 'fair': 1630, 'achieved': 92, 'body': 526, 'mildly': 2842, 'amongst': 217, 'cliché': 843, 'wonders': 4931, 'scripted': 3833, 'ask': 315, 'question': 3488, 'conversation': 980, 'digital': 1249, 'ease': 1403, 'mann': 2729, 'bottom': 550, 'specific': 4096, 'topless': 4524, 'convince': 983, 'track': 4541, 'pal': 3178, 'petty': 3250, 'duo': 1385, 'christ': 806, 'instant': 2304, 'program': 3425, 'pays': 3219, 'directorial': 1263, 'spain': 4088, 'assault': 323, 'naive': 2959, 'ensemble': 1492, 'horrid': 2164, 'sea': 3836, 'ocean': 3080, 'cartoons': 704, 'pile': 3276, 'model': 2882, 'kidnapped': 2466, 'held': 2073, 'crew': 1053, 'significant': 3969, 'helicopter': 2075, 'pilot': 3277, 'granted': 1956, 'dubbing': 1379, 'cannibal': 668, 'makeup': 2717, 'banned': 394, 'attacks': 338, 'pulls': 3465, 'guts': 1998, 'lengthy': 2570, 'loving': 2675, 'cute': 1090, 'ellen': 1446, 'hole': 2131, 'suck': 4267, 'range': 3516, 'ruin': 3748, 'contrived': 976, 'uninteresting': 4656, 'taylor': 4369, 'staff': 4136, 'deserve': 1197, 'unintentional': 4654, 'maniac': 2727, 'proves': 3448, 'convincing': 985, 'flawless': 1750, 'satire': 3786, 'goldberg': 1932, 'comedian': 886, 'comfortable': 891, 'fish': 1737, 'adequate': 119, 'lugosi': 2686, 'karloff': 2445, 'circle': 820, 'scientist': 3816, 'hunting': 2200, 'vampires': 4709, 'goofy': 1938, 'focus': 1765, 'relief': 3604, 'supernatural': 4299, 'generic': 1884, 'values': 4707, 'ho': 2126, 'resolution': 3648, 'marks': 2743, 'confusing': 942, 'transfer': 4555, 'shut': 3959, 'appealing': 271, 'visually': 4756, 'added': 115, 'bette': 470, 'punch': 3467, 'singing': 3992, 'miss': 2868, 'mixture': 2880, 'wide': 4879, 'eyed': 1612, 'appreciation': 280, 'pushing': 3480, 'rented': 3627, 'strength': 4217, 'wound': 4960, 'kinda': 2477, 'angela': 231, 'intrigued': 2333, 'contact': 961, 'risk': 3703, 'occurs': 3079, 'increasingly': 2267, 'twists': 4615, 'thoroughly': 4456, 'ghost': 1901, 'suspects': 4325, 'evidence': 1546, 'spoiler': 4121, 'guessed': 1989, 'instantly': 2305, '100': 1, 'ya': 4976, 'logic': 2638, 'crimes': 1056, 'drags': 1343, 'determined': 1219, 'embarrassed': 1453, 'watches': 4812, 'territory': 4408, 'ie': 2220, 'hits': 2124, 'buried': 623, 'lighting': 2596, 'frame': 1814, 'stereotypical': 4178, 'needless': 2990, 'suits': 4284, 'stinks': 4190, 'curse': 1086, 'painted': 3175, 'gray': 1962, 'liners': 2611, 'innovative': 2294, 'edition': 1422, 'prize': 3406, 'lively': 2627, 'trouble': 4588, 'attend': 343, 'football': 1782, 'forbidden': 1784, 'iran': 2349, 'manages': 2725, 'cultural': 1078, 'laws': 2540, 'comical': 893, 'cup': 1080, 'convincingly': 986, 'australian': 356, 'purpose': 3475, 'stellar': 4172, 'useless': 4692, 'lazy': 2543, 'tends': 4399, 'assume': 327, 'flight': 1756, 'emphasis': 1463, 'mild': 2841, 'gay': 1875, 'staring': 4150, 'ball': 387, 'dick': 1237, 'desperately': 1207, 'ran': 3513, 'warner': 4797, 'score': 3820, 'source': 4083, 'lane': 2515, 'hart': 2040, 'pieces': 3274, 'spike': 4108, 'lou': 2663, 'wizard': 4919, 'oz': 3161, 'fond': 1775, 'lucy': 2684, 'dangerous': 1110, 'remembered': 3616, 'essential': 1522, 'ruth': 3761, 'ham': 2010, 'chief': 787, 'catholic': 719, 'taught': 4367, 'church': 812, 'religious': 3607, 'gun': 1995, 'authority': 359, 'answers': 251, 'california': 649, 'kid': 2464, 'borrowed': 544, 'delightful': 1167, 'lovers': 2673, 'brady': 560, 'pleased': 3306, 'pg': 3251, '13': 4, 'praise': 3365, 'strangely': 4210, 'questionable': 3489, 'beaten': 423, 'chased': 769, 'pointed': 3318, 'angry': 237, 'problems': 3410, 'adventures': 130, 'education': 1424, 'waters': 4815, 'considering': 952, 'references': 3583, 'presented': 3377, 'foul': 1809, 'disgusting': 1284, 'contains': 964, 'costume': 1005, 'extent': 1605, 'nuts': 3065, 'alert': 177, 'chicks': 786, 'spare': 4090, 'investigation': 2342, 'lena': 2568, 'psychic': 3457, 'dirty': 1266, 'response': 3653, 'tour': 4535, 'talks': 4358, 'moves': 2926, 'wandering': 4783, 'prison': 3402, 'cell': 729, 'worthwhile': 4955, 'universe': 4662, 'kirk': 2482, 'spock': 4118, 'prisoner': 3403, '50': 51, 'print': 3400, 'flesh': 1752, 'santa': 3781, 'angel': 230, 'forced': 1786, 'stunt': 4243, 'overdone': 3153, 'spoke': 4123, 'pretending': 3383, 'ultra': 4625, 'bound': 552, 'hopefully': 2156, 'porno': 3338, 'tad': 4344, 'relies': 3605, 'mile': 2844, 'excited': 1561, 'forms': 1800, 'forgot': 1795, 'formula': 1801, 'dollar': 1312, 'tame': 4360, 'exact': 1550, 'considerable': 950, 'paltrow': 3179, 'carol': 692, 'kane': 2442, 'pink': 3278, 'ignored': 2224, 'parents': 3189, 'trailer': 4550, 'choreographed': 800, 'promised': 3432, 'stunts': 4244, 'eg': 1434, 'difference': 1244, 'martial': 2748, 'arts': 309, 'sucked': 4268, 'citizen': 823, 'served': 3892, 'sinister': 3995, 'flynn': 1764, 'luckily': 2682, 'senseless': 3876, 'junk': 2436, 'button': 638, '2nd': 41, 'cheese': 779, 'credits': 1050, 'rolled': 3728, 'amy': 221, 'sleazy': 4020, 'uk': 4622, 'quirky': 3494, 'round': 3740, 'hold': 2128, 'switch': 4336, 'touches': 4532, 'succeed': 4260, 'johnson': 2411, 'weve': 4854, 'con': 928, 'text': 4416, 'disappeared': 1269, 'nervous': 3000, 'losers': 2656, 'suffers': 4276, 'paranoia': 3187, 'dare': 1113, 'inevitable': 2281, 'dealing': 1136, 'pull': 3462, 'exists': 1573, 'photography': 3261, 'rogers': 3724, 'information': 2287, 'driven': 1364, 'bar': 395, 'previously': 3389, 'hilariously': 2106, 'crafted': 1029, 'horrifying': 2166, 'lit': 2621, 'theory': 4434, 'couldve': 1009, 'hollow': 2134, 'styles': 4248, 'tons': 4517, '75': 57, 'redemption': 3578, 'extra': 1606, 'explanation': 1590, 'spiritual': 4113, 'attack': 336, 'notably': 3043, '1950s': 14, 'escaped': 1518, 'wisdom': 4902, 'asking': 317, 'presents': 3378, '2004': 34, 'blew': 504, 'cheesy': 780, 'sounded': 4079, 'lyrics': 2692, 'terribly': 4405, 'inducing': 2278, 'editor': 1423, 'consistently': 954, 'hook': 2151, 'invisible': 2343, 'semi': 3872, 'allow': 188, 'elaborate': 1439, 'daniel': 1111, 'stretch': 4219, 'term': 4402, 'whilst': 4867, 'irrelevant': 2357, 'laughably': 2531, 'formulaic': 1802, 'physical': 3263, 'appalling': 267, 'cinematic': 817, 'ps': 3454, 'afford': 137, 'clues': 864, 'wondering': 4930, 'endings': 1472, 'dean': 1139, 'relations': 3595, 'offering': 3090, 'plant': 3294, 'growing': 1982, 'overacting': 3150, 'started': 4155, 'mob': 2881, 'vacation': 4701, 'tracks': 4542, 'opens': 3116, '1st': 28, 'mummy': 2938, 'results': 3661, 'opened': 3114, 'hunt': 2197, 'frankenstein': 1821, 'creature': 1045, 'corny': 997, 'scarecrow': 3802, 'ring': 3697, 'emily': 1456, 'remind': 3617, 'independent': 2271, 'massive': 2757, 'magic': 2703, 'pacing': 3164, 'roll': 3727, 'currently': 1085, 'britain': 587, 'wing': 4896, 'minor': 2859, 'cameo': 656, 'persona': 3240, 'magical': 2704, 'correct': 1000, 'required': 3640, 'alien': 182, 'interpretation': 2327, 'niro': 3020, 'favourite': 1673, 'warming': 4793, 'cheek': 778, 'equivalent': 1512, 'device': 1225, 'bourne': 553, '2007': 37, 'heres': 2086, 'damon': 1101, 'matt': 2769, 'delivers': 1171, 'desire': 1203, 'reactions': 3542, 'gift': 1905, 'wrapped': 4964, 'thrillers': 4470, 'paulie': 3216, 'plight': 3309, 'tony': 4518, 'jay': 2386, 'buddy': 608, 'nowadays': 3056, 'anymore': 257, 'eighties': 1437, 'cameos': 657, 'gene': 1878, 'simmons': 3978, 'chuck': 811, 'reaches': 3538, 'sports': 4128, 'seasons': 3842, 'reached': 3537, 'constructed': 959, 'curtis': 1087, 'easier': 1404, 'wishes': 4906, 'teach': 4371, 'west': 4850, 'usa': 4688, 'members': 2802, 'reunion': 3668, '80': 58, 'drink': 1360, 'mothers': 2913, 'breasts': 571, 'competition': 918, 'jealous': 2388, 'warm': 4792, 'via': 4724, 'ridden': 3690, 'dire': 1255, 'jenny': 2393, 'ron': 3733, 'judy': 2426, 'kurt': 2499, 'robin': 3714, 'dropped': 1369, 'rat': 3525, 'stated': 4159, 'street': 4214, 'homeless': 2142, 'racism': 3503, 'iraq': 2350, 'theyll': 4441, 'bet': 469, 'bathroom': 411, 'lesson': 2577, 'mel': 2797, 'brooks': 595, 'thirty': 4453, 'succeeds': 4262, 'molly': 2886, 'warren': 4799, 'divorce': 1299, 'howard': 2181, 'morris': 2909, 'survivors': 4322, 'tender': 4398, 'valuable': 4705, 'capital': 672, 'hudson': 2183, 'financial': 1724, 'aired': 164, 'changes': 750, 'chances': 747, 'warmth': 4794, 'attacked': 337, 'demented': 1175, 'satan': 3785, 'fourth': 1812, 'greedy': 1968, 'empty': 1465, 'chest': 783, 'zombies': 4998, 'worthy': 4956, 'stargate': 4149, 'lay': 2542, 'humans': 2189, 'inventive': 2340, 'defined': 1159, 'hooked': 2152, 'rain': 3507, 'tight': 4489, 'yesterday': 4983, 'afterwards': 144, 'lol': 2640, 'notes': 3047, 'diamond': 1234, 'recently': 3567, 'serve': 3891, 'los': 2653, 'angeles': 232, 'brad': 559, 'pitt': 3281, 'serving': 3895, 'cities': 822, 'acid': 94, 'clothing': 860, 'carrying': 700, 'remaining': 3609, 'ratings': 3530, 'useful': 4691, 'causing': 725, 'models': 2883, 'engage': 1479, 'bag': 383, 'arnold': 295, 'beer': 438, 'firstly': 1736, 'hysterical': 2207, 'vague': 4702, 'mickey': 2833, 'conspiracy': 956, 'levels': 2585, 'endure': 1475, 'aged': 148, 'fictional': 1702, 'versions': 4719, 'horrors': 2168, 'map': 2734, 'fix': 1743, 'vast': 4713, 'philosophy': 3255, 'lake': 2509, 'spoiled': 4120, 'relation': 3594, 'creatures': 1046, 'die': 1241, 'directions': 1260, 'cruel': 1070, 'achieve': 91, 'philosophical': 3254, 'eastern': 1407, 'artistic': 307, 'painting': 3176, 'chapter': 756, '18': 10, 'atrocious': 334, 'classes': 833, 'commercial': 901, 'ego': 1435, 'thru': 4480, 'leslie': 2574, 'demands': 1174, 'nail': 2958, 'diana': 1235, 'irritating': 2358, 'hundreds': 2195, 'scores': 3821, '1984': 23, 'spirits': 4112, 'hey': 2094, 'joy': 2422, 'dignity': 1250, 'projects': 3429, 'costumes': 1006, 'morality': 2904, 'holiday': 2133, 'basement': 404, 'jeremy': 2394, 'davies': 1125, 'paper': 3184, 'introduced': 2336, 'adding': 116, 'lessons': 2578, 'errors': 1516, 'chosen': 804, 'roman': 3730, 'wet': 4853, 'remarkably': 3613, 'coherent': 870, 'loser': 2655, 'heroic': 2089, 'tall': 4359, 'metal': 2824, 'menacing': 2808, 'intent': 2317, 'splatter': 4115, 'awake': 364, 'punk': 3469, 'friendly': 1835, 'appearing': 276, 'mentally': 2810, 'retarded': 3662, 'gratuitous': 1960, 'manage': 2722, 'bugs': 612, 'masterpieces': 2761, '13th': 5, 'paint': 3174, 'quit': 3495, 'wrestling': 4966, 'hurt': 2201, 'cabin': 642, 'laurel': 2537, 'jaw': 2384, 'thus': 4483, 'authentic': 357, 'content': 966, 'countries': 1013, 'trust': 4594, '2006': 36, 'gender': 1877, 'east': 1406, 'gradually': 1951, 'progresses': 3427, 'soccer': 4045, 'nation': 2970, 'worried': 4949, 'won': 4925, 'outer': 3144, 'corner': 996, 'humour': 2193, 'constantly': 958, 'tribute': 4577, 'max': 2775, 'corpse': 999, 'prom': 3430, 'bite': 488, 'resemblance': 3644, 'persons': 3245, 'purely': 3473, 'alternate': 199, 'colorful': 877, 'mighty': 2838, 'rangers': 3517, 'titles': 4503, 'fare': 1655, '1980s': 21, '1990s': 25, 'prime': 3396, 'bears': 420, 'animation': 241, 'theatrical': 4427, 'beast': 421, 'attraction': 349, 'saves': 3794, 'villains': 4743, 'failing': 1627, 'soviet': 4086, 'ruthless': 3762, 'neighbors': 2995, 'notorious': 3052, 'revealed': 3670, 'abusive': 74, 'lights': 2597, 'itll': 2369, 'buffs': 611, 'reminds': 3619, 'ears': 1401, 'souls': 4077, '50s': 52, 'plans': 3293, 'timothy': 4496, 'grey': 1972, 'cousin': 1021, 'eddie': 1415, 'website': 4832, 'wealth': 4824, 'slight': 4024, 'realise': 3548, 'beatty': 426, 'regardless': 3589, 'funnier': 1849, 'ad': 109, 'cost': 1003, 'escapes': 1519, 'stomach': 4194, 'hanging': 2022, 'knife': 2487, 'pops': 3333, 'studios': 4239, 'concerns': 934, 'daughters': 1122, 'rush': 3757, 'intention': 2318, 'alice': 181, 'wedding': 4834, 'finger': 1730, 'boxing': 555, 'kicked': 2461, 'screenwriter': 3831, 'meaningless': 2783, 'blob': 506, 'comics': 894, 'respected': 3652, 'emma': 1457, 'millions': 2850, 'gruesome': 1985, 'robots': 3717, 'robot': 3716, 'depressing': 1186, 'learning': 2552, 'kick': 2460, 'bloody': 512, 'creator': 1043, 'designed': 1201, 'annoyed': 247, 'fascinated': 1657, 'theyve': 4443, 'creativity': 1042, 'improve': 2253, 'adorable': 123, 'news': 3006, 'popcorn': 3332, 'richards': 3686, 'messed': 2822, 'eyre': 1614, 'bbc': 416, 'dalton': 1098, 'rochester': 3718, 'passionate': 3207, 'passion': 3206, 'pregnant': 3370, 'trained': 4553, 'drops': 1371, 'sexy': 3909, 'engaged': 1480, 'embarrassment': 1455, 'cinematographer': 818, 'treated': 4569, 'halfway': 2007, 'overly': 3156, 'seven': 3901, 'eight': 1436, 'lately': 2524, 'pity': 3282, 'translation': 4558, 'slaughter': 4018, 'shock': 3936, 'raw': 3532, 'ha': 2001, 'facts': 1624, 'gain': 1862, 'access': 82, 'win': 4892, 'leader': 2546, 'lucky': 2683, 'spots': 4130, 'square': 4134, 'ability': 65, 'pop': 3331, 'everyones': 1543, '70': 55, 'allows': 191, 'carrey': 695, 'christian': 807, 'unreal': 4672, 'mix': 2878, 'hearts': 2065, 'coach': 867, 'christians': 808, 'sold': 4049, 'attached': 335, 'presentation': 3376, 'tension': 4401, 'importantly': 2247, 'actresses': 105, 'hype': 2206, 'carries': 698, 'al': 169, 'pacino': 3165, 'fields': 1704, 'edie': 1419, 'nancy': 2965, 'extraordinary': 1607, 'frequent': 1830, 'weakest': 4823, 'enthusiasm': 1501, 'folks': 1770, 'whoever': 4870, 'endless': 1473, 'stupidity': 4246, '1960s': 15, 'rebel': 3561, 'followed': 1772, 'dvds': 1391, 'everywhere': 1545, 'outrageous': 3146, 'empire': 1464, 'separate': 3881, 'wholly': 4872, 'lone': 2642, 'simplistic': 3982, 'statement': 4160, 'canada': 665, 'invasion': 2339, 'vietnam': 4733, 'advertising': 131, 'similarly': 3977, 'centers': 733, 'cuba': 1075, 'africa': 140, 'species': 4095, 'flashback': 1745, 'caring': 690, 'chaos': 754, 'cared': 684, 'maria': 2737, 'brooklyn': 594, 'heat': 2066, 'inner': 2291, 'vivid': 4758, 'recording': 3575, 'aint': 162, 'daily': 1097, 'connected': 945, 'fears': 1677, 'doubts': 1331, 'unwatchable': 4678, 'hunters': 2199, 'dude': 1380, 'crappy': 1032, 'dracula': 1339, 'australia': 355, 'caused': 723, 'hatred': 2048, 'adam': 110, 'reporter': 3635, 'internet': 2326, 'audio': 353, 'conversations': 981, 'principal': 3399, 'service': 3894, 'nations': 2972, 'press': 3380, 'historically': 2119, 'gross': 1977, 'recorded': 3574, 'motives': 2917, 'namely': 2963, 'imagery': 2233, 'represents': 3638, 'hoffman': 2127, 'birthday': 486, 'breath': 572, 'stronger': 4228, 'amanda': 204, 'wolf': 4920, 'extreme': 1609, 'suicide': 4280, 'allowed': 189, 'coffee': 869, 'commercials': 902, 'empathy': 1462, 'noble': 3022, 'soul': 4076, 'teachers': 4373, 'sequels': 3884, 'flop': 1759, 'stan': 4140, 'professor': 3423, 'experiments': 1584, 'loads': 2633, 'consists': 955, 'fill': 1713, 'latter': 2528, 'walked': 4774, 'somebody': 4059, 'wes': 4849, 'receives': 3565, 'ensues': 1493, 'collection': 873, 'terrorists': 4411, 'perfectly': 3227, 'tradition': 4546, 'berlin': 466, 'attitude': 345, 'hung': 2196, 'jet': 2400, 'li': 2587, 'fx': 1857, 'uwe': 4700, 'boll': 528, 'thumbs': 4482, 'cg': 738, 'dragon': 1342, 'nightmare': 3015, 'happily': 2029, 'uncomfortable': 4633, 'complaint': 920, 'succeeded': 4261, 'dolph': 1315, 'domino': 1317, 'wanna': 4784, 'attitudes': 346, 'suspicious': 4329, 'eerie': 1427, 'handle': 2017, 'starred': 4151, 'pulp': 3466, 'stinker': 4189, 'horrendous': 2161, 'trailers': 4551, 'bargain': 399, 'lips': 2615, 'honesty': 2147, 'frustrated': 1841, 'technique': 4380, 'load': 2631, 'checking': 777, 'enjoying': 1487, 'trick': 4578, 'messages': 2821, 'irony': 2356, 'horribly': 2163, 'clichéd': 844, 'jerk': 2395, 'altogether': 201, 'page': 3168, 'journalist': 2420, 'celebrity': 728, 'crude': 1069, 'dialogs': 1231, 'visible': 4751, 'explaining': 1588, 'incident': 2259, 'st': 4135, 'timeless': 4493, 'cases': 707, 'perry': 3238, 'rob': 3709, 'briefly': 579, 'stolen': 4193, 'hang': 2021, 'marvelous': 2751, 'hall': 2008, 'narrator': 2968, 'necessarily': 2984, 'vegas': 4714, 'personalities': 3242, 'psychotic': 3460, 'complexity': 924, 'oddly': 3082, 'vs': 4765, 'explosions': 1597, 'willis': 4890, 'shirt': 3935, 'catherine': 718, 'motivation': 2915, 'pool': 3328, 'contest': 967, 'choose': 798, 'marry': 2746, 'hal': 2005, 'virtually': 4749, 'planning': 3292, 'susan': 4323, 'careers': 686, 'busy': 634, 'raising': 3510, 'ages': 151, 'overwhelming': 3158, 'abc': 63, 'comparing': 912, 'barry': 400, '1980': 20, 'boom': 536, 'pig': 3275, 'beats': 425, 'mechanical': 2789, 'bull': 618, 'glenn': 1917, 'snake': 4039, 'community': 907, 'featured': 1679, 'lees': 2560, 'dedicated': 1152, 'devils': 1227, 'satisfy': 3788, 'precious': 3367, 'excitement': 1562, 'widmark': 4881, 'anne': 245, 'cook': 988, 'cagney': 645, 'donna': 1321, 'doll': 1311, 'primarily': 3394, 'designs': 1202, 'andy': 229, 'dolls': 1314, 'sir': 3997, 'pit': 3279, 'sings': 3994, 'eccentric': 1413, 'perfection': 3226, 'presence': 3374, 'stretched': 4220, 'spite': 4114, 'bridge': 577, 'brosnan': 596, 'photo': 3258, 'kissing': 2484, 'elizabeth': 1445, 'politically': 3326, 'techniques': 4381, 'anderson': 226, 'cleverly': 841, 'bird': 483, 'rick': 3688, 'animals': 239, 'argue': 289, 'reveal': 3669, 'thousands': 4463, 'multi': 2936, 'garden': 1871, 'crack': 1027, 'sword': 4337, 'broken': 593, 'threat': 4464, 'misery': 2867, '16': 8, 'occasionally': 3076, 'greek': 1969, 'proceedings': 3411, 'march': 2735, 'bath': 410, 'silver': 3974, 'draws': 1350, 'ned': 2987, 'grow': 1981, 'mundane': 2939, 'method': 2826, 'murderous': 2943, 'poignant': 3316, 'philip': 3253, 'christopher': 810, 'dawn': 1127, 'exceptional': 1558, 'jon': 2416, 'wears': 4830, 'stereotype': 4176, 'cynical': 1093, 'thrills': 4472, 'riding': 3694, 'horses': 2170, 'throwing': 4477, 'hoped': 2155, 'animated': 240, 'wayne': 4819, 'voiced': 4760, 'alfred': 180, 'graphic': 1957, 'sentimental': 3880, 'super': 4292, 'cage': 644, 'sounding': 4080, 'ed': 1414, 'hideous': 2097, 'hopeless': 2157, 'cards': 682, 'ideal': 2213, 'account': 88, 'carter': 702, 'bits': 489, 'gas': 1873, 'rachel': 3501, 'san': 3778, 'francisco': 1818, 'grandmother': 1954, 'pat': 3209, 'center': 731, 'credible': 1048, 'alcoholic': 176, 'unfortunate': 4649, 'wounded': 4961, 'boss': 545, 'trademark': 4545, 'gag': 1860, 'consequences': 947, 'affect': 135, 'provoking': 3453, 'aids': 160, 'isolated': 2362, 'seed': 3854, 'meat': 2788, 'astaire': 329, 'tunes': 4599, 'fred': 1824, 'ginger': 1907, 'couples': 1017, 'doctors': 1303, 'championship': 744, 'sport': 4127, 'belong': 458, 'purchased': 3471, 'searching': 3840, 'shark': 3919, 'dying': 1392, 'fancy': 1649, 'hat': 2044, 'rubber': 3745, 'hammer': 2013, 'settle': 3900, 'soap': 4044, 'soldiers': 4051, 'develop': 1220, 'linda': 2609, 'painfully': 3173, 'gags': 1861, 'widow': 4882, 'shouldnt': 3950, 'louise': 2666, 'georges': 1893, 'fat': 1663, '2005': 35, 'neighborhood': 2994, 'library': 2589, 'stilted': 4188, 'string': 4225, 'hundred': 2194, 'hong': 2148, 'mate': 2766, 'ashamed': 311, 'survived': 4319, 'tie': 4485, 'cable': 643, 'shop': 3943, 'anthony': 252, 'member': 2801, 'hanks': 2024, 'gangster': 1867, 'photographed': 3259, 'nicholas': 3011, 'stylish': 4249, 'unlikely': 4667, 'sullivan': 4285, 'huh': 2186, 'travel': 4563, 'cave': 726, 'settings': 3899, 'nude': 3059, 'tea': 4370, 'technical': 4378, 'florida': 1760, 'psychiatrist': 3456, 'paying': 3218, 'generations': 1883, 'fortunately': 1804, 'inferior': 2284, 'aunt': 354, 'household': 2178, 'tiger': 4488, 'severe': 3904, 'gangsters': 1868, 'maggie': 2702, 'challenging': 743, 'incomprehensible': 2266, 'officers': 3094, 'sole': 4052, 'witnesses': 4916, 'wells': 4843, 'scientific': 3815, 'matched': 2764, 'mixed': 2879, 'newspaper': 3007, 'arrived': 300, 'sticks': 4184, 'husbands': 2204, 'insane': 2295, 'outfit': 3145, 'legal': 2563, 'zone': 4999, 'civilization': 826, 'modesty': 2885, 'relevant': 3603, 'mindless': 2853, 'drivel': 1363, 'terry': 4412, 'attractive': 350, 'selling': 3871, '40s': 49, 'popularity': 3335, 'profound': 3424, 'fits': 1740, 'overrated': 3157, 'blown': 515, 'notable': 3042, 'travesty': 4566, 'tracy': 4543, 'plague': 3286, 'jimmy': 2403, '25': 40, 'died': 1242, 'pride': 3392, 'educational': 1425, 'developing': 1222, 'westerns': 4852, 'matches': 2765, 'listed': 2618, 'bold': 527, 'hints': 2112, 'humanity': 2188, 'stood': 4197, 'charismatic': 762, 'interaction': 2321, 'deliberately': 1165, 'grab': 1948, '30s': 44, 'queen': 3486, 'thankfully': 4419, 'eve': 1532, 'midnight': 2836, 'september': 3882, 'dreary': 1354, 'feed': 1682, 'opposed': 3123, 'search': 3839, 'flow': 1761, 'directly': 1261, 'fairy': 1632, 'tied': 4486, 'nurse': 3064, 'maintain': 2710, 'intentionally': 2319, 'flashbacks': 1746, 'survivor': 4321, 'companion': 908, 'angels': 233, 'compassion': 914, 'link': 2613, 'tiny': 4497, 'dubbed': 1378, 'godzilla': 1928, 'explosion': 1596, 'gotten': 1946, 'monkey': 2891, 'rex': 3682, 'streisand': 4216, 'mirror': 2863, 'nine': 3018, 'literature': 2623, 'commit': 903, 'snow': 4042, 'storm': 4204, 'crash': 1033, 'gripping': 1975, 'resort': 3649, 'pleasantly': 3304, 'pages': 3169, 'glover': 1922, 'controversial': 978, 'historical': 2118, 'clumsy': 865, 'endearing': 1469, 'temple': 4395, 'faults': 1669, 'poem': 3313, 'exotic': 1574, 'established': 1524, 'handful': 2016, 'decade': 1144, 'adams': 111, 'resources': 3650, 'handed': 2015, 'enjoyment': 1488, 'jonathan': 2417, 'unoriginal': 4669, 'polanski': 3322, 'twilight': 4610, 'doomed': 1325, 'noise': 3025, 'chair': 741, 'surrounding': 4316, 'lynch': 2691, 'excessive': 1560, 'tense': 4400, 'transformation': 4556, 'drag': 1340, 'winters': 4901, 'secrets': 3850, 'exercise': 1568, 'testament': 4414, 'americas': 214, 'showdown': 3953, 'breathtaking': 573, 'demons': 1177, 'celluloid': 730, 'training': 4554, 'advanced': 127, 'orders': 3128, 'disappear': 1268, 'sandra': 3780, 'colonel': 875, 'caine': 646, 'sean': 3838, 'delivered': 1169, 'keeping': 2450, 'uplifting': 4680, 'whoopi': 4874, 'dinner': 1252, 'discussion': 1282, 'superior': 4297, 'existed': 1570, 'absence': 69, 'lifetime': 2594, 'burns': 627, 'stiff': 4185, 'myers': 2953, 'tap': 4361, 'proof': 3435, 'disneys': 1288, 'lion': 2614, 'generated': 1881, 'tremendous': 4575, 'backgrounds': 380, '3d': 46, 'imitation': 2240, 'anime': 242, 'enterprise': 1495, 'performs': 3235, 'silence': 3971, 'poetry': 3315, 'magazine': 2701, 'uninspired': 4653, 'sidney': 3965, 'thick': 4444, 'ear': 1396, 'treats': 4571, 'knock': 2488, 'homer': 2143, 'base': 401, 'wives': 4918, 'defeat': 1156, 'eating': 1412, 'beach': 418, 'elvira': 1450, 'enormous': 1490, 'kubrick': 2496, 'eager': 1395, 'destroying': 1213, 'downhill': 1334, 'repeatedly': 3631, 'tommy': 4513, 'anger': 234, 'occasional': 3075, 'focused': 1766, 'market': 2741, 'mail': 2706, 'insulting': 2309, 'atlantis': 331, 'realizes': 3554, 'werewolf': 4848, 'victoria': 4730, 'noticed': 3050, 'tonight': 4516, 'davis': 1126, 'size': 4009, 'murphy': 2945, 'lisa': 2616, 'kidding': 2465, 'catching': 715, 'exploration': 1593, 'construction': 960, 'burt': 628, 'reynolds': 3683, 'thoughtful': 4460, 'voight': 4762, 'superbly': 4294, 'godfather': 1926, 'hyde': 2205, 'grandfather': 1953, 'machines': 2694, 'possibilities': 3349, 'sneak': 4040, 'helen': 2074, 'quick': 3491, 'stiller': 4187, 'secondly': 3845, 'sarah': 3783, 'lowest': 2678, 'occasion': 3074, 'newly': 3005, 'combat': 881, 'kennedy': 2454, 'opera': 3117, 'solo': 4055, 'twin': 4611, 'battles': 414, 'calm': 654, 'earl': 1397, 'cinemas': 816, 'brutally': 603, 'signed': 3968, 'unbearable': 4629, 'devoted': 1229, 'doo': 1323, 'manager': 2724, 'airport': 166, 'nevertheless': 3003, 'craven': 1034, 'jackie': 2374, 'glass': 1916, 'airplane': 165, 'aforementioned': 138, 'speech': 4099, 'olivier': 3104, 'kenneth': 2455, 'mars': 2747, 'intentions': 2320, 'campbell': 662, 'sunshine': 4291, 'disaster': 1274, 'interviews': 2329, 'descent': 1191, 'hello': 2077, 'mass': 2754, 'rushed': 3758, 'wendy': 4844, '1972': 18, 'freeman': 1828, 'mario': 2739, 'terror': 4409, 'picking': 3268, 'portrait': 3340, 'combine': 883, 'bobby': 524, 'viewings': 4739, 'dinosaurs': 1254, 'screams': 3826, 'web': 4831, 'creep': 1051, 'rats': 3531, 'hiding': 2098, 'burned': 625, 'armed': 292, 'expressed': 1601, 'plastic': 3295, 'oscars': 3135, 'loaded': 2632, 'recognized': 3570, 'population': 3336, 'department': 1181, 'corruption': 1002, 'mayor': 2778, 'jamie': 2379, 'peters': 3249, 'ritter': 3704, '35': 45, 'shed': 3922, 'kung': 2498, 'fu': 1843, 'destroy': 1211, 'bela': 449, 'awe': 369, 'inspiring': 2301, 'consistent': 953, 'subplots': 4254, 'seeking': 3857, 'limits': 2607, 'idiot': 2217, 'detailed': 1216, 'masses': 2756, 'failure': 1629, 'condition': 937, 'requires': 3641, 'reed': 3580, 'carefully': 688, 'virus': 4750, 'performer': 3232, 'dramas': 1345, 'bus': 630, 'mainstream': 2709, 'lawrence': 2539, 'nomination': 3027, 'restored': 3658, 'tune': 4598, 'disturbed': 1297, 'discuss': 1281, 'arrival': 298, 'planet': 3290, 'unaware': 4628, 'torn': 4525, 'sellers': 3870, 'randomly': 3515, 'hank': 2023, 'raise': 3508, 'basketball': 408, 'deeper': 1154, 'priceless': 3391, 'masterful': 2759, 'countless': 1012, 'snl': 4041, 'homosexual': 2144, 'cole': 872, 'harvey': 2041, 'surviving': 4320, 'property': 3439, 'shortly': 3945, 'arrive': 299, 'visits': 4754, 'gothic': 1944, 'giallo': 1903, 'england': 1482, 'spread': 4131, 'artificial': 305, 'leo': 2571, 'nonsensical': 3032, 'holly': 2135, 'buying': 640, 'benefit': 464, 'lacked': 2503, 'highlights': 2103, 'choreography': 801, 'kicks': 2463, 'melodramatic': 2799, 'wishing': 4907, 'individuals': 2277, 'clint': 849, 'eastwood': 1408, 'womens': 4924, 'nazis': 2979, 'le': 2544, 'stole': 4192, 'understandable': 4640, 'kicking': 2462, 'hunter': 2198, 'indians': 2274, 'flies': 1755, 'colour': 879, 'hippie': 2114, 'burn': 624, 'idiotic': 2218, 'relative': 3598, 'dogs': 1309, 'iron': 2353, 'spider': 4106, 'virginia': 4748, 'widely': 4880, 'masters': 2762, 'shelley': 3926, 'seeks': 3858, 'larger': 2519, 'subplot': 4253, 'twins': 4612, 'bonus': 533, 'gabriel': 1858, 'views': 4740, 'royal': 3744, 'pushed': 3479, 'spends': 4104, 'madonna': 2699, 'andrews': 228, 'angle': 235, 'bullet': 619, 'introduce': 2335, 'richardson': 3687, 'mafia': 2700, 'solely': 4053, 'intimate': 2330, 'kitchen': 2485, 'vincent': 4744, 'familys': 1646, 'grinch': 1974, 'satisfied': 3787, 'roger': 3723, 'rabbit': 3499, 'scripts': 3834, 'crucial': 1068, 'admittedly': 122, 'gadget': 1859, 'miserable': 2865, 'extended': 1604, 'prostitute': 3441, 'craig': 1030, 'appearances': 274, 'irish': 2352, 'stale': 4139, 'admire': 120, 'edgar': 1416, 'foster': 1808, 'nelson': 2998, 'nostalgic': 3040, 'hamlet': 2012, 'communist': 906, 'rising': 3702, 'amounts': 219, 'station': 4162, 'bush': 631, 'mysteries': 2955, 'careful': 687, 'dressing': 1358, 'sons': 4070, 'loyal': 2679, 'holmes': 2138, 'miracle': 2862, 'dialogues': 1233, 'felix': 1688, 'worn': 4948, 'relatives': 3600, 'ironically': 2355, 'purposes': 3476, 'understated': 4642, 'lumet': 2688, 'challenge': 742, 'destroyed': 1212, 'removed': 3623, 'seventies': 3902, 'che': 772, 'sharp': 3920, 'chess': 782, 'babe': 374, 'entry': 1504, 'troubles': 4590, 'tricks': 4579, 'omen': 3105, 'chan': 745, 'expressions': 1603, 'thugs': 4481, 'rotten': 3738, 'dozen': 1336, 'wannabe': 4785, 'minimal': 2857, 'judge': 2424, 'montana': 2896, 'albert': 173, 'integrity': 2310, 'blunt': 519, 'conflicts': 940, 'nostalgia': 3039, 'mall': 2720, 'poverty': 3358, 'steals': 4170, 'parallel': 3186, 'neighbor': 2993, 'photographer': 3260, 'caliber': 648, 'minimum': 2858, 'online': 3110, 'trashy': 4562, 'hire': 2115, 'table': 4343, 'threatening': 4465, 'edgy': 1418, 'denzel': 1180, 'possessed': 3348, 'parties': 3197, 'closely': 854, 'producing': 3418, 'jewish': 2401, 'waitress': 4771, 'mildred': 2843, 'ambitious': 210, 'elvis': 1451, 'ken': 2453, 'israel': 2363, 'suggests': 4279, 'landscapes': 2514, 'official': 3095, 'montage': 2895, 'jaws': 2385, 'dorothy': 1328, 'oil': 3098, 'primary': 3395, 'improved': 2254, 'shine': 3929, 'taxi': 4368, 'blade': 494, 'futuristic': 1856, 'surfing': 4308, 'crocodile': 1065, 'antics': 254, 'roy': 3743, 'hardy': 2036, 'sheriff': 3927, 'sin': 3985, 'fisher': 1738, 'inevitably': 2282, 'critic': 1061, 'waited': 4769, 'distribution': 1296, 'incoherent': 2264, 'showcase': 3952, 'describes': 1194, 'cats': 720, 'parent': 3188, 'wed': 4833, 'blues': 518, 'degree': 1163, 'museum': 2946, 'glory': 1921, 'justify': 2439, 'rendition': 3624, 'lifestyle': 2593, 'concern': 931, 'closest': 856, 'reduced': 3579, 'titanic': 4500, 'sixties': 4008, 'reflect': 3584, 'affected': 136, 'louis': 2665, 'bollywood': 529, 'rambo': 3512, 'infamous': 2283, 'immensely': 2242, '1983': 22, 'iii': 2226, 'cheating': 775, 'dawson': 1128, 'scope': 3819, 'ties': 4487, 'goal': 1924, 'bettie': 472, 'monkeys': 2892, 'simplicity': 3981, 'ancient': 224, 'kingdom': 2480, 'witches': 4910, 'focusing': 1768, 'closed': 853, 'cruise': 1071, 'notch': 3044, 'birds': 484, 'dutch': 1388, 'fury': 1854, 'clown': 861, 'mask': 2753, 'tag': 4345, 'tomatoes': 4512, 'scheme': 3810, 'carradine': 694, 'simpson': 3984, 'rocky': 3722, 'photos': 3262, 'freak': 1823, 'fulci': 1844, 'vaguely': 4703, 'alike': 184, 'jesse': 2397, 'robbery': 3710, 'reads': 3545, 'instinct': 2307, 'bud': 606, 'creators': 1044, 'resembles': 3645, 'versus': 4720, 'smaller': 4031, 'mentions': 2814, 'sutherland': 4330, 'aging': 152, 'toilet': 4509, 'strip': 4226, 'merit': 2817, 'dennis': 1178, 'copies': 992, 'subtitles': 4257, 'metaphor': 2825, 'rage': 3506, 'thief': 4445, 'underlying': 4637, 'warriors': 4801, 'hopper': 2160, 'muslim': 2950, 'weight': 4838, 'wasting': 4808, 'inappropriate': 2258, 'alexander': 179, 'vengeance': 4716, 'walls': 4781, 'climactic': 847, 'sadistic': 3766, 'steel': 4171, 'definition': 1162, 'junior': 2435, 'witnessed': 4915, 'brenda': 574, 'ape': 265, 'goodness': 1937, 'yelling': 4980, 'spirited': 4111, 'nose': 3038, 'recognition': 3568, 'whale': 4855, 'seagal': 3837, 'toys': 4540, 'closet': 857, 'captivating': 674, 'vice': 4725, 'spring': 4132, 'khan': 2459, 'gandhi': 1865, 'francis': 1817, 'joseph': 2419, 'bottle': 549, 'bergman': 465, 'report': 3634, 'panic': 3182, 'spielberg': 4107, 'shorts': 3946, 'demand': 1173, 'margaret': 2736, 'opinions': 3120, 'cheated': 774, 'pretend': 3382, 'cd': 727, 'connect': 944, 'unit': 4659, 'forty': 1806, 'stones': 4196, 'miike': 2839, 'floating': 1757, 'samurai': 3777, 'ballet': 388, 'composed': 926, 'ah': 157, 'scooby': 3818, 'eaten': 1411, 'karen': 2444, 'brando': 565, 'operation': 3118, 'grasp': 1959, 'hardcore': 2033, 'macy': 2695, 'swim': 4334, 'exposure': 1599, 'pet': 3247, 'performing': 3234, 'strangers': 4212, 'ralph': 3511, 'sandler': 3779, 'branagh': 563, 'depicts': 1184, 'screens': 3830, 'wallace': 4780, 'butler': 636, 'verhoeven': 4717, 'dub': 1377, 'rural': 3756, 'gerard': 1894, 'deaf': 1134, 'cliche': 842, 'carrie': 696, 'blacks': 493, 'womans': 4922, 'intrigue': 2332, 'desired': 1204, 'command': 896, 'mistress': 2876, 'advise': 133, 'willie': 4888, 'plausible': 3296, 'compelled': 915, 'lily': 2605, 'melting': 2800, 'methods': 2827, 'singers': 3991, 'gordon': 1939, 'bakshi': 385, 'marty': 2750, 'dinosaur': 1253, 'gundam': 1996, 'betty': 473}\n"
     ]
    }
   ],
   "source": [
    "print(str(vocabulary))"
   ]
  },
  {
   "cell_type": "markdown",
   "metadata": {},
   "source": [
    "Once you have added the endpoint name to the Lambda function, click on **Save**. Your Lambda function is now up and running. Next we need to create a way for our web app to execute the Lambda function."
   ]
  },
  {
   "cell_type": "markdown",
   "metadata": {},
   "source": [
    "### Setting up API Gateway\n",
    "\n",
    "Now that our Lambda function is set up, it is time to create a new API using API Gateway that will trigger the Lambda function we have just created.\n",
    "\n",
    "Using AWS Console, navigate to **Amazon API Gateway** and then click on **Get started**.\n",
    "\n",
    "On the next page, make sure that **New API** is selected and give the new api a name, for example, `sentiment_analysis_web_app`. Then, click on **Create API**.\n",
    "\n",
    "Now we have created an API, however it doesn't currently do anything. What we want it to do is to trigger the Lambda function that we created earlier.\n",
    "\n",
    "Select the **Actions** dropdown menu and click **Create Method**. A new blank method will be created, select its dropdown menu and select **POST**, then click on the check mark beside it.\n",
    "\n",
    "For the integration point, make sure that **Lambda Function** is selected and click on the **Use Lambda Proxy integration**. This option makes sure that the data that is sent to the API is then sent directly to the Lambda function with no processing. It also means that the return value must be a proper response object as it will also not be processed by API Gateway.\n",
    "\n",
    "Type the name of the Lambda function you created earlier into the **Lambda Function** text entry box and then click on **Save**. Click on **OK** in the pop-up box that then appears, giving permission to API Gateway to invoke the Lambda function you created.\n",
    "\n",
    "The last step in creating the API Gateway is to select the **Actions** dropdown and click on **Deploy API**. You will need to create a new Deployment stage and name it anything you like, for example `prod`.\n",
    "\n",
    "You have now successfully set up a public API to access your SageMaker model. Make sure to copy or write down the URL provided to invoke your newly created public API as this will be needed in the next step. This URL can be found at the top of the page, highlighted in blue next to the text **Invoke URL**."
   ]
  },
  {
   "cell_type": "markdown",
   "metadata": {},
   "source": [
    "## Step 7: Deploying our web app\n",
    "\n",
    "Now that we have a publicly available API, we can start using it in a web app. For our purposes, we have provided a simple static html file which can make use of the public api you created earlier.\n",
    "\n",
    "In the `website` folder there should be a file called `index.html`. Download the file to your computer and open that file up in a text editor of your choice. There should be a line which contains **\\*\\*REPLACE WITH PUBLIC API URL\\*\\***. Replace this string with the url that you wrote down in the last step and then save the file.\n",
    "\n",
    "Now, if you open `index.html` on your local computer, your browser will behave as a local web server and you can use the provided site to interact with your SageMaker model.\n",
    "\n",
    "If you'd like to go further, you can host this html file anywhere you'd like, for example using github or hosting a static site on Amazon's S3. Once you have done this you can share the link with anyone you'd like and have them play with it too!\n",
    "\n",
    "> **Important Note** In order for the web app to communicate with the SageMaker endpoint, the endpoint has to actually be deployed and running. This means that you are paying for it. Make sure that the endpoint is running when you want to use the web app but that you shut it down when you don't need it, otherwise you will end up with a surprisingly large AWS bill."
   ]
  },
  {
   "cell_type": "markdown",
   "metadata": {},
   "source": [
    "### Delete the endpoint\n",
    "\n",
    "Remember to always shut down your endpoint if you are no longer using it. You are charged for the length of time that the endpoint is running so if you forget and leave it on you could end up with an unexpectedly large bill."
   ]
  },
  {
   "cell_type": "code",
   "execution_count": null,
   "metadata": {},
   "outputs": [],
   "source": [
    "xgb_predictor.delete_endpoint()"
   ]
  },
  {
   "cell_type": "markdown",
   "metadata": {},
   "source": [
    "## Optional: Clean up\n",
    "\n",
    "The default notebook instance on SageMaker doesn't have a lot of excess disk space available. As you continue to complete and execute notebooks you will eventually fill up this disk space, leading to errors which can be difficult to diagnose. Once you are completely finished using a notebook it is a good idea to remove the files that you created along the way. Of course, you can do this from the terminal or from the notebook hub if you would like. The cell below contains some commands to clean up the created files from within the notebook."
   ]
  },
  {
   "cell_type": "code",
   "execution_count": null,
   "metadata": {},
   "outputs": [],
   "source": [
    "# First we will remove all of the files contained in the data_dir directory\n",
    "!rm $data_dir/*\n",
    "\n",
    "# And then we delete the directory itself\n",
    "!rmdir $data_dir\n",
    "\n",
    "# Similarly we remove the files in the cache_dir directory and the directory itself\n",
    "!rm $cache_dir/*\n",
    "!rmdir $cache_dir"
   ]
  },
  {
   "cell_type": "code",
   "execution_count": null,
   "metadata": {},
   "outputs": [],
   "source": []
  }
 ],
 "metadata": {
  "kernelspec": {
   "display_name": "conda_python3",
   "language": "python",
   "name": "conda_python3"
  },
  "language_info": {
   "codemirror_mode": {
    "name": "ipython",
    "version": 3
   },
   "file_extension": ".py",
   "mimetype": "text/x-python",
   "name": "python",
   "nbconvert_exporter": "python",
   "pygments_lexer": "ipython3",
   "version": "3.6.10"
  }
 },
 "nbformat": 4,
 "nbformat_minor": 2
}
